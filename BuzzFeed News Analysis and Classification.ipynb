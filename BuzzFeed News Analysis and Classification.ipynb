{
 "cells": [
  {
   "cell_type": "markdown",
   "metadata": {},
   "source": [
    "# BuzzFeed News Analysis and Classification"
   ]
  },
  {
   "cell_type": "markdown",
   "metadata": {},
   "source": [
    "# **1- Introduction**\n",
    "\n",
    "FakenewsNet is a repository for an ongoing data collection project for fake news research at ASU. The repository consists of comprehensive dataset of Buzzfeed news and politifact which contains two separate datasets of real and fake news. The FakenewsNet consists of multi-dimension information that not only provides signals for detecting fake news but can also be used for researches such as understanding fake news propagation and fake news intervention. However, the repository is very wide and multi-dimensional, In this project, we perform a detailed analysis on Buzzfeed news dataset.\n",
    "\n",
    "The Buzzfeed news dataset comprises a complete sample of news published in Facebook from 9 news agencies over a week close to the 2016 U.S. election from September 19 to 23 and September 26 and 27. Every post and the linked article were fact-checked claim-by-claim by 5 BuzzFeed journalists. There are two datsets of Buzzfeed news one dataset of fake news and another dataset of real news in the form of csv files, each have 91 observations and 12 features/variables.\n",
    "\n",
    "The Buzzfeed news dataset consists of two datasets which has the following main features:\n",
    "\n",
    "- id: the id assigned to the news article webpage Real if the article is real or fake if reported fake.\n",
    "\n",
    "- title : It refers to the headline that aims to catch the attention of readers and relates well to the major of the news topic.\n",
    "\n",
    "- text : Text refers to the body of the article, it elaborates the details of news story. Usually there is a major claim which shaped the angle of the publisher and is specifically highlighted and elaborated upon.\n",
    "\n",
    "- source: It indicates the author or publisher of the news article.\n",
    "\n",
    "- images: It is an important part of body content of news article, which provides visual cues to frame the story.\n",
    "\n",
    "- movies: It is also an important part of news article, a link to video or a movie clip included in a article, also provides visual cues to frame the story.\n",
    "\n",
    "In this analysis, we do not consider features like url, top_img, authors, publish_date, canonical link and metedata because these usually provide redundant information which we can be obtained from other main variables and do not add more value to our analysis.\n",
    "\n",
    "The two main features we care about are the source of the fake news and the language used in the fake news. In particular, we are interested in finding sources which published fake news and finding words that are more associated with one category than other. \n",
    "\n",
    "The main purpose of this analysis is to develop methods to analyze fake news versus real news. This project is divided into two parts: (1) Exploratory Data Analysis (2) Classification. The goal of the second part is to build a classifer that can predict and detect fakenews. We use three different classifiers to classify documents into real/fake news categories."
   ]
  },
  {
   "cell_type": "markdown",
   "metadata": {},
   "source": [
    "# **2- Importing Libraries**"
   ]
  },
  {
   "cell_type": "code",
   "execution_count": 412,
   "metadata": {},
   "outputs": [],
   "source": [
    "import numpy as np\n",
    "import pandas as pd\n",
    "import seaborn as sns\n",
    "import matplotlib.pyplot as plt\n",
    "%matplotlib inline\n",
    "import string\n",
    "import nltk\n",
    "from nltk.corpus import stopwords\n",
    "from nltk.stem.porter import PorterStemmer\n",
    "from nltk import word_tokenize\n",
    "from nltk.tokenize import WhitespaceTokenizer \n",
    "from sklearn.feature_extraction.text import CountVectorizer\n",
    "from sklearn.feature_extraction.text import TfidfTransformer\n",
    "from sklearn.naive_bayes import MultinomialNB\n",
    "from sklearn.pipeline import Pipeline\n",
    "from sklearn.ensemble import RandomForestClassifier\n",
    "from sklearn.linear_model import PassiveAggressiveClassifier\n",
    "from sklearn.model_selection import train_test_split\n",
    "from sklearn.metrics import classification_report,confusion_matrix,accuracy_score"
   ]
  },
  {
   "cell_type": "markdown",
   "metadata": {},
   "source": [
    "# 3- Reading Data"
   ]
  },
  {
   "cell_type": "code",
   "execution_count": 2,
   "metadata": {},
   "outputs": [],
   "source": [
    "df_real=pd.read_csv('BuzzFeed_real_news_content.csv')"
   ]
  },
  {
   "cell_type": "code",
   "execution_count": 3,
   "metadata": {},
   "outputs": [
    {
     "data": {
      "text/plain": [
       "(91, 12)"
      ]
     },
     "execution_count": 3,
     "metadata": {},
     "output_type": "execute_result"
    }
   ],
   "source": [
    "df_real.shape"
   ]
  },
  {
   "cell_type": "code",
   "execution_count": 4,
   "metadata": {},
   "outputs": [],
   "source": [
    "df_fake=pd.read_csv('BuzzFeed_fake_news_content.csv')"
   ]
  },
  {
   "cell_type": "code",
   "execution_count": 5,
   "metadata": {},
   "outputs": [
    {
     "data": {
      "text/plain": [
       "(91, 12)"
      ]
     },
     "execution_count": 5,
     "metadata": {},
     "output_type": "execute_result"
    }
   ],
   "source": [
    "df_fake.shape"
   ]
  },
  {
   "cell_type": "markdown",
   "metadata": {},
   "source": [
    "**First, we need to combine these two dataframes into a single dataframe and create a new variable type which contains the news type as real or fake.**"
   ]
  },
  {
   "cell_type": "code",
   "execution_count": 6,
   "metadata": {},
   "outputs": [],
   "source": [
    "df=pd.concat([df_real,df_fake],axis=0)"
   ]
  },
  {
   "cell_type": "code",
   "execution_count": 7,
   "metadata": {},
   "outputs": [
    {
     "data": {
      "text/plain": [
       "(182, 12)"
      ]
     },
     "execution_count": 7,
     "metadata": {},
     "output_type": "execute_result"
    }
   ],
   "source": [
    "df.shape"
   ]
  },
  {
   "cell_type": "code",
   "execution_count": 8,
   "metadata": {},
   "outputs": [],
   "source": [
    "df['news_type']=df['id'].apply(lambda x: x.split('_')[0])"
   ]
  },
  {
   "cell_type": "code",
   "execution_count": 61,
   "metadata": {},
   "outputs": [
    {
     "data": {
      "text/html": [
       "<div>\n",
       "<style scoped>\n",
       "    .dataframe tbody tr th:only-of-type {\n",
       "        vertical-align: middle;\n",
       "    }\n",
       "\n",
       "    .dataframe tbody tr th {\n",
       "        vertical-align: top;\n",
       "    }\n",
       "\n",
       "    .dataframe thead th {\n",
       "        text-align: right;\n",
       "    }\n",
       "</style>\n",
       "<table border=\"1\" class=\"dataframe\">\n",
       "  <thead>\n",
       "    <tr style=\"text-align: right;\">\n",
       "      <th></th>\n",
       "      <th>title</th>\n",
       "      <th>text</th>\n",
       "      <th>source</th>\n",
       "      <th>news_type</th>\n",
       "      <th>contain_movies</th>\n",
       "      <th>contain_images</th>\n",
       "    </tr>\n",
       "  </thead>\n",
       "  <tbody>\n",
       "    <tr>\n",
       "      <td>0</td>\n",
       "      <td>Another Terrorist Attack in NYC…Why Are we STI...</td>\n",
       "      <td>On Saturday, September 17 at 8:30 pm EST, an e...</td>\n",
       "      <td>http://eaglerising.com</td>\n",
       "      <td>Real</td>\n",
       "      <td>0</td>\n",
       "      <td>1</td>\n",
       "    </tr>\n",
       "    <tr>\n",
       "      <td>1</td>\n",
       "      <td>Donald Trump: Drugs a 'Very, Very Big Factor' ...</td>\n",
       "      <td>Less than a day after protests over the police...</td>\n",
       "      <td>http://abcn.ws</td>\n",
       "      <td>Real</td>\n",
       "      <td>0</td>\n",
       "      <td>1</td>\n",
       "    </tr>\n",
       "  </tbody>\n",
       "</table>\n",
       "</div>"
      ],
      "text/plain": [
       "                                               title  \\\n",
       "0  Another Terrorist Attack in NYC…Why Are we STI...   \n",
       "1  Donald Trump: Drugs a 'Very, Very Big Factor' ...   \n",
       "\n",
       "                                                text                  source  \\\n",
       "0  On Saturday, September 17 at 8:30 pm EST, an e...  http://eaglerising.com   \n",
       "1  Less than a day after protests over the police...          http://abcn.ws   \n",
       "\n",
       "  news_type  contain_movies  contain_images  \n",
       "0      Real               0               1  \n",
       "1      Real               0               1  "
      ]
     },
     "execution_count": 61,
     "metadata": {},
     "output_type": "execute_result"
    }
   ],
   "source": [
    "df.head(2)"
   ]
  },
  {
   "cell_type": "code",
   "execution_count": 12,
   "metadata": {},
   "outputs": [
    {
     "data": {
      "text/plain": [
       "(182, 13)"
      ]
     },
     "execution_count": 12,
     "metadata": {},
     "output_type": "execute_result"
    }
   ],
   "source": [
    "df.shape"
   ]
  },
  {
   "cell_type": "code",
   "execution_count": 13,
   "metadata": {},
   "outputs": [
    {
     "name": "stdout",
     "output_type": "stream",
     "text": [
      "<class 'pandas.core.frame.DataFrame'>\n",
      "Int64Index: 182 entries, 0 to 90\n",
      "Data columns (total 13 columns):\n",
      "id                182 non-null object\n",
      "title             182 non-null object\n",
      "text              182 non-null object\n",
      "url               174 non-null object\n",
      "top_img           172 non-null object\n",
      "authors           141 non-null object\n",
      "source            174 non-null object\n",
      "publish_date      133 non-null object\n",
      "movies            25 non-null object\n",
      "images            172 non-null object\n",
      "canonical_link    170 non-null object\n",
      "meta_data         182 non-null object\n",
      "news_type         182 non-null object\n",
      "dtypes: object(13)\n",
      "memory usage: 19.9+ KB\n"
     ]
    }
   ],
   "source": [
    "df.info()"
   ]
  },
  {
   "cell_type": "code",
   "execution_count": 15,
   "metadata": {},
   "outputs": [
    {
     "data": {
      "text/html": [
       "<div>\n",
       "<style scoped>\n",
       "    .dataframe tbody tr th:only-of-type {\n",
       "        vertical-align: middle;\n",
       "    }\n",
       "\n",
       "    .dataframe tbody tr th {\n",
       "        vertical-align: top;\n",
       "    }\n",
       "\n",
       "    .dataframe thead th {\n",
       "        text-align: right;\n",
       "    }\n",
       "</style>\n",
       "<table border=\"1\" class=\"dataframe\">\n",
       "  <thead>\n",
       "    <tr style=\"text-align: right;\">\n",
       "      <th></th>\n",
       "      <th>id</th>\n",
       "      <th>title</th>\n",
       "      <th>text</th>\n",
       "      <th>url</th>\n",
       "      <th>top_img</th>\n",
       "      <th>authors</th>\n",
       "      <th>source</th>\n",
       "      <th>publish_date</th>\n",
       "      <th>movies</th>\n",
       "      <th>images</th>\n",
       "      <th>canonical_link</th>\n",
       "      <th>meta_data</th>\n",
       "      <th>news_type</th>\n",
       "    </tr>\n",
       "  </thead>\n",
       "  <tbody>\n",
       "    <tr>\n",
       "      <td>count</td>\n",
       "      <td>182</td>\n",
       "      <td>182</td>\n",
       "      <td>182</td>\n",
       "      <td>174</td>\n",
       "      <td>172</td>\n",
       "      <td>141</td>\n",
       "      <td>174</td>\n",
       "      <td>133</td>\n",
       "      <td>25</td>\n",
       "      <td>172</td>\n",
       "      <td>170</td>\n",
       "      <td>182</td>\n",
       "      <td>182</td>\n",
       "    </tr>\n",
       "    <tr>\n",
       "      <td>unique</td>\n",
       "      <td>182</td>\n",
       "      <td>178</td>\n",
       "      <td>178</td>\n",
       "      <td>171</td>\n",
       "      <td>166</td>\n",
       "      <td>90</td>\n",
       "      <td>27</td>\n",
       "      <td>118</td>\n",
       "      <td>25</td>\n",
       "      <td>169</td>\n",
       "      <td>168</td>\n",
       "      <td>171</td>\n",
       "      <td>2</td>\n",
       "    </tr>\n",
       "    <tr>\n",
       "      <td>top</td>\n",
       "      <td>Real_58-Webpage</td>\n",
       "      <td>Clinton Foundation Spent 5.7% on Charity; Rest...</td>\n",
       "      <td>We’re shocked — SHOCKED — to learn that CNN’s ...</td>\n",
       "      <td>http://eaglerising.com/36847/clinton-foundatio...</td>\n",
       "      <td>http://static.politico.com/da/f5/44342c424c68b...</td>\n",
       "      <td>Terresa Monroe-hamilton</td>\n",
       "      <td>http://politi.co</td>\n",
       "      <td>{'$date': 1474588800000}</td>\n",
       "      <td>https://www.youtube.com/embed/7Mv4r2Vw6zU?feat...</td>\n",
       "      <td>http://static.politico.com/da/f5/44342c424c68b...</td>\n",
       "      <td>http://eaglerising.com/36847/clinton-foundatio...</td>\n",
       "      <td>{}</td>\n",
       "      <td>Real</td>\n",
       "    </tr>\n",
       "    <tr>\n",
       "      <td>freq</td>\n",
       "      <td>1</td>\n",
       "      <td>2</td>\n",
       "      <td>2</td>\n",
       "      <td>2</td>\n",
       "      <td>3</td>\n",
       "      <td>8</td>\n",
       "      <td>32</td>\n",
       "      <td>5</td>\n",
       "      <td>1</td>\n",
       "      <td>2</td>\n",
       "      <td>2</td>\n",
       "      <td>8</td>\n",
       "      <td>91</td>\n",
       "    </tr>\n",
       "  </tbody>\n",
       "</table>\n",
       "</div>"
      ],
      "text/plain": [
       "                     id                                              title  \\\n",
       "count               182                                                182   \n",
       "unique              182                                                178   \n",
       "top     Real_58-Webpage  Clinton Foundation Spent 5.7% on Charity; Rest...   \n",
       "freq                  1                                                  2   \n",
       "\n",
       "                                                     text  \\\n",
       "count                                                 182   \n",
       "unique                                                178   \n",
       "top     We’re shocked — SHOCKED — to learn that CNN’s ...   \n",
       "freq                                                    2   \n",
       "\n",
       "                                                      url  \\\n",
       "count                                                 174   \n",
       "unique                                                171   \n",
       "top     http://eaglerising.com/36847/clinton-foundatio...   \n",
       "freq                                                    2   \n",
       "\n",
       "                                                  top_img  \\\n",
       "count                                                 172   \n",
       "unique                                                166   \n",
       "top     http://static.politico.com/da/f5/44342c424c68b...   \n",
       "freq                                                    3   \n",
       "\n",
       "                        authors            source              publish_date  \\\n",
       "count                       141               174                       133   \n",
       "unique                       90                27                       118   \n",
       "top     Terresa Monroe-hamilton  http://politi.co  {'$date': 1474588800000}   \n",
       "freq                          8                32                         5   \n",
       "\n",
       "                                                   movies  \\\n",
       "count                                                  25   \n",
       "unique                                                 25   \n",
       "top     https://www.youtube.com/embed/7Mv4r2Vw6zU?feat...   \n",
       "freq                                                    1   \n",
       "\n",
       "                                                   images  \\\n",
       "count                                                 172   \n",
       "unique                                                169   \n",
       "top     http://static.politico.com/da/f5/44342c424c68b...   \n",
       "freq                                                    2   \n",
       "\n",
       "                                           canonical_link meta_data news_type  \n",
       "count                                                 170       182       182  \n",
       "unique                                                168       171         2  \n",
       "top     http://eaglerising.com/36847/clinton-foundatio...        {}      Real  \n",
       "freq                                                    2         8        91  "
      ]
     },
     "execution_count": 15,
     "metadata": {},
     "output_type": "execute_result"
    }
   ],
   "source": [
    "df.describe()"
   ]
  },
  {
   "cell_type": "markdown",
   "metadata": {},
   "source": [
    "# 4- Data Cleaning and Feature Engineering"
   ]
  },
  {
   "cell_type": "markdown",
   "metadata": {},
   "source": [
    "**We select variables of our interest only for analysis, including title, text, source, movies, images and news_type, and remove other columns.**"
   ]
  },
  {
   "cell_type": "code",
   "execution_count": 16,
   "metadata": {},
   "outputs": [],
   "source": [
    "df.drop(['id','url', 'top_img','authors','publish_date','canonical_link','meta_data'],axis=1, inplace=True)"
   ]
  },
  {
   "cell_type": "markdown",
   "metadata": {},
   "source": [
    "**We will create a Series that displays the total count of missing values per column.**"
   ]
  },
  {
   "cell_type": "code",
   "execution_count": 19,
   "metadata": {},
   "outputs": [
    {
     "data": {
      "text/plain": [
       "title          0\n",
       "text           0\n",
       "source         8\n",
       "movies       157\n",
       "images        10\n",
       "news_type      0\n",
       "dtype: int64"
      ]
     },
     "execution_count": 19,
     "metadata": {},
     "output_type": "execute_result"
    }
   ],
   "source": [
    "df.isnull().sum()"
   ]
  },
  {
   "cell_type": "markdown",
   "metadata": {},
   "source": [
    "**We will convert this Series to be in term of percentage of the total DataFrame.**"
   ]
  },
  {
   "cell_type": "code",
   "execution_count": 24,
   "metadata": {},
   "outputs": [
    {
     "data": {
      "text/plain": [
       "title         0.000000\n",
       "text          0.000000\n",
       "source        4.395604\n",
       "movies       86.263736\n",
       "images        5.494505\n",
       "news_type     0.000000\n",
       "dtype: float64"
      ]
     },
     "execution_count": 24,
     "metadata": {},
     "output_type": "execute_result"
    }
   ],
   "source": [
    "(df.isnull().sum())/(df.shape[0])*100"
   ]
  },
  {
   "cell_type": "markdown",
   "metadata": {},
   "source": [
    "**The datset does not contain null values in text and news_type columns which are the most important columns for us. We leave the null values in the source column as is. However, we add a new columns to the data frame which show whether the news are accompanied by movies and/or images or not.***"
   ]
  },
  {
   "cell_type": "code",
   "execution_count": 54,
   "metadata": {},
   "outputs": [],
   "source": [
    "df['contain_movies']=df['movies'].apply(lambda x: 0 if str(x)=='nan' else 1)"
   ]
  },
  {
   "cell_type": "code",
   "execution_count": 55,
   "metadata": {},
   "outputs": [],
   "source": [
    "df['contain_images']=df['images'].apply(lambda x: 0 if str(x)=='nan' else 1)"
   ]
  },
  {
   "cell_type": "code",
   "execution_count": 58,
   "metadata": {},
   "outputs": [],
   "source": [
    "df.drop(['movies','images'],axis=1,inplace=True)"
   ]
  },
  {
   "cell_type": "code",
   "execution_count": 60,
   "metadata": {},
   "outputs": [
    {
     "data": {
      "text/html": [
       "<div>\n",
       "<style scoped>\n",
       "    .dataframe tbody tr th:only-of-type {\n",
       "        vertical-align: middle;\n",
       "    }\n",
       "\n",
       "    .dataframe tbody tr th {\n",
       "        vertical-align: top;\n",
       "    }\n",
       "\n",
       "    .dataframe thead th {\n",
       "        text-align: right;\n",
       "    }\n",
       "</style>\n",
       "<table border=\"1\" class=\"dataframe\">\n",
       "  <thead>\n",
       "    <tr style=\"text-align: right;\">\n",
       "      <th></th>\n",
       "      <th>title</th>\n",
       "      <th>text</th>\n",
       "      <th>source</th>\n",
       "      <th>news_type</th>\n",
       "      <th>contain_movies</th>\n",
       "      <th>contain_images</th>\n",
       "    </tr>\n",
       "  </thead>\n",
       "  <tbody>\n",
       "    <tr>\n",
       "      <td>0</td>\n",
       "      <td>Another Terrorist Attack in NYC…Why Are we STI...</td>\n",
       "      <td>On Saturday, September 17 at 8:30 pm EST, an e...</td>\n",
       "      <td>http://eaglerising.com</td>\n",
       "      <td>Real</td>\n",
       "      <td>0</td>\n",
       "      <td>1</td>\n",
       "    </tr>\n",
       "    <tr>\n",
       "      <td>1</td>\n",
       "      <td>Donald Trump: Drugs a 'Very, Very Big Factor' ...</td>\n",
       "      <td>Less than a day after protests over the police...</td>\n",
       "      <td>http://abcn.ws</td>\n",
       "      <td>Real</td>\n",
       "      <td>0</td>\n",
       "      <td>1</td>\n",
       "    </tr>\n",
       "  </tbody>\n",
       "</table>\n",
       "</div>"
      ],
      "text/plain": [
       "                                               title  \\\n",
       "0  Another Terrorist Attack in NYC…Why Are we STI...   \n",
       "1  Donald Trump: Drugs a 'Very, Very Big Factor' ...   \n",
       "\n",
       "                                                text                  source  \\\n",
       "0  On Saturday, September 17 at 8:30 pm EST, an e...  http://eaglerising.com   \n",
       "1  Less than a day after protests over the police...          http://abcn.ws   \n",
       "\n",
       "  news_type  contain_movies  contain_images  \n",
       "0      Real               0               1  \n",
       "1      Real               0               1  "
      ]
     },
     "execution_count": 60,
     "metadata": {},
     "output_type": "execute_result"
    }
   ],
   "source": [
    "df.head(2)"
   ]
  },
  {
   "cell_type": "markdown",
   "metadata": {},
   "source": [
    "# 5- EDA"
   ]
  },
  {
   "cell_type": "markdown",
   "metadata": {},
   "source": [
    "## 5-1- Real vs Fake news source analysis"
   ]
  },
  {
   "cell_type": "markdown",
   "metadata": {},
   "source": [
    "### 5-1-1- Which sources publish real news?"
   ]
  },
  {
   "cell_type": "code",
   "execution_count": 68,
   "metadata": {},
   "outputs": [],
   "source": [
    "real_order=df[df['news_type']=='Real']['source'].value_counts().sort_values(ascending=False).index"
   ]
  },
  {
   "cell_type": "code",
   "execution_count": 100,
   "metadata": {},
   "outputs": [
    {
     "data": {
      "image/png": "[encoded data removed]",
      "text/plain": [
       "<Figure size 720x432 with 1 Axes>"
      ]
     },
     "metadata": {
      "needs_background": "light"
     },
     "output_type": "display_data"
    }
   ],
   "source": [
    "plt.figure(figsize=(10,6))\n",
    "sns.countplot(y='source', data=df[df['news_type']=='Real'],order=real_order,palette='summer')\n",
    "plt.xlabel('Count',fontsize=12)\n",
    "plt.ylabel('Source',fontsize=12)\n",
    "plt.title('Sources of Real News',fontsize=20)\n",
    "plt.show()"
   ]
  },
  {
   "cell_type": "markdown",
   "metadata": {},
   "source": [
    "**From the above plot we observe that the politi.co reports maximum real news followed by cnn.it with a count of 32 and 23, respectively.**"
   ]
  },
  {
   "cell_type": "markdown",
   "metadata": {},
   "source": [
    "### 5-1-2- Which sources publish maximum fake news?"
   ]
  },
  {
   "cell_type": "code",
   "execution_count": 72,
   "metadata": {},
   "outputs": [],
   "source": [
    "fake_order=df[df['news_type']=='Fake']['source'].value_counts().sort_values(ascending=False).index"
   ]
  },
  {
   "cell_type": "code",
   "execution_count": 101,
   "metadata": {},
   "outputs": [
    {
     "data": {
      "image/png": "[encoded data removed]",
      "text/plain": [
       "<Figure size 720x432 with 1 Axes>"
      ]
     },
     "metadata": {
      "needs_background": "light"
     },
     "output_type": "display_data"
    }
   ],
   "source": [
    "plt.figure(figsize=(10,6))\n",
    "sns.countplot(y='source',data=df[df['news_type']=='Fake'],order=fake_order,palette='autumn')\n",
    "plt.xlabel('Count',fontsize=12)\n",
    "plt.ylabel('Source',fontsize=12)\n",
    "plt.title('Sources of Fake News',fontsize=20)\n",
    "plt.show()"
   ]
  },
  {
   "cell_type": "markdown",
   "metadata": {},
   "source": [
    "**Above plot shows that the rightwingsnews reports maximum fakenews with a count of 17. Also, the number of fake news sources are more than the number of real news sources.**"
   ]
  },
  {
   "cell_type": "markdown",
   "metadata": {},
   "source": [
    "### 5-1-3- Is there any common source which reports both real and fake news?"
   ]
  },
  {
   "cell_type": "code",
   "execution_count": 87,
   "metadata": {},
   "outputs": [
    {
     "name": "stdout",
     "output_type": "stream",
     "text": [
      "['http://addictinginfo.org', 'http://eaglerising.com', 'http://conservativebyte.com', 'http://winningdemocrats.com', 'http://freedomdaily.com', 'http://occupydemocrats.com', 'http://rightwingnews.com']\n"
     ]
    }
   ],
   "source": [
    "new=[]\n",
    "for x in df[df['news_type']=='Fake']['source'].unique():\n",
    "    if x in df[df['news_type']=='Real']['source'].unique():\n",
    "        new.append(x)\n",
    "print(new)"
   ]
  },
  {
   "cell_type": "code",
   "execution_count": 88,
   "metadata": {},
   "outputs": [],
   "source": [
    "df['common']=df['source'].apply(lambda x: x if x in new else 0)"
   ]
  },
  {
   "cell_type": "code",
   "execution_count": 90,
   "metadata": {},
   "outputs": [],
   "source": [
    "df1=df[df['common']!=0]"
   ]
  },
  {
   "cell_type": "code",
   "execution_count": 102,
   "metadata": {},
   "outputs": [
    {
     "data": {
      "image/png": "[encoded data removed]",
      "text/plain": [
       "<Figure size 720x432 with 1 Axes>"
      ]
     },
     "metadata": {
      "needs_background": "light"
     },
     "output_type": "display_data"
    }
   ],
   "source": [
    "plt.figure(figsize=(10,6))\n",
    "sns.countplot(y='common',data=df1,hue='news_type',palette='viridis')\n",
    "plt.xlabel('Count',fontsize=12)\n",
    "plt.ylabel('Source',fontsize=12)\n",
    "plt.legend(loc='best', title='News Type',fontsize=10)\n",
    "plt.title('Common Sources of Real and Fake News',fontsize=20)\n",
    "plt.show()"
   ]
  },
  {
   "cell_type": "markdown",
   "metadata": {},
   "source": [
    "**There are 7 common sources of real and fake news. This is interesting that the fake news are more reported by these sources as compared to real news. The rightwingnews reports maximum fake news but it also reports some real news. Approximaltely, two third of total news reported by rightwings are fake. On the other hand, the freedomdaily which is the second largest fake news reporting source, barely reports the real news. addictinginfo.org is the only single common source which reports real news more than fake news but the total number of the news it reports is very low.**"
   ]
  },
  {
   "cell_type": "markdown",
   "metadata": {},
   "source": [
    "### 5-1-4- Do sources include movies in the news to get more attention?"
   ]
  },
  {
   "cell_type": "code",
   "execution_count": 97,
   "metadata": {},
   "outputs": [
    {
     "data": {
      "text/html": [
       "<div>\n",
       "<style scoped>\n",
       "    .dataframe tbody tr th:only-of-type {\n",
       "        vertical-align: middle;\n",
       "    }\n",
       "\n",
       "    .dataframe tbody tr th {\n",
       "        vertical-align: top;\n",
       "    }\n",
       "\n",
       "    .dataframe thead th {\n",
       "        text-align: right;\n",
       "    }\n",
       "</style>\n",
       "<table border=\"1\" class=\"dataframe\">\n",
       "  <thead>\n",
       "    <tr style=\"text-align: right;\">\n",
       "      <th></th>\n",
       "      <th>title</th>\n",
       "      <th>text</th>\n",
       "      <th>source</th>\n",
       "      <th>news_type</th>\n",
       "      <th>contain_movies</th>\n",
       "      <th>contain_images</th>\n",
       "      <th>common</th>\n",
       "    </tr>\n",
       "  </thead>\n",
       "  <tbody>\n",
       "    <tr>\n",
       "      <td>0</td>\n",
       "      <td>Another Terrorist Attack in NYC…Why Are we STI...</td>\n",
       "      <td>On Saturday, September 17 at 8:30 pm EST, an e...</td>\n",
       "      <td>http://eaglerising.com</td>\n",
       "      <td>Real</td>\n",
       "      <td>0</td>\n",
       "      <td>1</td>\n",
       "      <td>http://eaglerising.com</td>\n",
       "    </tr>\n",
       "    <tr>\n",
       "      <td>1</td>\n",
       "      <td>Donald Trump: Drugs a 'Very, Very Big Factor' ...</td>\n",
       "      <td>Less than a day after protests over the police...</td>\n",
       "      <td>http://abcn.ws</td>\n",
       "      <td>Real</td>\n",
       "      <td>0</td>\n",
       "      <td>1</td>\n",
       "      <td>0</td>\n",
       "    </tr>\n",
       "  </tbody>\n",
       "</table>\n",
       "</div>"
      ],
      "text/plain": [
       "                                               title  \\\n",
       "0  Another Terrorist Attack in NYC…Why Are we STI...   \n",
       "1  Donald Trump: Drugs a 'Very, Very Big Factor' ...   \n",
       "\n",
       "                                                text                  source  \\\n",
       "0  On Saturday, September 17 at 8:30 pm EST, an e...  http://eaglerising.com   \n",
       "1  Less than a day after protests over the police...          http://abcn.ws   \n",
       "\n",
       "  news_type  contain_movies  contain_images                  common  \n",
       "0      Real               0               1  http://eaglerising.com  \n",
       "1      Real               0               1                       0  "
      ]
     },
     "execution_count": 97,
     "metadata": {},
     "output_type": "execute_result"
    }
   ],
   "source": [
    "df.head(2)"
   ]
  },
  {
   "cell_type": "code",
   "execution_count": 103,
   "metadata": {},
   "outputs": [
    {
     "data": {
      "image/png": "[encoded data removed]",
      "text/plain": [
       "<Figure size 720x432 with 1 Axes>"
      ]
     },
     "metadata": {
      "needs_background": "light"
     },
     "output_type": "display_data"
    }
   ],
   "source": [
    "plt.figure(figsize=(10,6))\n",
    "sns.countplot(x='contain_movies', data=df, hue='news_type', palette='PuBuGn_r')\n",
    "plt.xlabel('Movies Linked to News',fontsize=12)\n",
    "plt.ylabel('Count',fontsize=12)\n",
    "plt.legend(loc='best', title='News Type',fontsize=10)\n",
    "plt.title('Number of Different News Type Versus Linked Movies',fontsize=20)\n",
    "plt.show()"
   ]
  },
  {
   "cell_type": "markdown",
   "metadata": {},
   "source": [
    "**From the above plot, we observe that most of the news are reported without including the movie clips, and there are very little articles which includes movie clips. This variable does not provide much useful information in our analysis.**"
   ]
  },
  {
   "cell_type": "markdown",
   "metadata": {},
   "source": [
    "### 5-1-5- Do sources include images in the news to get more attention?"
   ]
  },
  {
   "cell_type": "code",
   "execution_count": 106,
   "metadata": {},
   "outputs": [
    {
     "data": {
      "image/png": "[encoded data removed]",
      "text/plain": [
       "<Figure size 720x432 with 1 Axes>"
      ]
     },
     "metadata": {
      "needs_background": "light"
     },
     "output_type": "display_data"
    }
   ],
   "source": [
    "plt.figure(figsize=(10,6))\n",
    "sns.countplot(x='contain_images', data=df, hue='news_type', palette='PuBuGn_r')\n",
    "plt.xlabel('Images Linked to News',fontsize=12)\n",
    "plt.ylabel('Count',fontsize=12)\n",
    "plt.legend(loc='upper left', title='News Type',fontsize=10)\n",
    "plt.title('Number of Different News Type Versus Linked Images',fontsize=20)\n",
    "plt.show()"
   ]
  },
  {
   "cell_type": "markdown",
   "metadata": {},
   "source": [
    "**From the above plot we observe that all the real news sources included images in their articles. We may say that images acts as a proof of thier news. Therefore, this variable reveal that images are an important part of real news articles. The images and movies variables do not give us much details to strenghen our analysis.**"
   ]
  },
  {
   "cell_type": "markdown",
   "metadata": {},
   "source": [
    "## 5-2- Analysis of title and text of the news articles"
   ]
  },
  {
   "cell_type": "markdown",
   "metadata": {},
   "source": [
    "### 5-2-1- Preprocessing function"
   ]
  },
  {
   "cell_type": "markdown",
   "metadata": {},
   "source": [
    "**We define a preprocessing function that performs the following operations:**\n",
    "\n",
    "- Converting text to lower case\n",
    "\n",
    "- Removing numbers from the text corpus\n",
    "\n",
    "- Removing punctuation from the text corpus\n",
    "\n",
    "- Removing special characters such as ‘<’, ‘…’ from the text corpus\n",
    "\n",
    "- Removing english stopwords\n",
    "\n",
    "- Stemming words to root words\n",
    "\n",
    "- Removing extra whitespaces from the text corpus"
   ]
  },
  {
   "cell_type": "code",
   "execution_count": 126,
   "metadata": {},
   "outputs": [],
   "source": [
    "ps=PorterStemmer()\n",
    "wst= WhitespaceTokenizer() \n",
    "\n",
    "##### 1. Converting text to lower case\n",
    "def lower_func (x):\n",
    "    return x.lower()\n",
    "\n",
    "\n",
    "##### 2. Removing Numbers from the text corpus\n",
    "def remove_number_func (x): \n",
    "    new=\"\"\n",
    "    for a in x:\n",
    "        if a.isdigit()==False:\n",
    "            new=new+a\n",
    "    return new\n",
    "\n",
    "\n",
    "##### 3. Removing punctuation \n",
    "def remove_punc_func(x):\n",
    "    new=''\n",
    "    for a in x:\n",
    "        if a not in string.punctuation:\n",
    "            new=new+a\n",
    "    return new\n",
    "\n",
    "##### 4. Removing special characters\n",
    "def remove_spec_char_func(x):\n",
    "    new=''\n",
    "    for a in x:\n",
    "        if (a.isalnum()==True) or (a==' '):\n",
    "            new=new+a\n",
    "    return(new)\n",
    "\n",
    "##### 5. Removing english stopwords\n",
    "def remove_stopwords(x):\n",
    "    new=[]\n",
    "    for a in x.split():\n",
    "        if a not in stopwords.words('english'):\n",
    "            new.append(a)\n",
    "    return \" \".join(new)\n",
    "\n",
    "##### 6. Stemming words to root words\n",
    "def stem_func(x):\n",
    "    wordlist = word_tokenize(x)\n",
    "    psstem = [ps.stem(a) for a in wordlist]\n",
    "    return ' '.join(psstem)\n",
    "\n",
    "##### 7. Removing extra whitespaces \n",
    "def remove_whitespace_func(x):\n",
    "    return(wst.tokenize(x))\n",
    "\n",
    "def compose(f, g):\n",
    "    return lambda x: f(g(x))\n",
    "\n",
    "final=compose(compose(compose(compose(compose(compose(remove_whitespace_func,stem_func),remove_stopwords),remove_spec_char_func),remove_punc_func),remove_number_func),lower_func)"
   ]
  },
  {
   "cell_type": "markdown",
   "metadata": {},
   "source": [
    "### 5-2-2- Analysis of news title "
   ]
  },
  {
   "cell_type": "markdown",
   "metadata": {},
   "source": [
    "**We use 'final' function to process the title of news articles, then select the top 20 most frequent words in the news title for both categories i.e., real news and fake news. We plot the term frequency of these words in both categories.**"
   ]
  },
  {
   "cell_type": "markdown",
   "metadata": {},
   "source": [
    "##### Fake News"
   ]
  },
  {
   "cell_type": "code",
   "execution_count": 128,
   "metadata": {},
   "outputs": [],
   "source": [
    "df_fake=df[df['news_type']=='Fake']"
   ]
  },
  {
   "cell_type": "code",
   "execution_count": 129,
   "metadata": {
    "scrolled": true
   },
   "outputs": [
    {
     "name": "stdout",
     "output_type": "stream",
     "text": [
      "[[0 0 0 ... 0 0 0]\n",
      " [0 0 0 ... 0 0 0]\n",
      " [0 0 0 ... 0 0 0]\n",
      " ...\n",
      " [0 0 0 ... 0 0 0]\n",
      " [0 0 0 ... 0 0 0]\n",
      " [0 0 0 ... 0 0 0]]\n"
     ]
    }
   ],
   "source": [
    "cv1 = CountVectorizer(analyzer=final)\n",
    "cv1.fit(df_fake['title'])\n",
    "bow1=cv1.transform(df_fake['title'])\n",
    "print ((bow1.todense()))"
   ]
  },
  {
   "cell_type": "code",
   "execution_count": 130,
   "metadata": {},
   "outputs": [
    {
     "data": {
      "text/html": [
       "<div>\n",
       "<style scoped>\n",
       "    .dataframe tbody tr th:only-of-type {\n",
       "        vertical-align: middle;\n",
       "    }\n",
       "\n",
       "    .dataframe tbody tr th {\n",
       "        vertical-align: top;\n",
       "    }\n",
       "\n",
       "    .dataframe thead th {\n",
       "        text-align: right;\n",
       "    }\n",
       "</style>\n",
       "<table border=\"1\" class=\"dataframe\">\n",
       "  <thead>\n",
       "    <tr style=\"text-align: right;\">\n",
       "      <th></th>\n",
       "      <th>0</th>\n",
       "      <th>1</th>\n",
       "      <th>2</th>\n",
       "      <th>3</th>\n",
       "      <th>4</th>\n",
       "      <th>5</th>\n",
       "      <th>6</th>\n",
       "      <th>7</th>\n",
       "      <th>8</th>\n",
       "      <th>9</th>\n",
       "      <th>...</th>\n",
       "      <th>449</th>\n",
       "      <th>450</th>\n",
       "      <th>451</th>\n",
       "      <th>452</th>\n",
       "      <th>453</th>\n",
       "      <th>454</th>\n",
       "      <th>455</th>\n",
       "      <th>456</th>\n",
       "      <th>457</th>\n",
       "      <th>458</th>\n",
       "    </tr>\n",
       "  </thead>\n",
       "  <tbody>\n",
       "    <tr>\n",
       "      <td>0</td>\n",
       "      <td>0</td>\n",
       "      <td>0</td>\n",
       "      <td>0</td>\n",
       "      <td>0</td>\n",
       "      <td>0</td>\n",
       "      <td>0</td>\n",
       "      <td>0</td>\n",
       "      <td>0</td>\n",
       "      <td>0</td>\n",
       "      <td>0</td>\n",
       "      <td>...</td>\n",
       "      <td>0</td>\n",
       "      <td>0</td>\n",
       "      <td>0</td>\n",
       "      <td>0</td>\n",
       "      <td>0</td>\n",
       "      <td>0</td>\n",
       "      <td>0</td>\n",
       "      <td>0</td>\n",
       "      <td>0</td>\n",
       "      <td>0</td>\n",
       "    </tr>\n",
       "    <tr>\n",
       "      <td>1</td>\n",
       "      <td>0</td>\n",
       "      <td>0</td>\n",
       "      <td>0</td>\n",
       "      <td>0</td>\n",
       "      <td>0</td>\n",
       "      <td>0</td>\n",
       "      <td>0</td>\n",
       "      <td>0</td>\n",
       "      <td>0</td>\n",
       "      <td>0</td>\n",
       "      <td>...</td>\n",
       "      <td>0</td>\n",
       "      <td>0</td>\n",
       "      <td>0</td>\n",
       "      <td>0</td>\n",
       "      <td>0</td>\n",
       "      <td>0</td>\n",
       "      <td>0</td>\n",
       "      <td>0</td>\n",
       "      <td>0</td>\n",
       "      <td>0</td>\n",
       "    </tr>\n",
       "    <tr>\n",
       "      <td>2</td>\n",
       "      <td>0</td>\n",
       "      <td>0</td>\n",
       "      <td>0</td>\n",
       "      <td>0</td>\n",
       "      <td>0</td>\n",
       "      <td>0</td>\n",
       "      <td>0</td>\n",
       "      <td>0</td>\n",
       "      <td>1</td>\n",
       "      <td>0</td>\n",
       "      <td>...</td>\n",
       "      <td>0</td>\n",
       "      <td>0</td>\n",
       "      <td>0</td>\n",
       "      <td>0</td>\n",
       "      <td>0</td>\n",
       "      <td>0</td>\n",
       "      <td>0</td>\n",
       "      <td>0</td>\n",
       "      <td>0</td>\n",
       "      <td>0</td>\n",
       "    </tr>\n",
       "    <tr>\n",
       "      <td>3</td>\n",
       "      <td>0</td>\n",
       "      <td>0</td>\n",
       "      <td>0</td>\n",
       "      <td>0</td>\n",
       "      <td>0</td>\n",
       "      <td>0</td>\n",
       "      <td>0</td>\n",
       "      <td>0</td>\n",
       "      <td>0</td>\n",
       "      <td>0</td>\n",
       "      <td>...</td>\n",
       "      <td>0</td>\n",
       "      <td>0</td>\n",
       "      <td>0</td>\n",
       "      <td>0</td>\n",
       "      <td>0</td>\n",
       "      <td>0</td>\n",
       "      <td>0</td>\n",
       "      <td>1</td>\n",
       "      <td>0</td>\n",
       "      <td>0</td>\n",
       "    </tr>\n",
       "    <tr>\n",
       "      <td>4</td>\n",
       "      <td>0</td>\n",
       "      <td>0</td>\n",
       "      <td>0</td>\n",
       "      <td>0</td>\n",
       "      <td>0</td>\n",
       "      <td>0</td>\n",
       "      <td>0</td>\n",
       "      <td>0</td>\n",
       "      <td>0</td>\n",
       "      <td>0</td>\n",
       "      <td>...</td>\n",
       "      <td>0</td>\n",
       "      <td>0</td>\n",
       "      <td>0</td>\n",
       "      <td>0</td>\n",
       "      <td>0</td>\n",
       "      <td>0</td>\n",
       "      <td>0</td>\n",
       "      <td>0</td>\n",
       "      <td>0</td>\n",
       "      <td>0</td>\n",
       "    </tr>\n",
       "    <tr>\n",
       "      <td>...</td>\n",
       "      <td>...</td>\n",
       "      <td>...</td>\n",
       "      <td>...</td>\n",
       "      <td>...</td>\n",
       "      <td>...</td>\n",
       "      <td>...</td>\n",
       "      <td>...</td>\n",
       "      <td>...</td>\n",
       "      <td>...</td>\n",
       "      <td>...</td>\n",
       "      <td>...</td>\n",
       "      <td>...</td>\n",
       "      <td>...</td>\n",
       "      <td>...</td>\n",
       "      <td>...</td>\n",
       "      <td>...</td>\n",
       "      <td>...</td>\n",
       "      <td>...</td>\n",
       "      <td>...</td>\n",
       "      <td>...</td>\n",
       "      <td>...</td>\n",
       "    </tr>\n",
       "    <tr>\n",
       "      <td>86</td>\n",
       "      <td>0</td>\n",
       "      <td>0</td>\n",
       "      <td>0</td>\n",
       "      <td>0</td>\n",
       "      <td>0</td>\n",
       "      <td>0</td>\n",
       "      <td>0</td>\n",
       "      <td>0</td>\n",
       "      <td>0</td>\n",
       "      <td>0</td>\n",
       "      <td>...</td>\n",
       "      <td>0</td>\n",
       "      <td>0</td>\n",
       "      <td>0</td>\n",
       "      <td>0</td>\n",
       "      <td>0</td>\n",
       "      <td>0</td>\n",
       "      <td>0</td>\n",
       "      <td>0</td>\n",
       "      <td>0</td>\n",
       "      <td>0</td>\n",
       "    </tr>\n",
       "    <tr>\n",
       "      <td>87</td>\n",
       "      <td>0</td>\n",
       "      <td>0</td>\n",
       "      <td>0</td>\n",
       "      <td>0</td>\n",
       "      <td>0</td>\n",
       "      <td>0</td>\n",
       "      <td>0</td>\n",
       "      <td>0</td>\n",
       "      <td>0</td>\n",
       "      <td>0</td>\n",
       "      <td>...</td>\n",
       "      <td>0</td>\n",
       "      <td>0</td>\n",
       "      <td>0</td>\n",
       "      <td>0</td>\n",
       "      <td>0</td>\n",
       "      <td>0</td>\n",
       "      <td>0</td>\n",
       "      <td>0</td>\n",
       "      <td>0</td>\n",
       "      <td>0</td>\n",
       "    </tr>\n",
       "    <tr>\n",
       "      <td>88</td>\n",
       "      <td>0</td>\n",
       "      <td>0</td>\n",
       "      <td>0</td>\n",
       "      <td>0</td>\n",
       "      <td>0</td>\n",
       "      <td>0</td>\n",
       "      <td>0</td>\n",
       "      <td>0</td>\n",
       "      <td>0</td>\n",
       "      <td>0</td>\n",
       "      <td>...</td>\n",
       "      <td>0</td>\n",
       "      <td>0</td>\n",
       "      <td>0</td>\n",
       "      <td>0</td>\n",
       "      <td>0</td>\n",
       "      <td>0</td>\n",
       "      <td>0</td>\n",
       "      <td>0</td>\n",
       "      <td>0</td>\n",
       "      <td>0</td>\n",
       "    </tr>\n",
       "    <tr>\n",
       "      <td>89</td>\n",
       "      <td>0</td>\n",
       "      <td>0</td>\n",
       "      <td>0</td>\n",
       "      <td>0</td>\n",
       "      <td>0</td>\n",
       "      <td>0</td>\n",
       "      <td>0</td>\n",
       "      <td>0</td>\n",
       "      <td>0</td>\n",
       "      <td>0</td>\n",
       "      <td>...</td>\n",
       "      <td>0</td>\n",
       "      <td>0</td>\n",
       "      <td>0</td>\n",
       "      <td>0</td>\n",
       "      <td>0</td>\n",
       "      <td>0</td>\n",
       "      <td>0</td>\n",
       "      <td>0</td>\n",
       "      <td>0</td>\n",
       "      <td>0</td>\n",
       "    </tr>\n",
       "    <tr>\n",
       "      <td>90</td>\n",
       "      <td>0</td>\n",
       "      <td>0</td>\n",
       "      <td>0</td>\n",
       "      <td>0</td>\n",
       "      <td>0</td>\n",
       "      <td>0</td>\n",
       "      <td>0</td>\n",
       "      <td>0</td>\n",
       "      <td>0</td>\n",
       "      <td>0</td>\n",
       "      <td>...</td>\n",
       "      <td>0</td>\n",
       "      <td>0</td>\n",
       "      <td>0</td>\n",
       "      <td>0</td>\n",
       "      <td>0</td>\n",
       "      <td>0</td>\n",
       "      <td>0</td>\n",
       "      <td>0</td>\n",
       "      <td>0</td>\n",
       "      <td>0</td>\n",
       "    </tr>\n",
       "  </tbody>\n",
       "</table>\n",
       "<p>91 rows × 459 columns</p>\n",
       "</div>"
      ],
      "text/plain": [
       "    0    1    2    3    4    5    6    7    8    9    ...  449  450  451  452  \\\n",
       "0     0    0    0    0    0    0    0    0    0    0  ...    0    0    0    0   \n",
       "1     0    0    0    0    0    0    0    0    0    0  ...    0    0    0    0   \n",
       "2     0    0    0    0    0    0    0    0    1    0  ...    0    0    0    0   \n",
       "3     0    0    0    0    0    0    0    0    0    0  ...    0    0    0    0   \n",
       "4     0    0    0    0    0    0    0    0    0    0  ...    0    0    0    0   \n",
       "..  ...  ...  ...  ...  ...  ...  ...  ...  ...  ...  ...  ...  ...  ...  ...   \n",
       "86    0    0    0    0    0    0    0    0    0    0  ...    0    0    0    0   \n",
       "87    0    0    0    0    0    0    0    0    0    0  ...    0    0    0    0   \n",
       "88    0    0    0    0    0    0    0    0    0    0  ...    0    0    0    0   \n",
       "89    0    0    0    0    0    0    0    0    0    0  ...    0    0    0    0   \n",
       "90    0    0    0    0    0    0    0    0    0    0  ...    0    0    0    0   \n",
       "\n",
       "    453  454  455  456  457  458  \n",
       "0     0    0    0    0    0    0  \n",
       "1     0    0    0    0    0    0  \n",
       "2     0    0    0    0    0    0  \n",
       "3     0    0    0    1    0    0  \n",
       "4     0    0    0    0    0    0  \n",
       "..  ...  ...  ...  ...  ...  ...  \n",
       "86    0    0    0    0    0    0  \n",
       "87    0    0    0    0    0    0  \n",
       "88    0    0    0    0    0    0  \n",
       "89    0    0    0    0    0    0  \n",
       "90    0    0    0    0    0    0  \n",
       "\n",
       "[91 rows x 459 columns]"
      ]
     },
     "execution_count": 130,
     "metadata": {},
     "output_type": "execute_result"
    }
   ],
   "source": [
    "pd.DataFrame(bow1.todense())"
   ]
  },
  {
   "cell_type": "code",
   "execution_count": 134,
   "metadata": {},
   "outputs": [
    {
     "name": "stdout",
     "output_type": "stream",
     "text": [
      "['abc', 'accept', 'accus', 'act', 'actual', 'acut', 'adapt', 'admin', 'administr', 'admit', 'africa', 'agent', 'ahmad', 'aid', 'alcohol', 'alert', 'america', 'american', 'angela', 'announc', 'anthem', 'antimuslim', 'ap', 'arab', 'arizona', 'armi', 'attack', 'auction', 'audienc', 'australia', 'babi', 'ban', 'bash', 'beat', 'begin', 'believ', 'bet', 'better', 'big', 'bill', 'billion', 'birth', 'black', 'blacklivesmatt', 'bodi', 'bomb', 'boom', 'border', 'born', 'boy', 'brand', 'brandish', 'break', 'breakdown', 'bridgeg', 'bring', 'broke', 'busi', 'bustedher', 'c', 'californian', 'call', 'campaign', 'cant', 'car', 'caught', 'cavuto', 'ceo', 'certainli', 'certif', 'chang', 'chariti', 'charlott', 'chief', 'children', 'chri', 'christi', 'clemson', 'clinton', 'cnn', 'come', 'comey', 'commit', 'confirm', 'congress', 'context', 'cop', 'could', 'couldnt', 'countri', 'court', 'cover', 'creat', 'crime', 'cultur', 'daili', 'day', 'dead', 'deal', 'debat', 'decadesold', 'decid', 'declassifi', 'deep', 'demand', 'democrat', 'deni', 'depart', 'despic', 'diaper', 'didnt', 'die', 'director', 'disabl', 'discoveri', 'discrimin', 'disgrac', 'disgust', 'dismantl', 'distribut', 'disturb', 'doc', 'dollar', 'donald', 'donor', 'dont', 'dous', 'drink', 'drug', 'e', 'eagl', 'earthquak', 'easter', 'eclips', 'egg', 'elect', 'embarrass', 'end', 'endmay', 'entir', 'event', 'everi', 'everyon', 'expect', 'expens', 'exploit', 'expos', 'factcheck', 'faith', 'fake', 'fan', 'fast', 'fat', 'fate', 'fbi', 'featur', 'fed', 'feder', 'feloni', 'femal', 'fg', 'figurehead', 'file', 'fill', 'final', 'fire', 'first', 'five', 'flat', 'flee', 'flood', 'flop', 'food', 'forc', 'forward', 'found', 'foundat', 'fox', 'freedom', 'friend', 'front', 'fund', 'furiou', 'gasolin', 'gener', 'germani', 'get', 'giveaway', 'go', 'goe', 'good', 'gorilla', 'govern', 'grave', 'guess', 'guy', 'haiti', 'happen', 'happi', 'harambepromot', 'he', 'head', 'hear', 'help', 'herald', 'hero', 'hillari', 'hing', 'holt', 'homosexu', 'horribl', 'horrifi', 'hospit', 'hous', 'hundr', 'hunt', 'idd', 'impeach', 'incompet', 'instantli', 'internet', 'intimid', 'isi', 'isisthen', 'islam', 'jackson', 'jersey', 'journal', 'judg', 'kevin', 'know', 'last', 'latest', 'law', 'lawsuit', 'learn', 'leav', 'legal', 'lester', 'lgbt', 'liber', 'lie', 'like', 'lip', 'look', 'made', 'mainstream', 'mainten', 'major', 'make', 'male', 'mall', 'manipul', 'marin', 'massiv', 'may', 'mean', 'media', 'meme', 'men', 'merkel', 'messag', 'michel', 'million', 'minnesota', 'mistak', 'money', 'mosqu', 'move', 'muslim', 'muslimamerican', 'must', 'nation', 'nc', 'need', 'nervou', 'network', 'new', 'news', 'newsweek', 'nfl', 'night', 'note', 'notic', 'ny', 'nyc', 'obama', 'odd', 'offici', 'oligarch', 'olympian', 'one', 'opposit', 'outfit', 'outrag', 'p', 'pac', 'paid', 'particular', 'payer', 'pee', 'pennsylvania', 'peopl', 'percentfedupcom', 'persecut', 'pick', 'piss', 'poison', 'polic', 'poll', 'pope', 'postdeb', 'pregnant', 'presid', 'pretend', 'process', 'promis', 'proof', 'protest', 'prove', 'pull', 'push', 'put', 'putin', 'question', 'racial', 'racism', 'racist', 'rahami', 'ralli', 'rape', 'read', 'real', 'record', 'reetard', 'refuge', 'releas', 'religi', 'renov', 'report', 'republican', 'resign', 'rest', 'result', 'reveal', 'ridicul', 'rig', 'riot', 'rioter', 'rise', 'role', 'run', 'russel', 'russian', 'said', 'salari', 'say', 'scandal', 'scath', 'scatter', 'sea', 'secret', 'secur', 'see', 'send', 'sentenceboom', 'sept', 'seriou', 'set', 'sex', 'shock', 'shoot', 'show', 'sick', 'silenc', 'slave', 'somali', 'someon', 'someth', 'soro', 'southern', 'speak', 'special', 'speech', 'spend', 'spent', 'sphere', 'staff', 'stair', 'starv', 'steal', 'step', 'stop', 'su', 'subsaharan', 'suck', 'suprem', 'surgeon', 'surpris', 'surrend', 'suspect', 'take', 'tax', 'tebow', 'terrifi', 'terror', 'terrorist', 'theori', 'thing', 'think', 'thought', 'threaten', 'thug', 'time', 'today', 'told', 'tool', 'top', 'train', 'treatment', 'tri', 'troll', 'trump', 'twitter', 'two', 'type', 'un', 'unarm', 'unfit', 'urin', 'us', 'usa', 'use', 'vet', 'veteran', 'video', 'view', 'vote', 'voter', 'wall', 'want', 'warn', 'watereddown', 'way', 'websit', 'went', 'what', 'white', 'whoa', 'wikileak', 'wilson', 'win', 'winner', 'woman', 'world', 'wrong', 'yet', 'york', 'youll']\n"
     ]
    }
   ],
   "source": [
    "new1=[]\n",
    "for x in range(0,459):\n",
    "    new1.append(cv1.get_feature_names()[x])\n",
    "print(new1)"
   ]
  },
  {
   "cell_type": "code",
   "execution_count": 135,
   "metadata": {},
   "outputs": [],
   "source": [
    "matrix1=pd.DataFrame(bow1.todense(),columns=new1)"
   ]
  },
  {
   "cell_type": "code",
   "execution_count": 136,
   "metadata": {},
   "outputs": [
    {
     "name": "stdout",
     "output_type": "stream",
     "text": [
      "[1, 1, 1, 1, 1, 1, 2, 1, 2, 2, 1, 1, 1, 2, 1, 1, 1, 2, 1, 2, 1, 1, 1, 1, 1, 2, 3, 1, 1, 1, 1, 2, 1, 1, 1, 1, 1, 1, 1, 3, 1, 1, 4, 1, 1, 4, 3, 1, 1, 1, 1, 1, 4, 1, 1, 1, 1, 1, 2, 1, 1, 3, 3, 2, 2, 1, 1, 1, 1, 1, 1, 3, 4, 1, 1, 1, 1, 1, 15, 3, 1, 1, 1, 1, 1, 1, 3, 1, 1, 2, 1, 1, 1, 1, 2, 12, 2, 2, 1, 6, 1, 1, 1, 1, 1, 2, 1, 1, 1, 1, 1, 1, 1, 1, 1, 2, 1, 3, 1, 1, 1, 1, 2, 2, 1, 1, 1, 1, 1, 1, 11, 1, 1, 1, 1, 2, 1, 1, 1, 3, 1, 1, 1, 1, 2, 1, 3, 1, 1, 2, 1, 1, 1, 1, 2, 1, 1, 1, 1, 1, 1, 2, 2, 1, 1, 2, 1, 1, 1, 1, 1, 1, 1, 1, 1, 2, 4, 1, 13, 1, 1, 1, 1, 1, 2, 1, 4, 1, 2, 2, 1, 1, 1, 1, 1, 1, 1, 2, 1, 1, 1, 1, 1, 1, 3, 1, 23, 1, 1, 1, 1, 1, 1, 3, 1, 1, 1, 1, 1, 1, 1, 1, 4, 1, 1, 1, 1, 1, 2, 1, 1, 1, 1, 1, 1, 1, 2, 1, 1, 1, 2, 3, 1, 1, 2, 2, 1, 2, 2, 2, 1, 2, 1, 1, 2, 3, 1, 1, 1, 1, 2, 1, 1, 1, 1, 1, 1, 1, 1, 6, 1, 1, 1, 1, 1, 1, 1, 7, 1, 1, 1, 1, 1, 2, 1, 2, 13, 2, 1, 1, 1, 6, 2, 2, 1, 1, 1, 1, 1, 1, 1, 1, 3, 2, 1, 1, 1, 1, 5, 2, 1, 2, 1, 1, 1, 1, 2, 3, 3, 1, 1, 2, 1, 1, 1, 1, 1, 1, 1, 2, 1, 1, 2, 1, 1, 5, 2, 1, 1, 3, 1, 1, 2, 3, 2, 1, 3, 1, 2, 11, 1, 4, 1, 1, 1, 2, 3, 2, 1, 1, 1, 1, 1, 3, 1, 1, 1, 1, 1, 2, 1, 1, 3, 2, 1, 1, 1, 1, 3, 1, 1, 1, 1, 1, 1, 2, 1, 1, 1, 1, 2, 1, 1, 3, 1, 1, 1, 1, 1, 1, 2, 2, 1, 1, 1, 2, 3, 1, 3, 2, 1, 1, 1, 1, 1, 2, 1, 2, 1, 1, 1, 1, 12, 1, 1, 1, 1, 1, 2, 1, 5, 1, 1, 1, 1, 8, 1, 1, 1, 1, 1, 1, 1, 3, 2, 2, 1, 4, 1, 1, 1, 1, 2, 1, 1, 1, 1, 2, 1]\n"
     ]
    }
   ],
   "source": [
    "sm1=[]\n",
    "for x in new1:\n",
    "    sm1.append(matrix1[x].sum())\n",
    "print(sm1)"
   ]
  },
  {
   "cell_type": "code",
   "execution_count": 137,
   "metadata": {},
   "outputs": [],
   "source": [
    "trans1=matrix1.transpose()"
   ]
  },
  {
   "cell_type": "code",
   "execution_count": 138,
   "metadata": {},
   "outputs": [],
   "source": [
    "trans1['sum']=sm1"
   ]
  },
  {
   "cell_type": "code",
   "execution_count": 139,
   "metadata": {},
   "outputs": [],
   "source": [
    "top1=trans1.sort_values(by='sum', ascending=False).head(20)"
   ]
  },
  {
   "cell_type": "markdown",
   "metadata": {},
   "source": [
    "##### Real News"
   ]
  },
  {
   "cell_type": "code",
   "execution_count": 140,
   "metadata": {},
   "outputs": [],
   "source": [
    "df_real=df[df['news_type']=='Real']"
   ]
  },
  {
   "cell_type": "code",
   "execution_count": 141,
   "metadata": {
    "scrolled": true
   },
   "outputs": [
    {
     "name": "stdout",
     "output_type": "stream",
     "text": [
      "[[0 0 0 ... 0 0 0]\n",
      " [0 0 0 ... 0 0 0]\n",
      " [0 0 0 ... 0 0 0]\n",
      " ...\n",
      " [0 0 0 ... 0 0 0]\n",
      " [0 0 0 ... 0 0 0]\n",
      " [0 0 0 ... 0 0 0]]\n"
     ]
    }
   ],
   "source": [
    "cv2 = CountVectorizer(analyzer=final)\n",
    "cv2.fit(df_real['title'])\n",
    "bow2=cv2.transform(df_real['title'])\n",
    "print ((bow2.todense()))"
   ]
  },
  {
   "cell_type": "code",
   "execution_count": 142,
   "metadata": {},
   "outputs": [
    {
     "data": {
      "text/html": [
       "<div>\n",
       "<style scoped>\n",
       "    .dataframe tbody tr th:only-of-type {\n",
       "        vertical-align: middle;\n",
       "    }\n",
       "\n",
       "    .dataframe tbody tr th {\n",
       "        vertical-align: top;\n",
       "    }\n",
       "\n",
       "    .dataframe thead th {\n",
       "        text-align: right;\n",
       "    }\n",
       "</style>\n",
       "<table border=\"1\" class=\"dataframe\">\n",
       "  <thead>\n",
       "    <tr style=\"text-align: right;\">\n",
       "      <th></th>\n",
       "      <th>0</th>\n",
       "      <th>1</th>\n",
       "      <th>2</th>\n",
       "      <th>3</th>\n",
       "      <th>4</th>\n",
       "      <th>5</th>\n",
       "      <th>6</th>\n",
       "      <th>7</th>\n",
       "      <th>8</th>\n",
       "      <th>9</th>\n",
       "      <th>...</th>\n",
       "      <th>426</th>\n",
       "      <th>427</th>\n",
       "      <th>428</th>\n",
       "      <th>429</th>\n",
       "      <th>430</th>\n",
       "      <th>431</th>\n",
       "      <th>432</th>\n",
       "      <th>433</th>\n",
       "      <th>434</th>\n",
       "      <th>435</th>\n",
       "    </tr>\n",
       "  </thead>\n",
       "  <tbody>\n",
       "    <tr>\n",
       "      <td>0</td>\n",
       "      <td>0</td>\n",
       "      <td>0</td>\n",
       "      <td>0</td>\n",
       "      <td>0</td>\n",
       "      <td>0</td>\n",
       "      <td>0</td>\n",
       "      <td>0</td>\n",
       "      <td>0</td>\n",
       "      <td>0</td>\n",
       "      <td>0</td>\n",
       "      <td>...</td>\n",
       "      <td>0</td>\n",
       "      <td>0</td>\n",
       "      <td>0</td>\n",
       "      <td>0</td>\n",
       "      <td>0</td>\n",
       "      <td>0</td>\n",
       "      <td>0</td>\n",
       "      <td>0</td>\n",
       "      <td>0</td>\n",
       "      <td>0</td>\n",
       "    </tr>\n",
       "    <tr>\n",
       "      <td>1</td>\n",
       "      <td>0</td>\n",
       "      <td>0</td>\n",
       "      <td>0</td>\n",
       "      <td>0</td>\n",
       "      <td>0</td>\n",
       "      <td>0</td>\n",
       "      <td>0</td>\n",
       "      <td>0</td>\n",
       "      <td>0</td>\n",
       "      <td>0</td>\n",
       "      <td>...</td>\n",
       "      <td>0</td>\n",
       "      <td>0</td>\n",
       "      <td>0</td>\n",
       "      <td>0</td>\n",
       "      <td>0</td>\n",
       "      <td>0</td>\n",
       "      <td>0</td>\n",
       "      <td>0</td>\n",
       "      <td>0</td>\n",
       "      <td>0</td>\n",
       "    </tr>\n",
       "    <tr>\n",
       "      <td>2</td>\n",
       "      <td>0</td>\n",
       "      <td>0</td>\n",
       "      <td>0</td>\n",
       "      <td>0</td>\n",
       "      <td>0</td>\n",
       "      <td>0</td>\n",
       "      <td>0</td>\n",
       "      <td>0</td>\n",
       "      <td>0</td>\n",
       "      <td>0</td>\n",
       "      <td>...</td>\n",
       "      <td>0</td>\n",
       "      <td>0</td>\n",
       "      <td>0</td>\n",
       "      <td>0</td>\n",
       "      <td>0</td>\n",
       "      <td>0</td>\n",
       "      <td>0</td>\n",
       "      <td>0</td>\n",
       "      <td>0</td>\n",
       "      <td>0</td>\n",
       "    </tr>\n",
       "    <tr>\n",
       "      <td>3</td>\n",
       "      <td>0</td>\n",
       "      <td>0</td>\n",
       "      <td>0</td>\n",
       "      <td>0</td>\n",
       "      <td>0</td>\n",
       "      <td>0</td>\n",
       "      <td>0</td>\n",
       "      <td>0</td>\n",
       "      <td>0</td>\n",
       "      <td>0</td>\n",
       "      <td>...</td>\n",
       "      <td>0</td>\n",
       "      <td>0</td>\n",
       "      <td>0</td>\n",
       "      <td>0</td>\n",
       "      <td>0</td>\n",
       "      <td>1</td>\n",
       "      <td>0</td>\n",
       "      <td>0</td>\n",
       "      <td>0</td>\n",
       "      <td>0</td>\n",
       "    </tr>\n",
       "    <tr>\n",
       "      <td>4</td>\n",
       "      <td>0</td>\n",
       "      <td>0</td>\n",
       "      <td>0</td>\n",
       "      <td>0</td>\n",
       "      <td>0</td>\n",
       "      <td>0</td>\n",
       "      <td>0</td>\n",
       "      <td>0</td>\n",
       "      <td>0</td>\n",
       "      <td>0</td>\n",
       "      <td>...</td>\n",
       "      <td>0</td>\n",
       "      <td>0</td>\n",
       "      <td>0</td>\n",
       "      <td>0</td>\n",
       "      <td>0</td>\n",
       "      <td>0</td>\n",
       "      <td>0</td>\n",
       "      <td>0</td>\n",
       "      <td>0</td>\n",
       "      <td>0</td>\n",
       "    </tr>\n",
       "    <tr>\n",
       "      <td>...</td>\n",
       "      <td>...</td>\n",
       "      <td>...</td>\n",
       "      <td>...</td>\n",
       "      <td>...</td>\n",
       "      <td>...</td>\n",
       "      <td>...</td>\n",
       "      <td>...</td>\n",
       "      <td>...</td>\n",
       "      <td>...</td>\n",
       "      <td>...</td>\n",
       "      <td>...</td>\n",
       "      <td>...</td>\n",
       "      <td>...</td>\n",
       "      <td>...</td>\n",
       "      <td>...</td>\n",
       "      <td>...</td>\n",
       "      <td>...</td>\n",
       "      <td>...</td>\n",
       "      <td>...</td>\n",
       "      <td>...</td>\n",
       "      <td>...</td>\n",
       "    </tr>\n",
       "    <tr>\n",
       "      <td>86</td>\n",
       "      <td>0</td>\n",
       "      <td>0</td>\n",
       "      <td>0</td>\n",
       "      <td>0</td>\n",
       "      <td>0</td>\n",
       "      <td>0</td>\n",
       "      <td>0</td>\n",
       "      <td>0</td>\n",
       "      <td>0</td>\n",
       "      <td>0</td>\n",
       "      <td>...</td>\n",
       "      <td>0</td>\n",
       "      <td>0</td>\n",
       "      <td>0</td>\n",
       "      <td>0</td>\n",
       "      <td>0</td>\n",
       "      <td>0</td>\n",
       "      <td>0</td>\n",
       "      <td>0</td>\n",
       "      <td>0</td>\n",
       "      <td>0</td>\n",
       "    </tr>\n",
       "    <tr>\n",
       "      <td>87</td>\n",
       "      <td>0</td>\n",
       "      <td>0</td>\n",
       "      <td>0</td>\n",
       "      <td>0</td>\n",
       "      <td>0</td>\n",
       "      <td>0</td>\n",
       "      <td>0</td>\n",
       "      <td>0</td>\n",
       "      <td>0</td>\n",
       "      <td>0</td>\n",
       "      <td>...</td>\n",
       "      <td>0</td>\n",
       "      <td>0</td>\n",
       "      <td>0</td>\n",
       "      <td>0</td>\n",
       "      <td>0</td>\n",
       "      <td>0</td>\n",
       "      <td>0</td>\n",
       "      <td>0</td>\n",
       "      <td>0</td>\n",
       "      <td>0</td>\n",
       "    </tr>\n",
       "    <tr>\n",
       "      <td>88</td>\n",
       "      <td>0</td>\n",
       "      <td>0</td>\n",
       "      <td>0</td>\n",
       "      <td>0</td>\n",
       "      <td>0</td>\n",
       "      <td>0</td>\n",
       "      <td>0</td>\n",
       "      <td>0</td>\n",
       "      <td>0</td>\n",
       "      <td>0</td>\n",
       "      <td>...</td>\n",
       "      <td>0</td>\n",
       "      <td>0</td>\n",
       "      <td>0</td>\n",
       "      <td>0</td>\n",
       "      <td>0</td>\n",
       "      <td>0</td>\n",
       "      <td>0</td>\n",
       "      <td>0</td>\n",
       "      <td>0</td>\n",
       "      <td>0</td>\n",
       "    </tr>\n",
       "    <tr>\n",
       "      <td>89</td>\n",
       "      <td>0</td>\n",
       "      <td>0</td>\n",
       "      <td>0</td>\n",
       "      <td>0</td>\n",
       "      <td>0</td>\n",
       "      <td>0</td>\n",
       "      <td>0</td>\n",
       "      <td>0</td>\n",
       "      <td>0</td>\n",
       "      <td>0</td>\n",
       "      <td>...</td>\n",
       "      <td>0</td>\n",
       "      <td>0</td>\n",
       "      <td>0</td>\n",
       "      <td>0</td>\n",
       "      <td>1</td>\n",
       "      <td>0</td>\n",
       "      <td>0</td>\n",
       "      <td>0</td>\n",
       "      <td>0</td>\n",
       "      <td>0</td>\n",
       "    </tr>\n",
       "    <tr>\n",
       "      <td>90</td>\n",
       "      <td>0</td>\n",
       "      <td>0</td>\n",
       "      <td>0</td>\n",
       "      <td>0</td>\n",
       "      <td>0</td>\n",
       "      <td>0</td>\n",
       "      <td>0</td>\n",
       "      <td>0</td>\n",
       "      <td>0</td>\n",
       "      <td>0</td>\n",
       "      <td>...</td>\n",
       "      <td>0</td>\n",
       "      <td>0</td>\n",
       "      <td>0</td>\n",
       "      <td>0</td>\n",
       "      <td>0</td>\n",
       "      <td>0</td>\n",
       "      <td>0</td>\n",
       "      <td>0</td>\n",
       "      <td>0</td>\n",
       "      <td>0</td>\n",
       "    </tr>\n",
       "  </tbody>\n",
       "</table>\n",
       "<p>91 rows × 436 columns</p>\n",
       "</div>"
      ],
      "text/plain": [
       "    0    1    2    3    4    5    6    7    8    9    ...  426  427  428  429  \\\n",
       "0     0    0    0    0    0    0    0    0    0    0  ...    0    0    0    0   \n",
       "1     0    0    0    0    0    0    0    0    0    0  ...    0    0    0    0   \n",
       "2     0    0    0    0    0    0    0    0    0    0  ...    0    0    0    0   \n",
       "3     0    0    0    0    0    0    0    0    0    0  ...    0    0    0    0   \n",
       "4     0    0    0    0    0    0    0    0    0    0  ...    0    0    0    0   \n",
       "..  ...  ...  ...  ...  ...  ...  ...  ...  ...  ...  ...  ...  ...  ...  ...   \n",
       "86    0    0    0    0    0    0    0    0    0    0  ...    0    0    0    0   \n",
       "87    0    0    0    0    0    0    0    0    0    0  ...    0    0    0    0   \n",
       "88    0    0    0    0    0    0    0    0    0    0  ...    0    0    0    0   \n",
       "89    0    0    0    0    0    0    0    0    0    0  ...    0    0    0    0   \n",
       "90    0    0    0    0    0    0    0    0    0    0  ...    0    0    0    0   \n",
       "\n",
       "    430  431  432  433  434  435  \n",
       "0     0    0    0    0    0    0  \n",
       "1     0    0    0    0    0    0  \n",
       "2     0    0    0    0    0    0  \n",
       "3     0    1    0    0    0    0  \n",
       "4     0    0    0    0    0    0  \n",
       "..  ...  ...  ...  ...  ...  ...  \n",
       "86    0    0    0    0    0    0  \n",
       "87    0    0    0    0    0    0  \n",
       "88    0    0    0    0    0    0  \n",
       "89    1    0    0    0    0    0  \n",
       "90    0    0    0    0    0    0  \n",
       "\n",
       "[91 rows x 436 columns]"
      ]
     },
     "execution_count": 142,
     "metadata": {},
     "output_type": "execute_result"
    }
   ],
   "source": [
    "pd.DataFrame(bow2.todense())"
   ]
  },
  {
   "cell_type": "code",
   "execution_count": 143,
   "metadata": {},
   "outputs": [
    {
     "name": "stdout",
     "output_type": "stream",
     "text": [
      "['abc', 'abl', 'affect', 'agent', 'ahead', 'ahmad', 'airstrik', 'alleg', 'alway', 'ambush', 'america', 'announc', 'anoth', 'answer', 'anthem', 'anthoni', 'anymor', 'apolog', 'arent', 'arm', 'arpaio', 'arraign', 'ask', 'attack', 'attorney', 'audit', 'author', 'bad', 'ban', 'barack', 'base', 'bassist', 'becom', 'benjamin', 'biden', 'big', 'bill', 'bind', 'birth', 'birther', 'black', 'bleed', 'bobbi', 'bomb', 'bombshel', 'bono', 'bound', 'brazil', 'break', 'bridgeg', 'brodi', 'build', 'bush', 'busi', 'call', 'camp', 'candid', 'cant', 'cargo', 'carter', 'caus', 'certif', 'chair', 'chang', 'chao', 'charlott', 'check', 'chelsea', 'child', 'citi', 'citizenship', 'claim', 'clash', 'clinton', 'comment', 'commiss', 'congress', 'congressman', 'control', 'conway', 'correct', 'could', 'council', 'counti', 'countri', 'court', 'coward', 'crisi', 'critic', 'crush', 'cruz', 'cutleri', 'day', 'dead', 'deal', 'debat', 'defens', 'dem', 'destroy', 'detail', 'determin', 'didnt', 'donald', 'donna', 'driver', 'drop', 'drug', 'duck', 'dude', 'eagl', 'economi', 'elect', 'emerg', 'emmi', 'emot', 'end', 'endors', 'endur', 'enhanc', 'even', 'ever', 'everybodi', 'everyth', 'expert', 'explain', 'eye', 'fact', 'factor', 'fall', 'fatal', 'feder', 'femal', 'fern', 'fight', 'fire', 'first', 'florida', 'forc', 'fort', 'found', 'foundat', 'franc', 'friendli', 'fundament', 'furiou', 'gene', 'georgia', 'get', 'girl', 'give', 'go', 'good', 'grant', 'ground', 'guilti', 'handler', 'hang', 'happen', 'harvard', 'hat', 'headgear', 'headlin', 'heat', 'help', 'here', 'hide', 'hillari', 'hit', 'hitler', 'holt', 'host', 'hostil', 'hous', 'housearm', 'huffpo', 'human', 'hundr', 'idea', 'im', 'immigr', 'inaccur', 'ineffect', 'infam', 'inmat', 'insid', 'insult', 'internet', 'intoler', 'intrud', 'investig', 'ir', 'iran', 'isi', 'islam', 'isnt', 'jail', 'jam', 'jeb', 'jenner', 'jersey', 'joe', 'johnson', 'journal', 'journalist', 'jr', 'kain', 'khan', 'kimmel', 'kiss', 'knee', 'knight', 'know', 'label', 'lament', 'last', 'latest', 'laugh', 'lead', 'lectur', 'lee', 'legitim', 'liber', 'libertarian', 'liberti', 'like', 'live', 'loot', 'lost', 'made', 'magistr', 'make', 'man', 'mani', 'mass', 'matter', 'mayor', 'mcauliff', 'media', 'meet', 'megan', 'mic', 'mileston', 'minor', 'mistak', 'mistakenli', 'mistreat', 'mob', 'moder', 'moment', 'month', 'moscow', 'move', 'mustard', 'mysteri', 'nation', 'nc', 'need', 'nelson', 'netanyahu', 'new', 'news', 'next', 'nfl', 'night', 'nobodi', 'nowin', 'nyc', 'nycwhi', 'obama', 'offici', 'one', 'opposit', 'order', 'orlando', 'page', 'paul', 'penc', 'peopl', 'pie', 'pin', 'pipe', 'pitch', 'plan', 'plastic', 'plate', 'play', 'point', 'polic', 'polit', 'poll', 'port', 'possibl', 'post', 'postdeb', 'potenti', 'presid', 'presidenti', 'protect', 'protest', 'protrump', 'public', 'punch', 'punish', 'push', 'put', 'puzzl', 'qualifi', 'question', 'race', 'rahami', 'rapino', 'realiti', 'realli', 'refuge', 'regret', 'releas', 'report', 'resid', 'respond', 'retreat', 'return', 'reveal', 'rfk', 'riot', 'rise', 'rnc', 'role', 'rouhani', 'rule', 'run', 'rush', 'ryan', 'sacramento', 'said', 'saidsh', 'say', 'school', 'second', 'secur', 'see', 'senat', 'set', 'sext', 'shame', 'sheriff', 'shoot', 'shouldnt', 'showdown', 'shred', 'side', 'simmon', 'site', 'situat', 'slam', 'sleep', 'smile', 'specif', 'speech', 'speechwrit', 'stand', 'star', 'state', 'station', 'still', 'stop', 'stopandfrisk', 'stori', 'stream', 'stun', 'stupid', 'superstar', 'suspect', 'syrian', 'take', 'tax', 'team', 'tear', 'ted', 'tell', 'terror', 'terrorist', 'test', 'theori', 'theyr', 'thrower', 'ticket', 'tight', 'tighten', 'tim', 'time', 'topic', 'total', 'traffic', 'train', 'trooper', 'truck', 'trump', 'trumpclinton', 'truth', 'tulsa', 'tv', 'tweet', 'twitter', 'two', 'un', 'unbear', 'unleash', 'us', 'use', 'veto', 'victim', 'video', 'visit', 'vote', 'voter', 'vs', 'wake', 'washington', 'wasnt', 'watch', 'weak', 'wear', 'weather', 'weed', 'weigh', 'weiner', 'well', 'willi', 'win', 'wont', 'word', 'work', 'worst', 'wound', 'year', 'young']\n"
     ]
    }
   ],
   "source": [
    "new2=[]\n",
    "for x in range(0,436):\n",
    "    new2.append(cv2.get_feature_names()[x])\n",
    "print(new2)"
   ]
  },
  {
   "cell_type": "code",
   "execution_count": 144,
   "metadata": {},
   "outputs": [],
   "source": [
    "matrix2=pd.DataFrame(bow2.todense(),columns=new2)"
   ]
  },
  {
   "cell_type": "code",
   "execution_count": 145,
   "metadata": {},
   "outputs": [
    {
     "name": "stdout",
     "output_type": "stream",
     "text": [
      "[1, 1, 1, 1, 1, 1, 1, 2, 1, 1, 3, 1, 1, 1, 3, 1, 1, 1, 1, 1, 1, 2, 2, 4, 1, 1, 1, 1, 1, 1, 1, 1, 1, 1, 2, 1, 1, 1, 1, 1, 2, 1, 1, 5, 1, 1, 1, 1, 4, 1, 1, 1, 1, 1, 2, 1, 1, 1, 1, 1, 1, 1, 1, 1, 1, 5, 1, 1, 1, 1, 1, 1, 1, 12, 1, 1, 1, 1, 1, 1, 2, 1, 1, 2, 1, 1, 1, 2, 2, 1, 2, 1, 1, 1, 1, 11, 1, 2, 1, 1, 1, 1, 11, 1, 1, 1, 1, 1, 1, 6, 1, 1, 1, 1, 1, 1, 1, 1, 1, 1, 1, 1, 1, 1, 1, 1, 1, 1, 1, 1, 3, 1, 1, 2, 1, 5, 1, 2, 1, 1, 2, 1, 1, 1, 1, 1, 1, 1, 1, 2, 2, 1, 1, 1, 1, 1, 1, 1, 1, 1, 1, 1, 1, 2, 1, 1, 8, 2, 1, 1, 1, 1, 1, 1, 1, 1, 1, 1, 2, 1, 1, 1, 1, 1, 1, 1, 1, 1, 1, 1, 1, 1, 1, 3, 1, 1, 1, 1, 1, 1, 3, 1, 1, 1, 1, 2, 1, 1, 1, 1, 1, 2, 1, 1, 2, 1, 1, 2, 1, 1, 1, 1, 1, 1, 3, 1, 1, 1, 1, 1, 2, 2, 1, 1, 1, 1, 1, 2, 1, 1, 1, 1, 1, 1, 1, 1, 1, 1, 3, 1, 1, 1, 1, 1, 2, 3, 1, 1, 1, 1, 3, 2, 1, 2, 1, 1, 2, 1, 9, 1, 2, 1, 1, 1, 1, 1, 1, 1, 1, 1, 1, 1, 2, 1, 1, 1, 1, 4, 2, 3, 1, 1, 1, 1, 1, 2, 5, 1, 4, 1, 1, 1, 1, 1, 2, 1, 1, 2, 3, 2, 1, 2, 1, 1, 1, 1, 2, 1, 1, 1, 1, 1, 1, 1, 7, 1, 1, 1, 1, 1, 1, 1, 1, 2, 1, 2, 1, 1, 1, 1, 1, 2, 1, 1, 1, 6, 1, 1, 1, 1, 1, 1, 1, 2, 1, 1, 1, 1, 1, 1, 2, 3, 1, 1, 1, 1, 1, 1, 1, 1, 1, 3, 1, 2, 1, 2, 1, 2, 1, 2, 2, 1, 1, 1, 1, 1, 1, 1, 1, 2, 1, 1, 1, 1, 1, 2, 37, 1, 1, 1, 1, 1, 2, 1, 1, 1, 1, 5, 1, 1, 1, 9, 1, 1, 1, 2, 2, 1, 1, 2, 1, 1, 1, 1, 1, 1, 1, 1, 1, 1, 3, 2, 1, 1, 1, 1]\n"
     ]
    }
   ],
   "source": [
    "sm2=[]\n",
    "for x in new2:\n",
    "    sm2.append(matrix2[x].sum())\n",
    "print(sm2)"
   ]
  },
  {
   "cell_type": "code",
   "execution_count": 146,
   "metadata": {},
   "outputs": [],
   "source": [
    "trans2=matrix2.transpose()"
   ]
  },
  {
   "cell_type": "code",
   "execution_count": 147,
   "metadata": {},
   "outputs": [],
   "source": [
    "trans2['sum']=sm2"
   ]
  },
  {
   "cell_type": "code",
   "execution_count": 148,
   "metadata": {},
   "outputs": [],
   "source": [
    "top2=trans2.sort_values(by='sum', ascending=False).head(20)"
   ]
  },
  {
   "cell_type": "markdown",
   "metadata": {},
   "source": [
    "##### Concatenation"
   ]
  },
  {
   "cell_type": "code",
   "execution_count": 149,
   "metadata": {},
   "outputs": [],
   "source": [
    "top1.drop(list(range(0,91)),axis=1,inplace=True)"
   ]
  },
  {
   "cell_type": "code",
   "execution_count": 150,
   "metadata": {},
   "outputs": [],
   "source": [
    "top1['type']=['Fake']*20"
   ]
  },
  {
   "cell_type": "code",
   "execution_count": 151,
   "metadata": {},
   "outputs": [],
   "source": [
    "top2.drop(list(range(0,91)),axis=1,inplace=True)"
   ]
  },
  {
   "cell_type": "code",
   "execution_count": 152,
   "metadata": {},
   "outputs": [],
   "source": [
    "top2['type']=['Real']*20"
   ]
  },
  {
   "cell_type": "code",
   "execution_count": 153,
   "metadata": {},
   "outputs": [],
   "source": [
    "conc1=pd.concat([top1,top2])"
   ]
  },
  {
   "cell_type": "code",
   "execution_count": 193,
   "metadata": {},
   "outputs": [
    {
     "data": {
      "image/png": "[encoded data removed]",
      "text/plain": [
       "<Figure size 864x720 with 1 Axes>"
      ]
     },
     "metadata": {
      "needs_background": "light"
     },
     "output_type": "display_data"
    }
   ],
   "source": [
    "plt.figure(figsize=(12,10))\n",
    "sns.barplot(y=conc1.index,x='sum',data=conc1,hue='type',palette='viridis')\n",
    "plt.xticks(rotation=90)\n",
    "plt.xlabel('Term Frequency of Words',fontsize=12)\n",
    "plt.ylabel('Top Words in Titles',fontsize=12)\n",
    "plt.legend(title='News Type',fontsize=12)\n",
    "plt.title('Frequency of Words in the Title of News',fontsize=20)\n",
    "plt.show()"
   ]
  },
  {
   "cell_type": "markdown",
   "metadata": {},
   "source": [
    "**The term frequency plot shows that some words like hillari, clinton, freedom and obama are representative of the title of fake news whereas words like trump, clinton, donald and debat are representative of the title of real news.**"
   ]
  },
  {
   "cell_type": "markdown",
   "metadata": {},
   "source": [
    "### 5-2-3- Analysis of news text"
   ]
  },
  {
   "cell_type": "markdown",
   "metadata": {},
   "source": [
    "**After analyzing the title, we analyze the text body of the news articles. We are interested in finding top 30 representative words in the text of fake news and real news. We perform same steps by calling \"final\" function on the body of the news article, and then select the top 30 most frequent words in the news title for both categories i,e. real news and fake news. We plot the term frequency of such words in both categories i.e., real news and fake news. We plot these words to visualise the high frequency words associated with fake and real news**"
   ]
  },
  {
   "cell_type": "markdown",
   "metadata": {},
   "source": [
    "##### Fake News"
   ]
  },
  {
   "cell_type": "code",
   "execution_count": 171,
   "metadata": {
    "scrolled": true
   },
   "outputs": [
    {
     "name": "stdout",
     "output_type": "stream",
     "text": [
      "[[0 0 0 ... 0 0 0]\n",
      " [0 0 1 ... 0 0 0]\n",
      " [0 0 0 ... 0 0 0]\n",
      " ...\n",
      " [0 1 0 ... 0 0 0]\n",
      " [0 0 0 ... 0 1 0]\n",
      " [0 0 0 ... 0 1 0]]\n"
     ]
    }
   ],
   "source": [
    "cv3 = CountVectorizer(analyzer=final)\n",
    "cv3.fit(df_fake['text'])\n",
    "bow3=cv3.transform(df_fake['text'])\n",
    "print ((bow3.todense()))"
   ]
  },
  {
   "cell_type": "code",
   "execution_count": 172,
   "metadata": {},
   "outputs": [
    {
     "data": {
      "text/html": [
       "<div>\n",
       "<style scoped>\n",
       "    .dataframe tbody tr th:only-of-type {\n",
       "        vertical-align: middle;\n",
       "    }\n",
       "\n",
       "    .dataframe tbody tr th {\n",
       "        vertical-align: top;\n",
       "    }\n",
       "\n",
       "    .dataframe thead th {\n",
       "        text-align: right;\n",
       "    }\n",
       "</style>\n",
       "<table border=\"1\" class=\"dataframe\">\n",
       "  <thead>\n",
       "    <tr style=\"text-align: right;\">\n",
       "      <th></th>\n",
       "      <th>0</th>\n",
       "      <th>1</th>\n",
       "      <th>2</th>\n",
       "      <th>3</th>\n",
       "      <th>4</th>\n",
       "      <th>5</th>\n",
       "      <th>6</th>\n",
       "      <th>7</th>\n",
       "      <th>8</th>\n",
       "      <th>9</th>\n",
       "      <th>...</th>\n",
       "      <th>4948</th>\n",
       "      <th>4949</th>\n",
       "      <th>4950</th>\n",
       "      <th>4951</th>\n",
       "      <th>4952</th>\n",
       "      <th>4953</th>\n",
       "      <th>4954</th>\n",
       "      <th>4955</th>\n",
       "      <th>4956</th>\n",
       "      <th>4957</th>\n",
       "    </tr>\n",
       "  </thead>\n",
       "  <tbody>\n",
       "    <tr>\n",
       "      <td>0</td>\n",
       "      <td>0</td>\n",
       "      <td>0</td>\n",
       "      <td>0</td>\n",
       "      <td>0</td>\n",
       "      <td>0</td>\n",
       "      <td>0</td>\n",
       "      <td>0</td>\n",
       "      <td>0</td>\n",
       "      <td>0</td>\n",
       "      <td>0</td>\n",
       "      <td>...</td>\n",
       "      <td>0</td>\n",
       "      <td>0</td>\n",
       "      <td>0</td>\n",
       "      <td>0</td>\n",
       "      <td>0</td>\n",
       "      <td>0</td>\n",
       "      <td>1</td>\n",
       "      <td>0</td>\n",
       "      <td>0</td>\n",
       "      <td>0</td>\n",
       "    </tr>\n",
       "    <tr>\n",
       "      <td>1</td>\n",
       "      <td>0</td>\n",
       "      <td>0</td>\n",
       "      <td>1</td>\n",
       "      <td>0</td>\n",
       "      <td>0</td>\n",
       "      <td>0</td>\n",
       "      <td>0</td>\n",
       "      <td>0</td>\n",
       "      <td>0</td>\n",
       "      <td>0</td>\n",
       "      <td>...</td>\n",
       "      <td>0</td>\n",
       "      <td>0</td>\n",
       "      <td>0</td>\n",
       "      <td>0</td>\n",
       "      <td>0</td>\n",
       "      <td>0</td>\n",
       "      <td>0</td>\n",
       "      <td>0</td>\n",
       "      <td>0</td>\n",
       "      <td>0</td>\n",
       "    </tr>\n",
       "    <tr>\n",
       "      <td>2</td>\n",
       "      <td>0</td>\n",
       "      <td>0</td>\n",
       "      <td>0</td>\n",
       "      <td>0</td>\n",
       "      <td>0</td>\n",
       "      <td>0</td>\n",
       "      <td>0</td>\n",
       "      <td>0</td>\n",
       "      <td>0</td>\n",
       "      <td>0</td>\n",
       "      <td>...</td>\n",
       "      <td>0</td>\n",
       "      <td>0</td>\n",
       "      <td>2</td>\n",
       "      <td>0</td>\n",
       "      <td>0</td>\n",
       "      <td>0</td>\n",
       "      <td>0</td>\n",
       "      <td>0</td>\n",
       "      <td>0</td>\n",
       "      <td>0</td>\n",
       "    </tr>\n",
       "    <tr>\n",
       "      <td>3</td>\n",
       "      <td>0</td>\n",
       "      <td>0</td>\n",
       "      <td>0</td>\n",
       "      <td>0</td>\n",
       "      <td>0</td>\n",
       "      <td>0</td>\n",
       "      <td>0</td>\n",
       "      <td>0</td>\n",
       "      <td>0</td>\n",
       "      <td>0</td>\n",
       "      <td>...</td>\n",
       "      <td>0</td>\n",
       "      <td>0</td>\n",
       "      <td>0</td>\n",
       "      <td>0</td>\n",
       "      <td>0</td>\n",
       "      <td>0</td>\n",
       "      <td>0</td>\n",
       "      <td>0</td>\n",
       "      <td>0</td>\n",
       "      <td>0</td>\n",
       "    </tr>\n",
       "    <tr>\n",
       "      <td>4</td>\n",
       "      <td>0</td>\n",
       "      <td>0</td>\n",
       "      <td>0</td>\n",
       "      <td>0</td>\n",
       "      <td>0</td>\n",
       "      <td>0</td>\n",
       "      <td>0</td>\n",
       "      <td>0</td>\n",
       "      <td>0</td>\n",
       "      <td>0</td>\n",
       "      <td>...</td>\n",
       "      <td>0</td>\n",
       "      <td>0</td>\n",
       "      <td>0</td>\n",
       "      <td>0</td>\n",
       "      <td>0</td>\n",
       "      <td>0</td>\n",
       "      <td>0</td>\n",
       "      <td>0</td>\n",
       "      <td>0</td>\n",
       "      <td>0</td>\n",
       "    </tr>\n",
       "    <tr>\n",
       "      <td>...</td>\n",
       "      <td>...</td>\n",
       "      <td>...</td>\n",
       "      <td>...</td>\n",
       "      <td>...</td>\n",
       "      <td>...</td>\n",
       "      <td>...</td>\n",
       "      <td>...</td>\n",
       "      <td>...</td>\n",
       "      <td>...</td>\n",
       "      <td>...</td>\n",
       "      <td>...</td>\n",
       "      <td>...</td>\n",
       "      <td>...</td>\n",
       "      <td>...</td>\n",
       "      <td>...</td>\n",
       "      <td>...</td>\n",
       "      <td>...</td>\n",
       "      <td>...</td>\n",
       "      <td>...</td>\n",
       "      <td>...</td>\n",
       "      <td>...</td>\n",
       "    </tr>\n",
       "    <tr>\n",
       "      <td>86</td>\n",
       "      <td>0</td>\n",
       "      <td>0</td>\n",
       "      <td>0</td>\n",
       "      <td>0</td>\n",
       "      <td>0</td>\n",
       "      <td>0</td>\n",
       "      <td>0</td>\n",
       "      <td>0</td>\n",
       "      <td>0</td>\n",
       "      <td>0</td>\n",
       "      <td>...</td>\n",
       "      <td>0</td>\n",
       "      <td>3</td>\n",
       "      <td>0</td>\n",
       "      <td>0</td>\n",
       "      <td>0</td>\n",
       "      <td>0</td>\n",
       "      <td>0</td>\n",
       "      <td>0</td>\n",
       "      <td>0</td>\n",
       "      <td>0</td>\n",
       "    </tr>\n",
       "    <tr>\n",
       "      <td>87</td>\n",
       "      <td>0</td>\n",
       "      <td>0</td>\n",
       "      <td>0</td>\n",
       "      <td>0</td>\n",
       "      <td>0</td>\n",
       "      <td>0</td>\n",
       "      <td>0</td>\n",
       "      <td>0</td>\n",
       "      <td>0</td>\n",
       "      <td>0</td>\n",
       "      <td>...</td>\n",
       "      <td>0</td>\n",
       "      <td>0</td>\n",
       "      <td>0</td>\n",
       "      <td>0</td>\n",
       "      <td>0</td>\n",
       "      <td>0</td>\n",
       "      <td>0</td>\n",
       "      <td>0</td>\n",
       "      <td>0</td>\n",
       "      <td>0</td>\n",
       "    </tr>\n",
       "    <tr>\n",
       "      <td>88</td>\n",
       "      <td>0</td>\n",
       "      <td>1</td>\n",
       "      <td>0</td>\n",
       "      <td>0</td>\n",
       "      <td>0</td>\n",
       "      <td>0</td>\n",
       "      <td>0</td>\n",
       "      <td>0</td>\n",
       "      <td>0</td>\n",
       "      <td>0</td>\n",
       "      <td>...</td>\n",
       "      <td>0</td>\n",
       "      <td>0</td>\n",
       "      <td>0</td>\n",
       "      <td>0</td>\n",
       "      <td>0</td>\n",
       "      <td>0</td>\n",
       "      <td>0</td>\n",
       "      <td>0</td>\n",
       "      <td>0</td>\n",
       "      <td>0</td>\n",
       "    </tr>\n",
       "    <tr>\n",
       "      <td>89</td>\n",
       "      <td>0</td>\n",
       "      <td>0</td>\n",
       "      <td>0</td>\n",
       "      <td>0</td>\n",
       "      <td>0</td>\n",
       "      <td>0</td>\n",
       "      <td>0</td>\n",
       "      <td>0</td>\n",
       "      <td>0</td>\n",
       "      <td>0</td>\n",
       "      <td>...</td>\n",
       "      <td>0</td>\n",
       "      <td>0</td>\n",
       "      <td>0</td>\n",
       "      <td>0</td>\n",
       "      <td>0</td>\n",
       "      <td>0</td>\n",
       "      <td>0</td>\n",
       "      <td>0</td>\n",
       "      <td>1</td>\n",
       "      <td>0</td>\n",
       "    </tr>\n",
       "    <tr>\n",
       "      <td>90</td>\n",
       "      <td>0</td>\n",
       "      <td>0</td>\n",
       "      <td>0</td>\n",
       "      <td>0</td>\n",
       "      <td>0</td>\n",
       "      <td>1</td>\n",
       "      <td>0</td>\n",
       "      <td>0</td>\n",
       "      <td>0</td>\n",
       "      <td>0</td>\n",
       "      <td>...</td>\n",
       "      <td>0</td>\n",
       "      <td>2</td>\n",
       "      <td>0</td>\n",
       "      <td>0</td>\n",
       "      <td>0</td>\n",
       "      <td>0</td>\n",
       "      <td>0</td>\n",
       "      <td>0</td>\n",
       "      <td>1</td>\n",
       "      <td>0</td>\n",
       "    </tr>\n",
       "  </tbody>\n",
       "</table>\n",
       "<p>91 rows × 4958 columns</p>\n",
       "</div>"
      ],
      "text/plain": [
       "    0     1     2     3     4     5     6     7     8     9     ...  4948  \\\n",
       "0      0     0     0     0     0     0     0     0     0     0  ...     0   \n",
       "1      0     0     1     0     0     0     0     0     0     0  ...     0   \n",
       "2      0     0     0     0     0     0     0     0     0     0  ...     0   \n",
       "3      0     0     0     0     0     0     0     0     0     0  ...     0   \n",
       "4      0     0     0     0     0     0     0     0     0     0  ...     0   \n",
       "..   ...   ...   ...   ...   ...   ...   ...   ...   ...   ...  ...   ...   \n",
       "86     0     0     0     0     0     0     0     0     0     0  ...     0   \n",
       "87     0     0     0     0     0     0     0     0     0     0  ...     0   \n",
       "88     0     1     0     0     0     0     0     0     0     0  ...     0   \n",
       "89     0     0     0     0     0     0     0     0     0     0  ...     0   \n",
       "90     0     0     0     0     0     1     0     0     0     0  ...     0   \n",
       "\n",
       "    4949  4950  4951  4952  4953  4954  4955  4956  4957  \n",
       "0      0     0     0     0     0     1     0     0     0  \n",
       "1      0     0     0     0     0     0     0     0     0  \n",
       "2      0     2     0     0     0     0     0     0     0  \n",
       "3      0     0     0     0     0     0     0     0     0  \n",
       "4      0     0     0     0     0     0     0     0     0  \n",
       "..   ...   ...   ...   ...   ...   ...   ...   ...   ...  \n",
       "86     3     0     0     0     0     0     0     0     0  \n",
       "87     0     0     0     0     0     0     0     0     0  \n",
       "88     0     0     0     0     0     0     0     0     0  \n",
       "89     0     0     0     0     0     0     0     1     0  \n",
       "90     2     0     0     0     0     0     0     1     0  \n",
       "\n",
       "[91 rows x 4958 columns]"
      ]
     },
     "execution_count": 172,
     "metadata": {},
     "output_type": "execute_result"
    }
   ],
   "source": [
    "pd.DataFrame(bow3.todense())"
   ]
  },
  {
   "cell_type": "code",
   "execution_count": 173,
   "metadata": {},
   "outputs": [
    {
     "name": "stdout",
     "output_type": "stream",
     "text": [
      "['aaron', 'abandon', 'abbrevi', 'abc', 'abdullah', 'abedin', 'abedinappar', 'abhorrenthop', 'abid', 'abil', 'abl', 'abomin', 'aboutfac', 'abroad', 'abroadbil', 'abroadth', 'absenc', 'absolut', 'absolutelyf', 'abus', 'acceler', 'accept', 'acceptanceit', 'access', 'accomplish', 'accord', 'account', 'accumul', 'accur', 'accuraci', 'accus', 'achiev', 'acknowledg', 'acquir', 'acquisit', 'across', 'act', 'action', 'actionsi', 'actiontim', 'activ', 'activist', 'activisti', 'activitiescas', 'activityth', 'acton', 'actor', 'actual', 'ad', 'adam', 'adan', 'adandahir', 'adanst', 'adapt', 'add', 'addednear', 'addedsh', 'addict', 'addit', 'address', 'addresseshttpswwwwikileaksorgpodestaemailsemailidto', 'addresseson', 'adher', 'administr', 'administrationinsert', 'admiss', 'admit', 'admittedli', 'admonit', 'adopt', 'adult', 'adulter', 'advanc', 'advantag', 'advertis', 'advic', 'advis', 'advisor', 'advoc', 'afd', 'affili', 'affirm', 'afford', 'afghanistan', 'afghanistanth', 'afraid', 'africa', 'africachai', 'african', 'africanamerican', 'aftermath', 'afternoon', 'afterward', 'againgood', 'againit', 'againnow', 'againoffici', 'age', 'agenc', 'agenda', 'agendathes', 'agent', 'aggress', 'ago', 'agoth', 'agre', 'agreement', 'ahead', 'ahm', 'ahmad', 'aid', 'aim', 'aint', 'air', 'airborn', 'airport', 'akbar', 'akin', 'al', 'alabama', 'alarm', 'alassad', 'alcohol', 'alcoholpoison', 'alcoholrel', 'alert', 'alex', 'alexand', 'ali', 'alien', 'allah', 'allahu', 'allan', 'alleg', 'allegedli', 'allegi', 'allergi', 'alli', 'alllast', 'allnatur', 'alloc', 'allout', 'allow', 'allowedlet', 'alltim', 'almost', 'alon', 'aloneit', 'alonewhil', 'along', 'alreadi', 'alshabab', 'also', 'alter', 'altern', 'although', 'alto', 'altogetherthiel', 'alway', 'alzheim', 'amass', 'amaz', 'ambit', 'ambul', 'ambush', 'amend', 'america', 'americadepart', 'americadu', 'americafrom', 'americalaw', 'americamani', 'american', 'americanmexican', 'americansfear', 'americansif', 'americansno', 'americash', 'americather', 'americatheyr', 'americawer', 'americawhen', 'americawikileak', 'amerifan', 'amid', 'amnesti', 'among', 'amorala', 'amount', 'amplifi', 'analysi', 'analyst', 'ancestor', 'anchor', 'andi', 'andor', 'angela', 'anger', 'angri', 'anim', 'annex', 'annihil', 'announc', 'annoy', 'annual', 'anorex', 'anoth', 'answer', 'answerdo', 'ant', 'anth', 'anthem', 'anthoni', 'anthonyeinzig', 'anti', 'antic', 'anticip', 'antigam', 'antigambl', 'antilgbt', 'antimarriag', 'antimuslim', 'antiretrovir', 'antitrump', 'antitrust', 'anybodi', 'anymor', 'anymoretim', 'anyon', 'anyth', 'anythinghow', 'anythingth', 'anyway', 'anywayin', 'anywherebewar', 'ap', 'apart', 'apolog', 'appar', 'appeal', 'appear', 'appl', 'applaus', 'appli', 'applic', 'apprehend', 'approach', 'approv', 'approvalblackburn', 'approxim', 'april', 'arab', 'arabia', 'archiv', 'area', 'areavia', 'arebust', 'arefirst', 'arent', 'argu', 'argument', 'aris', 'arizona', 'arkansa', 'arm', 'armher', 'armi', 'armor', 'armsw', 'around', 'aroundtheclock', 'arrest', 'arriv', 'arrog', 'arroganceh', 'arsenalit', 'arson', 'art', 'articl', 'articleit', 'ascent', 'asian', 'asid', 'ask', 'aspect', 'aspen', 'aspir', 'assad', 'assail', 'assang', 'assassin', 'assault', 'assembl', 'assert', 'assign', 'assist', 'associ', 'associateand', 'assum', 'astound', 'asylum', 'asylumseek', 'atdur', 'ate', 'athttpstwittercomwdfxeustatusthi', 'atlanta', 'atlanticsur', 'atmospher', 'atrain', 'attack', 'attackit', 'attacksi', 'attain', 'attempt', 'attent', 'attorney', 'attribut', 'attributionand', 'auction', 'audienc', 'audiencesputin', 'august', 'ausa', 'australia', 'australian', 'author', 'authorit', 'autograph', 'autom', 'automat', 'avail', 'avenu', 'averag', 'aviat', 'avoid', 'avon', 'aw', 'await', 'awar', 'award', 'awardwin', 'away', 'awaypolic', 'awfuland', 'az', 'b', 'babi', 'babykil', 'babysit', 'back', 'backdrop', 'backer', 'background', 'backlash', 'backtrack', 'backup', 'backward', 'bad', 'badass', 'badg', 'badli', 'badther', 'baffl', 'bag', 'bakc', 'balanc', 'baldli', 'ballot', 'balmi', 'baltimor', 'ban', 'band', 'bankrupt', 'bankruptcyfalcon', 'bar', 'barack', 'bare', 'bargain', 'bark', 'barrack', 'barri', 'barrier', 'barth', 'base', 'baseless', 'bash', 'bashar', 'basic', 'basket', 'bastard', 'batchesalthough', 'bate', 'bath', 'bathroom', 'batter', 'battlefieldi', 'battleso', 'battleth', 'beall', 'bear', 'beat', 'beatjasonmillerindc', 'beauti', 'becam', 'becom', 'bed', 'bedroom', 'beer', 'befeatur', 'beforeitsnew', 'began', 'begin', 'behavior', 'behind', 'beit', 'belief', 'believ', 'belong', 'belongselahfrom', 'belowit', 'belowkyl', 'belowon', 'belowrath', 'belowshar', 'belowth', 'belowwel', 'belowwouldnt', 'bench', 'bend', 'beneath', 'benefact', 'benefactor', 'beneficialof', 'benefit', 'benghazi', 'benghaziand', 'bent', 'berger', 'berlin', 'berni', 'best', 'bet', 'betand', 'better', 'bewaresourc', 'beyond', 'bia', 'bias', 'bidder', 'big', 'biggest', 'bigot', 'bike', 'bill', 'billboard', 'billi', 'billion', 'billionair', 'billionth', 'bin', 'bio', 'biographi', 'birth', 'birther', 'birthplac', 'bit', 'bitter', 'bizarr', 'bizpacreview', 'black', 'blackburn', 'blacklivesmatt', 'blame', 'blanket', 'blatant', 'bleachbit', 'bleed', 'bleedth', 'blind', 'blister', 'blm', 'block', 'blog', 'blogger', 'blood', 'bloodi', 'bloomberg', 'bloviat', 'blow', 'blowhard', 'blur', 'bo', 'board', 'boast', 'boat', 'bode', 'bodi', 'boggl', 'bogu', 'bollwag', 'bomb', 'bomber', 'bombingspolic', 'bombshella', 'bonjour', 'book', 'booklet', 'bookssh', 'boom', 'boost', 'boot', 'booth', 'border', 'borderlin', 'bori', 'born', 'boss', 'bother', 'bottom', 'bought', 'bounc', 'bourgeoisi', 'bovin', 'bow', 'boy', 'brace', 'bradley', 'brain', 'brainer', 'branch', 'brand', 'brandish', 'brass', 'brave', 'breach', 'break', 'breakdownin', 'breakdownrumor', 'breast', 'breath', 'breathfrom', 'breathlessli', 'breed', 'breitbart', 'brennan', 'brian', 'bribe', 'bride', 'brideg', 'bridg', 'bridgeg', 'bridgesgovernor', 'brief', 'briefli', 'brigad', 'brighton', 'bring', 'bringbackourgirl', 'brink', 'britain', 'bro', 'broach', 'broadcast', 'broke', 'broken', 'brother', 'brought', 'brown', 'brownskin', 'bruisin', 'brutal', 'bs', 'bu', 'buckl', 'budg', 'budget', 'build', 'built', 'bulk', 'bulldoz', 'bullet', 'bulli', 'bunch', 'bunni', 'burden', 'bureau', 'burn', 'burnwho', 'buse', 'bush', 'bushand', 'bushth', 'busi', 'busiest', 'businessesblack', 'businessman', 'businessmen', 'butt', 'button', 'buy', 'buyer', 'buzzfe', 'byadd', 'byrd', 'c', 'cabinet', 'cabl', 'calib', 'caliph', 'call', 'caller', 'callera', 'callercollis', 'callerform', 'calli', 'calm', 'calmli', 'came', 'camera', 'camp', 'campaign', 'campaignbbc', 'campaignblackburn', 'campaignfromjohnpodestagmailcom', 'campaignobvi', 'campaignwatch', 'can', 'canada', 'canadian', 'cancel', 'candi', 'candid', 'candidaci', 'candidacyjournalist', 'cant', 'cap', 'capabl', 'capac', 'capit', 'capitol', 'capshillari', 'captur', 'captureher', 'car', 'card', 'care', 'career', 'caregiverout', 'caregiversyikesbut', 'cargo', 'carl', 'carnoth', 'carolina', 'carolinatalk', 'carri', 'cartel', 'cartridgehillari', 'case', 'casesno', 'casey', 'cash', 'casino', 'casualti', 'cat', 'catch', 'catchphras', 'categor', 'categorythink', 'caught', 'caus', 'cautiou', 'cavuto', 'cb', 'cdu', 'celebr', 'cell', 'censor', 'cent', 'center', 'ceo', 'ceremoni', 'certain', 'certainli', 'certif', 'cgi', 'chafe', 'chai', 'chairman', 'chairpersonjust', 'challeng', 'chanc', 'chancellor', 'chang', 'channel', 'chant', 'chao', 'chaotic', 'chapter', 'charact', 'charg', 'charit', 'chariti', 'charityjust', 'charlott', 'charlottei', 'charlottemeckenberg', 'charlottemecklenberg', 'charlotteprotest', 'charm', 'charterth', 'chastis', 'cheap', 'cheat', 'check', 'cheer', 'chees', 'chelsea', 'cheryl', 'cherylmillsgmailcom', 'chesti', 'chicago', 'chicken', 'chief', 'child', 'children', 'childrendont', 'childrenfor', 'childrenpar', 'childsupport', 'china', 'chocol', 'choic', 'choicey', 'choos', 'chosen', 'chri', 'christi', 'christian', 'christma', 'chuckl', 'church', 'cia', 'cipla', 'circl', 'circul', 'cisgend', 'cite', 'citi', 'citizen', 'citizenship', 'citizensnow', 'citizenspay', 'civil', 'civilian', 'civiliansadd', 'civilianth', 'claim', 'claimsaccord', 'claimsahmad', 'clandestin', 'class', 'classic', 'classifi', 'clean', 'cleaner', 'clear', 'clearanc', 'clearli', 'cleaver', 'clemson', 'clergi', 'cleveland', 'clif', 'clinton', 'clintonbut', 'clintonchai', 'clintonsdo', 'clintonth', 'clintonvot', 'clobber', 'clock', 'clone', 'close', 'closer', 'closet', 'clot', 'cloth', 'cloud', 'cloudth', 'cltgov', 'club', 'cmpd', 'cnn', 'cnnin', 'coachella', 'coalit', 'coattail', 'cobetta', 'cocktail', 'code', 'coerc', 'coexist', 'cofound', 'cognit', 'coin', 'cold', 'colin', 'collabor', 'collaps', 'colleagu', 'collect', 'colleg', 'collis', 'collud', 'color', 'combat', 'combetta', 'combettain', 'combin', 'come', 'comey', 'comfort', 'command', 'commanderinchief', 'commanderinchiefat', 'comment', 'commentari', 'commentconfirm', 'commerc', 'commerceth', 'commerci', 'commercialfre', 'commiss', 'commissionth', 'commit', 'committe', 'committeeth', 'common', 'commonli', 'commun', 'communist', 'communityw', 'compani', 'companyadd', 'companyth', 'companythi', 'compar', 'comparison', 'compass', 'compel', 'compens', 'compet', 'complain', 'complaint', 'complet', 'compli', 'complicit', 'compon', 'compos', 'compris', 'compromis', 'comput', 'conceal', 'concentr', 'concern', 'concess', 'conclud', 'conclus', 'condemn', 'condit', 'conduct', 'confer', 'conferenceif', 'confin', 'confirm', 'conflict', 'confus', 'congreg', 'congress', 'congression', 'conjunct', 'connect', 'connecticut', 'conscienti', 'consequ', 'conserv', 'conservat', 'consid', 'consider', 'consist', 'consort', 'conspiraci', 'conspiratorswors', 'constant', 'constantli', 'constitu', 'constitut', 'construct', 'consult', 'consumpt', 'consumptionthey', 'contact', 'contain', 'contend', 'content', 'contenti', 'contentleftist', 'contest', 'context', 'conting', 'continu', 'contour', 'contractor', 'contradict', 'contrari', 'contraryadd', 'contrast', 'contribut', 'contributionson', 'control', 'controversi', 'conven', 'convent', 'convert', 'convict', 'convictchri', 'convinc', 'convuls', 'cool', 'cooper', 'coordin', 'cop', 'cope', 'coresexpect', 'coron', 'corp', 'correct', 'correctionth', 'correctli', 'correl', 'corrupt', 'corruptionst', 'corruptocrat', 'cosmopolitan', 'cost', 'costli', 'couch', 'cough', 'coughingest', 'could', 'couldnt', 'coumadin', 'council', 'counsel', 'count', 'counter', 'counterfeit', 'counterterror', 'counti', 'countless', 'countri', 'countriesfrom', 'countriesit', 'countryadvertis', 'countryespeci', 'countryjudici', 'coup', 'coupl', 'cours', 'coursejason', 'court', 'courtesi', 'cover', 'coverag', 'coverup', 'coyli', 'crap', 'crash', 'crazi', 'craziest', 'creat', 'credibl', 'credit', 'crew', 'cri', 'crime', 'crimea', 'crimehowev', 'crimin', 'crippl', 'crisi', 'critic', 'critiqu', 'croni', 'crook', 'cross', 'crowd', 'crowderth', 'crowderwait', 'crowley', 'crown', 'cruisin', 'crumpl', 'crunch', 'crush', 'cruz', 'cruzth', 'crystal', 'cspan', 'cu', 'cultur', 'culturein', 'culturesin', 'curfew', 'curiou', 'current', 'curtail', 'curv', 'custodi', 'custom', 'cut', 'cute', 'cybertrol', 'cynic', 'cypru', 'daft', 'dahir', 'dai', 'daili', 'daisi', 'damag', 'damn', 'danc', 'danger', 'dangl', 'dare', 'dark', 'data', 'date', 'daughter', 'daunt', 'dave', 'davisgetti', 'day', 'daysjust', 'dc', 'dcnfranbaxi', 'dcnfthi', 'dead', 'deadfeatur', 'deadin', 'deadlin', 'deaf', 'deal', 'dealer', 'dealt', 'dearborn', 'death', 'deathmani', 'debas', 'debat', 'debatebut', 'debateso', 'debateswhat', 'debit', 'debunk', 'decad', 'decadelong', 'deceit', 'deceivedth', 'decept', 'decid', 'decis', 'deck', 'declar', 'declassif', 'declassifi', 'declin', 'declineher', 'decri', 'dedic', 'deem', 'deep', 'deepask', 'deepli', 'default', 'defeat', 'defeatist', 'defect', 'defend', 'defens', 'defin', 'definit', 'deflect', 'defraud', 'degre', 'degreesmey', 'delano', 'delawar', 'delay', 'deleri', 'delet', 'deletesourc', 'deliber', 'deliv', 'demand', 'deme', 'democraci', 'democrat', 'democratcontrol', 'demograph', 'demon', 'demonstr', 'deni', 'deniabl', 'denial', 'deniedy', 'denim', 'denzel', 'depart', 'departmentst', 'departur', 'depend', 'depict', 'deplor', 'deploy', 'deport', 'depos', 'deposit', 'depositiona', 'deprav', 'deputi', 'derogatori', 'describ', 'descript', 'deserv', 'design', 'desir', 'desk', 'desper', 'despis', 'despit', 'destabil', 'destinationthi', 'destroy', 'destroyh', 'destruct', 'detail', 'detailsa', 'detain', 'determin', 'deton', 'detriment', 'develop', 'development', 'deviantso', 'devic', 'devicelead', 'devot', 'devoutli', 'dezinformatsiya', 'dia', 'diagnosi', 'diaper', 'diazepam', 'dictat', 'dictatorship', 'didadvertis', 'didher', 'didnt', 'didntth', 'didntthi', 'didranbaxi', 'die', 'differ', 'differenti', 'differentif', 'difficult', 'difficulti', 'diffus', 'dig', 'digenova', 'digest', 'dignitari', 'digniti', 'dilemma', 'dilemmapretti', 'dilut', 'dim', 'diminish', 'dinesh', 'ding', 'dinner', 'diplomaci', 'dipolmoat', 'direct', 'directli', 'director', 'dirt', 'disagr', 'disappointedth', 'disarm', 'disast', 'disasterthat', 'disastr', 'disavow', 'disbeliev', 'discharg', 'discipl', 'discord', 'discordthroughout', 'discount', 'discourag', 'discov', 'discoveri', 'discredit', 'discrimin', 'discriminatori', 'discuss', 'diseas', 'diseasesaft', 'disgrac', 'disgust', 'dishonest', 'dishonor', 'disinform', 'dislik', 'dismay', 'dismiss', 'disobedi', 'disobey', 'disord', 'disorgan', 'dispers', 'display', 'disproportion', 'disput', 'disregard', 'disrespect', 'disrupt', 'disservic', 'distinct', 'distort', 'distribut', 'distributor', 'district', 'disturb', 'divert', 'divid', 'divis', 'divulg', 'dj', 'dnc', 'doall', 'doctor', 'document', 'documentsher', 'documentshow', 'doesnt', 'doessinc', 'dog', 'doit', 'doj', 'dollar', 'dollarsmani', 'dolli', 'domain', 'domest', 'domicil', 'donald', 'donaldnorm', 'donat', 'done', 'donor', 'dont', 'door', 'doorknock', 'doorth', 'doortodoorth', 'doorway', 'dorm', 'dot', 'dote', 'doubl', 'doubt', 'dougla', 'downa', 'downfurth', 'downturn', 'downward', 'dozen', 'dr', 'draconian', 'draft', 'dramat', 'draw', 'drawer', 'dream', 'drink', 'drive', 'driven', 'drop', 'drove', 'drudg', 'drug', 'drugspropublica', 'drugsth', 'drugsthi', 'drumbeat', 'drunk', 'dude', 'due', 'dug', 'duh', 'dumpster', 'dumptrump', 'dungeon', 'durval', 'duti', 'dwva', 'dystel', 'e', 'eaglerisingcom', 'eari', 'earli', 'earlier', 'earlyth', 'earn', 'earnest', 'earpiec', 'earpiecethen', 'earth', 'earthquak', 'easi', 'easier', 'easiest', 'easili', 'east', 'eastbourn', 'easter', 'eastern', 'easytoobtain', 'eat', 'eatsa', 'econom', 'economi', 'economist', 'eddi', 'edict', 'edit', 'editor', 'educ', 'educationit', 'eerili', 'effect', 'effort', 'egg', 'eichenwald', 'eight', 'eightynin', 'einzig', 'either', 'eithercompani', 'eitherup', 'elderli', 'elect', 'electiona', 'electionin', 'electionth', 'electionwhat', 'elector', 'electron', 'elev', 'elig', 'elimin', 'elit', 'elizabeth', 'els', 'elsefeatur', 'elsewher', 'email', 'emailsfromcherylmillsgmailcom', 'emailshttpstwittercomkatherinemillerstatusphoto', 'emailsit', 'emailsmarch', 'emailsw', 'emailswhen', 'embark', 'embarrass', 'embed', 'embrac', 'emerg', 'emigr', 'emot', 'employ', 'employe', 'empti', 'emptyth', 'en', 'enabl', 'enact', 'encompass', 'encourag', 'end', 'endors', 'endur', 'enemi', 'energet', 'energi', 'enforc', 'enforcedit', 'enforcementnow', 'enforcementon', 'engag', 'engin', 'enjoy', 'enorm', 'enough', 'enoughbut', 'enoughth', 'enrich', 'enslav', 'ensur', 'enter', 'enterpris', 'enthusiasm', 'entir', 'entiti', 'entitl', 'entityif', 'enviou', 'environ', 'environment', 'environmentalist', 'epicent', 'episod', 'epithet', 'equal', 'equipmentcnn', 'er', 'era', 'erect', 'eric', 'erika', 'error', 'errorhowev', 'escal', 'escap', 'especi', 'espous', 'essenti', 'est', 'establish', 'estat', 'estim', 'estrang', 'etchttpswikileaksorgpodestaemailsemailidth', 'ethan', 'ethnic', 'europ', 'european', 'europeanstyl', 'europeth', 'evalu', 'even', 'event', 'eventsinstead', 'eventsmarch', 'eventu', 'ever', 'everfrom', 'everi', 'everybodi', 'everybodymarch', 'everyday', 'everyon', 'everyth', 'everythingh', 'everytim', 'everywher', 'evid', 'evil', 'evolut', 'exacerb', 'exact', 'exactli', 'exagger', 'exalt', 'examin', 'exampl', 'exampleobama', 'exblogg', 'excel', 'except', 'excerpt', 'exchang', 'exclaim', 'exclus', 'exclusionthes', 'excrementlet', 'excus', 'exec', 'execut', 'exercis', 'exhaust', 'exhibit', 'exist', 'existenti', 'exitedat', 'expand', 'expans', 'expect', 'expectednow', 'expens', 'experi', 'expert', 'explain', 'explanationalso', 'explicitli', 'explod', 'exploit', 'explos', 'explosiveshi', 'exponenti', 'expos', 'exposit', 'exposur', 'express', 'extent', 'extermin', 'extern', 'extra', 'extraordinari', 'extrem', 'extremist', 'eye', 'eyebrow', 'eyewit', 'f', 'faal', 'fabric', 'face', 'facebook', 'facein', 'facesa', 'facil', 'fact', 'factcheck', 'facti', 'faction', 'factor', 'factori', 'factset', 'fail', 'failur', 'faint', 'fair', 'fairli', 'faith', 'faithh', 'faithinterest', 'fake', 'fakedher', 'falcon', 'falconeroffic', 'fall', 'fals', 'falsehood', 'falsif', 'famili', 'familiar', 'familiesbut', 'familyth', 'famou', 'fan', 'fanhillari', 'far', 'farmer', 'fascism', 'fashion', 'fast', 'faster', 'fasthillaryclinton', 'fatal', 'fate', 'fateform', 'father', 'fatherless', 'fault', 'faulti', 'faux', 'favor', 'favorit', 'favorsher', 'favorsth', 'favour', 'fbi', 'fbia', 'fck', 'fda', 'fdait', 'fear', 'fearbas', 'featheri', 'featur', 'februari', 'fec', 'fed', 'feder', 'federalist', 'feedbil', 'feel', 'feelingsbas', 'feelnorm', 'fell', 'fellow', 'felon', 'feloni', 'felt', 'femal', 'feminist', 'fencer', 'ferguson', 'fervent', 'festiv', 'fetch', 'fetu', 'fg', 'field', 'fieri', 'fifteen', 'fifth', 'fight', 'figur', 'figurehead', 'file', 'fill', 'film', 'filmmak', 'fin', 'final', 'financ', 'financethi', 'financi', 'find', 'findrepublican', 'fine', 'finger', 'finish', 'fire', 'fireand', 'firearm', 'firearmi', 'firelight', 'firestorm', 'firey', 'firm', 'first', 'firstrespond', 'fishhand', 'fist', 'fit', 'five', 'fiveday', 'fix', 'flabbergast', 'flak', 'flashwhil', 'flat', 'flaw', 'fleshcolor', 'fli', 'flipflop', 'flirtat', 'flood', 'floor', 'flopsoooo', 'florida', 'flow', 'flower', 'focu', 'focus', 'fodderschool', 'foia', 'folk', 'follow', 'followswhen', 'followup', 'foment', 'fondest', 'food', 'fool', 'footag', 'footbal', 'footdrag', 'forbid', 'forc', 'forcibl', 'fordham', 'foreign', 'forev', 'forfeitur', 'forg', 'forget', 'forgiv', 'forgotten', 'form', 'format', 'former', 'forsak', 'forth', 'fortun', 'forum', 'forward', 'foster', 'fought', 'found', 'foundat', 'foundationchai', 'foundationth', 'foundationy', 'founder', 'fountain', 'four', 'fourth', 'fox', 'foxandfriend', 'frail', 'framealso', 'franci', 'franco', 'frank', 'franklin', 'fraud', 'fraudth', 'fraudul', 'freak', 'free', 'freedom', 'freemarket', 'freez', 'french', 'frequent', 'fresh', 'freshman', 'freshmen', 'fri', 'friday', 'friend', 'frighteningth', 'frivol', 'fromit', 'front', 'fruit', 'frustrat', 'fuck', 'fulfil', 'full', 'fulli', 'fullservic', 'fullsteam', 'fumbl', 'fund', 'fundament', 'fundrais', 'fundraiserar', 'funnel', 'funnyyour', 'furiou', 'furnitur', 'furor', 'futur', 'fwd', 'ga', 'gack', 'gaggl', 'gain', 'gainif', 'gambl', 'game', 'gander', 'gang', 'gap', 'garbag', 'garden', 'garza', 'gaslight', 'gasp', 'gateway', 'gather', 'gave', 'gawker', 'gay', 'geezer', 'gen', 'gener', 'genit', 'gentl', 'georg', 'georgeth', 'german', 'germani', 'get', 'getti', 'giant', 'gibberishf', 'gigant', 'gilligan', 'girl', 'gitlin', 'give', 'giveaway', 'given', 'glanc', 'glare', 'glass', 'glean', 'gloat', 'global', 'globe', 'glori', 'glow', 'go', 'goahead', 'goal', 'god', 'godfor', 'goe', 'gohowev', 'gold', 'goldwat', 'goldwatertoday', 'gone', 'good', 'goodth', 'goodwil', 'googlenatur', 'gop', 'gordon', 'gossip', 'got', 'gotten', 'govern', 'governor', 'governorelect', 'governorfam', 'gowel', 'gpollowitz', 'grab', 'grad', 'grade', 'gradual', 'graduat', 'grand', 'grandjust', 'grandkid', 'grandma', 'grant', 'graph', 'graphic', 'grass', 'grave', 'great', 'greatest', 'greatli', 'green', 'greensboro', 'greet', 'greg', 'gridlock', 'grievanc', 'grip', 'groceri', 'ground', 'group', 'groupa', 'groupsalshabab', 'groupstep', 'grouptrump', 'grovel', 'grow', 'grown', 'growth', 'guarante', 'guard', 'guardian', 'guess', 'guilt', 'guilti', 'guiltyfrom', 'guiltywhen', 'gulf', 'gullibl', 'gun', 'gungho', 'gungo', 'gunmak', 'gunner', 'gunshot', 'gupta', 'gut', 'guy', 'h', 'habit', 'hadith', 'hadnt', 'hair', 'haiti', 'haitian', 'haitith', 'half', 'hall', 'hallway', 'hammer', 'hand', 'handgunth', 'handi', 'handili', 'handl', 'handthat', 'handwritten', 'hang', 'hanson', 'hansondo', 'happen', 'happeneddo', 'happeningand', 'happeningth', 'happi', 'haramb', 'haramberel', 'harass', 'hard', 'harde', 'harder', 'hardli', 'harm', 'harpi', 'harsh', 'harvard', 'hashtag', 'hasnt', 'hassl', 'hatch', 'hate', 'hatedso', 'hater', 'hatr', 'haunt', 'haveintegr', 'havent', 'havew', 'havoc', 'hawaii', 'hawkin', 'hawkinss', 'hazard', 'hazi', 'hbo', 'he', 'head', 'headlin', 'headquart', 'headtrump', 'health', 'healthcar', 'healthi', 'heap', 'hear', 'heard', 'heart', 'hearti', 'heat', 'heaven', 'heavi', 'heavili', 'heck', 'hector', 'hed', 'heel', 'held', 'helicopt', 'hell', 'hellbent', 'hellish', 'helm', 'helmet', 'help', 'helpscrew', 'heneghan', 'here', 'hereadd', 'herebush', 'herebut', 'heredont', 'hereinstead', 'heremanufactur', 'herey', 'heritag', 'hero', 'heroeswith', 'herregardless', 'herth', 'herthey', 'hey', 'hidden', 'hide', 'hideou', 'high', 'highdollar', 'higher', 'highest', 'highli', 'highlight', 'highrank', 'hijaba', 'hildabeastfrom', 'hillari', 'hillaryclinton', 'hillarydo', 'hillarythey', 'hillarywatch', 'hillbilliessh', 'himher', 'himoffic', 'himperri', 'himselfhow', 'himselfth', 'hint', 'hire', 'hisher', 'histor', 'histori', 'hit', 'hite', 'hitler', 'hiv', 'hivaid', 'hivrel', 'hmhmm', 'hmmm', 'hoars', 'hobnob', 'hogan', 'hold', 'holi', 'hollywood', 'holt', 'home', 'homeland', 'homophob', 'homosexu', 'honest', 'honestli', 'honki', 'honor', 'hoopti', 'hop', 'hope', 'hord', 'horizon', 'horizonthi', 'horribl', 'horrifi', 'horror', 'horst', 'hospit', 'host', 'hostag', 'hostess', 'hostil', 'hot', 'hotel', 'hound', 'hour', 'hourbut', 'hous', 'houseappar', 'housereluct', 'housethen', 'housewatch', 'hove', 'howev', 'hrc', 'httpstcodzlivkchmb', 'hubbi', 'huge', 'huh', 'hulk', 'huma', 'human', 'humanswhil', 'humbl', 'humili', 'humor', 'humourless', 'hundr', 'hundredsofthousand', 'hunt', 'huntsvil', 'hurt', 'husband', 'hw', 'hydrabad', 'hyperbol', 'hypocrisi', 'hypocrit', 'ibtihaj', 'icann', 'id', 'idea', 'ident', 'identif', 'identifi', 'ideolog', 'ideologyof', 'idiot', 'idiottim', 'ignit', 'ignor', 'ignoramusesnot', 'ill', 'illeg', 'illegitim', 'illgotten', 'illinoi', 'im', 'imag', 'imagesjo', 'imagin', 'immedi', 'immens', 'immigr', 'immigrantsif', 'immun', 'impact', 'impairmentadvertis', 'impeach', 'impend', 'implement', 'impli', 'implic', 'implod', 'import', 'importantli', 'impos', 'impress', 'improprieti', 'inaccur', 'inappropri', 'inasmuch', 'inaugur', 'inc', 'incessantli', 'incid', 'incidenth', 'inclin', 'includ', 'incoher', 'incom', 'incompat', 'incompet', 'inconsequentialth', 'increas', 'increasingli', 'incred', 'incumb', 'inde', 'indemocrat', 'independ', 'indepth', 'india', 'indian', 'indianamerican', 'indic', 'indiffer', 'individu', 'indoctrin', 'indonesia', 'industri', 'ineffect', 'inefficiencytrump', 'inequ', 'inevit', 'inexplic', 'infam', 'infantri', 'infect', 'infidel', 'inflect', 'inflict', 'influenc', 'influx', 'info', 'infogroup', 'inform', 'ingrat', 'inher', 'inhuman', 'init', 'initi', 'initiativeth', 'injur', 'injuri', 'innoc', 'innocentuntilprovenguilti', 'insan', 'insecur', 'insensit', 'insid', 'insideisnt', 'insist', 'inspect', 'inspector', 'inspir', 'instabl', 'instal', 'instanc', 'instancenot', 'instead', 'insteadif', 'insteadwelcom', 'instep', 'instig', 'instinct', 'institut', 'instruct', 'instructor', 'insult', 'insultednoth', 'insutit', 'integr', 'intel', 'intellectu', 'intellig', 'intend', 'intent', 'interact', 'intercept', 'interest', 'interestspuzd', 'intern', 'internationalizationobama', 'internet', 'interpret', 'interrupt', 'interst', 'interven', 'intervent', 'interview', 'inthi', 'intimid', 'intimidationa', 'intraven', 'introduct', 'invad', 'invadersw', 'invest', 'investig', 'investigationdigenova', 'investor', 'invis', 'invit', 'involv', 'ir', 'iran', 'iraq', 'iraqi', 'irizarri', 'iron', 'ironi', 'irredeem', 'irregardless', 'irregular', 'irrepar', 'irrespons', 'irrevers', 'isi', 'isisin', 'isisisisno', 'islam', 'islamist', 'islamophob', 'islamophobia', 'islamsourc', 'island', 'isnt', 'isol', 'ispuzd', 'issu', 'issueswhil', 'ita', 'itali', 'item', 'iti', 'itif', 'itin', 'itit', 'itll', 'itno', 'itrealdonaldtrump', 'itth', 'itthes', 'itthi', 'itwhen', 'itwood', 'ityou', 'ive', 'j', 'jack', 'jackson', 'jacob', 'jail', 'jake', 'jam', 'jame', 'januari', 'jare', 'jason', 'jaw', 'jeb', 'jeff', 'jen', 'jennif', 'jennifermpalmierigmailcom', 'jennifermpalmierigmailcommailtojennifermpalmierigmailcom', 'jeopard', 'jersey', 'jess', 'jew', 'jewsnew', 'jfferggmailcom', 'jihad', 'jihadist', 'job', 'jobless', 'jobsbord', 'jodi', 'johannesburg', 'john', 'johnpodestagmailcom', 'johnson', 'join', 'joint', 'joke', 'jokingin', 'jone', 'joseph', 'josh', 'joshschweringmailcom', 'journal', 'journalist', 'journalmarch', 'journey', 'joy', 'jr', 'juanita', 'juarez', 'judeochristian', 'judg', 'judici', 'judiciari', 'juli', 'julian', 'julythes', 'jump', 'junctur', 'june', 'juri', 'justic', 'justifi', 'justin', 'justwhat', 'jv', 'k', 'kaepernick', 'kafir', 'kahran', 'kahranatlaw', 'karlsruh', 'keenli', 'keep', 'keithlamontscott', 'kennedi', 'kenneth', 'kenya', 'kenyan', 'kenyanborn', 'key', 'kgb', 'khak', 'khan', 'khoff', 'kick', 'kid', 'kidnap', 'kidsth', 'kill', 'killedif', 'kind', 'kindest', 'kingdom', 'kiosk', 'kitchen', 'kkk', 'klei', 'kneewhen', 'knew', 'knight', 'knock', 'knocker', 'know', 'knowingli', 'knowledg', 'known', 'knowwhen', 'knuckl', 'knuckledragg', 'knuckledust', 'korea', 'kowtow', 'kremlin', 'kristina', 'kristinakschakegmailcom', 'kyle', 'kylesh', 'l', 'lab', 'label', 'labor', 'labour', 'lack', 'laden', 'ladi', 'ladiestwitt', 'laid', 'lakefront', 'lamar', 'lament', 'land', 'landmark', 'languag', 'laptop', 'laredo', 'larg', 'larger', 'largest', 'last', 'lastli', 'lastminut', 'late', 'later', 'latese', 'latesomeon', 'latest', 'latino', 'laud', 'laugh', 'laughter', 'launch', 'lavish', 'law', 'lawabid', 'lawfareclinton', 'lawless', 'lawsuit', 'lawyer', 'lawyerwatch', 'lay', 'lazi', 'lcc', 'lead', 'leader', 'leadership', 'leaderth', 'leak', 'lean', 'learn', 'least', 'leav', 'lebedev', 'lecher', 'led', 'left', 'leftist', 'leftw', 'leg', 'legaci', 'legal', 'legendari', 'legisl', 'legislatur', 'legit', 'lend', 'length', 'lengthi', 'leon', 'less', 'lesson', 'lester', 'let', 'letter', 'level', 'levi', 'lgbt', 'lgbtq', 'liar', 'liber', 'liberti', 'librari', 'libya', 'lie', 'liea', 'lieaccord', 'lietel', 'lieu', 'life', 'lifedo', 'lifeif', 'lifelong', 'lifemayor', 'lifeon', 'lifestyl', 'lifetim', 'lift', 'light', 'lighten', 'lighter', 'like', 'likelihood', 'likeright', 'likewis', 'limbaugh', 'limit', 'lincoln', 'linda', 'line', 'link', 'lip', 'lipsno', 'lisa', 'list', 'listen', 'liter', 'littl', 'live', 'livesneith', 'llc', 'lobbi', 'lobbyist', 'local', 'lock', 'logic', 'logicalsixti', 'logo', 'long', 'longbut', 'longer', 'longerno', 'longterm', 'longtim', 'look', 'loompa', 'loos', 'loot', 'looter', 'lootfil', 'lord', 'lose', 'loser', 'losesorri', 'loss', 'lost', 'lostassum', 'lot', 'lotfeatur', 'lotsw', 'loud', 'louder', 'loudli', 'lous', 'love', 'loveinthat', 'loveth', 'low', 'lowcost', 'lower', 'lowhang', 'lowsi', 'lowswould', 'loyal', 'lsarsour', 'luca', 'luck', 'lucki', 'luna', 'lunch', 'lung', 'luntz', 'lurid', 'lust', 'luxuri', 'lyin', 'lynch', 'lyndon', 'lynn', 'lyric', 'macarthur', 'machin', 'mad', 'made', 'magazin', 'mail', 'mailrahami', 'mailspeak', 'main', 'mainstream', 'maintain', 'mainten', 'major', 'make', 'maladi', 'male', 'malic', 'malici', 'mall', 'mallsthi', 'man', 'mandatori', 'manhattan', 'mani', 'manifesto', 'manipul', 'mankind', 'manner', 'mansion', 'manslaught', 'mantra', 'manufactur', 'mar', 'march', 'margin', 'marginalis', 'marginmerkel', 'mari', 'marin', 'marjori', 'mark', 'market', 'marketranbaxi', 'markintosh', 'marri', 'marriag', 'marsha', 'marxist', 'maryland', 'masquerad', 'mass', 'massachusett', 'massacr', 'massiv', 'materi', 'materialist', 'matlock', 'matrix', 'matter', 'mattersmedia', 'max', 'maxberg', 'may', 'mayb', 'mayor', 'mccain', 'mccauliff', 'mcchrystal', 'mccrori', 'mcdonald', 'meal', 'mean', 'meanit', 'meant', 'meanwhil', 'measur', 'meat', 'mechan', 'mecklenburgvorpommern', 'media', 'mediai', 'mediajourn', 'medic', 'medicin', 'meet', 'mefirst', 'melt', 'member', 'meme', 'memori', 'men', 'mendac', 'meni', 'mental', 'mention', 'mentor', 'mere', 'merkel', 'merkl', 'merril', 'mess', 'messag', 'messagebegin', 'messagesth', 'messyi', 'met', 'method', 'mexican', 'mexico', 'mexicoa', 'mexicobas', 'meyer', 'mic', 'michel', 'middl', 'middleclass', 'might', 'migrant', 'migrantsthi', 'migrat', 'migrationher', 'mild', 'mile', 'milit', 'militari', 'milk', 'mill', 'millenni', 'millergetti', 'millian', 'million', 'min', 'mind', 'minimum', 'minion', 'minist', 'minnesota', 'minnesotabas', 'minnesotamen', 'minnesotath', 'minnesotawhil', 'minor', 'mint', 'minut', 'minutesh', 'misbehavewatch', 'miscalcul', 'mishandl', 'mislead', 'misogynist', 'miss', 'mission', 'missiongath', 'misstep', 'mistak', 'mix', 'mn', 'mob', 'mock', 'mode', 'model', 'moder', 'modern', 'modernday', 'modicum', 'mogul', 'mohammad', 'mohammadh', 'mole', 'molest', 'moli', 'molli', 'molotov', 'mom', 'moment', 'momenthow', 'momentsnbc', 'monday', 'monetari', 'money', 'moneylaund', 'moneymak', 'moneynew', 'moneypropublica', 'moneywa', 'monger', 'monik', 'monitor', 'monologu', 'monopoli', 'monster', 'monstrou', 'month', 'moral', 'morbid', 'morelead', 'morn', 'morningback', 'moron', 'moronsfeatur', 'mors', 'mortal', 'moscow', 'moscowth', 'mosqu', 'moss', 'mostli', 'motion', 'motorist', 'mound', 'mount', 'mountain', 'mouth', 'mouthbreath', 'move', 'movement', 'moveonorg', 'movi', 'mr', 'msnbc', 'much', 'muchfrom', 'muchit', 'muchneed', 'mug', 'muhammad', 'muhammadwho', 'mullah', 'multicultur', 'multipl', 'multiyear', 'multupl', 'mumbai', 'municip', 'murder', 'murthi', 'muscl', 'museum', 'mushroom', 'music', 'muslim', 'muslimand', 'muslimdahir', 'muslimsif', 'must', 'mutil', 'mysteri', 'na', 'nafeez', 'nake', 'name', 'nameluckili', 'nap', 'narcissist', 'narr', 'nashvil', 'nasti', 'nation', 'nationjason', 'nationset', 'natur', 'nausea', 'naïv', 'nbc', 'nc', 'nd', 'near', 'nearbi', 'nearli', 'neat', 'necessarili', 'necessaryh', 'need', 'nefari', 'neg', 'neighbor', 'neighborhood', 'neil', 'neither', 'nell', 'neon', 'nervou', 'net', 'network', 'neurolog', 'neutral', 'never', 'new', 'newark', 'newli', 'news', 'newsfirst', 'newshttpswikileaksorgpodestaemailsemailidefmaababtupd', 'newsnow', 'newsth', 'newsupd', 'newsweek', 'newsworthi', 'next', 'nfl', 'nflthe', 'nice', 'nick', 'nicknam', 'niec', 'night', 'nightther', 'nightusa', 'nj', 'nmerrillhrcofficecom', 'nobodi', 'nod', 'nodaddi', 'nois', 'nomin', 'nomine', 'nomineecommon', 'nonasian', 'nonbeliefwhil', 'none', 'nonexist', 'nonmuslim', 'nonsens', 'nonsequiturfirst', 'nordic', 'normal', 'north', 'nose', 'not', 'note', 'noth', 'nothingwhen', 'noti', 'notic', 'notion', 'notori', 'notthen', 'notwithstand', 'nov', 'novemb', 'novembersourc', 'nowa', 'nowconsid', 'nowfox', 'nowh', 'nowher', 'nowi', 'nowof', 'nowrepublican', 'nowther', 'nowwel', 'nowwil', 'npr', 'nracertifi', 'nsasourc', 'nth', 'nuclear', 'number', 'numer', 'ny', 'nyc', 'nyt', 'oath', 'obama', 'obamabreitbart', 'obamacar', 'obamapresid', 'obamathi', 'obamawhat', 'obedi', 'obey', 'object', 'objectionswith', 'objector', 'oblig', 'obrien', 'obscur', 'observ', 'obsess', 'obstruct', 'obtain', 'obviou', 'obvious', 'obviousword', 'occas', 'occasion', 'occur', 'oct', 'octob', 'odd', 'odierno', 'ofccp', 'offduti', 'offens', 'offer', 'offera', 'offic', 'officersth', 'officewal', 'offici', 'officialsamong', 'often', 'oh', 'ohio', 'oil', 'ok', 'okay', 'oksecureappropri', 'old', 'older', 'oldest', 'oligarch', 'olymp', 'olympian', 'omit', 'omni', 'onaccord', 'oncepromis', 'oncewel', 'one', 'onei', 'onesid', 'onesim', 'onfrom', 'onlin', 'onscreen', 'onto', 'ontrump', 'oompa', 'ope', 'open', 'openli', 'oper', 'opin', 'opinion', 'opioid', 'oppon', 'opportun', 'opportunist', 'opportunistdolli', 'oppos', 'opposit', 'oppositionif', 'oppress', 'oppressedclaim', 'oppressednam', 'opt', 'option', 'orbit', 'orchestr', 'order', 'orderh', 'organ', 'organizationscharl', 'orient', 'orientationbut', 'origin', 'originalthat', 'originvia', 'origliagetti', 'ornow', 'ortel', 'orthodox', 'other', 'othersdonald', 'otherwis', 'otherwiseupd', 'ought', 'outcom', 'outdon', 'outfit', 'outlet', 'outliersso', 'outofst', 'outrag', 'outright', 'outsid', 'outsourc', 'outspoken', 'outstand', 'outweigh', 'oval', 'overal', 'overdos', 'overlap', 'overli', 'overnight', 'oversaw', 'oversea', 'overshar', 'oversighti', 'overtim', 'overweight', 'overwhelm', 'overwhen', 'own', 'ownadan', 'owner', 'oz', 'p', 'pa', 'pac', 'pack', 'packag', 'packagessubstandard', 'page', 'paid', 'pain', 'painstak', 'paint', 'pal', 'palantir', 'pale', 'palestinian', 'palmieri', 'palo', 'pander', 'panichillari', 'pant', 'pantsuithillari', 'pantsuitwil', 'papa', 'paper', 'papersi', 'paragraph', 'paragraphanoth', 'paramount', 'paranoia', 'parent', 'parentingoffici', 'pari', 'park', 'parkinson', 'parrot', 'part', 'parti', 'particip', 'particular', 'partner', 'partnerincrim', 'pass', 'passagewith', 'past', 'pastth', 'pat', 'path', 'pathet', 'pathgood', 'patholog', 'patient', 'patientsth', 'patientsthes', 'patricia', 'patriot', 'patrol', 'paul', 'paulin', 'pavement', 'pay', 'payer', 'payment', 'paypal', 'paytoplay', 'peac', 'peaceoutcom', 'pedal', 'peddl', 'pee', 'peek', 'pen', 'penalti', 'penchant', 'pennsylvania', 'pennsylvanian', 'peon', 'peopl', 'peoplejudg', 'peopletebow', 'peoplethey', 'peoplethi', 'peopletimelin', 'peopletranscript', 'per', 'percent', 'percentag', 'perfectli', 'perfectwhi', 'perhap', 'period', 'periodunfortun', 'perjur', 'perjuri', 'perman', 'permit', 'perpetr', 'perplex', 'perri', 'persecut', 'persian', 'persist', 'person', 'personnel', 'personth', 'pertain', 'pertin', 'pervas', 'petal', 'peter', 'petersberg', 'petit', 'pfaff', 'pfeiffer', 'pharmacar', 'pharmaceut', 'philadelphia', 'philipp', 'philosophi', 'phone', 'phoni', 'photo', 'photograph', 'physic', 'physicallyhillari', 'physician', 'pic', 'pick', 'pictur', 'pictureclinton', 'pictwittercomegyybi', 'pictwittercomhcqxran', 'pictwittercomlevtvlcfo', 'pictwittercomnwzrxvkx', 'pictwittercomtlvowveyav', 'pictwittercomutcptmmrbi', 'pie', 'piec', 'pigment', 'pigslast', 'pile', 'pillar', 'pinac', 'pipelin', 'pirhrcofficecommailtopirhrcofficecom', 'pivot', 'pizza', 'placat', 'place', 'plagu', 'plain', 'plaintiff', 'plan', 'planat', 'plane', 'plant', 'plastic', 'platelet', 'platform', 'platt', 'plausibl', 'play', 'player', 'playit', 'playwhat', 'plcaa', 'plea', 'plead', 'pleas', 'pleasur', 'pledg', 'plenti', 'plethora', 'plot', 'plu', 'plummet', 'plungeperhap', 'pm', 'pneumonia', 'podesta', 'point', 'pointbetween', 'pointspeak', 'pointth', 'poison', 'poisoninglast', 'polic', 'policecharlott', 'policed', 'policenow', 'policethat', 'polici', 'polit', 'politco', 'politician', 'politico', 'poll', 'pollednot', 'pollmor', 'pollowitz', 'pollsa', 'pollster', 'pompou', 'pond', 'pool', 'poop', 'poor', 'pop', 'pope', 'popsicl', 'popul', 'populac', 'popular', 'populist', 'portion', 'portman', 'portshowev', 'portugues', 'pose', 'posh', 'posit', 'possess', 'possibl', 'possibledonald', 'possibley', 'possiblybecaus', 'post', 'postback', 'postdeb', 'postit', 'pot', 'potenc', 'potenti', 'potu', 'pound', 'pour', 'poverti', 'power', 'powerim', 'practic', 'prais', 'pray', 'prayer', 'precinct', 'preconcept', 'predat', 'predatori', 'predic', 'predica', 'predict', 'prefer', 'preferenti', 'preform', 'pregnant', 'pregnantquran', 'premedit', 'prepar', 'prerequisit', 'prescrib', 'present', 'preserv', 'presid', 'presidencyth', 'presidenti', 'presidentobvi', 'presidentse', 'presidentthi', 'press', 'pressat', 'presslead', 'pressur', 'pressurecook', 'pretend', 'pretti', 'prevailsam', 'preval', 'prevent', 'previou', 'previous', 'price', 'prieto', 'primari', 'prime', 'princ', 'princess', 'princip', 'principl', 'print', 'printer', 'prior', 'priorit', 'prison', 'prisonth', 'privat', 'privileg', 'proamerican', 'probabl', 'problem', 'problemaft', 'problemif', 'procedur', 'proceed', 'process', 'processit', 'processther', 'proclam', 'produc', 'product', 'profession', 'professor', 'profil', 'profit', 'program', 'progress', 'progressiveliber', 'prohillari', 'project', 'promin', 'promis', 'promot', 'prompt', 'prone', 'proof', 'prop', 'propaganda', 'proper', 'properli', 'properti', 'prophet', 'propon', 'propos', 'propublica', 'proputin', 'prosecut', 'prosecutor', 'prosecutori', 'protect', 'protector', 'protest', 'protestand', 'protestersit', 'protestersriot', 'protestor', 'protocol', 'protrump', 'proud', 'proudli', 'provabl', 'prove', 'proven', 'proverb', 'proverbi', 'provid', 'provigil', 'provok', 'pst', 'psycholog', 'psychologist', 'public', 'publicist', 'publicli', 'publicth', 'publish', 'puffi', 'pull', 'punch', 'pundit', 'punditat', 'punish', 'punishedand', 'puppet', 'purchas', 'pure', 'purg', 'purpos', 'pursu', 'push', 'put', 'putin', 'puzder', 'qaeda', 'qualifi', 'qualiti', 'quarterback', 'quarterli', 'quash', 'quebec', 'queen', 'quell', 'question', 'questiontrump', 'quick', 'quickli', 'quiet', 'quietli', 'quit', 'quot', 'quotebreitbart', 'quran', 'ra', 'race', 'racial', 'racism', 'racismth', 'racist', 'racistim', 'racistoh', 'racistok', 'rack', 'radic', 'radicalis', 'raedl', 'rage', 'rahami', 'rais', 'raisman', 'rajat', 'rake', 'ralli', 'ralliesh', 'rallyit', 'rampag', 'rampant', 'ran', 'ranbaxi', 'ranbaxythakur', 'random', 'rang', 'rank', 'rant', 'rape', 'rapein', 'rapist', 'raptur', 'rare', 'rat', 'rate', 'rather', 'rational', 'ray', 'raze', 'reach', 'reaction', 'read', 'reader', 'readi', 'reagan', 'reair', 'real', 'realdonaldtrump', 'realisti', 'realiti', 'realitymak', 'realiz', 'realli', 'realm', 'realthi', 'reap', 'reason', 'reasonit', 'reasonsit', 'rebound', 'rebuf', 'recal', 'receiv', 'recent', 'recipi', 'reckless', 'recogn', 'recollect', 'recommend', 'record', 'recours', 'recov', 'recreat', 'recruit', 'recuper', 'recycl', 'red', 'reddit', 'redistribut', 'reduc', 'reduct', 'reek', 'reelect', 'reetard', 'refer', 'referenc', 'referr', 'reflect', 'refuge', 'refurbish', 'refus', 'refut', 'regard', 'regardless', 'regim', 'regist', 'registri', 'regret', 'regul', 'regularli', 'rein', 'reinforc', 'reject', 'rejoic', 'rel', 'relat', 'relationship', 'relax', 'releas', 'reli', 'relief', 'reliev', 'religi', 'religion', 'religionth', 'reloc', 'remain', 'remak', 'remarksso', 'remedi', 'rememb', 'remot', 'remov', 'render', 'renov', 'rental', 'reorgan', 'rep', 'repeat', 'repeatedli', 'repercuss', 'replac', 'repli', 'report', 'reportedaccord', 'reportedadvertis', 'reportedeight', 'reportedw', 'reportersfor', 'reportsnot', 'reportson', 'reportsth', 'reportth', 'repres', 'representingaccord', 'republ', 'republican', 'reput', 'request', 'requir', 'rerun', 'reruni', 'rescu', 'research', 'reserv', 'reservationsy', 'resid', 'residu', 'resign', 'resignationbarack', 'resist', 'resolv', 'resourc', 'respect', 'respectwhich', 'respond', 'respons', 'rest', 'restaur', 'restofmylif', 'restor', 'result', 'retail', 'retali', 'retent', 'retreat', 'retribut', 'return', 'reunit', 'reutersnow', 'reveal', 'revel', 'revers', 'review', 'reviewagain', 'revis', 'revisit', 'revok', 'revolut', 'revolv', 'rewatch', 'rewrit', 'rexchangeserv', 'rhetor', 'rhinoplasti', 'rich', 'richard', 'richer', 'richspeak', 'ridicul', 'rig', 'right', 'righteou', 'righteous', 'rightin', 'rightw', 'rightwrong', 'rigor', 'riot', 'rioter', 'rip', 'rise', 'risk', 'rival', 'rivalri', 'river', 'rnc', 'road', 'roadout', 'roanok', 'rob', 'robert', 'robot', 'rock', 'rod', 'roger', 'role', 'roll', 'roman', 'room', 'roosevelt', 'root', 'rootso', 'rose', 'rosenstein', 'roster', 'roswel', 'rottenberg', 'roughli', 'round', 'rout', 'routin', 'rub', 'rubber', 'ruffalo', 'rule', 'rulea', 'ruler', 'rumor', 'rump', 'run', 'runnerwhichlet', 'runpunchlin', 'runy', 'rush', 'russel', 'russia', 'russian', 'ryan', 'résumé', 'sacrif', 'sacrific', 'sad', 'sadden', 'sadli', 'safe', 'safeguard', 'safeth', 'safeti', 'said', 'saidadvertis', 'saidif', 'saidin', 'saidit', 'saidranbaxi', 'saidth', 'saidthi', 'salafist', 'salari', 'sale', 'salli', 'salut', 'sampl', 'sanction', 'sander', 'sansaricq', 'sara', 'sarcasm', 'sarsour', 'sat', 'satisfi', 'saturday', 'saturdaymemb', 'saudi', 'save', 'savior', 'saw', 'say', 'saysiron', 'sayssadli', 'sc', 'scald', 'scale', 'scam', 'scandal', 'scandalsnow', 'scanti', 'scare', 'scari', 'scath', 'scatter', 'scatterwhat', 'scene', 'schake', 'schedul', 'scheduleinterest', 'schnatter', 'schneiderman', 'school', 'schweizer', 'schwerin', 'sciatica', 'scienc', 'scientif', 'sclerosi', 'scott', 'scottinsc', 'scout', 'scrambl', 'scream', 'screaminggaybash', 'screen', 'screw', 'script', 'scrutini', 'scumbag', 'scumbagsleftist', 'scumbagsno', 'scumhillari', 'scurri', 'sea', 'seal', 'search', 'season', 'seat', 'sec', 'second', 'secondli', 'secret', 'secretari', 'secretli', 'sectarian', 'section', 'sector', 'secur', 'securityher', 'see', 'seehof', 'seek', 'seeker', 'seem', 'seemingli', 'seen', 'seep', 'segreg', 'seiz', 'seizur', 'seizuresblu', 'select', 'self', 'selfdef', 'selfdefens', 'selfentitl', 'selfserv', 'sell', 'sen', 'senat', 'send', 'senior', 'sens', 'sensat', 'sensit', 'sent', 'sentenc', 'sentiment', 'sentth', 'sep', 'separ', 'sept', 'septemb', 'sergei', 'seri', 'seriou', 'serious', 'seriouson', 'serv', 'serveif', 'server', 'serverfwd', 'servermr', 'serveron', 'serveruncov', 'servic', 'serviceh', 'servicemen', 'set', 'setback', 'settlement', 'setup', 'seven', 'sever', 'sex', 'sexism', 'sext', 'sexual', 'sfeder', 'sgt', 'shadi', 'shadow', 'shake', 'shallow', 'shame', 'shameadd', 'shape', 'share', 'sharia', 'shariah', 'sharp', 'shatter', 'she', 'shed', 'shell', 'shi', 'shift', 'shine', 'ship', 'shiu', 'shock', 'shockingli', 'shoe', 'shook', 'shoot', 'shooter', 'shootout', 'shop', 'shoppersth', 'shore', 'short', 'shortcircuit', 'shortcom', 'shortli', 'shortliv', 'shot', 'shouldnt', 'shout', 'show', 'showmi', 'shown', 'shrift', 'sht', 'shtick', 'shut', 'sick', 'sicken', 'sickli', 'side', 'sidelin', 'sidewalk', 'sign', 'signal', 'signbut', 'signific', 'significantli', 'signsdonald', 'silenc', 'silent', 'silicon', 'silli', 'similar', 'simpl', 'simpletrump', 'simpli', 'sin', 'sina', 'sinc', 'singl', 'sinist', 'sinner', 'sip', 'sir', 'sister', 'sit', 'site', 'situat', 'six', 'sixpack', 'skill', 'skin', 'skinbas', 'sky', 'slam', 'slander', 'slant', 'slap', 'slash', 'slaughter', 'slave', 'slaveri', 'slaveswhi', 'sleep', 'sleepi', 'slight', 'slightest', 'slightli', 'slip', 'slobber', 'slow', 'smack', 'small', 'smallscal', 'smart', 'smarter', 'smash', 'smear', 'smell', 'smile', 'smith', 'smoke', 'smuggl', 'snap', 'sneak', 'snore', 'soak', 'socal', 'social', 'socialist', 'societi', 'sociopath', 'sock', 'soft', 'softwar', 'soil', 'soillet', 'solac', 'sold', 'soldier', 'sole', 'solidar', 'solutionif', 'solv', 'somali', 'somalia', 'somaliabas', 'somaliamerican', 'somalian', 'somebodi', 'somehow', 'someon', 'someth', 'somethingeith', 'somethingthat', 'sometim', 'somewhat', 'soon', 'soontobeextinct', 'sorcha', 'soro', 'sorri', 'sorrow', 'sort', 'sought', 'sound', 'sourc', 'sourcelink', 'south', 'southern', 'sovereign', 'soviet', 'sow', 'span', 'spark', 'speak', 'speaker', 'spec', 'special', 'specialist', 'specif', 'specul', 'speech', 'speechessom', 'speechthi', 'spell', 'spend', 'spent', 'sphere', 'spill', 'spin', 'spineless', 'spiritu', 'spite', 'splash', 'splitscreen', 'spoke', 'spokesman', 'spokeswoman', 'sponsor', 'spot', 'spread', 'spree', 'spun', 'sputter', 'squar', 'squeez', 'sr', 'st', 'stab', 'stabil', 'stack', 'staff', 'staffer', 'stafferssomehow', 'stage', 'stageaft', 'stagnant', 'stair', 'stairsthen', 'stake', 'stanc', 'stanceregardless', 'stand', 'standard', 'standwithvet', 'stanford', 'stanley', 'star', 'stare', 'start', 'starter', 'starv', 'stash', 'state', 'statecontrol', 'statedif', 'statedolli', 'stategov', 'stategovmarch', 'statehous', 'statemarch', 'statement', 'stateown', 'statesadvertis', 'stateschai', 'statesth', 'statesu', 'statewel', 'station', 'stay', 'steadili', 'steal', 'step', 'stepbystep', 'stereotyp', 'stern', 'steve', 'stew', 'stewart', 'stick', 'stiffen', 'still', 'stinga', 'stink', 'stock', 'stolen', 'stomach', 'stone', 'stonetear', 'stood', 'stop', 'store', 'stori', 'storiesit', 'storydur', 'storyhillari', 'storylast', 'storynew', 'storyrepublican', 'straight', 'strand', 'strang', 'stranger', 'strateg', 'strategi', 'stream', 'street', 'streetit', 'streetsrahami', 'strengthin', 'stress', 'stretch', 'strike', 'string', 'stringent', 'strip', 'stroke', 'strong', 'stronger', 'stronghold', 'strongman', 'struckth', 'struggl', 'strumpet', 'stuart', 'stuck', 'student', 'studi', 'studio', 'studyranbaxi', 'stuf', 'stuff', 'stumbl', 'stun', 'stuntal', 'stupid', 'style', 'su', 'subject', 'subparth', 'subpoena', 'subsaharan', 'subservi', 'substandard', 'substant', 'substanti', 'suburb', 'subvert', 'succeed', 'succeededfeatur', 'success', 'successor', 'suckup', 'suddenli', 'suffer', 'suggest', 'suicid', 'suit', 'sullivanhuma', 'summari', 'summer', 'summit', 'summon', 'summons', 'sunday', 'sundsval', 'sunglass', 'sunni', 'suntim', 'supercomput', 'suppli', 'support', 'suppos', 'supposedli', 'suppress', 'suprem', 'sure', 'surfac', 'surg', 'surgeon', 'surpris', 'surprisedata', 'surprisingli', 'surrend', 'surrog', 'surrogatesth', 'surround', 'survey', 'surviv', 'suspect', 'suspectin', 'suspend', 'suspici', 'suspicion', 'sussex', 'sustain', 'suzi', 'swarm', 'swear', 'sweat', 'sweden', 'sweet', 'swensengetti', 'swill', 'swirl', 'switch', 'swore', 'sycoph', 'sympathet', 'symposium', 'symptom', 'syria', 'syriaaccord', 'syrian', 'syriaobvi', 'system', 'systemat', 'systembecaus', 'tack', 'tactic', 'tailgat', 'take', 'takeaway', 'taken', 'takfiri', 'tale', 'talk', 'talkingth', 'tall', 'tank', 'tapper', 'target', 'targetscongress', 'task', 'tasksthes', 'taught', 'tax', 'taxexempt', 'taxpay', 'tea', 'teach', 'team', 'teamhi', 'teamse', 'teamtrump', 'tearga', 'tebow', 'tech', 'technic', 'technolog', 'ted', 'teet', 'telemundo', 'televis', 'tell', 'temperatur', 'temporari', 'tempt', 'ten', 'tendenc', 'tennesse', 'tension', 'tent', 'tenur', 'term', 'terminolog', 'termth', 'terraform', 'terri', 'terribl', 'terrifi', 'territori', 'terror', 'terrorismthes', 'terrorist', 'terroristit', 'terroriststheyr', 'terrorplagu', 'terrorrelatedcrit', 'terrorsupport', 'test', 'testimoni', 'testth', 'texa', 'th', 'thakur', 'thank', 'that', 'thataccord', 'thatchristian', 'thatmerkel', 'thatoh', 'thatth', 'thedcnf', 'thedcnfth', 'thedcnfthakur', 'theirth', 'themit', 'themno', 'themnow', 'themnowaday', 'themselvesi', 'themwho', 'themwowther', 'thenliterari', 'thensecret', 'thensecretari', 'theori', 'therapeut', 'there', 'therebi', 'therefirst', 'therefor', 'thereif', 'thereth', 'theyd', 'theyll', 'theyr', 'theyv', 'thiel', 'thing', 'thinggood', 'thingslook', 'thingthi', 'think', 'thinkand', 'thinkprogress', 'thinner', 'third', 'thirdworld', 'thisthi', 'thoma', 'though', 'thought', 'thoughtsand', 'thousand', 'threat', 'threaten', 'threatproislam', 'three', 'threeandahalf', 'thrill', 'throughout', 'throughthat', 'throw', 'thu', 'thug', 'thugabe', 'thugmadworld', 'thump', 'thunderclap', 'thursday', 'tick', 'ticket', 'tidbita', 'tie', 'tight', 'tim', 'time', 'timean', 'timefalcon', 'timeshar', 'timesif', 'timeson', 'timesth', 'timeunfortun', 'tini', 'tint', 'tip', 'tire', 'titledth', 'today', 'todd', 'togeth', 'toilet', 'tojoin', 'told', 'toler', 'toll', 'tom', 'tomorrow', 'ton', 'tone', 'tongu', 'tonight', 'tonightth', 'toocongress', 'took', 'tool', 'top', 'topic', 'toss', 'total', 'touch', 'tough', 'tour', 'tout', 'toward', 'tower', 'town', 'townlast', 'track', 'trade', 'tradit', 'traffic', 'traffick', 'tragic', 'trail', 'train', 'trainer', 'trainfeatur', 'trait', 'transcript', 'transform', 'transit', 'translat', 'travel', 'travelersth', 'tread', 'treason', 'treasuri', 'treat', 'treatment', 'tree', 'trend', 'trendsmapcomthat', 'tri', 'trial', 'trialvinod', 'trialwhat', 'tribun', 'trick', 'tripod', 'tristat', 'trite', 'troll', 'trophi', 'troubl', 'troubleal', 'truck', 'true', 'truli', 'trump', 'trumpbrand', 'trumpcrim', 'trumpet', 'trumpfirst', 'trumpster', 'trumpth', 'trumpthen', 'trumpther', 'trumpwon', 'trust', 'truste', 'truth', 'truthfeedy', 'truthnow', 'tryinga', 'tubesh', 'tuesday', 'tuition', 'tulsa', 'tumbl', 'tumblr', 'tune', 'turd', 'turkey', 'turn', 'tv', 'tweet', 'twice', 'twilight', 'twitter', 'twittera', 'twitteralert', 'twitterbernard', 'twittercharlott', 'twittercnn', 'twitterfor', 'twittergerman', 'twitteri', 'twittericanteventhi', 'twitterjason', 'twittermuslim', 'twitterpresid', 'twitterseahawk', 'twittersh', 'twitterupd', 'twitterwel', 'twitterwhat', 'two', 'twothird', 'twoyear', 'type', 'typeasid', 'typic', 'tyrann', 'tyranni', 'u', 'uber', 'uck', 'uk', 'ultim', 'un', 'unabl', 'unaccept', 'unanim', 'unavoid', 'unbal', 'unbalanc', 'unbeliev', 'unbridl', 'unchalleng', 'unchang', 'uncheck', 'unclear', 'uncomfort', 'uncontrol', 'uncov', 'undefin', 'undermin', 'underneath', 'underpopul', 'underprivileg', 'understand', 'understood', 'undocu', 'unearth', 'uneduc', 'unendors', 'unfair', 'unfaira', 'unfairli', 'unfit', 'unfold', 'unforeseen', 'unfortun', 'unhing', 'unidentifi', 'uniform', 'unintent', 'union', 'uniqu', 'unit', 'univers', 'univis', 'unknow', 'unknown', 'unlaw', 'unleash', 'unless', 'unlik', 'unnam', 'unnecessari', 'unpreparedsh', 'unqualifi', 'unquest', 'unreal', 'unreason', 'unrel', 'unsaf', 'unsecur', 'unseemli', 'unstabl', 'unsur', 'unthink', 'untold', 'untouch', 'unwil', 'unworthi', 'up', 'upblack', 'upcom', 'updat', 'uph', 'upon', 'upper', 'upset', 'upsid', 'uptown', 'upward', 'urban', 'urg', 'urinethank', 'url', 'us', 'usa', 'usafortrump', 'use', 'useless', 'user', 'usfox', 'uspsa', 'usrussia', 'usual', 'utterli', 'va', 'vacat', 'valid', 'valley', 'valu', 'van', 'vaniti', 'variat', 'variou', 'vast', 'vehicl', 'veloc', 'verac', 'vers', 'version', 'vet', 'veteran', 'vetsagainsttrump', 'via', 'viabl', 'vibrant', 'vice', 'vicechair', 'victim', 'victimhow', 'victori', 'victorystil', 'victoryth', 'video', 'videocb', 'videograph', 'videoimagin', 'videoth', 'videother', 'videothi', 'vietnam', 'view', 'viewer', 'vigor', 'vincent', 'vindic', 'vinod', 'vintag', 'violat', 'violenc', 'violenceorigin', 'violent', 'vip', 'viral', 'virgin', 'virginsth', 'virtu', 'virtual', 'visa', 'visibl', 'visit', 'vivek', 'vladimir', 'voa', 'voic', 'voicehillari', 'volt', 'volum', 'volunt', 'vote', 'votein', 'voter', 'vulner', 'w', 'wag', 'wage', 'wait', 'waitthi', 'wake', 'wakeup', 'walk', 'wall', 'wallet', 'wan', 'wander', 'want', 'wanthowev', 'wantswer', 'war', 'waraft', 'warfar', 'warn', 'wash', 'washington', 'wasin', 'wasnt', 'watch', 'watcher', 'watchit', 'water', 'watereddown', 'wave', 'way', 'wayanoth', 'waykeyword', 'wbc', 'weak', 'weakmind', 'wealth', 'wealthi', 'weapon', 'wear', 'weather', 'web', 'webb', 'websit', 'websitesansaricq', 'weed', 'week', 'weekend', 'weekli', 'weigh', 'weiner', 'weird', 'weirdli', 'weirdo', 'welcom', 'welfar', 'well', 'wellconnect', 'wellknown', 'wellpract', 'wenow', 'went', 'werent', 'west', 'western', 'westgat', 'wet', 'wetsound', 'weve', 'wh', 'what', 'whatev', 'wheelchair', 'whenev', 'whether', 'whiner', 'whip', 'whisk', 'whisper', 'whistleblow', 'white', 'whitethey', 'whitewat', 'whitewhich', 'whoever', 'whole', 'wholeaccord', 'whop', 'whose', 'whove', 'wick', 'wide', 'wider', 'width', 'wife', 'wifeh', 'wikileak', 'wild', 'wilkenmey', 'will', 'willhttpswikileaksorgpodestaemailsemailidin', 'wilson', 'win', 'window', 'windowsth', 'wing', 'wink', 'winner', 'winter', 'wipe', 'wise', 'wit', 'withdraw', 'wither', 'within', 'withit', 'without', 'wive', 'wnd', 'wnyc', 'woke', 'woman', 'women', 'wonder', 'wonderwal', 'woninstead', 'wont', 'wonwith', 'wood', 'word', 'work', 'worker', 'workjudg', 'workplac', 'world', 'worldclass', 'worldpolic', 'worldwid', 'worn', 'worri', 'wors', 'worseit', 'worship', 'worst', 'worstth', 'worth', 'worthi', 'would', 'wouldnt', 'wouldv', 'wrap', 'wreak', 'wreck', 'wrench', 'wrestl', 'write', 'writeswhen', 'written', 'wrong', 'wrongin', 'wrongsur', 'wrongwhil', 'wrote', 'wrotei', 'wrotethey', 'xenophob', 'yacht', 'yahoo', 'yall', 'yanke', 'yankedit', 'yazidi', 'ye', 'yeah', 'year', 'yearold', 'yearsh', 'yearsi', 'yearsif', 'yearsold', 'yearth', 'yeeeeehaw', 'yell', 'yeltsin', 'yemen', 'yementhey', 'yesterday', 'yet', 'yetit', 'york', 'youd', 'youll', 'young', 'younger', 'your', 'youv', 'yup', 'zero', 'zimmer', 'zipper', 'zone']\n"
     ]
    }
   ],
   "source": [
    "new3=[]\n",
    "for x in range(0,4958):\n",
    "    new3.append(cv3.get_feature_names()[x])\n",
    "print(new3)"
   ]
  },
  {
   "cell_type": "code",
   "execution_count": 174,
   "metadata": {},
   "outputs": [],
   "source": [
    "matrix3=pd.DataFrame(bow3.todense(),columns=new3)"
   ]
  },
  {
   "cell_type": "code",
   "execution_count": 175,
   "metadata": {},
   "outputs": [
    {
     "name": "stdout",
     "output_type": "stream",
     "text": [
      "[3, 5, 1, 2, 2, 8, 1, 1, 1, 3, 10, 3, 2, 1, 1, 1, 1, 7, 1, 3, 3, 11, 1, 12, 1, 24, 11, 1, 1, 1, 7, 1, 8, 1, 1, 10, 21, 17, 1, 1, 7, 2, 1, 1, 1, 2, 1, 33, 4, 1, 8, 1, 1, 2, 3, 1, 1, 1, 9, 9, 1, 1, 1, 25, 1, 2, 12, 2, 1, 3, 52, 6, 1, 7, 5, 20, 1, 3, 4, 1, 1, 1, 1, 4, 1, 6, 5, 1, 1, 1, 1, 1, 1, 1, 1, 1, 1, 8, 5, 4, 1, 12, 4, 9, 1, 10, 1, 2, 1, 10, 24, 2, 1, 6, 1, 1, 1, 1, 1, 1, 3, 1, 5, 1, 1, 1, 1, 1, 1, 2, 4, 1, 1, 8, 6, 1, 1, 4, 1, 1, 2, 3, 18, 1, 1, 12, 7, 1, 1, 10, 18, 4, 73, 1, 3, 3, 1, 1, 7, 1, 1, 1, 2, 2, 1, 5, 37, 1, 1, 1, 1, 1, 64, 1, 1, 1, 1, 1, 1, 1, 1, 1, 1, 1, 2, 1, 5, 1, 9, 1, 1, 1, 1, 1, 2, 1, 2, 1, 2, 1, 2, 1, 7, 1, 2, 1, 28, 12, 1, 2, 1, 1, 3, 1, 3, 1, 2, 1, 1, 1, 1, 1, 2, 1, 1, 1, 1, 1, 22, 13, 1, 2, 3, 1, 1, 5, 10, 1, 14, 2, 31, 1, 2, 1, 5, 1, 4, 6, 1, 1, 1, 4, 6, 3, 8, 1, 1, 1, 7, 2, 1, 1, 4, 3, 7, 1, 6, 1, 1, 21, 1, 6, 5, 3, 1, 1, 1, 2, 18, 1, 1, 3, 6, 28, 4, 1, 1, 1, 1, 1, 1, 5, 4, 1, 1, 3, 4, 1, 8, 1, 1, 1, 1, 1, 1, 2, 1, 1, 1, 41, 1, 1, 1, 13, 9, 10, 1, 1, 5, 7, 1, 5, 1, 1, 5, 17, 1, 1, 5, 1, 1, 1, 7, 1, 3, 1, 1, 1, 6, 1, 1, 13, 1, 1, 2, 1, 2, 1, 1, 26, 1, 1, 2, 1, 1, 1, 1, 9, 1, 1, 2, 1, 2, 3, 1, 1, 1, 3, 1, 1, 7, 1, 2, 1, 3, 13, 2, 1, 2, 1, 1, 1, 1, 11, 2, 2, 1, 2, 3, 1, 1, 2, 3, 1, 1, 1, 1, 1, 1, 3, 9, 1, 3, 7, 18, 1, 1, 2, 1, 1, 8, 9, 4, 6, 1, 6, 28, 4, 1, 1, 2, 1, 1, 1, 1, 1, 1, 1, 3, 1, 1, 1, 1, 30, 4, 1, 1, 1, 1, 1, 13, 4, 1, 12, 1, 3, 5, 1, 1, 10, 6, 1, 1, 31, 3, 2, 5, 3, 1, 1, 1, 2, 10, 4, 1, 7, 2, 3, 1, 33, 4, 1, 3, 1, 4, 1, 1, 1, 4, 1, 2, 10, 1, 2, 5, 2, 2, 1, 3, 1, 1, 5, 3, 1, 2, 1, 5, 1, 1, 2, 28, 2, 1, 1, 2, 25, 2, 1, 3, 1, 1, 1, 24, 1, 1, 3, 1, 5, 1, 3, 1, 1, 1, 1, 1, 2, 1, 7, 1, 1, 2, 1, 1, 1, 2, 11, 1, 1, 1, 2, 1, 1, 1, 4, 1, 1, 1, 1, 1, 5, 3, 1, 6, 1, 2, 2, 14, 1, 1, 1, 2, 1, 2, 7, 2, 4, 8, 1, 1, 1, 2, 1, 1, 1, 1, 2, 8, 3, 1, 1, 2, 1, 5, 1, 2, 1, 2, 1, 3, 17, 1, 1, 23, 1, 1, 1, 2, 1, 1, 20, 1, 2, 1, 2, 1, 3, 3, 1, 2, 51, 11, 1, 1, 2, 1, 1, 1, 19, 3, 2, 42, 1, 1, 1, 1, 1, 17, 7, 6, 1, 1, 23, 1, 1, 22, 3, 5, 2, 2, 1, 1, 1, 1, 3, 6, 24, 6, 1, 1, 1, 1, 1, 8, 1, 11, 4, 1, 14, 1, 1, 2, 5, 1, 1, 3, 1, 1, 1, 12, 11, 2, 2, 4, 1, 2, 2, 1, 5, 4, 4, 4, 2, 4, 7, 2, 1, 15, 2, 1, 6, 11, 3, 21, 2, 1, 3, 1, 17, 5, 14, 9, 13, 2, 22, 1, 1, 1, 1, 1, 1, 2, 1, 3, 10, 1, 4, 11, 7, 1, 1, 8, 8, 5, 8, 11, 1, 1, 1, 1, 3, 1, 3, 1, 2, 1, 2, 9, 10, 1, 1, 2, 1, 1, 4, 1, 1, 4, 19, 13, 3, 1, 1, 3, 10, 1, 1, 38, 1, 1, 1, 3, 1, 3, 4, 1, 9, 1, 8, 1, 2, 2, 1, 1, 295, 1, 1, 1, 2, 1, 1, 1, 10, 14, 1, 1, 1, 1, 8, 1, 1, 1, 1, 31, 1, 1, 3, 1, 1, 3, 1, 1, 2, 2, 1, 1, 4, 2, 1, 6, 1, 2, 1, 1, 1, 5, 2, 5, 1, 3, 42, 15, 2, 4, 1, 1, 7, 1, 1, 4, 2, 3, 1, 2, 1, 9, 6, 1, 13, 1, 22, 3, 1, 22, 1, 1, 1, 2, 2, 1, 3, 4, 2, 3, 2, 13, 2, 2, 1, 1, 3, 1, 2, 3, 2, 19, 1, 2, 2, 2, 1, 14, 4, 1, 1, 8, 4, 1, 1, 14, 13, 1, 4, 1, 3, 4, 10, 1, 24, 3, 1, 1, 3, 1, 3, 4, 1, 6, 1, 2, 2, 1, 3, 3, 1, 2, 1, 1, 1, 1, 2, 30, 1, 2, 4, 1, 1, 1, 4, 1, 22, 5, 1, 2, 3, 8, 1, 4, 2, 2, 1, 2, 10, 1, 1, 2, 3, 2, 1, 1, 1, 17, 1, 1, 1, 4, 1, 1, 13, 1, 71, 3, 1, 2, 1, 5, 1, 2, 1, 2, 5, 59, 1, 1, 1, 1, 1, 1, 8, 18, 1, 18, 2, 15, 4, 3, 1, 2, 3, 2, 1, 7, 1, 3, 1, 2, 21, 2, 1, 16, 1, 4, 13, 1, 1, 3, 4, 7, 1, 1, 1, 3, 1, 1, 1, 1, 4, 1, 1, 1, 1, 11, 1, 1, 2, 2, 2, 1, 2, 1, 1, 8, 1, 1, 1, 1, 1, 1, 1, 22, 7, 4, 3, 1, 10, 1, 2, 2, 1, 5, 3, 1, 1, 1, 21, 1, 1, 1, 1, 4, 1, 1, 1, 1, 14, 2, 1, 1, 16, 1, 1, 46, 1, 1, 2, 1, 1, 6, 2, 1, 1, 3, 7, 8, 1, 5, 1, 1, 2, 1, 1, 1, 1, 3, 1, 5, 1, 5, 1, 2, 5, 8, 1, 2, 1, 3, 1, 1, 1, 1, 3, 1, 10, 1, 1, 10, 11, 1, 3, 44, 1, 1, 2, 5, 11, 1, 1, 1, 1, 1, 31, 1, 1, 1, 2, 8, 1, 1, 1, 2, 1, 1, 2, 2, 7, 2, 4, 2, 4, 2, 5, 3, 12, 1, 1, 16, 1, 4, 16, 1, 2, 3, 3, 1, 4, 1, 1, 3, 1, 2, 1, 1, 1, 2, 1, 2, 2, 3, 1, 1, 26, 1, 1, 1, 8, 18, 1, 1, 3, 3, 1, 1, 2, 17, 2, 1, 1, 1, 3, 1, 1, 2, 1, 2, 1, 1, 9, 1, 10, 1, 1, 1, 1, 1, 1, 1, 2, 1, 3, 1, 1, 1, 1, 1, 7, 1, 1, 9, 1, 5, 1, 1, 3, 4, 3, 1, 1, 1, 1, 4, 2, 1, 2, 1, 1, 5, 1, 2, 2, 2, 3, 1, 2, 1, 11, 2, 5, 4, 3, 1, 4, 1, 1, 4, 1, 5, 22, 1, 1, 16, 2, 3, 1, 1, 8, 1, 4, 1, 1, 1, 65, 1, 2, 8, 8, 51, 4, 1, 1, 1, 1, 1, 1, 1, 14, 6, 1, 1, 1, 1, 3, 3, 1, 1, 3, 1, 1, 1, 2, 9, 8, 3, 2, 4, 2, 47, 1, 1, 1, 1, 1, 1, 8, 1, 1, 1, 1, 1, 1, 1, 1, 2, 1, 11, 1, 8, 4, 1, 1, 1, 5, 1, 3, 1, 1, 2, 1, 2, 2, 1, 1, 8, 1, 6, 2, 2, 2, 2, 1, 1, 3, 1, 2, 1, 2, 9, 8, 2, 2, 3, 1, 1, 27, 1, 1, 1, 50, 1, 1, 1, 1, 1, 3, 2, 3, 3, 1, 7, 10, 1, 1, 63, 1, 1, 1, 1, 1, 1, 1, 3, 1, 3, 10, 1, 5, 4, 18, 1, 1, 1, 1, 1, 1, 2, 19, 15, 1, 7, 2, 2, 6, 1, 1, 1, 7, 1, 2, 3, 12, 1, 1, 2, 3, 4, 5, 2, 2, 12, 5, 2, 2, 1, 2, 1, 5, 1, 2, 1, 4, 1, 2, 1, 1, 1, 1, 20, 1, 1, 2, 16, 1, 4, 1, 3, 1, 2, 1, 1, 1, 3, 2, 2, 1, 1, 1, 69, 11, 1, 1, 9, 25, 1, 24, 1, 1, 1, 26, 11, 1, 1, 2, 23, 7, 1, 1, 1, 11, 1, 1, 3, 6, 1, 1, 1, 2, 1, 8, 1, 1, 1, 1, 4, 1, 6, 1, 1, 1, 5, 3, 1, 1, 1, 4, 1, 9, 1, 5, 12, 1, 1, 2, 2, 8, 1, 1, 7, 1, 1, 16, 2, 1, 1, 2, 1, 3, 4, 20, 1, 2, 2, 1, 1, 20, 23, 1, 1, 1, 31, 4, 1, 1, 2, 1, 1, 6, 4, 1, 6, 1, 6, 1, 1, 3, 1, 13, 1, 1, 11, 2, 1, 20, 2, 1, 1, 3, 3, 1, 16, 1, 2, 2, 4, 1, 1, 1, 1, 1, 6, 1, 1, 3, 1, 11, 2, 1, 2, 1, 32, 1, 1, 8, 1, 15, 1, 1, 2, 1, 1, 1, 13, 1, 1, 18, 1, 1, 1, 3, 1, 1, 9, 1, 1, 1, 1, 1, 2, 1, 1, 1, 7, 1, 1, 1, 16, 6, 2, 15, 18, 1, 1, 1, 16, 2, 1, 6, 15, 1, 6, 6, 3, 6, 1, 7, 1, 1, 1, 1, 8, 60, 1, 2, 1, 6, 6, 1, 1, 1, 1, 1, 4, 2, 1, 1, 1, 1, 1, 6, 1, 12, 3, 2, 7, 6, 1, 2, 2, 18, 1, 1, 1, 1, 5, 3, 2, 4, 1, 2, 24, 1, 1, 16, 2, 2, 1, 5, 1, 1, 9, 1, 18, 1, 1, 3, 1, 7, 1, 2, 22, 65, 1, 2, 1, 1, 1, 11, 1, 17, 1, 1, 1, 3, 1, 3, 1, 3, 1, 3, 2, 6, 11, 1, 3, 1, 3, 1, 1, 1, 3, 5, 16, 1, 1, 1, 2, 1, 5, 1, 2, 5, 8, 1, 1, 1, 14, 1, 9, 1, 1, 1, 2, 1, 1, 3, 1, 1, 1, 1, 3, 1, 6, 13, 1, 1, 1, 4, 1, 3, 1, 2, 1, 1, 10, 1, 7, 1, 1, 38, 3, 1, 6, 1, 4, 8, 79, 1, 1, 1, 2, 1, 4, 2, 21, 2, 15, 1, 1, 2, 17, 1, 10, 1, 1, 1, 70, 1, 1, 10, 1, 9, 1, 1, 2, 1, 5, 25, 2, 1, 1, 4, 1, 1, 17, 10, 25, 13, 2, 1, 1, 1, 6, 1, 1, 1, 1, 1, 1, 1, 1, 14, 1, 2, 3, 2, 9, 2, 1, 4, 3, 1, 1, 1, 1, 1, 1, 10, 43, 1, 1, 1, 1, 1, 5, 4, 1, 2, 3, 1, 6, 1, 6, 1, 1, 2, 1, 4, 1, 1, 1, 1, 2, 2, 1, 16, 2, 1, 1, 3, 5, 7, 4, 1, 4, 3, 1, 1, 8, 1, 1, 1, 6, 1, 1, 1, 1, 1, 17, 1, 1, 1, 6, 5, 1, 2, 14, 1, 2, 1, 4, 1, 1, 1, 6, 3, 1, 1, 8, 1, 2, 1, 1, 1, 3, 1, 1, 2, 34, 17, 1, 1, 1, 44, 13, 6, 3, 1, 31, 1, 3, 1, 11, 6, 7, 1, 2, 1, 2, 4, 1, 2, 6, 1, 9, 1, 7, 1, 1, 1, 2, 32, 1, 1, 6, 1, 1, 1, 1, 1, 1, 1, 1, 2, 1, 1, 2, 2, 2, 2, 7, 1, 13, 1, 1, 2, 3, 6, 1, 1, 1, 220, 1, 1, 1, 1, 1, 1, 1, 1, 1, 2, 2, 4, 1, 3, 10, 6, 1, 1, 5, 10, 2, 1, 2, 3, 1, 1, 12, 1, 1, 7, 7, 2, 3, 3, 6, 1, 1, 2, 1, 1, 13, 1, 1, 1, 6, 2, 1, 1, 5, 1, 1, 1, 2, 4, 2, 1, 10, 1, 19, 1, 1, 1, 1, 1, 10, 5, 1, 1, 5, 1, 1, 6, 7, 1, 1, 3, 1, 1, 9, 1, 4, 1, 7, 4, 1, 1, 1, 2, 1, 1, 2, 7, 18, 4, 3, 5, 3, 1, 4, 1, 1, 10, 1, 6, 13, 1, 1, 2, 20, 15, 1, 6, 12, 1, 21, 1, 6, 1, 1, 11, 1, 6, 1, 1, 1, 10, 1, 1, 2, 1, 1, 1, 1, 2, 2, 1, 10, 1, 1, 26, 1, 1, 1, 3, 2, 20, 3, 3, 2, 2, 1, 2, 1, 4, 10, 4, 12, 1, 5, 1, 1, 2, 1, 1, 2, 1, 1, 2, 1, 2, 2, 1, 1, 3, 2, 1, 1, 12, 1, 1, 2, 2, 11, 1, 12, 3, 5, 1, 2, 1, 2, 10, 1, 5, 1, 1, 1, 2, 1, 1, 1, 5, 1, 1, 1, 1, 2, 6, 6, 2, 1, 1, 1, 4, 1, 2, 5, 2, 16, 2, 1, 12, 1, 12, 1, 9, 1, 5, 3, 1, 1, 9, 1, 7, 1, 1, 3, 3, 1, 4, 29, 1, 1, 2, 1, 13, 4, 3, 9, 2, 1, 3, 1, 1, 1, 2, 1, 1, 1, 32, 1, 1, 32, 6, 2, 1, 1, 2, 17, 1, 1, 25, 1, 1, 2, 4, 1, 1, 1, 1, 1, 1, 1, 2, 2, 1, 1, 1, 1, 7, 5, 1, 1, 1, 1, 1, 2, 2, 1, 1, 4, 2, 3, 1, 2, 3, 1, 1, 1, 13, 1, 2, 1, 1, 1, 1, 18, 1, 1, 1, 1, 41, 1, 2, 2, 2, 3, 1, 1, 1, 5, 1, 4, 3, 1, 2, 5, 1, 1, 1, 2, 14, 3, 2, 6, 1, 1, 2, 3, 5, 1, 11, 1, 1, 1, 3, 22, 5, 2, 2, 1, 1, 1, 17, 1, 1, 1, 3, 1, 2, 6, 1, 2, 3, 1, 1, 9, 1, 1, 15, 1, 12, 1, 1, 1, 4, 1, 2, 1, 12, 1, 4, 1, 92, 1, 1, 13, 1, 1, 1, 1, 2, 1, 1, 1, 1, 6, 1, 1, 1, 1, 4, 1, 3, 1, 5, 1, 2, 1, 1, 2, 3, 2, 1, 1, 2, 9, 1, 6, 31, 1, 1, 6, 9, 1, 1, 4, 1, 1, 6, 1, 7, 2, 35, 2, 1, 1, 22, 9, 1, 5, 2, 1, 12, 11, 2, 1, 3, 3, 9, 14, 13, 1, 1, 6, 12, 4, 1, 1, 3, 11, 1, 4, 1, 1, 1, 1, 1, 3, 14, 18, 4, 35, 4, 10, 2, 2, 1, 3, 10, 1, 2, 1, 44, 1, 1, 1, 1, 33, 1, 1, 1, 1, 1, 1, 19, 3, 13, 1, 3, 105, 2, 1, 1, 1, 4, 1, 1, 9, 5, 3, 1, 1, 12, 5, 7, 19, 44, 1, 1, 1, 1, 9, 1, 2, 1, 2, 17, 1, 7, 1, 1, 3, 47, 1, 2, 6, 1, 1, 1, 12, 3, 1, 1, 5, 1, 17, 1, 1, 3, 3, 2, 1, 9, 1, 1, 3, 1, 1, 1, 1, 1, 1, 1, 3, 1, 1, 1, 1, 1, 3, 1, 1, 1, 1, 1, 1, 1, 1, 1, 4, 3, 31, 1, 3, 1, 1, 7, 5, 3, 2, 18, 64, 1, 3, 1, 2, 5, 1, 36, 2, 2, 58, 1, 2, 1, 1, 2, 1, 1, 6, 2, 9, 2, 1, 1, 1, 9, 1, 10, 2, 1, 2, 1, 1, 2, 1, 4, 1, 5, 2, 1, 8, 3, 1, 1, 1, 25, 1, 1, 1, 31, 6, 2, 2, 1, 6, 1, 1, 1, 28, 1, 4, 3, 2, 1, 1, 1, 37, 1, 1, 10, 6, 7, 1, 3, 5, 1, 5, 11, 1, 1, 4, 8, 1, 4, 5, 2, 2, 1, 12, 1, 1, 1, 6, 2, 3, 8, 1, 1, 7, 1, 6, 12, 2, 13, 12, 1, 3, 1, 1, 2, 3, 19, 3, 8, 1, 1, 1, 45, 1, 6, 4, 1, 2, 8, 1, 1, 1, 1, 5, 17, 9, 1, 1, 1, 1, 1, 1, 3, 1, 1, 1, 2, 1, 1, 1, 1, 1, 1, 11, 4, 1, 1, 2, 6, 1, 2, 4, 1, 1, 1, 1, 7, 1, 1, 8, 1, 22, 1, 2, 1, 1, 1, 1, 1, 2, 1, 1, 1, 2, 17, 2, 4, 1, 6, 1, 1, 1, 1, 5, 3, 1, 9, 1, 1, 1, 1, 1, 3, 2, 2, 1, 7, 3, 7, 1, 14, 1, 27, 1, 1, 1, 1, 1, 1, 1, 2, 5, 1, 1, 2, 1, 4, 2, 1, 2, 2, 2, 57, 1, 1, 1, 27, 1, 3, 1, 1, 1, 11, 1, 1, 1, 4, 1, 3, 49, 1, 1, 6, 1, 1, 3, 3, 1, 1, 2, 6, 1, 12, 1, 53, 2, 1, 1, 2, 1, 3, 1, 1, 3, 1, 9, 3, 1, 24, 68, 1, 17, 50, 2, 1, 1, 1, 2, 2, 1, 15, 3, 1, 1, 2, 1, 2, 23, 1, 1, 3, 1, 1, 5, 1, 1, 1, 16, 1, 1, 1, 1, 1, 2, 1, 1, 2, 2, 13, 13, 17, 5, 26, 1, 1, 7, 1, 1, 1, 1, 1, 6, 1, 2, 1, 1, 1, 3, 1, 1, 1, 1, 1, 2, 1, 2, 1, 1, 1, 31, 4, 1, 5, 1, 2, 97, 1, 1, 1, 1, 1, 1, 2, 2, 1, 3, 1, 4, 1, 1, 2, 1, 5, 6, 8, 1, 1, 1, 7, 1, 9, 6, 3, 1, 2, 2, 7, 1, 29, 1, 1, 24, 1, 3, 3, 3, 3, 1, 2, 1, 6, 1, 1, 9, 4, 1, 1, 2, 2, 1, 1, 124, 1, 2, 1, 1, 2, 2, 3, 1, 1, 1, 11, 4, 6, 1, 14, 1, 3, 6, 1, 1, 6, 1, 1, 7, 1, 1, 1, 3, 2, 1, 37, 1, 22, 1, 1, 1, 9, 1, 1, 1, 1, 2, 1, 13, 1, 6, 1, 1, 2, 2, 1, 2, 1, 1, 5, 2, 10, 1, 1, 2, 1, 4, 1, 1, 1, 1, 1, 1, 4, 1, 1, 1, 1, 2, 1, 5, 1, 1, 1, 1, 1, 12, 1, 1, 1, 8, 4, 2, 1, 2, 1, 4, 2, 1, 3, 1, 3, 1, 1, 1, 1, 1, 3, 1, 1, 1, 1, 2, 17, 1, 1, 8, 2, 1, 19, 31, 4, 6, 2, 1, 14, 1, 11, 2, 1, 3, 1, 1, 1, 16, 1, 1, 1, 2, 9, 5, 1, 1, 8, 1, 2, 1, 2, 12, 1, 1, 2, 1, 1, 1, 3, 1, 6, 1, 1, 137, 1, 1, 1, 1, 1, 1, 5, 12, 1, 2, 1, 8, 4, 1, 1, 3, 5, 3, 1, 1, 1, 2, 1, 4, 44, 1, 1, 1, 3, 1, 4, 4, 1, 4, 1, 1, 1, 2, 1, 1, 1, 1, 1, 4, 1, 7, 1, 1, 1, 6, 14, 1, 1, 1, 1, 1, 1, 1, 1, 6, 1, 1, 2, 1, 1, 3, 1, 2, 1, 1, 24, 1, 1, 1, 19, 1, 2, 4, 1, 2, 1, 1, 1, 18, 2, 1, 1, 3, 2, 4, 4, 1, 2, 1, 1, 3, 1, 1, 1, 4, 3, 7, 24, 1, 1, 1, 1, 1, 47, 1, 1, 1, 1, 16, 32, 1, 5, 2, 42, 2, 1, 1, 1, 2, 1, 1, 5, 1, 7, 1, 5, 4, 2, 1, 1, 1, 1, 1, 1, 1, 1, 1, 9, 2, 12, 1, 1, 1, 16, 1, 2, 2, 1, 1, 15, 8, 2, 2, 1, 13, 1, 9, 2, 2, 2, 1, 1, 1, 1, 1, 1, 3, 1, 1, 2, 1, 1, 1, 3, 1, 1, 7, 2, 93, 1, 27, 1, 1, 1, 16, 1, 1, 4, 1, 2, 4, 1, 1, 13, 2, 3, 1, 1, 4, 2, 1, 1, 1, 1, 3, 1, 2, 1, 1, 1, 16, 3, 1, 21, 16, 1, 1, 6, 2, 12, 1, 1, 1, 10, 2, 3, 1, 2, 5, 12, 7, 1, 1, 1, 2, 17, 12, 3, 2, 4, 1, 4, 6, 2, 5, 1, 1, 7, 1, 1, 6, 6, 1, 21, 1, 27, 1, 1, 1, 1, 1, 1, 3, 1, 1, 12, 2, 2, 1, 29, 1, 1, 1, 2, 2, 16, 1, 2, 2, 6, 1, 7, 1, 2, 1, 5, 1, 1, 1, 1, 2, 5, 2, 7, 20, 6, 9, 1, 4, 6, 3, 1, 1, 1, 1, 1, 25, 1, 1, 7, 1, 1, 5, 6, 1, 3, 2, 10, 4, 6, 1, 14, 1, 1, 1, 1, 9, 1, 1, 1, 7, 10, 1, 2, 2, 12, 1, 1, 1, 2, 4, 20, 1, 1, 2, 1, 1, 2, 1, 2, 1, 2, 1, 5, 11, 1, 1, 1, 11, 4, 14, 1, 9, 1, 1, 25, 2, 1, 2, 1, 2, 18, 1, 1, 1, 22, 1, 1, 1, 1, 1, 16, 6, 1, 3, 4, 1, 3, 11, 1, 3, 1, 4, 1, 1, 1, 4, 1, 1, 1, 1, 2, 1, 7, 2, 1, 2, 19, 4, 9, 2, 2, 2, 2, 3, 1, 4, 2, 3, 2, 2, 1, 1, 3, 8, 4, 3, 18, 1, 2, 1, 5, 12, 1, 2, 13, 1, 1, 2, 11, 1, 5, 1, 3, 1, 1, 2, 3, 6, 1, 3, 2, 77, 1, 1, 1, 1, 1, 1, 1, 1, 2, 6, 1, 1, 41, 1, 6, 11, 1, 1, 2, 5, 1, 1, 8, 1, 5, 1, 1, 1, 3, 5, 1, 11, 11, 9, 9, 1, 1, 20, 1, 2, 1, 1, 1, 7, 1, 1, 15, 4, 1, 3, 1, 2, 1, 4, 1, 1, 1, 1, 1, 1, 2, 2, 2, 1, 1, 6, 3, 57, 1, 2, 1, 1, 1, 1, 23, 5, 2, 4, 6, 3, 1, 1, 1, 3, 1, 1, 1, 1, 1, 4, 2, 2, 7, 3, 2, 7, 1, 1, 1, 2, 2, 1, 1, 1, 2, 4, 1, 8, 1, 1, 1, 6, 1, 1, 4, 1, 20, 1, 1, 1, 2, 1, 8, 20, 1, 1, 1, 1, 3, 1, 3, 4, 1, 1, 1, 92, 1, 1, 1, 1, 1, 1, 1, 1, 6, 1, 1, 1, 1, 9, 2, 3, 1, 1, 1, 2, 3, 6, 1, 12, 6, 1, 7, 65, 1, 1, 1, 1, 2, 1, 12, 2, 1, 3, 1, 2, 1, 1, 5, 1, 9, 1, 1, 1, 7, 1, 1, 1, 1, 1, 1, 1, 1, 3, 1, 1, 1, 5, 2, 1, 3, 1, 1, 1, 1, 1, 1, 2, 2, 2, 1, 1, 12, 1, 12, 12, 2, 1, 1, 2, 31, 1, 36, 1, 6, 3, 15, 1, 20, 1, 1, 1, 1, 1, 7, 1, 1, 2, 1, 1, 7, 2, 13, 10, 4, 10, 1, 1, 7, 3, 1, 1, 2, 2, 5, 23, 1, 1, 4, 1, 1, 11, 1, 11, 1, 1, 1, 1, 10, 1, 1, 7, 1, 2, 1, 4, 13, 5, 1, 1, 7, 1, 1, 1, 3, 2, 1, 1, 1, 1, 55, 3, 1, 2, 1, 18, 1, 1, 1, 1, 1, 1, 1, 6, 1, 2, 1, 12, 2, 2, 4, 1, 1, 28, 2, 3, 3, 1, 21, 6, 2, 40, 1, 2, 1, 1, 1, 9, 7, 1, 1, 6, 1, 1, 7, 1, 1, 1, 1, 1, 2, 1, 1, 2, 8, 5, 1, 11, 1, 1, 26, 6, 2, 1, 1, 17, 1, 5, 2, 8, 1, 1, 2, 4, 1, 1, 1, 1, 4, 2, 3, 3, 4, 1, 1, 3, 1, 2, 1, 4, 1, 1, 2, 2, 1, 1, 1, 2, 1, 3, 1, 1, 1, 1, 1, 3, 2, 2, 1, 2, 10, 2, 7, 1, 1, 2, 1, 3, 1, 1, 6, 3, 12, 1, 1, 1, 13, 2, 1, 2, 1, 2, 2, 15, 25, 1, 1, 4, 1, 4, 1, 1, 7, 1, 1, 8, 2, 12, 5, 1, 6, 6, 1, 2, 2, 1, 3, 7, 4, 1, 4, 1, 3, 5, 14, 1, 1, 2, 7, 13, 1, 1, 1, 1, 1, 1, 1, 1, 4, 1, 1, 2, 4, 3, 1, 1, 1, 3, 1, 3, 7, 9, 3, 1, 11, 3, 1, 2, 1, 1, 1, 1, 1, 2, 1, 26, 8, 1, 1, 2, 2, 1, 26, 1, 1, 1, 95, 2, 1, 1, 1, 1, 1, 1, 21, 1, 1, 1, 2, 1, 1, 3, 5, 1, 10, 9, 1, 1, 1, 1, 1, 1, 4, 1, 19, 1, 1, 1, 1, 2, 2, 1, 2, 19, 3, 35, 1, 1, 1, 1, 1, 1, 5, 1, 3, 1, 1, 3, 2, 13, 1, 1, 1, 1, 1, 4, 1, 1, 1, 1, 3, 2, 1, 1, 1, 3, 1, 1, 2, 4, 11, 1, 1, 1, 3, 2, 2, 1, 4, 1, 5, 7, 1, 7, 4, 1, 4, 1, 1, 1, 2, 1, 1, 7, 2, 1, 4, 10, 12, 2, 3, 1, 2, 1, 1, 1, 1, 5, 1, 1, 1, 1, 1, 2, 46, 10, 2, 1, 5, 16, 2, 2, 5, 6, 1, 1, 1, 2, 1, 5, 3, 1, 6, 1, 1, 2, 3, 1, 1, 1, 2, 3, 1, 2, 1, 1, 1, 1, 1, 1, 1, 1, 1, 2, 4, 1, 12, 1, 4, 1, 1, 1, 7, 1, 50, 1, 9, 1, 1, 27, 1, 1, 2, 1, 12, 1, 1, 1, 1, 8, 2, 4, 1, 2, 7, 1, 1, 1, 1, 6, 3, 1, 3, 6, 1, 1, 3, 27, 1, 2, 2, 3, 2, 2, 1, 1, 1, 5, 1, 1, 1, 1, 6, 2, 2, 43, 1, 55, 1, 1, 1, 1, 1, 3, 2, 1, 4, 13, 2, 5, 26, 1, 1, 1, 1, 1, 7, 2, 1, 1, 1, 1, 1, 1, 1, 1, 1, 1, 1, 2, 4, 1, 15, 1, 1, 2, 1, 1, 3, 4, 21, 3, 7, 78, 1, 1, 1, 46, 1, 1, 2, 12, 1, 1, 2, 13, 19, 1, 13, 13, 7, 1, 10, 1, 1, 5, 1, 2, 2, 16, 1, 1, 1, 2, 1, 1, 4, 1, 8, 1, 3, 75, 1, 1, 1, 1, 1, 1, 1, 2, 1, 5, 3, 2, 12, 1, 9, 1, 1, 41, 2, 1, 1, 1, 2, 3, 1, 4, 1, 1, 12, 3, 15, 3, 1, 2, 2, 1, 1, 1, 3, 1, 2, 1, 1, 4, 2, 3, 2, 2, 1, 15, 1, 1, 1, 2, 1, 1, 1, 3, 1, 1, 2, 1, 3, 1, 2, 6, 1, 42, 21, 1, 1, 2, 3, 1, 1, 1, 2, 1, 9, 1, 1, 11, 2, 204, 1, 1, 1, 1, 1, 1, 1, 1, 5, 10, 1, 16, 1, 1, 1, 1, 2, 1, 4, 1, 1, 2, 1, 2, 23, 2, 6, 2, 1, 12, 1, 1, 1, 1, 1, 1, 1, 1, 1, 1, 1, 1, 1, 1, 1, 1, 2, 26, 1, 2, 9, 2, 1, 1, 1, 1, 1, 1, 1, 7, 1, 3, 1, 2, 1, 1, 1, 4, 1, 1, 1, 1, 3, 1, 1, 1, 1, 1, 1, 1, 1, 15, 1, 2, 1, 1, 1, 5, 1, 1, 2, 1, 1, 3, 1, 1, 2, 1, 8, 1, 30, 4, 1, 1, 1, 1, 1, 5, 8, 1, 2, 1, 1, 1, 1, 1, 2, 2, 1, 2, 1, 1, 1, 1, 2, 1, 1, 2, 1, 1, 1, 2, 7, 1, 1, 1, 1, 2, 1, 2, 1, 1, 70, 4, 1, 48, 2, 4, 1, 1, 1, 3, 3, 3, 1, 1, 1, 6, 4, 1, 1, 1, 1, 2, 1, 1, 2, 4, 2, 14, 2, 8, 1, 2, 1, 2, 15, 1, 1, 1, 1, 21, 1, 1, 1, 1, 1, 1, 1, 22, 2, 4, 1, 2, 2, 1, 1, 7, 1, 9, 4, 1, 1, 1, 1, 1, 1, 1, 1, 1, 2, 1, 7, 1, 1, 1, 5, 36, 1, 25, 2, 1, 1, 5, 13, 1, 1, 1, 6, 10, 1, 1, 2, 77, 1, 1, 14, 1, 1, 11, 1, 14, 1, 12, 16, 2, 1, 5, 7, 2, 36, 1, 1, 1, 3, 1, 4, 1, 8, 9, 1, 1, 1, 6, 1, 1, 13, 11, 1, 2, 2, 6, 1, 1, 7, 1, 46, 2, 1, 1, 1, 24, 2, 3, 5, 1, 1, 1, 7, 1, 3, 2, 1, 1, 2, 1, 1, 1, 1, 3, 27, 1, 1, 1, 1, 5, 1, 2, 9, 2, 1, 2, 1, 1, 10, 1, 4, 1, 2, 9, 1, 7, 15, 4, 1, 1, 1, 3, 2, 1, 1, 9, 1, 1, 12, 1, 18, 1, 2, 1, 1, 19, 18, 14, 1, 1, 4, 1, 6, 23, 34, 1, 1, 1, 29, 1, 1, 1, 1, 2, 5, 1, 1, 3, 1, 3, 1, 100, 11, 2, 1, 1, 3, 1, 2, 25, 1, 5, 8, 1, 1, 1, 3, 2, 1, 2, 1, 2, 2, 1, 1, 2, 9, 3, 36, 6, 1, 2, 1, 1, 1, 1, 2, 1, 2, 1, 3, 17, 1, 26, 1, 2, 37, 5, 16, 3, 1, 2, 1, 2, 2]\n"
     ]
    }
   ],
   "source": [
    "sm3=[]\n",
    "for x in new3:\n",
    "    sm3.append(matrix3[x].sum())\n",
    "print(sm3)"
   ]
  },
  {
   "cell_type": "code",
   "execution_count": 176,
   "metadata": {},
   "outputs": [],
   "source": [
    "trans3=matrix3.transpose()"
   ]
  },
  {
   "cell_type": "code",
   "execution_count": 177,
   "metadata": {},
   "outputs": [],
   "source": [
    "trans3['sum']=sm3"
   ]
  },
  {
   "cell_type": "code",
   "execution_count": 178,
   "metadata": {},
   "outputs": [],
   "source": [
    "top3=trans3.sort_values(by='sum', ascending=False).head(30)"
   ]
  },
  {
   "cell_type": "markdown",
   "metadata": {},
   "source": [
    "##### Real News"
   ]
  },
  {
   "cell_type": "code",
   "execution_count": 179,
   "metadata": {
    "scrolled": true
   },
   "outputs": [
    {
     "name": "stdout",
     "output_type": "stream",
     "text": [
      "[[0 0 0 ... 0 0 0]\n",
      " [0 0 0 ... 0 0 0]\n",
      " [0 0 0 ... 0 0 0]\n",
      " ...\n",
      " [0 0 0 ... 0 0 0]\n",
      " [0 0 0 ... 0 0 0]\n",
      " [0 0 0 ... 0 0 0]]\n"
     ]
    }
   ],
   "source": [
    "cv4 = CountVectorizer(analyzer=final)\n",
    "cv4.fit(df_real['text'])\n",
    "bow4=cv4.transform(df_real['text'])\n",
    "print ((bow4.todense()))"
   ]
  },
  {
   "cell_type": "code",
   "execution_count": 180,
   "metadata": {},
   "outputs": [
    {
     "data": {
      "text/html": [
       "<div>\n",
       "<style scoped>\n",
       "    .dataframe tbody tr th:only-of-type {\n",
       "        vertical-align: middle;\n",
       "    }\n",
       "\n",
       "    .dataframe tbody tr th {\n",
       "        vertical-align: top;\n",
       "    }\n",
       "\n",
       "    .dataframe thead th {\n",
       "        text-align: right;\n",
       "    }\n",
       "</style>\n",
       "<table border=\"1\" class=\"dataframe\">\n",
       "  <thead>\n",
       "    <tr style=\"text-align: right;\">\n",
       "      <th></th>\n",
       "      <th>0</th>\n",
       "      <th>1</th>\n",
       "      <th>2</th>\n",
       "      <th>3</th>\n",
       "      <th>4</th>\n",
       "      <th>5</th>\n",
       "      <th>6</th>\n",
       "      <th>7</th>\n",
       "      <th>8</th>\n",
       "      <th>9</th>\n",
       "      <th>...</th>\n",
       "      <th>6519</th>\n",
       "      <th>6520</th>\n",
       "      <th>6521</th>\n",
       "      <th>6522</th>\n",
       "      <th>6523</th>\n",
       "      <th>6524</th>\n",
       "      <th>6525</th>\n",
       "      <th>6526</th>\n",
       "      <th>6527</th>\n",
       "      <th>6528</th>\n",
       "    </tr>\n",
       "  </thead>\n",
       "  <tbody>\n",
       "    <tr>\n",
       "      <td>0</td>\n",
       "      <td>0</td>\n",
       "      <td>0</td>\n",
       "      <td>0</td>\n",
       "      <td>0</td>\n",
       "      <td>0</td>\n",
       "      <td>0</td>\n",
       "      <td>0</td>\n",
       "      <td>0</td>\n",
       "      <td>0</td>\n",
       "      <td>0</td>\n",
       "      <td>...</td>\n",
       "      <td>0</td>\n",
       "      <td>0</td>\n",
       "      <td>0</td>\n",
       "      <td>0</td>\n",
       "      <td>0</td>\n",
       "      <td>0</td>\n",
       "      <td>0</td>\n",
       "      <td>0</td>\n",
       "      <td>0</td>\n",
       "      <td>0</td>\n",
       "    </tr>\n",
       "    <tr>\n",
       "      <td>1</td>\n",
       "      <td>0</td>\n",
       "      <td>0</td>\n",
       "      <td>0</td>\n",
       "      <td>0</td>\n",
       "      <td>0</td>\n",
       "      <td>0</td>\n",
       "      <td>0</td>\n",
       "      <td>0</td>\n",
       "      <td>0</td>\n",
       "      <td>0</td>\n",
       "      <td>...</td>\n",
       "      <td>0</td>\n",
       "      <td>0</td>\n",
       "      <td>0</td>\n",
       "      <td>0</td>\n",
       "      <td>0</td>\n",
       "      <td>0</td>\n",
       "      <td>0</td>\n",
       "      <td>0</td>\n",
       "      <td>0</td>\n",
       "      <td>0</td>\n",
       "    </tr>\n",
       "    <tr>\n",
       "      <td>2</td>\n",
       "      <td>0</td>\n",
       "      <td>0</td>\n",
       "      <td>0</td>\n",
       "      <td>0</td>\n",
       "      <td>0</td>\n",
       "      <td>1</td>\n",
       "      <td>0</td>\n",
       "      <td>0</td>\n",
       "      <td>0</td>\n",
       "      <td>0</td>\n",
       "      <td>...</td>\n",
       "      <td>0</td>\n",
       "      <td>0</td>\n",
       "      <td>0</td>\n",
       "      <td>0</td>\n",
       "      <td>0</td>\n",
       "      <td>0</td>\n",
       "      <td>0</td>\n",
       "      <td>0</td>\n",
       "      <td>0</td>\n",
       "      <td>0</td>\n",
       "    </tr>\n",
       "    <tr>\n",
       "      <td>3</td>\n",
       "      <td>0</td>\n",
       "      <td>0</td>\n",
       "      <td>0</td>\n",
       "      <td>0</td>\n",
       "      <td>0</td>\n",
       "      <td>0</td>\n",
       "      <td>0</td>\n",
       "      <td>0</td>\n",
       "      <td>0</td>\n",
       "      <td>0</td>\n",
       "      <td>...</td>\n",
       "      <td>0</td>\n",
       "      <td>0</td>\n",
       "      <td>0</td>\n",
       "      <td>0</td>\n",
       "      <td>0</td>\n",
       "      <td>11</td>\n",
       "      <td>0</td>\n",
       "      <td>0</td>\n",
       "      <td>0</td>\n",
       "      <td>0</td>\n",
       "    </tr>\n",
       "    <tr>\n",
       "      <td>4</td>\n",
       "      <td>0</td>\n",
       "      <td>0</td>\n",
       "      <td>0</td>\n",
       "      <td>0</td>\n",
       "      <td>0</td>\n",
       "      <td>0</td>\n",
       "      <td>0</td>\n",
       "      <td>0</td>\n",
       "      <td>0</td>\n",
       "      <td>0</td>\n",
       "      <td>...</td>\n",
       "      <td>0</td>\n",
       "      <td>0</td>\n",
       "      <td>0</td>\n",
       "      <td>0</td>\n",
       "      <td>0</td>\n",
       "      <td>0</td>\n",
       "      <td>0</td>\n",
       "      <td>0</td>\n",
       "      <td>0</td>\n",
       "      <td>0</td>\n",
       "    </tr>\n",
       "    <tr>\n",
       "      <td>...</td>\n",
       "      <td>...</td>\n",
       "      <td>...</td>\n",
       "      <td>...</td>\n",
       "      <td>...</td>\n",
       "      <td>...</td>\n",
       "      <td>...</td>\n",
       "      <td>...</td>\n",
       "      <td>...</td>\n",
       "      <td>...</td>\n",
       "      <td>...</td>\n",
       "      <td>...</td>\n",
       "      <td>...</td>\n",
       "      <td>...</td>\n",
       "      <td>...</td>\n",
       "      <td>...</td>\n",
       "      <td>...</td>\n",
       "      <td>...</td>\n",
       "      <td>...</td>\n",
       "      <td>...</td>\n",
       "      <td>...</td>\n",
       "      <td>...</td>\n",
       "    </tr>\n",
       "    <tr>\n",
       "      <td>86</td>\n",
       "      <td>0</td>\n",
       "      <td>0</td>\n",
       "      <td>0</td>\n",
       "      <td>0</td>\n",
       "      <td>0</td>\n",
       "      <td>0</td>\n",
       "      <td>0</td>\n",
       "      <td>0</td>\n",
       "      <td>0</td>\n",
       "      <td>0</td>\n",
       "      <td>...</td>\n",
       "      <td>0</td>\n",
       "      <td>0</td>\n",
       "      <td>0</td>\n",
       "      <td>0</td>\n",
       "      <td>0</td>\n",
       "      <td>0</td>\n",
       "      <td>0</td>\n",
       "      <td>0</td>\n",
       "      <td>0</td>\n",
       "      <td>0</td>\n",
       "    </tr>\n",
       "    <tr>\n",
       "      <td>87</td>\n",
       "      <td>0</td>\n",
       "      <td>0</td>\n",
       "      <td>0</td>\n",
       "      <td>0</td>\n",
       "      <td>0</td>\n",
       "      <td>0</td>\n",
       "      <td>0</td>\n",
       "      <td>0</td>\n",
       "      <td>0</td>\n",
       "      <td>0</td>\n",
       "      <td>...</td>\n",
       "      <td>0</td>\n",
       "      <td>0</td>\n",
       "      <td>0</td>\n",
       "      <td>0</td>\n",
       "      <td>0</td>\n",
       "      <td>0</td>\n",
       "      <td>0</td>\n",
       "      <td>0</td>\n",
       "      <td>0</td>\n",
       "      <td>0</td>\n",
       "    </tr>\n",
       "    <tr>\n",
       "      <td>88</td>\n",
       "      <td>0</td>\n",
       "      <td>0</td>\n",
       "      <td>0</td>\n",
       "      <td>0</td>\n",
       "      <td>0</td>\n",
       "      <td>0</td>\n",
       "      <td>0</td>\n",
       "      <td>0</td>\n",
       "      <td>0</td>\n",
       "      <td>0</td>\n",
       "      <td>...</td>\n",
       "      <td>0</td>\n",
       "      <td>0</td>\n",
       "      <td>0</td>\n",
       "      <td>0</td>\n",
       "      <td>0</td>\n",
       "      <td>0</td>\n",
       "      <td>0</td>\n",
       "      <td>0</td>\n",
       "      <td>0</td>\n",
       "      <td>0</td>\n",
       "    </tr>\n",
       "    <tr>\n",
       "      <td>89</td>\n",
       "      <td>0</td>\n",
       "      <td>0</td>\n",
       "      <td>0</td>\n",
       "      <td>0</td>\n",
       "      <td>0</td>\n",
       "      <td>0</td>\n",
       "      <td>0</td>\n",
       "      <td>0</td>\n",
       "      <td>0</td>\n",
       "      <td>0</td>\n",
       "      <td>...</td>\n",
       "      <td>0</td>\n",
       "      <td>0</td>\n",
       "      <td>0</td>\n",
       "      <td>0</td>\n",
       "      <td>0</td>\n",
       "      <td>0</td>\n",
       "      <td>0</td>\n",
       "      <td>0</td>\n",
       "      <td>0</td>\n",
       "      <td>0</td>\n",
       "    </tr>\n",
       "    <tr>\n",
       "      <td>90</td>\n",
       "      <td>0</td>\n",
       "      <td>0</td>\n",
       "      <td>0</td>\n",
       "      <td>0</td>\n",
       "      <td>1</td>\n",
       "      <td>0</td>\n",
       "      <td>0</td>\n",
       "      <td>0</td>\n",
       "      <td>0</td>\n",
       "      <td>0</td>\n",
       "      <td>...</td>\n",
       "      <td>0</td>\n",
       "      <td>0</td>\n",
       "      <td>0</td>\n",
       "      <td>0</td>\n",
       "      <td>1</td>\n",
       "      <td>0</td>\n",
       "      <td>0</td>\n",
       "      <td>0</td>\n",
       "      <td>0</td>\n",
       "      <td>0</td>\n",
       "    </tr>\n",
       "  </tbody>\n",
       "</table>\n",
       "<p>91 rows × 6529 columns</p>\n",
       "</div>"
      ],
      "text/plain": [
       "    0     1     2     3     4     5     6     7     8     9     ...  6519  \\\n",
       "0      0     0     0     0     0     0     0     0     0     0  ...     0   \n",
       "1      0     0     0     0     0     0     0     0     0     0  ...     0   \n",
       "2      0     0     0     0     0     1     0     0     0     0  ...     0   \n",
       "3      0     0     0     0     0     0     0     0     0     0  ...     0   \n",
       "4      0     0     0     0     0     0     0     0     0     0  ...     0   \n",
       "..   ...   ...   ...   ...   ...   ...   ...   ...   ...   ...  ...   ...   \n",
       "86     0     0     0     0     0     0     0     0     0     0  ...     0   \n",
       "87     0     0     0     0     0     0     0     0     0     0  ...     0   \n",
       "88     0     0     0     0     0     0     0     0     0     0  ...     0   \n",
       "89     0     0     0     0     0     0     0     0     0     0  ...     0   \n",
       "90     0     0     0     0     1     0     0     0     0     0  ...     0   \n",
       "\n",
       "    6520  6521  6522  6523  6524  6525  6526  6527  6528  \n",
       "0      0     0     0     0     0     0     0     0     0  \n",
       "1      0     0     0     0     0     0     0     0     0  \n",
       "2      0     0     0     0     0     0     0     0     0  \n",
       "3      0     0     0     0    11     0     0     0     0  \n",
       "4      0     0     0     0     0     0     0     0     0  \n",
       "..   ...   ...   ...   ...   ...   ...   ...   ...   ...  \n",
       "86     0     0     0     0     0     0     0     0     0  \n",
       "87     0     0     0     0     0     0     0     0     0  \n",
       "88     0     0     0     0     0     0     0     0     0  \n",
       "89     0     0     0     0     0     0     0     0     0  \n",
       "90     0     0     0     1     0     0     0     0     0  \n",
       "\n",
       "[91 rows x 6529 columns]"
      ]
     },
     "execution_count": 180,
     "metadata": {},
     "output_type": "execute_result"
    }
   ],
   "source": [
    "pd.DataFrame(bow4.todense())"
   ]
  },
  {
   "cell_type": "code",
   "execution_count": 181,
   "metadata": {},
   "outputs": [
    {
     "name": "stdout",
     "output_type": "stream",
     "text": [
      "['ab', 'abandon', 'abbi', 'abc', 'abid', 'abil', 'abl', 'abound', 'aboutaddingeveri', 'abovethefold', 'abram', 'abroad', 'abroadand', 'absente', 'absolut', 'absorb', 'abstract', 'absurd', 'absurda', 'abundantli', 'abus', 'academ', 'academi', 'accept', 'access', 'accid', 'accommod', 'accomplish', 'accord', 'accordinglyi', 'account', 'accru', 'accur', 'accuraci', 'accus', 'achiev', 'ackack', 'acknowledg', 'acoust', 'acquir', 'across', 'act', 'actcnn', 'action', 'actioni', 'actionn', 'actionnor', 'actionth', 'activ', 'activist', 'actor', 'actress', 'actual', 'acumen', 'ad', 'adam', 'add', 'addedclinton', 'addedth', 'addit', 'address', 'addressedbut', 'addressthat', 'administr', 'administrationour', 'admir', 'admiss', 'admit', 'admityour', 'adolf', 'adspend', 'adult', 'advanc', 'advantag', 'advantageh', 'adversari', 'advic', 'advis', 'adviserand', 'advisor', 'advoc', 'affair', 'affect', 'affili', 'affirmativestori', 'afflict', 'affluenc', 'afford', 'afghan', 'afghanistan', 'afghanistannew', 'aforement', 'afraid', 'african', 'africanamerican', 'africanamericansi', 'aftermath', 'afternoon', 'afterward', 'afterwardstrump', 'againh', 'againstpolic', 'againw', 'againwhat', 'age', 'agenc', 'agenda', 'agent', 'agentu', 'aggress', 'agit', 'ago', 'agon', 'agotheyr', 'agotrump', 'agre', 'agreement', 'agreementstori', 'ah', 'aha', 'ahead', 'ahmad', 'aid', 'ail', 'aim', 'ainsley', 'air', 'aircraft', 'airport', 'aj', 'aka', 'al', 'ala', 'alan', 'alarm', 'albeit', 'albrecht', 'aldrin', 'aleksashenko', 'aleksashenkofor', 'aleksashenkowhen', 'alert', 'alex', 'alexandria', 'alexey', 'alfa', 'alfr', 'alia', 'alicia', 'alien', 'alisyn', 'aliv', 'allbut', 'alleg', 'allegedli', 'allegi', 'allen', 'allevi', 'alli', 'allianc', 'allow', 'alltrump', 'allud', 'almost', 'alon', 'aloneit', 'along', 'alongbefor', 'alongsid', 'alper', 'alqud', 'alreadi', 'alright', 'also', 'alterc', 'altern', 'although', 'altruismbut', 'alway', 'amanda', 'amandi', 'amaz', 'amazingi', 'ambassador', 'ambiti', 'ambush', 'amend', 'amendmentsok', 'america', 'americadonald', 'americai', 'americalook', 'american', 'americana', 'americanl', 'americanth', 'americatrump', 'americawhat', 'amid', 'amnesti', 'among', 'amor', 'amount', 'amus', 'analog', 'analys', 'analysi', 'analyst', 'analyz', 'ancestor', 'anchor', 'anchorwhat', 'anderson', 'andi', 'andr', 'andrea', 'andrew', 'andrietsch', 'anger', 'angerergetti', 'angri', 'anim', 'animu', 'anita', 'ann', 'annex', 'anni', 'anniversari', 'announc', 'announcedlest', 'announcementfin', 'annoy', 'anonym', 'anoth', 'answer', 'answerhl', 'anthem', 'anthema', 'anthoni', 'antiamerican', 'anticip', 'antihispan', 'antiisi', 'antirefuge', 'antisemit', 'antisoci', 'antithesi', 'antitrump', 'anuzi', 'anxieti', 'anybodi', 'anymor', 'anymorestori', 'anymoreth', 'anyon', 'anyonenew', 'anyoneon', 'anyth', 'anythingmartin', 'anythingto', 'anywayi', 'anywayjeff', 'anywher', 'aok', 'ap', 'apart', 'apolog', 'appar', 'appeal', 'appealtrump', 'appear', 'appearsad', 'applaud', 'appli', 'applic', 'appoint', 'appreci', 'apprentic', 'apprenticethat', 'approach', 'appropri', 'approv', 'approxim', 'april', 'arab', 'arabia', 'arabiai', 'aravosi', 'arbitrag', 'arceneaux', 'archaggreg', 'architect', 'archiv', 'ardent', 'area', 'arebiden', 'arena', 'arent', 'arerad', 'arethen', 'argu', 'arguefrom', 'argument', 'arizona', 'arlinghau', 'arm', 'armament', 'armi', 'armstrong', 'arnesen', 'arni', 'arnold', 'around', 'arpaio', 'arraign', 'arrang', 'arrest', 'arrestth', 'arriv', 'arrog', 'art', 'artem', 'articl', 'artilleri', 'artist', 'asa', 'ascertain', 'asham', 'ashley', 'ashooh', 'asia', 'asid', 'ask', 'askeddonald', 'askedy', 'asleepand', 'aspect', 'assang', 'assassin', 'assault', 'assembl', 'assert', 'assess', 'assessedbut', 'assessmentth', 'asset', 'asshol', 'assign', 'assimil', 'assist', 'associ', 'assort', 'assum', 'assur', 'aston', 'astonish', 'astronaut', 'athlet', 'atlant', 'atlanta', 'atmospher', 'atop', 'attack', 'attackingthat', 'attackmilitari', 'attackread', 'attacksl', 'attacksth', 'attempt', 'attend', 'attende', 'attendedbut', 'attent', 'attentionbut', 'attest', 'attitud', 'attitudea', 'attorney', 'attorneya', 'attract', 'attribut', 'aubrey', 'audienc', 'audiencehowev', 'audiencekimmel', 'audiencesat', 'audiencethi', 'audiencetuesday', 'audit', 'aug', 'august', 'ausland', 'austin', 'australia', 'australian', 'authent', 'author', 'authorit', 'authoritiesgorenstein', 'automat', 'automaticallybut', 'avail', 'aven', 'avenu', 'averag', 'avoid', 'aw', 'await', 'awar', 'award', 'away', 'awayin', 'awesom', 'awkward', 'b', 'babi', 'back', 'backandforth', 'backchannel', 'backdrop', 'backer', 'background', 'backlash', 'bacteria', 'bad', 'badli', 'baffl', 'baffledth', 'bag', 'baier', 'bail', 'bailor', 'bailout', 'bait', 'baker', 'balanc', 'balloon', 'ballot', 'baloney', 'ban', 'band', 'banish', 'bank', 'banker', 'bankruptor', 'banw', 'bar', 'barack', 'barb', 'barbara', 'barbaro', 'barbsth', 'bare', 'barelyavert', 'barg', 'bargain', 'barker', 'barksdal', 'baromet', 'baroni', 'barrel', 'barri', 'barron', 'barthel', 'base', 'basford', 'bash', 'basic', 'basket', 'basketbal', 'bass', 'bate', 'baton', 'battl', 'battlefield', 'battleground', 'battlegroundst', 'baxley', 'bayliss', 'beach', 'bean', 'bear', 'beast', 'beat', 'beaten', 'beatenth', 'beatti', 'beauti', 'becam', 'becom', 'bed', 'bedrock', 'beeni', 'beg', 'began', 'beget', 'begin', 'begun', 'behalf', 'behalfjam', 'beher', 'behind', 'beij', 'beinart', 'belief', 'believ', 'believedcol', 'belittl', 'belittlesth', 'belong', 'belowback', 'belowbono', 'belowdonald', 'belowemmi', 'beloweveri', 'belowfollow', 'belowgo', 'belowh', 'belowim', 'belowinde', 'belowobama', 'belowof', 'belowpopulationwak', 'belowreport', 'belowso', 'belowstil', 'belowth', 'belowthat', 'belowtrump', 'belowwel', 'belowwhat', 'belowwhil', 'belowwith', 'belowyeah', 'ben', 'beneath', 'benefactor', 'benefici', 'beneficialasid', 'benefit', 'benefitbiden', 'benefitdur', 'benghazi', 'benjamin', 'benson', 'bentsen', 'berg', 'bergeron', 'bernardino', 'berni', 'bertrand', 'bertsch', 'best', 'beswick', 'bet', 'beth', 'bettencourt', 'better', 'betterw', 'betti', 'beyond', 'beyondfin', 'bfor', 'bharara', 'bia', 'bias', 'bibl', 'biblebut', 'bid', 'biden', 'bidenwhil', 'big', 'bigger', 'biggest', 'bigmoney', 'bigot', 'bigotri', 'bill', 'billi', 'billion', 'billionair', 'billionstrong', 'billwashington', 'bind', 'bio', 'biodegrad', 'biograph', 'biographi', 'biosourc', 'bipartisan', 'birth', 'birther', 'birthplac', 'bistat', 'bit', 'bite', 'biundo', 'bj', 'black', 'blake', 'blame', 'blank', 'blanket', 'blasio', 'blast', 'blatant', 'blaze', 'bleak', 'bless', 'blind', 'blister', 'block', 'blog', 'blood', 'bloodless', 'bloodstain', 'bloomberg', 'blow', 'blown', 'blue', 'blueprint', 'blunt', 'blur', 'bluster', 'board', 'boast', 'boat', 'bob', 'bobbi', 'bode', 'bodi', 'bodyslam', 'boeyink', 'bogu', 'bold', 'bomb', 'bombast', 'bomber', 'bombingssimmon', 'bombshel', 'bond', 'bonesteel', 'bonjean', 'bonni', 'bono', 'boo', 'book', 'boom', 'boost', 'borcher', 'border', 'borderthi', 'bore', 'borg', 'borick', 'born', 'borrow', 'boss', 'boston', 'bother', 'bothflaw', 'bothi', 'bottl', 'bottom', 'bought', 'bounc', 'bound', 'boundari', 'bow', 'bowl', 'box', 'boxnow', 'boy', 'bozo', 'bpoliticsth', 'bra', 'brace', 'brad', 'brahmin', 'braid', 'brain', 'brainchild', 'branch', 'brand', 'brandish', 'brandon', 'brandt', 'brave', 'brazenli', 'brazil', 'break', 'breakergo', 'breakfast', 'breakshow', 'breakup', 'breath', 'breathless', 'bred', 'brendan', 'brentley', 'bret', 'brethren', 'brettschneid', 'brian', 'brickoth', 'bridg', 'bridgeg', 'bridgei', 'bridget', 'brief', 'briefingthes', 'brilliant', 'brim', 'bring', 'bristl', 'bristow', 'britain', 'britannica', 'britannicafor', 'britannicahead', 'british', 'broad', 'broadband', 'broadcast', 'broadcaston', 'broader', 'brodi', 'broke', 'broken', 'brokenli', 'broker', 'broklawski', 'brother', 'brotherinlaw', 'brought', 'browder', 'brown', 'bruce', 'brussel', 'brusselsbas', 'brutal', 'bruton', 'bryan', 'bryce', 'brzezinski', 'bu', 'bubbl', 'buckley', 'buddi', 'budget', 'buffalo', 'build', 'built', 'bullet', 'bulli', 'bullshit', 'bullyboy', 'bullylet', 'bump', 'bunch', 'bungl', 'bunk', 'buoyanc', 'burch', 'burden', 'bureau', 'bureauth', 'burgess', 'buri', 'burk', 'burl', 'burnett', 'burnt', 'burt', 'buse', 'bush', 'busi', 'businessdonald', 'businesslik', 'businessman', 'businessmen', 'bust', 'butcher', 'butler', 'button', 'buy', 'buzz', 'c', 'cabinet', 'cabl', 'cach', 'caitlyn', 'calderon', 'calib', 'california', 'call', 'callum', 'calm', 'calmli', 'came', 'camera', 'cameraman', 'cameri', 'camerota', 'camp', 'campaign', 'campaignestero', 'campaignh', 'campaignnot', 'campaignread', 'campaignwhat', 'campaignwildstein', 'campbel', 'campi', 'campthes', 'can', 'canada', 'cancela', 'cancer', 'candi', 'candid', 'candidaci', 'candidatebut', 'candidatesamong', 'candidatesstori', 'candidateth', 'candor', 'cant', 'cap', 'capabl', 'capac', 'capit', 'caption', 'captur', 'car', 'card', 'care', 'career', 'careerdemocrat', 'caregiv', 'careless', 'careth', 'cargo', 'cari', 'carnag', 'carney', 'carno', 'carol', 'carolina', 'carolinaa', 'carpenti', 'carri', 'carrier', 'carré', 'carson', 'carter', 'carterin', 'carv', 'carver', 'case', 'casean', 'casegoodnight', 'caseinm', 'casejosh', 'cast', 'casualti', 'catalog', 'catastroph', 'catch', 'cate', 'categorydonald', 'catherin', 'caucu', 'caught', 'caus', 'causat', 'cautiou', 'cavazo', 'cave', 'caveat', 'cb', 'cbsnew', 'ceasefir', 'cedrick', 'ceil', 'ceisler', 'celebr', 'celebritykimmel', 'celebritystori', 'cell', 'censu', 'center', 'centerpiec', 'centerreleas', 'central', 'centuri', 'ceo', 'ceremoni', 'certain', 'certainli', 'certif', 'certificatebrazil', 'certificateholt', 'chabria', 'chad', 'chair', 'chairman', 'chairwoman', 'challeng', 'chamber', 'champion', 'chan', 'chanc', 'chancesh', 'chancesim', 'chandler', 'chang', 'changeddiamond', 'changedonald', 'changein', 'changestori', 'changeth', 'channel', 'chant', 'chao', 'chapter', 'charact', 'character', 'charg', 'charit', 'chariti', 'charl', 'charli', 'charlott', 'charlottefrom', 'charlottemecklenburg', 'charter', 'chase', 'cheapdavid', 'check', 'checkedth', 'checker', 'cheeto', 'chelsea', 'chelseachelsea', 'chemic', 'chemistri', 'cheneyhi', 'cherish', 'chicago', 'chicagoin', 'chicken', 'chief', 'chiefamerican', 'child', 'childcar', 'childish', 'children', 'childrenit', 'chimera', 'chin', 'china', 'chinapresid', 'chinath', 'chines', 'chip', 'cho', 'choic', 'choke', 'choos', 'chopper', 'chri', 'christi', 'christian', 'christina', 'christoph', 'chuck', 'church', 'cia', 'cilley', 'cindi', 'circl', 'circu', 'circuit', 'circul', 'circular', 'cisgend', 'citat', 'cite', 'citi', 'citiesw', 'citizen', 'citizenship', 'citizenshipit', 'civil', 'civilian', 'civilizationcommit', 'clad', 'claim', 'claimsdemocrat', 'claira', 'clarif', 'clarifi', 'clark', 'clash', 'class', 'classifi', 'classmat', 'claus', 'clean', 'clear', 'clearanc', 'clearer', 'clearerth', 'clearli', 'clegg', 'clemson', 'cleveland', 'climat', 'climb', 'cling', 'clinton', 'clintonespeci', 'clintoninsid', 'clintonless', 'clintonno', 'clintonth', 'clock', 'clod', 'close', 'closeddoor', 'closer', 'closest', 'closur', 'cloth', 'cloud', 'clovi', 'clowntogeth', 'club', 'cluster', 'clutch', 'cnn', 'cnncom', 'cnnfew', 'cnnlike', 'cnnoffici', 'cnnorc', 'cnnthere', 'coach', 'coalit', 'coast', 'coat', 'cochair', 'cocoon', 'code', 'coffe', 'cohen', 'cohost', 'coin', 'cold', 'cole', 'colectur', 'colin', 'collabor', 'collaps', 'colleagu', 'collect', 'colleg', 'collegeeduc', 'color', 'colorado', 'colorblind', 'colorif', 'column', 'columnist', 'combaldieuassoci', 'combat', 'combin', 'combov', 'come', 'comedi', 'comedian', 'comer', 'comey', 'comfort', 'command', 'commanderinchief', 'commenc', 'commensur', 'comment', 'commentari', 'commentatoraccord', 'commerci', 'commiss', 'commission', 'commissionwhi', 'commit', 'commitmentsmak', 'committe', 'common', 'commonli', 'commot', 'commun', 'communicatesston', 'communitiestrump', 'compani', 'compar', 'comparison', 'compass', 'compens', 'compet', 'competencetrump', 'competit', 'competitor', 'complain', 'complaint', 'complet', 'completedin', 'complex', 'compli', 'compon', 'comport', 'compos', 'compost', 'comprehens', 'compromis', 'compulsori', 'con', 'conced', 'concentr', 'concept', 'concern', 'concerni', 'concernsim', 'concert', 'concertcnn', 'conclud', 'conclus', 'concret', 'condemn', 'condit', 'condol', 'condor', 'conduct', 'conduit', 'confer', 'conferenc', 'conferencek', 'conferenceth', 'confid', 'confirm', 'conflict', 'confoundingli', 'confront', 'confus', 'conglomer', 'congratul', 'congress', 'congression', 'congressman', 'conjectur', 'connect', 'connectionin', 'conquer', 'conquestsdo', 'conscienc', 'conscious', 'consecut', 'consensu', 'consent', 'consequ', 'conserv', 'conservativefocus', 'consid', 'consist', 'consortium', 'conspiraci', 'constant', 'constantli', 'constitu', 'constitut', 'constitution', 'constitutionallyprotect', 'constraint', 'construct', 'consult', 'consultantthre', 'consultationsnew', 'consumpt', 'contact', 'contain', 'contamin', 'contempt', 'contend', 'content', 'contest', 'contin', 'continent', 'continu', 'contract', 'contractor', 'contradict', 'contradictori', 'contrari', 'contrast', 'contribut', 'contributor', 'control', 'controllet', 'controversi', 'conven', 'conveni', 'convent', 'conventionread', 'convers', 'convertedon', 'convertingspokespeopl', 'convict', 'convinc', 'conway', 'cooker', 'cool', 'coolhead', 'coolth', 'cooper', 'cooperatingwhil', 'coordin', 'cop', 'copi', 'corbella', 'core', 'corey', 'corkeri', 'corner', 'corni', 'corp', 'corpor', 'corpsthi', 'corpstrump', 'corpu', 'correct', 'correctli', 'correctlydespit', 'correl', 'correspond', 'corridor', 'corriveau', 'corrupt', 'cosgrov', 'cost', 'costa', 'cough', 'could', 'couldnt', 'council', 'counsel', 'counselth', 'count', 'counter', 'countermeasur', 'counterpart', 'counterterror', 'counti', 'countieswashington', 'countless', 'countri', 'countriesoverrid', 'countryauthor', 'countryh', 'countryif', 'countrymani', 'countryonli', 'countrythi', 'coupl', 'courag', 'couric', 'cours', 'court', 'courtappoint', 'courtcourt', 'courtesi', 'courtfeder', 'cousin', 'cover', 'coverag', 'coward', 'cowardspeak', 'cowork', 'coy', 'coyn', 'cozi', 'cpl', 'crackpot', 'crackpotsth', 'craig', 'crash', 'crawford', 'crazi', 'creat', 'creativ', 'credenti', 'credibl', 'credit', 'creditor', 'creed', 'crew', 'crime', 'crimea', 'crimedur', 'crimeridden', 'crimin', 'crisi', 'crisisthi', 'crisistrump', 'critic', 'criticsbut', 'criticsstori', 'critiqu', 'crook', 'cross', 'crossword', 'crousemay', 'crowd', 'crowdseat', 'crowley', 'crown', 'crucial', 'crucifi', 'crude', 'crumbl', 'crutcher', 'cruz', 'cspanwho', 'cuban', 'cuevasneund', 'cullen', 'cultur', 'cumul', 'cun', 'cuomo', 'cup', 'cupcak', 'curb', 'cure', 'curfew', 'curios', 'curiou', 'current', 'curtain', 'curv', 'custodi', 'custom', 'cut', 'cuttothechas', 'cwatkinstv', 'cycl', 'cycleaccord', 'cynic', 'czar', 'czarneckiboston', 'dad', 'daesh', 'daili', 'dallesandro', 'damag', 'damagesobama', 'damareo', 'damien', 'damn', 'dan', 'danc', 'dane', 'danger', 'dangerousauthor', 'dangerso', 'daniel', 'danish', 'danni', 'danpfeiff', 'dant', 'dare', 'dariz', 'dark', 'darren', 'darwin', 'dash', 'dashboard', 'dastardli', 'data', 'date', 'datetrump', 'datewildstein', 'daughter', 'dave', 'davi', 'david', 'davidson', 'dawn', 'dawson', 'day', 'dayfor', 'dayobama', 'daytona', 'daze', 'dc', 'dconn', 'dcsa', 'de', 'deac', 'dead', 'deadli', 'deal', 'dealsso', 'dealswel', 'dealt', 'dealtrump', 'dean', 'dearborn', 'death', 'deathth', 'deb', 'debat', 'debateauthor', 'debatecnn', 'debateform', 'debategaff', 'debateit', 'debatelest', 'debatelibertarian', 'debatemajor', 'debatepresid', 'debatesaft', 'debateshada', 'debatesi', 'debatesthi', 'debatestop', 'debatestwittercom', 'debateth', 'debatetrump', 'debatewhat', 'debatewhen', 'debbi', 'debt', 'debtshillari', 'debunkedbut', 'debut', 'decad', 'decadebut', 'deceit', 'decemb', 'decent', 'decid', 'decil', 'decis', 'decisionher', 'decisionjosh', 'decisionmak', 'decisionwildstein', 'decisiveon', 'declar', 'declin', 'decontaminationlast', 'decorum', 'decreas', 'decri', 'dedic', 'deduct', 'dee', 'deem', 'deep', 'deeper', 'deepest', 'deepli', 'deeth', 'defeat', 'defect', 'defenc', 'defend', 'defens', 'defer', 'defi', 'deficit', 'defin', 'definit', 'degraffenreid', 'degre', 'dehydr', 'deir', 'deleg', 'delet', 'deliber', 'delin', 'deliv', 'deliveri', 'delus', 'demagogu', 'demand', 'demer', 'democraci', 'democrat', 'democratbut', 'democratsfor', 'democratsstori', 'demonstr', 'demora', 'dems', 'denatur', 'deni', 'denial', 'dennehi', 'denni', 'depart', 'depend', 'deplor', 'deplorablesha', 'deploy', 'deport', 'deportedstori', 'deposit', 'depress', 'deputi', 'derang', 'derek', 'derid', 'deris', 'derogatori', 'descend', 'describ', 'descript', 'descriptiontwitt', 'deserv', 'deservedand', 'design', 'desir', 'desper', 'despis', 'despit', 'despot', 'destroy', 'destruct', 'detail', 'detain', 'detect', 'detector', 'determin', 'detest', 'detroit', 'develop', 'developmentsth', 'devic', 'devil', 'devis', 'devot', 'dflastori', 'diagnos', 'dialogu', 'dialup', 'diamond', 'diana', 'diaz', 'dicethi', 'dick', 'dicristofaro', 'dictionari', 'didan', 'didhi', 'didnt', 'die', 'diet', 'differ', 'differencestrump', 'differencether', 'differenti', 'difficult', 'difficulti', 'dig', 'digest', 'digiorgio', 'digit', 'dilig', 'dime', 'dimwit', 'dingellnorwood', 'dinner', 'dip', 'diplomat', 'dire', 'direct', 'directionth', 'directli', 'director', 'dirt', 'disabl', 'disagre', 'disallow', 'disappear', 'disappoint', 'disast', 'disasterth', 'disastr', 'disciplin', 'disciplinari', 'disciplinethi', 'disclos', 'disclosur', 'discord', 'discov', 'discoveri', 'discredit', 'discrep', 'discrimin', 'discriminatori', 'discuss', 'discussiontrump', 'disdain', 'disgrac', 'disgracefulcohen', 'disgust', 'dishonesti', 'disintegr', 'dismal', 'dismiss', 'disord', 'disordera', 'disparag', 'dispers', 'displac', 'display', 'dispos', 'disproport', 'disput', 'disqualifi', 'disregard', 'disrespect', 'disrupt', 'disruptor', 'diss', 'dissent', 'dissid', 'dissip', 'distanc', 'distant', 'distil', 'distinguish', 'distort', 'distract', 'distribut', 'district', 'distrust', 'ditch', 'diverg', 'divers', 'diversifi', 'diversitythi', 'divid', 'divis', 'dj', 'dnev', 'doauthor', 'dobut', 'doc', 'docket', 'doctor', 'document', 'documentarpaio', 'documentsinvestig', 'dodg', 'doesnt', 'dog', 'dokain', 'dollar', 'domest', 'domin', 'donald', 'donat', 'done', 'donna', 'donor', 'dont', 'dontaft', 'doom', 'door', 'dore', 'dori', 'dorrian', 'doso', 'dotch', 'doth', 'doubl', 'doubletalk', 'doubli', 'doubt', 'doubter', 'douch', 'doug', 'dowless', 'downey', 'downlikewis', 'downmessag', 'downtim', 'downtown', 'downwel', 'dozen', 'dozensread', 'dr', 'draft', 'drag', 'drama', 'dramat', 'draperi', 'draw', 'drawn', 'drawnout', 'dream', 'dreamthi', 'dress', 'drew', 'drexel', 'drift', 'drink', 'drivel', 'driver', 'drivewayaft', 'drone', 'drop', 'drought', 'drove', 'drown', 'drug', 'drugsif', 'duck', 'dude', 'due', 'duel', 'dueth', 'duffi', 'dukaki', 'duke', 'dumbest', 'dumpster', 'dunford', 'duo', 'duprey', 'durando', 'durham', 'duti', 'dwell', 'dylan', 'eadon', 'eagan', 'eaglerisingcom', 'ear', 'earhardt', 'earl', 'earli', 'earlier', 'earliest', 'earlyclinton', 'earn', 'earner', 'earnest', 'eas', 'easi', 'easili', 'east', 'easter', 'eastern', 'eat', 'eaten', 'echo', 'eclect', 'eclips', 'econom', 'economi', 'economicsfor', 'economicsread', 'economist', 'economybut', 'ecosystem', 'ecstat', 'ed', 'edelson', 'edg', 'edison', 'editor', 'editori', 'educ', 'educationbush', 'effect', 'efficaci', 'effort', 'effortobama', 'effortsth', 'effortvet', 'eg', 'egotist', 'ehrlich', 'eichberg', 'eight', 'eightmonth', 'eightyear', 'eitc', 'either', 'eitheron', 'eitherther', 'eke', 'elabor', 'elat', 'elbow', 'elderli', 'elect', 'electiona', 'electioneveri', 'electioniranian', 'electionit', 'electionorlando', 'electionsal', 'elector', 'electorateth', 'electr', 'element', 'elementari', 'elig', 'elimin', 'elit', 'elizabeth', 'elizabethnew', 'els', 'elsewher', 'elsezachari', 'email', 'emailfound', 'emb', 'embed', 'embolden', 'embrac', 'emerg', 'emergeth', 'emili', 'emin', 'emir', 'emiss', 'emmi', 'emmywin', 'emot', 'emphas', 'empir', 'employ', 'employe', 'employeesat', 'empti', 'enabl', 'enact', 'encount', 'encourag', 'encyclopedia', 'end', 'endang', 'endear', 'endless', 'endors', 'endth', 'endur', 'enemi', 'enemyther', 'energi', 'energybut', 'enforc', 'engag', 'engin', 'england', 'english', 'enhanc', 'enjoy', 'enlist', 'enorm', 'enough', 'enquir', 'enrich', 'enrol', 'ensu', 'ensur', 'enter', 'entertain', 'enthusiasm', 'entir', 'entirelyeveri', 'entireti', 'entiti', 'entitl', 'entranc', 'entrepreneuri', 'entrust', 'envelop', 'envestnet', 'environ', 'environment', 'envis', 'epic', 'epicent', 'episod', 'equal', 'equat', 'equilibrium', 'equit', 'equival', 'er', 'era', 'ercol', 'eric', 'erica', 'erik', 'eriknelson', 'ernaut', 'erod', 'error', 'erven', 'erwin', 'escal', 'escap', 'especi', 'espn', 'espnwhil', 'espous', 'essenc', 'essenti', 'est', 'establish', 'estat', 'estim', 'ether', 'ethic', 'ethiopia', 'ethnic', 'etiquett', 'eugen', 'eugenicist', 'europ', 'europea', 'european', 'evad', 'evan', 'evansvil', 'evapor', 'evelyn', 'even', 'evenhand', 'eveninggorenstein', 'evenli', 'event', 'eventemp', 'eventu', 'ever', 'everettpolitico', 'evergrow', 'everi', 'everlov', 'evermani', 'everon', 'eversom', 'everybodi', 'everybodystori', 'everyday', 'everyon', 'everyth', 'everywher', 'everywhereit', 'evid', 'evil', 'evildo', 'evilsclinton', 'evinc', 'eviscer', 'evolv', 'exact', 'exactli', 'exagger', 'examin', 'exampl', 'examplesappear', 'exasper', 'exce', 'excel', 'except', 'exchang', 'exclus', 'excomm', 'excus', 'exec', 'execut', 'exemplari', 'exercis', 'exert', 'exhaust', 'exhibit', 'exist', 'existedok', 'existenceselfselect', 'existenti', 'existsboomthank', 'existto', 'exit', 'expand', 'expans', 'expat', 'expect', 'expectationset', 'expens', 'experi', 'experienc', 'experiencethat', 'experiencewel', 'expert', 'expertis', 'expertisesh', 'expir', 'explain', 'explan', 'explicitli', 'explod', 'exploit', 'explor', 'explos', 'expos', 'exposur', 'exposé', 'expound', 'express', 'extend', 'extens', 'extent', 'extern', 'extinguish', 'extol', 'extra', 'extrem', 'extremist', 'extremistsread', 'exud', 'eye', 'eyebrow', 'ezzor', 'f', 'face', 'facebook', 'facebooktwitt', 'faceoffi', 'facetofac', 'facil', 'facingl', 'facingmanhattanbas', 'fact', 'factcheck', 'faction', 'facto', 'factor', 'factshillari', 'factual', 'facultyl', 'fade', 'fahrenthold', 'fail', 'failor', 'failur', 'failurefeatur', 'faint', 'fair', 'fairli', 'faith', 'fake', 'falk', 'fall', 'fallaci', 'fallen', 'fallon', 'fals', 'falsehood', 'fame', 'famili', 'familiar', 'familyi', 'famou', 'famous', 'fan', 'fanci', 'fantast', 'far', 'farajjohnson', 'farenthold', 'fargo', 'farm', 'farmer', 'farri', 'fast', 'fastfood', 'fat', 'fatal', 'fate', 'father', 'fatherofseven', 'fatherstori', 'fault', 'faux', 'favor', 'fbi', 'fbihttpstcovfaercuzjm', 'fck', 'fear', 'feari', 'fearlessli', 'featur', 'februari', 'fec', 'fed', 'feder', 'fee', 'feebleminded', 'feed', 'feel', 'feet', 'fell', 'fellow', 'fellowship', 'felt', 'femal', 'fenton', 'feral', 'fergu', 'fernand', 'ferrandino', 'ferrulo', 'fesler', 'field', 'fieldrul', 'fierc', 'fieri', 'fifth', 'fifti', 'fight', 'fightthey', 'figur', 'figureh', 'file', 'filer', 'fill', 'final', 'financ', 'financi', 'find', 'findlay', 'fine', 'finegan', 'finger', 'fingerprint', 'finish', 'fiorentino', 'fire', 'firearm', 'firewal', 'firework', 'firm', 'firmli', 'first', 'firsthand', 'firstrat', 'firstterm', 'fischer', 'fish', 'fit', 'fitzgerald', 'five', 'fivealarm', 'fivethirtyeightcom', 'fivetim', 'fix', 'fixtur', 'flag', 'flagw', 'flame', 'flash', 'flatout', 'flaunt', 'flaw', 'flawlessli', 'flee', 'fleec', 'flew', 'flexibl', 'flickr', 'flip', 'flood', 'floor', 'florida', 'floridait', 'flounder', 'flow', 'flower', 'flub', 'fluoresc', 'flynn', 'focal', 'focu', 'focus', 'fodder', 'foeck', 'foei', 'folk', 'follow', 'followup', 'fond', 'food', 'fool', 'fooledat', 'foolish', 'foot', 'footag', 'footbal', 'footstepspopular', 'fora', 'foray', 'forb', 'forbidden', 'forc', 'forcether', 'ford', 'fore', 'forefront', 'foreign', 'forev', 'forfeit', 'forg', 'forgedif', 'forget', 'forgiven', 'forgotten', 'forin', 'fork', 'form', 'formal', 'format', 'formatwith', 'former', 'formul', 'formula', 'fort', 'forthcom', 'forthrightli', 'fortney', 'fortun', 'forum', 'forward', 'forwardth', 'foster', 'fought', 'found', 'foundat', 'foundationattack', 'foundationauthor', 'foundationwilliam', 'founder', 'four', 'fourteen', 'fourth', 'fourway', 'fox', 'foy', 'frack', 'frame', 'framer', 'framework', 'franc', 'franchis', 'franci', 'francisco', 'frank', 'frankli', 'françoi', 'fraud', 'fraudul', 'freak', 'fred', 'free', 'freedman', 'freedom', 'freedomfor', 'freetrad', 'freeway', 'french', 'frenzi', 'frequenc', 'frequent', 'fresh', 'fri', 'frick', 'friday', 'fridayth', 'fridaythat', 'fridman', 'friend', 'friendli', 'friendsbut', 'friendship', 'fring', 'fringeobamaworld', 'frisk', 'frizzel', 'fromon', 'front', 'frontlin', 'frontman', 'froze', 'frustrat', 'fudg', 'fuel', 'fulfil', 'full', 'fuller', 'fulli', 'fulton', 'fun', 'function', 'fund', 'fundament', 'fundamentalseconom', 'funni', 'funnier', 'furiou', 'furthermor', 'fuse', 'futur', 'futuresecond', 'g', 'ga', 'gabbard', 'gabbi', 'gabriel', 'gaff', 'gage', 'gain', 'galauthor', 'galifianaki', 'galli', 'gambl', 'game', 'gamebut', 'gamechang', 'gamesdespit', 'gap', 'garcon', 'garden', 'gari', 'garner', 'gastroenterologist', 'gather', 'gave', 'gay', 'gaylen', 'gazprom', 'gear', 'gehrk', 'geist', 'gen', 'gene', 'gener', 'generaltrump', 'generos', 'genr', 'genteel', 'geolog', 'georg', 'georgia', 'gerald', 'germani', 'gerow', 'gerstein', 'gerstema', 'gestur', 'get', 'getti', 'gettylik', 'ghetto', 'ghostwrit', 'giant', 'gifford', 'giffordss', 'gift', 'giftsfeatur', 'giggl', 'gild', 'gingham', 'gingrich', 'girl', 'girlfriend', 'girlfriendrahami', 'girlzianna', 'giuliani', 'give', 'given', 'glad', 'gladiat', 'glanc', 'glass', 'glean', 'glee', 'gleefulli', 'glide', 'global', 'globetoday', 'gloss', 'glow', 'gmoomaw', 'go', 'goal', 'god', 'godfrom', 'goe', 'goesbut', 'gold', 'goldman', 'golf', 'gon', 'gone', 'gonidaki', 'good', 'goodi', 'goodli', 'goodman', 'goodwin', 'googl', 'googlepinterestdigglinkedin', 'gop', 'gore', 'goregeorg', 'gorenstein', 'got', 'gotcha', 'gotten', 'gov', 'govern', 'governmentagain', 'governmentcontrol', 'governor', 'grade', 'gradeschool', 'gradi', 'graduat', 'graham', 'grain', 'grandpar', 'granni', 'grant', 'grasp', 'graveyard', 'gravit', 'gravita', 'gray', 'great', 'greater', 'greatest', 'greatli', 'green', 'greenfield', 'greenhous', 'greenspan', 'greetingshortli', 'greg', 'grenad', 'grew', 'gridlock', 'grief', 'grievous', 'griffin', 'grill', 'grim', 'grimhenc', 'grin', 'grinderscor', 'groceri', 'groen', 'gromi', 'gross', 'grossli', 'ground', 'groundwildstein', 'group', 'groupsaft', 'grow', 'growth', 'grubb', 'gu', 'guarasci', 'guard', 'guess', 'guest', 'guid', 'guilt', 'guilti', 'guiltyseem', 'guitar', 'gumptionin', 'gun', 'gunfight', 'gunfir', 'gunman', 'gunshot', 'gunsight', 'guru', 'guy', 'guystrang', 'gwinnett', 'h', 'habea', 'habit', 'hack', 'hacker', 'hadani', 'hadnt', 'hagl', 'hail', 'hair', 'hakim', 'half', 'halfcenturi', 'halftruth', 'hall', 'hallett', 'hallmark', 'halperin', 'haltingli', 'hama', 'hamilton', 'hammer', 'hampshir', 'hand', 'handgun', 'handgunth', 'handili', 'handl', 'handler', 'handlersassum', 'handout', 'hang', 'hanniti', 'hanoth', 'hansen', 'hapless', 'happen', 'happenedi', 'happenedtrump', 'happi', 'harass', 'hard', 'hardhit', 'hardlin', 'hardship', 'hardwork', 'hari', 'hark', 'harm', 'harrel', 'harri', 'harrison', 'harsh', 'harshli', 'hart', 'harvard', 'harvey', 'hasnt', 'hassan', 'hat', 'hate', 'hatr', 'hau', 'haveand', 'haveeven', 'havent', 'havoc', 'hawaiitrump', 'hawk', 'hawkin', 'hawkinss', 'hawley', 'hay', 'hayford', 'hazard', 'he', 'head', 'headauthor', 'headgear', 'headgearpresid', 'headlin', 'headscratch', 'headtohead', 'heal', 'healrecal', 'health', 'healthcar', 'healthi', 'hear', 'heard', 'heardth', 'heart', 'heartbreak', 'hearten', 'heartland', 'heat', 'heath', 'heatth', 'heavili', 'heavyhand', 'hector', 'hed', 'hedden', 'hedgehog', 'heel', 'heffley', 'heft', 'heidi', 'height', 'heinemann', 'heinlein', 'heipt', 'held', 'helicobact', 'hell', 'helmet', 'helmetsher', 'help', 'helpless', 'hemispher', 'hempstead', 'henc', 'henri', 'heon', 'her', 'herald', 'here', 'herefeatur', 'hereth', 'herewatch', 'herewith', 'heritag', 'hermaphrodit', 'hero', 'herselfwhen', 'hesit', 'hewitt', 'hewson', 'hey', 'hezbollah', 'hick', 'hickey', 'hickss', 'hidden', 'hide', 'high', 'higher', 'highest', 'highli', 'highlight', 'highprofil', 'highrank', 'highrol', 'highway', 'highwayvideo', 'hijack', 'hijackthat', 'hill', 'hillari', 'hillaryclinton', 'hillminor', 'himauthor', 'himbut', 'himth', 'himtwo', 'hint', 'hip', 'hire', 'hirshberg', 'histor', 'histori', 'historian', 'historyin', 'historymi', 'historyread', 'historyth', 'hit', 'hitler', 'hitlerian', 'hoax', 'hofstra', 'hold', 'holdout', 'holeinon', 'holi', 'holier', 'holland', 'hollywood', 'holt', 'holtdonald', 'home', 'homegrown', 'homeland', 'homeless', 'homemad', 'homememb', 'homeown', 'homestretch', 'homeworkand', 'homicid', 'homophobia', 'homosexu', 'honest', 'honesti', 'honestli', 'honeymoon', 'honor', 'hood', 'hook', 'hope', 'horizon', 'horn', 'horner', 'hornet', 'horribl', 'horror', 'hosenbal', 'hospit', 'host', 'hostag', 'hostil', 'hotel', 'hound', 'hour', 'hous', 'housebeliev', 'household', 'housekeep', 'housem', 'housestori', 'hover', 'howard', 'howev', 'httpstcocmmucukrtt', 'httpstcodxejeoinp', 'httpstcolpkcqikl', 'httpstcoqlggso', 'huang', 'hud', 'hudson', 'huffington', 'huffingtonpost', 'huffpo', 'huge', 'hugh', 'human', 'humanitarian', 'humbl', 'humil', 'humor', 'humphrey', 'hundr', 'hunt', 'hurdl', 'hurl', 'hurt', 'husband', 'hw', 'hyatt', 'hypocrisi', 'hypocrit', 'hypothes', 'hypothesi', 'hyster', 'hysteria', 'i', 'ian', 'iarossi', 'ibut', 'icebreak', 'ick', 'icon', 'id', 'idea', 'ideal', 'idealet', 'identifi', 'idiot', 'ignor', 'ignoramu', 'igor', 'ii', 'iiith', 'ill', 'illeg', 'illegalth', 'illinformedbrodi', 'illsuit', 'illustr', 'im', 'imag', 'imageri', 'imagin', 'immeasur', 'immedi', 'immens', 'immigr', 'immigrantsat', 'immun', 'impact', 'impacttrump', 'impass', 'impati', 'impeach', 'imped', 'imperfect', 'implement', 'impli', 'implicit', 'import', 'impos', 'imposs', 'impress', 'impressionok', 'improperli', 'improv', 'imwithyouhttpstcokwolibaw', 'inabl', 'inaccuraci', 'inaccuratewhen', 'inappropri', 'incarcer', 'incid', 'incidentcharlottemecklenburg', 'incidentsnow', 'includ', 'includedboth', 'inclus', 'incoher', 'incom', 'incompet', 'incomplet', 'incomprehens', 'inconclus', 'inconsist', 'inconveni', 'incorrectli', 'incorrectth', 'increas', 'increasingli', 'incred', 'incumb', 'inde', 'indec', 'indefinit', 'independ', 'indian', 'indiana', 'indic', 'indictedtoday', 'indiffer', 'indig', 'indirect', 'individu', 'indoctrin', 'induc', 'industri', 'ineffect', 'ineffici', 'inelig', 'inequ', 'inexperi', 'infin', 'infinit', 'inflam', 'inflat', 'inflict', 'influenc', 'influenti', 'influx', 'infomerci', 'inform', 'infrastructur', 'infring', 'ingenu', 'inhabit', 'inherit', 'inhous', 'initi', 'inject', 'injournalist', 'injur', 'injuredjohn', 'injuri', 'injustic', 'inmat', 'inner', 'innerc', 'innoc', 'innov', 'inordin', 'inquiri', 'insecur', 'insid', 'insight', 'insinu', 'insist', 'inspector', 'inspir', 'instagram', 'instanc', 'instant', 'instead', 'instinct', 'institut', 'institution', 'instruct', 'instrument', 'insuffici', 'insult', 'insur', 'insurg', 'insurrect', 'integr', 'intellectu', 'intellig', 'intemper', 'intend', 'intens', 'intent', 'interact', 'interest', 'interestswildstein', 'interim', 'interject', 'intermediari', 'intern', 'internationalist', 'internet', 'interpret', 'interrupt', 'interst', 'intervent', 'interview', 'intimid', 'intoler', 'intolerableclinton', 'intolerableth', 'introduc', 'introduct', 'intrud', 'intuit', 'invad', 'invari', 'invas', 'invasionwashington', 'invent', 'invest', 'investig', 'investigationthat', 'investigatorsbut', 'investor', 'invit', 'involv', 'involvedth', 'ioff', 'iowa', 'ir', 'iran', 'iranian', 'iraq', 'iraqtrump', 'ireland', 'iron', 'ironi', 'irregular', 'irrever', 'irrit', 'irswashington', 'isakson', 'isand', 'ish', 'isi', 'isil', 'isisobama', 'islam', 'islamist', 'islamophob', 'island', 'islandstori', 'ismr', 'isnt', 'isra', 'israel', 'issu', 'issuebas', 'issuesit', 'issuessh', 'issuesstori', 'issuewhil', 'ita', 'itali', 'itand', 'itbut', 'itclinton', 'item', 'ith', 'itjulia', 'itsean', 'itselfa', 'itselfin', 'itselfth', 'itth', 'itwashington', 'itwhen', 'ivanka', 'ivanov', 'ive', 'iver', 'j', 'jab', 'jack', 'jacket', 'jacki', 'jackson', 'jai', 'jail', 'jailer', 'jake', 'jame', 'jami', 'jan', 'janet', 'janic', 'janitor', 'januari', 'januaryobama', 'japan', 'jason', 'jasta', 'jay', 'jayn', 'jealousi', 'jeb', 'jeff', 'jefferson', 'jen', 'jenner', 'jennif', 'jeremi', 'jerri', 'jersey', 'jerseyfolk', 'jerseynew', 'jerseyon', 'jessica', 'jettison', 'jew', 'jfk', 'jihad', 'jihadist', 'jile', 'jill', 'jim', 'jimbag', 'jimmi', 'jimmykimmel', 'jitter', 'jo', 'joann', 'job', 'jobmani', 'jobpaul', 'jobshillari', 'joe', 'joel', 'john', 'johnni', 'johnson', 'johnsoncnn', 'johnsonif', 'johnsonweld', 'join', 'joint', 'joke', 'jokingli', 'jon', 'jona', 'jonathan', 'jone', 'joni', 'jordan', 'jose', 'josef', 'joseph', 'josh', 'jotkoff', 'journal', 'journalbut', 'journalist', 'journalistsat', 'journaliststrump', 'journalnbc', 'joyou', 'jp', 'jr', 'jrfeatur', 'judaismclassroom', 'judd', 'judg', 'judgethey', 'judgment', 'judith', 'judo', 'judoth', 'judoturn', 'judson', 'judsonmcculloch', 'juggl', 'jugular', 'juli', 'julian', 'juliana', 'julyauthor', 'julytrump', 'jump', 'june', 'juneth', 'jungl', 'junior', 'justic', 'justin', 'jydstrup', 'k', 'kaczynski', 'kaepernick', 'kain', 'kangaroo', 'kanoyton', 'kany', 'karabel', 'karen', 'kari', 'kate', 'kathi', 'kati', 'kaufmann', 'kavanaugh', 'kearn', 'keef', 'keep', 'keever', 'keith', 'keithlamontscott', 'keithscott', 'kelli', 'kellyann', 'kellybaroni', 'kennedi', 'kennedyhubert', 'kept', 'kerr', 'kerri', 'ketzner', 'kevin', 'key', 'keyask', 'keyboard', 'keymrb', 'khan', 'khrushchev', 'kick', 'kid', 'kill', 'killion', 'kim', 'kimmel', 'kind', 'king', 'kingbefor', 'kingreturn', 'kingsiron', 'kirstein', 'kiss', 'kitchen', 'klide', 'knee', 'kneejerk', 'kneel', 'knelt', 'knew', 'knight', 'knit', 'knive', 'knock', 'knockout', 'knot', 'know', 'knowledg', 'known', 'knowth', 'kochel', 'kolhaolam', 'koltak', 'konya', 'kooki', 'kookyin', 'koran', 'korea', 'korg', 'koskinenth', 'kostrzewa', 'kreider', 'kremlin', 'kremlinthi', 'kristen', 'krumberg', 'kudackiap', 'kurd', 'l', 'la', 'lab', 'label', 'labolt', 'labor', 'laboratori', 'lacivita', 'lack', 'ladi', 'laggard', 'laid', 'lame', 'lament', 'lamont', 'land', 'landdonald', 'landmark', 'landscap', 'landslid', 'lane', 'laneson', 'lang', 'langley', 'languag', 'languagehav', 'lar', 'larg', 'larger', 'largest', 'larim', 'larri', 'larsen', 'larson', 'laserfocus', 'last', 'lastli', 'latch', 'late', 'later', 'latest', 'latham', 'latin', 'latino', 'latter', 'lauer', 'laugh', 'laughsgalifianaki', 'laughter', 'laughterclearli', 'launch', 'laura', 'law', 'lawabid', 'lawh', 'lawless', 'lawmak', 'lawman', 'lawsuit', 'lawsuiti', 'lawsuitsdeb', 'lawsuitsit', 'lawsuitth', 'lawyer', 'lay', 'layout', 'lazi', 'le', 'lead', 'leader', 'leadersauthor', 'leadership', 'leadersw', 'leaderth', 'leadsfor', 'leak', 'leap', 'learn', 'learnaccord', 'least', 'leastli', 'leav', 'lectur', 'led', 'lee', 'leegot', 'left', 'leftpredict', 'leg', 'legaci', 'legal', 'legend', 'legendari', 'legisl', 'legitim', 'legitimaci', 'legitimatedonald', 'legitimizedauthor', 'legum', 'lehman', 'leland', 'length', 'lengthi', 'lennox', 'leon', 'leontiev', 'lesley', 'lesli', 'less', 'lesser', 'lesson', 'lessthandiplomat', 'lessthanmagnanim', 'lester', 'let', 'lethal', 'letter', 'level', 'levin', 'lewandowski', 'lewi', 'lgbt', 'liar', 'libel', 'liber', 'liberalcontrol', 'liberman', 'libertarian', 'liberti', 'libya', 'lie', 'lieall', 'liesajdelgado', 'liesform', 'lieuten', 'life', 'lifeauthor', 'lifelong', 'lifetim', 'lift', 'light', 'lightningquick', 'lightstori', 'likabl', 'like', 'likeent', 'likelihood', 'limit', 'limitless', 'lincoln', 'linda', 'linden', 'lindsey', 'line', 'lineszingersto', 'linger', 'link', 'linksther', 'lip', 'list', 'listen', 'listenand', 'listwhen', 'liter', 'litig', 'littl', 'littlerememb', 'live', 'livelihood', 'livesand', 'liz', 'lloyd', 'load', 'loadingrel', 'loan', 'lob', 'lobbi', 'lobbyist', 'lobotom', 'local', 'locat', 'lodg', 'loebsack', 'loftu', 'logic', 'london', 'long', 'longer', 'longest', 'longform', 'longstand', 'longterm', 'longtim', 'longwind', 'look', 'loompa', 'loos', 'loot', 'looter', 'lord', 'loretta', 'lori', 'lose', 'loseh', 'loser', 'loseth', 'loss', 'lost', 'lot', 'loton', 'lou', 'loud', 'loui', 'lousi', 'love', 'low', 'lower', 'lowest', 'lowincom', 'lowkey', 'lt', 'luca', 'lucki', 'lucr', 'ludicr', 'luethi', 'lunch', 'lurk', 'luther', 'luxuri', 'lynch', 'lyncher', 'lyndon', 'lynn', 'mac', 'machado', 'machin', 'machinesnot', 'macmanu', 'mad', 'made', 'madekelli', 'madison', 'mafiath', 'maga', 'magazin', 'magistr', 'magnitud', 'mail', 'mailask', 'mailnat', 'main', 'mainstream', 'maintain', 'maiola', 'major', 'majorparti', 'make', 'makersboth', 'makertrump', 'makeup', 'malaria', 'malic', 'mall', 'malloy', 'mammogram', 'man', 'manafort', 'manag', 'managerask', 'manageri', 'mandat', 'mandatori', 'maneuv', 'mangl', 'manhattan', 'mani', 'manifesto', 'manigault', 'manipul', 'manslaught', 'mantra', 'manufactur', 'manufacturerseamonn', 'mapleseveryon', 'marathon', 'marc', 'marcel', 'march', 'marchand', 'margaret', 'margin', 'marginsi', 'margo', 'mari', 'marian', 'marijuana', 'marijuanalov', 'marijuananelson', 'marin', 'maritim', 'mark', 'market', 'markperhap', 'marla', 'marli', 'marri', 'marriag', 'marshal', 'martha', 'marti', 'martin', 'martosko', 'martyr', 'marvel', 'marxist', 'maryland', 'mass', 'massiv', 'master', 'masteri', 'match', 'matchedth', 'mate', 'mateen', 'materi', 'materialsth', 'matern', 'mathi', 'matricardi', 'matt', 'matter', 'matterask', 'mattery', 'matuga', 'maureen', 'max', 'maxim', 'may', 'mayb', 'mayor', 'maysmith', 'mazzola', 'mcauliff', 'mccain', 'mccann', 'mcclatchymarist', 'mcculloch', 'mcdaniel', 'mcdonald', 'mcfaul', 'mclarti', 'mclaughlin', 'mclin', 'mcnulti', 'meal', 'mean', 'meaningless', 'meant', 'meanwhil', 'mearpaio', 'measur', 'mebiden', 'mechan', 'medal', 'meddl', 'media', 'mediaholt', 'median', 'medic', 'medicin', 'mediterranean', 'mediterraneanth', 'meet', 'meetingsher', 'mefurth', 'meg', 'megan', 'mehe', 'meim', 'mekellyann', 'melania', 'melissa', 'meltdown', 'member', 'memberh', 'memo', 'memor', 'memorabilia', 'memori', 'memphi', 'men', 'menac', 'menachem', 'mencken', 'mendaci', 'mental', 'mention', 'mentor', 'mepag', 'mercenari', 'merchandis', 'merchant', 'mercilessli', 'mere', 'merril', 'mess', 'messag', 'messagei', 'messbut', 'messeng', 'messwildstein', 'met', 'metaphor', 'meteski', 'method', 'metric', 'metro', 'mexico', 'meyou', 'michael', 'michel', 'michelson', 'michigan', 'microphon', 'microscopetoward', 'mid', 'middl', 'middlesex', 'middleton', 'mideast', 'midlevel', 'midst', 'midtown', 'might', 'migrant', 'mika', 'mike', 'mikhail', 'mildli', 'mile', 'miliband', 'militari', 'milk', 'mill', 'millenni', 'miller', 'millerick', 'million', 'milwauke', 'minc', 'mind', 'mindlessli', 'mine', 'minejohn', 'mini', 'minimum', 'minist', 'ministri', 'minnesota', 'minor', 'minoritiesth', 'mint', 'minut', 'miranda', 'mirror', 'mirth', 'miseri', 'miseryh', 'misguid', 'misguidedmust', 'misidentifiedread', 'misinform', 'mislead', 'misogynist', 'misrepresent', 'miss', 'missil', 'missouri', 'misspoken', 'misstat', 'mistak', 'mistaken', 'mistakenli', 'misus', 'mitt', 'mix', 'mob', 'mobley', 'mock', 'mode', 'model', 'moder', 'moderatorfor', 'moderatori', 'modern', 'modest', 'modi', 'mogul', 'moham', 'molli', 'moment', 'momentsbut', 'momentsstori', 'momentth', 'momentum', 'mondal', 'monday', 'mondaydavid', 'mondayi', 'mondayth', 'mondaytrump', 'money', 'moneyw', 'monier', 'monmouth', 'monologu', 'monopoli', 'montgomeri', 'month', 'monthhi', 'monthview', 'mook', 'moomaw', 'moon', 'moor', 'moral', 'morel', 'moreov', 'morgan', 'morn', 'morningthes', 'morri', 'mortal', 'moscow', 'mosqu', 'mostli', 'mostrec', 'mostwatch', 'mother', 'motion', 'motiv', 'mount', 'mouth', 'mouthalso', 'move', 'movement', 'mover', 'mower', 'moynihan', 'mr', 'mrmediatrain', 'msnbc', 'msnbcbut', 'much', 'muchmor', 'muddi', 'muddl', 'muir', 'multiday', 'multilater', 'multipl', 'multipli', 'mum', 'munit', 'murder', 'murdertrump', 'murphi', 'murray', 'museum', 'musician', 'muslim', 'muslimsound', 'must', 'mustard', 'muth', 'mutual', 'mysteryadd', 'n', 'na', 'nachama', 'nader', 'nadir', 'nafta', 'nail', 'name', 'namecal', 'nameobama', 'nan', 'narciss', 'narcissist', 'narendra', 'narr', 'narrow', 'nascar', 'nasti', 'nate', 'nation', 'nationeveryday', 'nationfor', 'nationread', 'nationsmost', 'nationsthi', 'nationstruli', 'nationwid', 'nativ', 'nato', 'natur', 'naval', 'nazi', 'nba', 'nbc', 'nbcnightlynew', 'nc', 'nd', 'neal', 'near', 'nearli', 'neatli', 'nebbishi', 'necessari', 'necessarili', 'neck', 'neckandneck', 'need', 'neededlead', 'neededth', 'neededw', 'needletrump', 'neema', 'nefari', 'neg', 'neglect', 'negoti', 'negro', 'nehr', 'neighbor', 'neighborhood', 'neil', 'neither', 'nelson', 'neocon', 'neophyt', 'net', 'netanyahu', 'netflix', 'netherland', 'network', 'networkpress', 'nevada', 'never', 'neverend', 'new', 'newark', 'newjerseyverrazano', 'newli', 'newlyopen', 'news', 'newscast', 'newschief', 'newsmak', 'newspap', 'newspaperdavid', 'newss', 'newswashington', 'newt', 'newyork', 'next', 'nexu', 'nfl', 'nice', 'nichola', 'nick', 'nickel', 'nicknam', 'nicolau', 'nielsen', 'night', 'nighti', 'nightif', 'nightli', 'nightread', 'nikita', 'nikkel', 'nimbl', 'nine', 'ninetytwo', 'nj', 'njt', 'nobel', 'nobodi', 'nodthes', 'nois', 'nomin', 'nomine', 'nomineebut', 'nomineeh', 'nomineehillari', 'nomineei', 'non', 'noncompetit', 'none', 'noneffici', 'nonetheless', 'nonewa', 'nonincumb', 'nonislam', 'nononsens', 'nonpartisan', 'nonsens', 'noon', 'norelli', 'norm', 'normal', 'north', 'northern', 'nose', 'not', 'notclinton', 'notdur', 'note', 'noth', 'nothingth', 'noti', 'notic', 'notion', 'notth', 'notthes', 'notverysuccess', 'novel', 'novemb', 'novemberand', 'novemberi', 'nowbelow', 'nowbut', 'nowcruz', 'nowher', 'nowi', 'nowso', 'nowth', 'nowtrump', 'npr', 'nuanc', 'nuclear', 'number', 'numer', 'nurs', 'nut', 'nword', 'ny', 'nyc', 'nymichel', 'nynj', 'nypd', 'oath', 'obam', 'obama', 'obamacar', 'obamacaresupport', 'obamaim', 'obamath', 'obamaworld', 'obfusc', 'object', 'oblig', 'obliter', 'oblivi', 'oblivion', 'obscur', 'observ', 'obsess', 'obtain', 'obviou', 'obvious', 'occas', 'occasion', 'occupiesi', 'occur', 'occurringauthor', 'ocean', 'octob', 'odd', 'ofac', 'offcolor', 'offend', 'offer', 'offic', 'officebut', 'officerinvolv', 'officermook', 'officerth', 'officespeak', 'officewildstein', 'offici', 'officialsinclud', 'officialsnew', 'officialsthat', 'often', 'oh', 'ohio', 'oil', 'oir', 'oirspox', 'ok', 'okay', 'oklahoma', 'oklahomather', 'old', 'older', 'oldest', 'oldfashion', 'oliph', 'olsen', 'oman', 'omar', 'omarosa', 'omin', 'omiss', 'omni', 'onan', 'onbut', 'oncamera', 'oncea', 'oncetrump', 'one', 'oneand', 'oneil', 'onelin', 'onenot', 'onepoint', 'ones', 'onetim', 'onewhi', 'ongo', 'onlin', 'onremark', 'onset', 'onth', 'onto', 'ooh', 'oompa', 'opaqu', 'open', 'openli', 'oper', 'operationslik', 'opinion', 'opinionsif', 'oppon', 'opportun', 'oppos', 'opposit', 'oppress', 'oppressor', 'optimist', 'option', 'orang', 'orangefac', 'orator', 'orbit', 'order', 'orderli', 'oreilli', 'oresk', 'organ', 'organizationssoci', 'origin', 'orlando', 'orlandokain', 'orthman', 'oscar', 'ostens', 'ostern', 'other', 'otherseveri', 'othersh', 'othersthos', 'otherwis', 'otherwiseth', 'ouch', 'ouchand', 'ounc', 'outcom', 'outgo', 'outit', 'outlast', 'outlaw', 'outlet', 'outlook', 'outmod', 'outperform', 'outpol', 'outreach', 'outreachim', 'outsid', 'outsiz', 'outspoken', 'outstori', 'outtrump', 'outweigh', 'oval', 'overal', 'overcom', 'overhead', 'overkil', 'overlap', 'overlook', 'overlord', 'overnight', 'overprogram', 'overpromis', 'overreact', 'overrid', 'overridden', 'overridesuff', 'oversea', 'overst', 'overtak', 'overthrow', 'overwhelm', 'overwrought', 'owe', 'owen', 'own', 'oxford', 'oxygen', 'oz', 'pa', 'pac', 'pace', 'pacif', 'pacifist', 'pack', 'packag', 'packer', 'packgo', 'page', 'pagei', 'pageturn', 'pagewhat', 'pagewho', 'paid', 'pain', 'paint', 'pair', 'pakistan', 'palac', 'pale', 'palm', 'palpabl', 'pamela', 'pan', 'panel', 'pantsuit', 'papa', 'paper', 'pappa', 'par', 'parad', 'paradigm', 'paradigmdefend', 'paradis', 'parallel', 'paraphernalia', 'pardon', 'parent', 'parentdonald', 'pari', 'park', 'parlanc', 'parri', 'pars', 'part', 'parti', 'particip', 'participantsmak', 'particl', 'particular', 'particularli', 'partieswel', 'partisan', 'partner', 'partnership', 'partyfeatur', 'partyread', 'partytheir', 'pass', 'past', 'pastor', 'paststori', 'pat', 'patch', 'patel', 'path', 'patholog', 'patienc', 'patrick', 'patriot', 'patsi', 'pattern', 'patternswildstein', 'patti', 'patton', 'paul', 'pax', 'pay', 'paycheck', 'payment', 'peac', 'peacemak', 'peach', 'peak', 'pearl', 'peddl', 'peerreview', 'peg', 'penalti', 'penc', 'pend', 'pennsylvania', 'penri', 'peopl', 'peopleand', 'peopleconway', 'peoplese', 'peopleth', 'pepper', 'per', 'perceiv', 'percent', 'percentag', 'percentth', 'percenttradit', 'perenni', 'perfect', 'perfectli', 'perform', 'performanceso', 'perhap', 'period', 'periodon', 'perman', 'permit', 'perot', 'perpetr', 'perpetu', 'perpetuallyoffend', 'perri', 'persecut', 'persist', 'person', 'personalityhillari', 'persongiven', 'personnel', 'persuad', 'persuas', 'pertin', 'pervers', 'peski', 'pester', 'pete', 'peter', 'petti', 'petul', 'pew', 'pfeiffer', 'phase', 'phd', 'phdwhostori', 'phil', 'philadelphia', 'philander', 'philanderercontinu', 'philanthropi', 'philli', 'phillip', 'philosophi', 'phoenix', 'phone', 'photo', 'photocurr', 'photograph', 'photoray', 'photosh', 'phototh', 'phrase', 'pick', 'pictur', 'pictwittercombvhubkjx', 'pictwittercomcsoonnfi', 'pictwittercomkavplhmwpb', 'pictwittercomkrmfevaw', 'pictwittercomkxxsnnmh', 'pictwittercomqglhcnvl', 'pictwittercomsfceeipf', 'pictwittercomvzgnehnl', 'pictwittercomylxz', 'pie', 'piec', 'pieintheski', 'piethrow', 'pig', 'piggi', 'pile', 'pileonh', 'pillar', 'pilot', 'pin', 'pinbal', 'pioneer', 'pipe', 'piqu', 'pirouetteand', 'piss', 'pitch', 'piti', 'pittsburgh', 'pivot', 'place', 'plagiar', 'plagu', 'plain', 'plainli', 'plan', 'plane', 'planet', 'plannedobject', 'planner', 'plant', 'plantrump', 'plantsa', 'plastic', 'plata', 'plate', 'platesth', 'platform', 'plaudit', 'plausibl', 'play', 'player', 'plea', 'plead', 'pleas', 'pleasedrew', 'pleasedsever', 'pleasur', 'pledg', 'plenti', 'plight', 'plot', 'plu', 'plummetedth', 'plutocrat', 'pm', 'pneumonia', 'pocket', 'pockmark', 'podium', 'poem', 'point', 'pointit', 'pointtrump', 'poke', 'poland', 'polar', 'pole', 'polic', 'policea', 'policeabc', 'policein', 'policeinvolv', 'policepeopl', 'policeth', 'polici', 'policiescrook', 'policieslik', 'policyal', 'polit', 'politician', 'politick', 'politico', 'politicoauthor', 'politicothat', 'politicsid', 'poll', 'pollara', 'pollclinton', 'pollsof', 'pollth', 'polygraph', 'poor', 'pope', 'popma', 'poprock', 'popul', 'popular', 'populist', 'pore', 'port', 'portion', 'portrait', 'portray', 'pose', 'posit', 'possess', 'possibl', 'post', 'postabc', 'postbut', 'postconvent', 'postdeb', 'postdnc', 'postelect', 'poster', 'posti', 'postmast', 'poston', 'postpon', 'posttruth', 'pot', 'potenti', 'potentiallystori', 'potion', 'poughkeepsi', 'pound', 'poverti', 'povertytrump', 'power', 'practic', 'prais', 'prattl', 'pray', 'prayer', 'preced', 'precis', 'predeb', 'predecessor', 'predict', 'preet', 'prefer', 'pregnanc', 'prejudic', 'preliminari', 'prematur', 'premium', 'prep', 'prepar', 'preplan', 'preprogram', 'prescriptionsth', 'presenc', 'present', 'preserv', 'presid', 'presidencyour', 'presidentadam', 'presidentamong', 'presidenti', 'presidentialth', 'presidentwatch', 'press', 'presspari', 'pressur', 'prestig', 'presumpt', 'pretend', 'pretti', 'prevail', 'prevailinghi', 'prevailread', 'preval', 'prevar', 'prevent', 'previou', 'previous', 'previouslydeport', 'prewritten', 'price', 'pride', 'priebu', 'priebuswho', 'primari', 'prime', 'princ', 'princip', 'principl', 'printdeliciouspockettumblrform', 'printdeliciouspockettumblrjimmi', 'prior', 'prioriti', 'prison', 'privat', 'privatesector', 'privileg', 'prize', 'pro', 'proactiv', 'probabl', 'probe', 'problem', 'problemand', 'problemclinton', 'problemperhap', 'proceed', 'process', 'proclaim', 'produc', 'product', 'profess', 'profession', 'professor', 'profil', 'profilingit', 'profilingnobodi', 'profit', 'profound', 'proglob', 'program', 'progress', 'prohibit', 'project', 'prokremlin', 'promin', 'promis', 'promisingstori', 'promot', 'prompt', 'promptli', 'prong', 'pronounc', 'pronunci', 'proof', 'proper', 'properli', 'properti', 'proport', 'propos', 'proposalsearli', 'prosecut', 'prosecutor', 'prosequendum', 'prospect', 'prosper', 'protect', 'protectedthat', 'protector', 'protest', 'protestor', 'protract', 'protrump', 'proud', 'prove', 'proven', 'provid', 'provis', 'prowess', 'prudent', 'psychiatr', 'psycholog', 'public', 'publicli', 'publish', 'pull', 'pulpit', 'pulpittrump', 'puls', 'punch', 'punchi', 'punctur', 'pundit', 'punish', 'puppi', 'purchas', 'purdi', 'pure', 'purport', 'purpos', 'pursu', 'push', 'pushup', 'put', 'putin', 'putney', 'putneyaft', 'puzzl', 'pylori', 'pyotr', 'qaeda', 'qayyara', 'qayyarah', 'qualif', 'qualifi', 'qualifiedwho', 'quantico', 'quantit', 'quarter', 'quarterback', 'quartermillion', 'quayl', 'queri', 'question', 'questionablether', 'questionand', 'questionar', 'questionhav', 'questionnow', 'questionsdonald', 'questionsinto', 'questionsp', 'questionsth', 'quetta', 'quick', 'quickli', 'quiet', 'quietli', 'quinnipiac', 'quip', 'quit', 'quot', 'quotat', 'r', 'race', 'raceauthor', 'raceh', 'racetrump', 'racewer', 'racial', 'racism', 'racismstil', 'racist', 'racistth', 'rack', 'radar', 'radic', 'radio', 'rae', 'rahami', 'rahamiattorney', 'rahamihal', 'rahamiin', 'rahaminew', 'rahimi', 'railroad', 'rais', 'raisedi', 'rakeiya', 'ralli', 'ralph', 'ralston', 'rambl', 'ramir', 'rampant', 'ran', 'randi', 'random', 'randomli', 'rang', 'rank', 'rant', 'rao', 'rape', 'rapid', 'rapidli', 'rapino', 'rare', 'rasputin', 'rat', 'rate', 'rath', 'rather', 'ratif', 'ration', 'ravag', 'ray', 'reach', 'react', 'reaction', 'read', 'reader', 'readi', 'readsnowher', 'reaffirm', 'reagan', 'reagancart', 'real', 'realdonaldtrump', 'realest', 'realiti', 'realiz', 'realli', 'realm', 'realtim', 'reason', 'reassur', 'reawaken', 'rebat', 'rebecca', 'rebel', 'rebound', 'rebuild', 'rebuk', 'recal', 'receiv', 'recent', 'recess', 'recip', 'recipi', 'recit', 'reckless', 'recogn', 'recognit', 'recommend', 'reconven', 'record', 'recordsfeder', 'recordsrepublican', 'recours', 'recov', 'recoveri', 'recruit', 'recur', 'recycl', 'red', 'reddit', 'redistribut', 'reduc', 'reed', 'reelect', 'reem', 'reevalu', 'reexamin', 'ref', 'refer', 'referenc', 'reflect', 'reflex', 'reform', 'refsstori', 'refuge', 'refugeesobama', 'refugeesreach', 'refus', 'regard', 'regardless', 'regim', 'region', 'regionsy', 'regist', 'registr', 'registrationin', 'regret', 'regularitybut', 'regularli', 'rehears', 'reid', 'reilli', 'reimburs', 'reinc', 'reinforc', 'reiteratesif', 'reject', 'rel', 'relat', 'relationship', 'relax', 'releas', 'relev', 'reli', 'reliabl', 'religi', 'religion', 'relinquish', 'relitig', 'remain', 'remainsh', 'remark', 'remarkdonald', 'rememb', 'remind', 'remot', 'remov', 'render', 'renegoti', 'renew', 'reorgan', 'rep', 'repaid', 'repeat', 'repeatedli', 'repetit', 'replac', 'replay', 'repli', 'report', 'reportauthor', 'reporteditor', 'reportedli', 'reporthowev', 'reportingin', 'reportingthey', 'reportsther', 'repositori', 'repres', 'republican', 'republicanclinton', 'republicansmedia', 'republicanwashington', 'reput', 'request', 'requir', 'requisit', 'rescu', 'research', 'resembl', 'resent', 'reserv', 'reservist', 'resettl', 'reshap', 'resid', 'resili', 'resist', 'resolut', 'reson', 'resort', 'resourc', 'respect', 'respond', 'respondeda', 'respons', 'rest', 'restat', 'restaur', 'restor', 'restraint', 'restraintstori', 'result', 'resum', 'resurfac', 'resurg', 'retir', 'retreat', 'return', 'returnedlast', 'returnsi', 'returnsmayb', 'returnsthi', 'returnstrump', 'reveal', 'revealedthi', 'revel', 'revers', 'review', 'revisit', 'reviv', 'revokedthi', 'revolt', 'revolut', 'rfk', 'rhetor', 'rhine', 'rice', 'rich', 'richard', 'richardsafpgetti', 'richmond', 'rick', 'ridder', 'ride', 'ridicul', 'rif', 'riff', 'right', 'rightbut', 'rightedbut', 'rightli', 'rightsomeon', 'rightwatch', 'rigor', 'rile', 'riley', 'rimand', 'riot', 'rioter', 'rip', 'rise', 'risk', 'riskytrump', 'rival', 'rnc', 'rob', 'robbi', 'robert', 'roberta', 'robin', 'robinson', 'robot', 'rock', 'rocket', 'rode', 'rodham', 'roecker', 'roeder', 'roger', 'role', 'roll', 'romney', 'romneyobama', 'ron', 'ronald', 'ronna', 'roof', 'room', 'roosevelt', 'root', 'rope', 'rose', 'rosen', 'rosneft', 'ross', 'roth', 'roug', 'rough', 'roughli', 'rouhani', 'round', 'roundtabl', 'rous', 'rout', 'routestori', 'routin', 'rowland', 'roxan', 'royal', 'rss', 'rtexa', 'rub', 'rubber', 'ruben', 'rubric', 'rude', 'ruin', 'ruiz', 'rule', 'rumor', 'run', 'rundown', 'runner', 'runup', 'rural', 'rush', 'russia', 'russian', 'russianh', 'russianstyl', 'russiasur', 'russiathi', 'ryan', 'résumé', 'résumépag', 'sach', 'sacramento', 'sad', 'safe', 'safer', 'safeti', 'safetytuesday', 'said', 'saida', 'saidaft', 'saidand', 'saidandr', 'saidauthor', 'saidbefor', 'saidclinton', 'saiddefend', 'saidfierc', 'saidh', 'saidi', 'saidit', 'saidjust', 'saidobama', 'saidonc', 'saidread', 'saidsh', 'saidstop', 'saidth', 'saidthi', 'saidtrump', 'saidtv', 'saidwhen', 'saidwho', 'saidwildstein', 'saidzianna', 'saint', 'sakhalin', 'salazar', 'sale', 'salk', 'salt', 'sam', 'san', 'sanborn', 'sanction', 'sanctum', 'sander', 'sandler', 'sandra', 'sane', 'saniti', 'sara', 'sarcasmhillari', 'sarcast', 'sat', 'satan', 'satisfi', 'satur', 'saturday', 'saturdaymi', 'saudi', 'saul', 'savageri', 'save', 'saw', 'say', 'saya', 'sayingthat', 'saysdur', 'saysyou', 'scala', 'scale', 'scandal', 'scandalsthey', 'scarborough', 'scare', 'scari', 'scene', 'scent', 'schadenfreud', 'schale', 'schedul', 'scheid', 'scheme', 'schiff', 'scholar', 'scholz', 'school', 'schooler', 'scienc', 'scientif', 'scientist', 'scion', 'scorn', 'scott', 'scottdead', 'scotter', 'scream', 'screen', 'screencap', 'screenread', 'screw', 'screwthemedia', 'script', 'scrutin', 'scrutini', 'scuffl', 'se', 'sea', 'seacrest', 'seahawk', 'sean', 'sear', 'search', 'seasid', 'season', 'seasondur', 'seasonmsnbc', 'seat', 'seattl', 'sechin', 'sechindur', 'second', 'seconddegre', 'secondstrump', 'secondtolast', 'secret', 'secretari', 'section', 'sector', 'secur', 'securityhillari', 'securitysensit', 'seduc', 'see', 'seek', 'seeknight', 'seem', 'seemingli', 'seen', 'segment', 'segreg', 'seiz', 'select', 'selfadmir', 'selfaggrand', 'selfcent', 'selfconfid', 'selfdeal', 'selfexamin', 'selfinterestswatch', 'selflov', 'selfpossess', 'selfpreserv', 'selfrestraint', 'selfsegreg', 'sell', 'sellabl', 'semest', 'semigolden', 'sen', 'senat', 'senchri', 'send', 'senior', 'sens', 'sensea', 'sensein', 'senseless', 'senseoh', 'sensibl', 'sensit', 'sent', 'sentenc', 'sentinel', 'sep', 'separ', 'sept', 'septemb', 'sergei', 'seri', 'serial', 'seriou', 'seriouslyth', 'serv', 'server', 'servic', 'servil', 'session', 'set', 'settingsth', 'settl', 'settlement', 'settlementsit', 'seven', 'seventh', 'sever', 'sevuganand', 'sexist', 'sexistsix', 'sext', 'sexton', 'sgro', 'sgt', 'shack', 'shadi', 'shadow', 'shadowi', 'shafer', 'shaferpoliticogmailcom', 'shahada', 'shaheen', 'shake', 'shaker', 'shale', 'shalom', 'shame', 'shannon', 'shape', 'share', 'sharingbrodi', 'sharkfor', 'shatter', 'she', 'sheaport', 'sheer', 'shelbi', 'shell', 'shelterwhat', 'shepherd', 'sheriff', 'shermer', 'shesaid', 'shi', 'shield', 'shift', 'ship', 'shirt', 'shock', 'shoe', 'shook', 'shoot', 'shooter', 'shootingdanni', 'shootingorlando', 'shootingprotest', 'shootingther', 'shootout', 'shop', 'shore', 'short', 'shortcom', 'shortliv', 'shot', 'shoulder', 'shouldnt', 'shouldv', 'shout', 'shove', 'show', 'showcas', 'showdown', 'shown', 'showson', 'shred', 'shrink', 'shrug', 'shumak', 'shut', 'shutdown', 'shutter', 'siblingsform', 'sick', 'side', 'sidepresid', 'sidestep', 'sideswip', 'sign', 'signal', 'signatur', 'signi', 'signific', 'significanceof', 'silenc', 'silent', 'silenthowev', 'silicon', 'silli', 'silver', 'sim', 'similar', 'simmon', 'simpl', 'simpli', 'sinc', 'sinden', 'sing', 'singer', 'singl', 'singular', 'singularli', 'sir', 'sister', 'sit', 'sitdown', 'site', 'sitescopyright', 'situat', 'six', 'sixfigur', 'sixpoint', 'size', 'skateboard', 'skeptic', 'sketchi', 'sketchiest', 'skew', 'skidmor', 'skill', 'skin', 'skirmish', 'sky', 'skype', 'slam', 'slander', 'slanker', 'slash', 'slater', 'slave', 'slavehold', 'slaveri', 'sleep', 'slide', 'slifka', 'slight', 'slightli', 'slob', 'slogan', 'sloppili', 'slot', 'slow', 'slāv', 'smack', 'small', 'smaller', 'smart', 'smarter', 'smarth', 'smash', 'smear', 'smile', 'smileaddingthi', 'smilechelsea', 'smiledo', 'smilingwatch', 'smith', 'snackjack', 'snap', 'snatch', 'snivel', 'snub', 'snyder', 'socal', 'soccer', 'social', 'socialist', 'socialistlov', 'societi', 'soft', 'softbal', 'softer', 'softspoken', 'soil', 'sokolich', 'sold', 'sole', 'solid', 'solidar', 'solidifi', 'solisdoyl', 'soloveichik', 'solut', 'solv', 'solver', 'somalia', 'somebodi', 'somehow', 'someon', 'someth', 'sometim', 'son', 'song', 'soon', 'sopan', 'sopandeb', 'sordid', 'sorrowbiden', 'sort', 'sosar', 'sought', 'soulsearch', 'sound', 'soup', 'sour', 'sourc', 'sourceswhen', 'south', 'southeast', 'southern', 'sovereign', 'sovereignti', 'soviet', 'space', 'spacethat', 'spar', 'spare', 'sparingli', 'spark', 'sparkl', 'speak', 'speaker', 'spearhead', 'speci', 'special', 'specialist', 'specif', 'specifi', 'spectrum', 'specul', 'speech', 'speechso', 'speechwrit', 'spencer', 'spend', 'spent', 'spew', 'sphere', 'spike', 'spiker', 'spill', 'spin', 'spiral', 'spirit', 'spiritu', 'split', 'spoiler', 'spoke', 'spoken', 'spokesman', 'spokesperson', 'spokeswoman', 'sponsor', 'sport', 'sportwhat', 'spot', 'spotlight', 'spous', 'spout', 'spread', 'spreadsheet', 'sprint', 'sprung', 'spuriou', 'squander', 'squar', 'squeege', 'squeez', 'st', 'stab', 'stabl', 'staccato', 'staff', 'staffboth', 'staffer', 'stafferpriv', 'stage', 'stagemoder', 'stagerudi', 'stagger', 'stagnat', 'stahl', 'stain', 'stake', 'stalin', 'stalk', 'stamina', 'staminaholt', 'staminash', 'staminatrump', 'stanc', 'stand', 'standard', 'standardbear', 'standardscnn', 'standingdo', 'star', 'stare', 'start', 'startedi', 'starturnedsacramento', 'starv', 'state', 'statea', 'statecnn', 'statement', 'statementa', 'statementbut', 'stateown', 'statesmen', 'statesnow', 'stateso', 'statesrapino', 'statessomehow', 'statesstori', 'statesthough', 'station', 'stationfirst', 'statist', 'statu', 'staunch', 'stay', 'stayathom', 'steadi', 'steadman', 'steal', 'steam', 'steel', 'stefani', 'stein', 'step', 'stephani', 'stephanopoulo', 'stephen', 'steril', 'stern', 'sterzenbach', 'steve', 'steven', 'stewart', 'stick', 'still', 'stineman', 'stingi', 'stitchescnn', 'stomach', 'stone', 'stood', 'stoog', 'stop', 'stopandfrisk', 'stopandfriskw', 'store', 'stori', 'storiesh', 'storiesi', 'storiesobvi', 'storm', 'stormi', 'storyha', 'storyth', 'storywel', 'straight', 'strain', 'strang', 'stranger', 'stranichka', 'stranichkin', 'strategi', 'strategist', 'strategyno', 'strawn', 'streak', 'stream', 'street', 'streetaft', 'streetw', 'strength', 'strengthbut', 'stress', 'stretch', 'strike', 'strikeoffici', 'strikingli', 'stringent', 'strip', 'stripe', 'strong', 'stronger', 'strongli', 'struck', 'structur', 'struggl', 'student', 'studi', 'studyon', 'stuf', 'stuff', 'stumbl', 'stumbleupon', 'stump', 'stun', 'stunt', 'stupid', 'stupidfor', 'style', 'su', 'subject', 'submit', 'subpoena', 'subrosa', 'subscrib', 'subsequ', 'subservi', 'substanc', 'substanti', 'substitut', 'suburb', 'succeed', 'success', 'successor', 'successwel', 'succumb', 'sudan', 'suddenli', 'sue', 'suffer', 'sufferedth', 'suffici', 'suffolk', 'suggest', 'suicid', 'suit', 'sulfur', 'sullivan', 'sum', 'summar', 'summer', 'summerbut', 'summit', 'sumptuou', 'sunday', 'sunshin', 'sununu', 'super', 'superb', 'superior', 'superpred', 'supersed', 'support', 'supportthre', 'suppos', 'suppress', 'suprem', 'supremacist', 'surdukowski', 'sure', 'surfacewhen', 'surgeri', 'surpris', 'surrog', 'surround', 'surveil', 'survey', 'surveycolorado', 'surveymost', 'survivor', 'susan', 'suspect', 'suspecta', 'suspend', 'suspens', 'suspici', 'suspicion', 'sustain', 'sutton', 'swamp', 'swann', 'swearingin', 'swecker', 'sweden', 'sweeni', 'sweep', 'sweet', 'sweitzer', 'swift', 'swing', 'swirl', 'switch', 'swoon', 'swoop', 'sylvia', 'symbol', 'symmetri', 'sympath', 'sympathi', 'syria', 'syrian', 'system', 'systemat', 'systembut', 'sytek', 'szold', 'ségolèn', 'ta', 'tab', 'tabl', 'tackl', 'tactic', 'tail', 'take', 'takeaway', 'taken', 'takeov', 'talent', 'talk', 'tamara', 'tami', 'tampa', 'tamper', 'tank', 'tankcommand', 'tap', 'tape', 'target', 'tariff', 'task', 'tastein', 'taught', 'taunt', 'tautolog', 'tax', 'taxpay', 'taylor', 'tea', 'teach', 'teacher', 'teachingsrichard', 'team', 'tear', 'tearsdavid', 'tech', 'technician', 'technolog', 'tecton', 'ted', 'teenag', 'teleprompt', 'televis', 'tell', 'temper', 'tempera', 'temperamentread', 'tempertwo', 'temporarili', 'ten', 'tend', 'tendenc', 'tenor', 'tens', 'tension', 'tent', 'tenur', 'terenc', 'terencecrutch', 'teresa', 'teri', 'term', 'termin', 'termswhen', 'terri', 'terribl', 'terribleask', 'terrifi', 'terror', 'terrorisma', 'terrorismauthor', 'terrorismhillari', 'terrorismin', 'terrorist', 'terroristsclark', 'terroristsdur', 'terroriststh', 'terrorther', 'test', 'testifi', 'testifieda', 'testimoni', 'testimonywildstein', 'testth', 'texa', 'text', 'textbook', 'th', 'thank', 'that', 'thatdespit', 'thatll', 'thatther', 'thatview', 'thbare', 'theater', 'theft', 'theirssix', 'themaft', 'theme', 'themless', 'themselvesh', 'thenboss', 'thengovernor', 'thentoday', 'theodor', 'theori', 'there', 'thereaft', 'therebi', 'therefor', 'therei', 'theresa', 'thesi', 'theyll', 'theyr', 'theyv', 'thing', 'thingbut', 'thingsterril', 'thingthroughout', 'think', 'thinker', 'thinkprogress', 'thinther', 'third', 'thirdparti', 'thirst', 'thirti', 'thisgari', 'thisnixon', 'thisther', 'thistrump', 'thoburnwisconsin', 'thoma', 'thompson', 'thornburgh', 'thorough', 'thou', 'though', 'thought', 'thousand', 'thr', 'thread', 'threat', 'threaten', 'threatwher', 'three', 'threeday', 'threshold', 'thresholdwhat', 'threw', 'thrill', 'thrive', 'thriveif', 'throughout', 'throw', 'thrown', 'thrust', 'thu', 'thug', 'thumb', 'thunder', 'thurman', 'thursday', 'thursdayh', 'thursdayhel', 'tick', 'ticket', 'tie', 'tight', 'tighten', 'tightli', 'tim', 'time', 'timeand', 'timesdispatch', 'timesomeon', 'timesup', 'timesusc', 'timeth', 'timethi', 'timew', 'timothi', 'timothyjsim', 'tip', 'tire', 'tirelessli', 'titl', 'tmz', 'today', 'todayand', 'todayask', 'todayform', 'todayon', 'todayour', 'todd', 'togeth', 'told', 'toledo', 'toler', 'tom', 'tommi', 'ton', 'tone', 'tongu', 'tonight', 'took', 'toopart', 'tooveral', 'top', 'topic', 'topicshada', 'topictrump', 'topofthelin', 'toppl', 'toppler', 'torchinski', 'tore', 'tori', 'toss', 'tossup', 'total', 'totem', 'toth', 'touch', 'tough', 'tougher', 'toughest', 'tour', 'tournamentth', 'tout', 'toward', 'towardsclinton', 'tower', 'towerpag', 'town', 'tpp', 'trace', 'track', 'traction', 'trade', 'tradevot', 'tradit', 'traffic', 'tragedi', 'tragic', 'trail', 'trailtrump', 'train', 'trainingit', 'transact', 'transcript', 'transfer', 'transit', 'translat', 'transpacif', 'transpar', 'trap', 'trash', 'travel', 'treasonfor', 'treat', 'treati', 'treatment', 'tremend', 'trend', 'trent', 'tri', 'trial', 'triangl', 'tribal', 'trickledown', 'trickster', 'trigger', 'trillion', 'trip', 'tripaccord', 'triumph', 'troglodytesor', 'troop', 'trooper', 'troubl', 'troublemcauliff', 'troubleth', 'trounc', 'troy', 'truck', 'true', 'trueher', 'truenewt', 'truenonetheless', 'truli', 'trump', 'trumpa', 'trumpand', 'trumpani', 'trumpat', 'trumpauthor', 'trumpbankruptci', 'trumpcat', 'trumpclinton', 'trumper', 'trumpi', 'trumpif', 'trumpism', 'trumpit', 'trumpkin', 'trumpov', 'trumppag', 'trumpref', 'trumprel', 'trumpstori', 'trumpsw', 'trumpth', 'trumpther', 'trumptrump', 'trumpwhat', 'trumpwhen', 'trumpwin', 'trumpwon', 'truscott', 'trust', 'trustworthi', 'truth', 'truthchalleng', 'truthtel', 'tucker', 'tuesday', 'tuesdayat', 'tuesdayth', 'tulsa', 'tulsi', 'tune', 'tunnel', 'turkey', 'turkmenistan', 'turmoil', 'turn', 'turnaround', 'tusk', 'tv', 'tvnewser', 'twcnewsclt', 'tweet', 'tweeteddur', 'twenti', 'twice', 'twist', 'twitter', 'twittera', 'twitterit', 'twitterth', 'twittertwitt', 'two', 'twopag', 'twothird', 'type', 'typic', 'tyrann', 'tyrant', 'u', 'ue', 'ugli', 'uhoh', 'uighur', 'uithoven', 'uk', 'ukrain', 'ukrainei', 'ukrainepag', 'ulcer', 'ultim', 'ulvert', 'umbrag', 'un', 'unabash', 'unabl', 'unacceptablejust', 'unanim', 'unarm', 'unarmedtrump', 'unbear', 'uncertainti', 'uncheck', 'unclear', 'uncomfort', 'unconstitut', 'unconstitutionalryan', 'uncontrol', 'undecid', 'undercut', 'underestim', 'undergo', 'undermin', 'underperform', 'underscor', 'understand', 'understood', 'undertaken', 'underwrit', 'undisput', 'unemploy', 'unequivoc', 'unfair', 'unfairli', 'unflatt', 'unfold', 'unfortun', 'unifi', 'uniform', 'unimped', 'unimpressedwel', 'unintent', 'union', 'uniqu', 'unit', 'uniti', 'unityour', 'univers', 'universesi', 'universitylat', 'unknow', 'unknown', 'unl', 'unlaw', 'unleash', 'unless', 'unlik', 'unlimit', 'unload', 'unnam', 'unnecessari', 'unoffici', 'unpaid', 'unpatriot', 'unpleas', 'unpopular', 'unpredict', 'unprepar', 'unpresidenti', 'unprompt', 'unrel', 'unrepent', 'unrest', 'unsavori', 'unteth', 'untruth', 'unusu', 'unveil', 'unwil', 'unwilling', 'upandcom', 'upanddown', 'upbeat', 'upcom', 'upend', 'upon', 'uppopular', 'uprepublican', 'uproar', 'upset', 'upsettingth', 'urban', 'urg', 'urgenc', 'urgent', 'us', 'usa', 'use', 'usedwashington', 'useless', 'user', 'usf', 'usher', 'usi', 'usiraqi', 'usl', 'usmexico', 'usthat', 'usual', 'utensil', 'utter', 'utterli', 'vaccin', 'vacuou', 'vagu', 'vain', 'valentino', 'valenziano', 'valid', 'valley', 'valu', 'valuabl', 'van', 'vancor', 'vandal', 'vanden', 'vanderbeek', 'vanish', 'vaniti', 'varianc', 'varieti', 'variou', 'vast', 'vastli', 'vavreck', 'vega', 'vehicl', 'vein', 'vend', 'vengeanc', 'ventur', 'venu', 'verbal', 'verdict', 'verifi', 'vers', 'version', 'versu', 'vessel', 'vet', 'veteran', 'veto', 'via', 'vibrant', 'vice', 'victim', 'victor', 'victori', 'victoryin', 'video', 'videofoxnewscom', 'videofreedom', 'videoin', 'videother', 'vietnam', 'vietnames', 'vietor', 'view', 'viewer', 'viewersher', 'viewership', 'viewerswhat', 'vigilantunfortun', 'vigor', 'villag', 'vinik', 'vinson', 'vintag', 'violat', 'violenc', 'violencebut', 'violencei', 'violenceth', 'violencetri', 'violent', 'viral', 'virginia', 'virtu', 'virtual', 'visavi', 'vision', 'visiona', 'visit', 'vlacich', 'vladimir', 'vocal', 'voic', 'volatil', 'volum', 'volunt', 'vomit', 'voraci', 'vortex', 'vote', 'votedemocrat', 'voter', 'votersread', 'voterstrump', 'voterswhen', 'voucher', 'vow', 'vp', 'vs', 'vulgar', 'vulner', 'w', 'waak', 'wage', 'wait', 'wake', 'wale', 'walinski', 'walk', 'walker', 'wall', 'wallac', 'wallin', 'want', 'war', 'warbut', 'warjohn', 'warm', 'warmachin', 'warmoreov', 'warn', 'warrant', 'warrior', 'warship', 'warsur', 'wasbi', 'wash', 'washington', 'washingtonor', 'wasnt', 'wast', 'watch', 'water', 'waterhuffingtonpost', 'watkin', 'wave', 'way', 'wayit', 'wayn', 'waysid', 'waywhen', 'wcmpd', 'wcnctv', 'we', 'weak', 'weaken', 'weaknessesespeci', 'wealth', 'wealthi', 'wealthierhillari', 'weapon', 'weapondefinit', 'weaponread', 'wear', 'weather', 'weaverpennsylvania', 'web', 'websit', 'wed', 'wednesday', 'wednesdaybut', 'wednesdayr', 'wednesdayth', 'weed', 'weedit', 'week', 'weekdavid', 'weekend', 'weekhillari', 'weekiv', 'weekkeep', 'weekth', 'wegen', 'weigh', 'weight', 'weiner', 'weinstein', 'weird', 'welchert', 'weld', 'welfar', 'well', 'wellb', 'wellclark', 'wellconnect', 'welleduc', 'wellinform', 'wellinsid', 'wellon', 'went', 'werent', 'west', 'western', 'weve', 'what', 'whatev', 'whatsoev', 'wheel', 'whenev', 'wherev', 'whether', 'whine', 'whip', 'whisper', 'white', 'who', 'whod', 'whoever', 'whoin', 'whole', 'whopper', 'whose', 'whove', 'wide', 'widespread', 'wield', 'wife', 'wifi', 'wiggin', 'wild', 'wildest', 'wildlif', 'wildstein', 'wilkenmey', 'will', 'willem', 'willi', 'william', 'williamsburg', 'williamsnorth', 'willing', 'willingli', 'willsupport', 'wilsoniowa', 'wilsonohio', 'win', 'window', 'wing', 'winner', 'winpolitico', 'winsamericafirst', 'winter', 'wipe', 'wire', 'wisconsin', 'wisdom', 'wise', 'wish', 'wit', 'witchhunt', 'withhold', 'withi', 'within', 'withon', 'without', 'withthi', 'wittingli', 'witwerflorida', 'wixomnew', 'woman', 'women', 'womeni', 'womennot', 'womenon', 'womentrump', 'wonder', 'wonfeatur', 'wonk', 'wonkish', 'wont', 'wood', 'woolson', 'word', 'wore', 'work', 'worker', 'workforc', 'workingclass', 'workrel', 'world', 'worldand', 'worldbut', 'worlddestroy', 'worldjudo', 'worldour', 'worldview', 'worldwid', 'worn', 'worri', 'wors', 'worsen', 'worst', 'worth', 'worthnow', 'would', 'wouldb', 'wouldnt', 'wouldntthey', 'wound', 'woundth', 'wow', 'wowi', 'wrap', 'wrench', 'writ', 'write', 'writer', 'written', 'wrong', 'wrongdo', 'wrongli', 'wrongobama', 'wrote', 'wrought', 'wyden', 'x', 'xenophob', 'xlix', 'yahoo', 'yard', 'yatsenko', 'ye', 'yeah', 'year', 'yearhow', 'yearlong', 'yearold', 'yearsat', 'yearsauthor', 'yearshillari', 'yearsmak', 'yearth', 'yell', 'yemen', 'yesterday', 'yet', 'yield', 'yobnevada', 'york', 'yorker', 'youd', 'youll', 'young', 'youngest', 'youngmichigan', 'your', 'youstrang', 'youth', 'youv', 'youw', 'yvanna', 'zaborneyvirginia', 'zach', 'zapfelkristen', 'zero', 'zerosum', 'zipf', 'znoofcitium', 'zoomedin', 'ღڿڰڿchelebelleڿڰڿღ']\n"
     ]
    }
   ],
   "source": [
    "new4=[]\n",
    "for x in range(0,6529):\n",
    "    new4.append(cv4.get_feature_names()[x])\n",
    "print(new4)"
   ]
  },
  {
   "cell_type": "code",
   "execution_count": 182,
   "metadata": {},
   "outputs": [],
   "source": [
    "matrix4=pd.DataFrame(bow4.todense(),columns=new4)"
   ]
  },
  {
   "cell_type": "code",
   "execution_count": 183,
   "metadata": {},
   "outputs": [
    {
     "name": "stdout",
     "output_type": "stream",
     "text": [
      "[1, 8, 1, 15, 1, 5, 16, 1, 1, 1, 2, 3, 1, 1, 8, 2, 1, 2, 1, 1, 1, 1, 1, 9, 12, 1, 2, 5, 38, 1, 9, 1, 2, 1, 11, 4, 1, 11, 1, 1, 7, 15, 1, 19, 1, 1, 1, 1, 2, 4, 1, 1, 28, 1, 27, 3, 7, 1, 2, 5, 19, 1, 1, 9, 1, 6, 1, 2, 1, 2, 1, 22, 4, 4, 1, 1, 8, 27, 1, 4, 2, 6, 4, 1, 1, 2, 1, 2, 3, 4, 1, 1, 2, 3, 18, 1, 1, 5, 2, 1, 1, 1, 1, 1, 4, 4, 1, 3, 1, 1, 1, 8, 1, 1, 1, 10, 5, 1, 1, 1, 10, 10, 14, 1, 2, 1, 6, 1, 2, 1, 1, 4, 1, 2, 1, 2, 1, 1, 5, 1, 1, 2, 1, 1, 1, 3, 1, 1, 2, 1, 1, 2, 1, 7, 5, 1, 1, 1, 4, 2, 12, 1, 1, 14, 3, 1, 11, 1, 2, 1, 1, 14, 1, 94, 1, 3, 8, 1, 21, 1, 1, 5, 1, 3, 1, 2, 5, 1, 50, 1, 1, 1, 80, 1, 1, 1, 1, 1, 2, 1, 24, 2, 4, 2, 1, 1, 2, 2, 2, 1, 6, 1, 5, 2, 1, 2, 6, 1, 10, 2, 1, 1, 2, 1, 1, 1, 2, 1, 16, 1, 1, 1, 1, 40, 34, 1, 6, 1, 2, 1, 3, 1, 1, 1, 2, 1, 1, 1, 1, 2, 3, 3, 1, 1, 18, 1, 1, 12, 1, 1, 1, 1, 3, 1, 9, 1, 4, 5, 8, 1, 21, 1, 1, 1, 4, 3, 2, 2, 1, 7, 4, 8, 2, 9, 3, 2, 1, 2, 1, 1, 1, 1, 4, 1, 10, 1, 2, 5, 1, 1, 10, 1, 4, 2, 1, 7, 1, 1, 1, 1, 1, 3, 26, 12, 8, 4, 7, 1, 2, 1, 2, 1, 15, 1, 1, 1, 1, 2, 1, 1, 2, 4, 69, 2, 1, 1, 3, 1, 4, 1, 6, 4, 3, 1, 1, 2, 1, 2, 2, 7, 11, 3, 2, 3, 1, 2, 1, 4, 1, 2, 1, 1, 55, 1, 1, 1, 1, 1, 16, 4, 1, 1, 10, 1, 1, 2, 1, 14, 1, 2, 1, 1, 13, 1, 1, 1, 1, 1, 3, 1, 10, 1, 2, 1, 2, 1, 33, 1, 1, 1, 1, 4, 4, 3, 4, 4, 2, 1, 8, 2, 19, 1, 1, 1, 1, 2, 35, 1, 1, 1, 6, 3, 5, 1, 16, 2, 1, 1, 7, 1, 3, 1, 1, 1, 3, 2, 1, 8, 1, 10, 1, 1, 6, 1, 1, 1, 3, 20, 1, 1, 4, 1, 1, 1, 1, 1, 1, 1, 1, 14, 1, 2, 1, 1, 12, 1, 1, 11, 1, 1, 1, 1, 1, 3, 1, 8, 1, 1, 1, 2, 1, 2, 2, 5, 1, 1, 1, 1, 12, 19, 1, 1, 1, 1, 19, 2, 11, 3, 4, 1, 1, 9, 1, 3, 4, 28, 1, 1, 1, 2, 1, 1, 1, 1, 1, 1, 1, 1, 1, 1, 1, 1, 1, 1, 1, 1, 4, 2, 1, 1, 2, 1, 1, 1, 4, 1, 1, 1, 1, 19, 1, 1, 4, 1, 1, 2, 1, 1, 1, 1, 1, 1, 17, 1, 1, 2, 1, 23, 1, 1, 5, 1, 1, 2, 2, 5, 2, 1, 1, 9, 1, 20, 6, 5, 1, 1, 1, 17, 1, 6, 4, 1, 1, 3, 1, 1, 1, 1, 1, 1, 15, 15, 3, 1, 5, 1, 1, 1, 58, 1, 12, 1, 6, 4, 1, 1, 1, 1, 1, 1, 1, 3, 6, 1, 1, 1, 10, 4, 2, 6, 1, 1, 1, 1, 4, 3, 3, 4, 3, 1, 3, 2, 1, 1, 1, 27, 2, 3, 1, 1, 2, 1, 2, 1, 3, 1, 13, 1, 1, 2, 4, 1, 1, 1, 1, 10, 2, 1, 1, 5, 1, 1, 3, 1, 1, 3, 3, 1, 1, 1, 4, 1, 3, 1, 1, 1, 1, 2, 1, 1, 2, 1, 1, 3, 1, 1, 1, 1, 1, 4, 11, 1, 2, 1, 1, 3, 2, 1, 1, 1, 1, 1, 1, 9, 1, 5, 1, 1, 1, 10, 1, 1, 1, 15, 1, 1, 1, 1, 1, 1, 2, 3, 1, 5, 1, 2, 2, 5, 3, 1, 1, 1, 4, 1, 12, 2, 7, 2, 1, 1, 2, 1, 2, 1, 1, 1, 1, 3, 1, 2, 1, 11, 4, 2, 2, 2, 1, 1, 1, 1, 1, 1, 1, 1, 3, 1, 1, 1, 1, 1, 2, 7, 1, 5, 2, 17, 31, 1, 1, 4, 1, 2, 1, 1, 3, 9, 1, 2, 2, 2, 1, 1, 1, 1, 2, 68, 1, 6, 1, 25, 2, 2, 1, 1, 4, 109, 1, 1, 1, 1, 1, 1, 3, 1, 1, 10, 1, 1, 1, 2, 87, 3, 1, 1, 1, 1, 1, 18, 1, 4, 4, 4, 2, 7, 8, 4, 19, 3, 1, 1, 1, 1, 1, 1, 1, 1, 1, 1, 14, 1, 1, 6, 1, 1, 2, 31, 1, 1, 1, 12, 1, 1, 1, 1, 6, 3, 1, 3, 1, 1, 1, 1, 3, 3, 11, 1, 2, 2, 1, 2, 5, 1, 1, 1, 1, 1, 4, 1, 1, 5, 3, 11, 1, 1, 3, 2, 4, 3, 7, 7, 13, 1, 1, 1, 1, 1, 5, 1, 15, 1, 1, 1, 9, 1, 1, 1, 17, 1, 1, 1, 1, 1, 8, 2, 9, 8, 1, 2, 15, 7, 11, 3, 4, 29, 1, 2, 2, 1, 1, 9, 1, 1, 1, 9, 1, 3, 1, 1, 3, 2, 1, 1, 15, 1, 4, 9, 1, 14, 1, 1, 1, 9, 1, 1, 4, 2, 1, 7, 3, 1, 1, 11, 9, 9, 1, 3, 5, 6, 2, 1, 2, 2, 1, 1, 1, 1, 1, 1, 10, 24, 1, 13, 11, 1, 11, 1, 1, 2, 32, 1, 1, 1, 1, 5, 2, 4, 2, 2, 1, 1, 21, 1, 1, 1, 8, 1, 1, 6, 5, 1, 1, 231, 1, 1, 1, 1, 2, 1, 1, 11, 1, 2, 3, 13, 1, 1, 6, 1, 4, 1, 1, 38, 1, 1, 1, 1, 3, 1, 4, 3, 2, 1, 1, 1, 1, 2, 11, 2, 1, 6, 1, 1, 5, 1, 4, 8, 6, 2, 1, 2, 1, 1, 1, 4, 2, 1, 2, 2, 1, 39, 2, 4, 1, 1, 4, 10, 2, 1, 1, 24, 1, 1, 4, 11, 3, 1, 12, 1, 6, 8, 2, 1, 25, 1, 1, 12, 7, 4, 3, 2, 5, 1, 3, 1, 4, 4, 9, 1, 2, 3, 1, 1, 1, 1, 4, 3, 1, 1, 4, 3, 2, 14, 1, 1, 2, 1, 2, 4, 1, 3, 3, 1, 1, 5, 2, 15, 1, 1, 1, 5, 5, 6, 1, 6, 4, 1, 1, 7, 4, 1, 1, 19, 1, 1, 1, 1, 1, 1, 1, 1, 1, 9, 1, 13, 3, 1, 4, 2, 1, 2, 10, 1, 1, 1, 2, 2, 1, 1, 2, 5, 3, 1, 1, 2, 1, 3, 1, 1, 55, 2, 1, 1, 2, 1, 4, 6, 2, 10, 1, 6, 1, 1, 14, 1, 3, 1, 1, 1, 8, 24, 1, 5, 1, 1, 9, 1, 2, 4, 3, 1, 4, 2, 1, 2, 1, 1, 5, 1, 1, 1, 17, 2, 1, 1, 3, 1, 2, 3, 1, 1, 1, 2, 52, 8, 9, 4, 1, 7, 1, 1, 1, 1, 22, 1, 2, 69, 1, 1, 1, 1, 1, 1, 1, 3, 5, 1, 21, 26, 1, 1, 1, 1, 1, 4, 4, 2, 1, 3, 3, 1, 1, 1, 2, 1, 7, 1, 1, 4, 19, 1, 1, 1, 4, 1, 1, 1, 12, 1, 1, 1, 7, 11, 1, 1, 32, 1, 1, 3, 3, 2, 1, 1, 8, 1, 2, 1, 1, 1, 1, 1, 5, 31, 1, 3, 1, 1, 3, 1, 1, 3, 2, 1, 2, 2, 1, 1, 1, 9, 1, 2, 8, 1, 6, 1, 1, 3, 1, 2, 1, 1, 1, 1, 9, 1, 1, 1, 1, 1, 6, 5, 1, 1, 12, 1, 1, 2, 1, 1, 1, 1, 2, 1, 4, 1, 2, 1, 1, 1, 5, 4, 1, 1, 6, 4, 3, 15, 1, 1, 1, 57, 1, 1, 1, 1, 1, 1, 3, 6, 2, 5, 2, 38, 1, 1, 1, 1, 2, 4, 15, 1, 2, 145, 1, 1, 1, 1, 1, 1, 1, 1, 1, 1, 1, 1, 1, 1, 1, 3, 1, 1, 1, 1, 4, 1, 1, 1, 12, 1, 1, 5, 1, 4, 2, 11, 1, 1, 1, 1, 1, 7, 7, 1, 1, 1, 2, 2, 2, 1, 1, 7, 1, 1, 8, 1, 3, 1, 1, 20, 17, 1, 1, 1, 4, 5, 1, 6, 1, 1, 1, 1, 1, 1, 11, 1, 1, 1, 11, 1, 2, 68, 1, 1, 1, 13, 1, 1, 1, 7, 1, 1, 2, 20, 4, 2, 1, 5, 2, 1, 1, 1, 2, 1, 1, 1, 1, 1, 1, 9, 2, 1, 4, 1, 6, 2, 3, 1, 12, 1, 10, 1, 8, 2, 1, 2, 8, 2, 2, 9, 1, 6, 1, 1, 3, 1, 1, 1, 1, 1, 1, 2, 1, 1, 1, 1, 1, 1, 41, 9, 1, 26, 1, 1, 1, 2, 1, 2, 6, 1, 3, 3, 1, 1, 1, 2, 2, 1, 1, 16, 1, 6, 14, 2, 2, 4, 1, 1, 3, 3, 1, 3, 1, 1, 1, 2, 1, 1, 6, 1, 1, 1, 2, 2, 11, 1, 2, 1, 1, 3, 1, 1, 1, 4, 2, 1, 4, 1, 4, 1, 1, 1, 3, 1, 1, 2, 5, 1, 1, 3, 1, 1, 1, 1, 1, 2, 3, 1, 1, 3, 1, 2, 1, 6, 2, 1, 3, 2, 1, 1, 1, 1, 1, 1, 3, 8, 1, 1, 3, 39, 3, 1, 3, 8, 8, 131, 2, 12, 4, 4, 72, 1, 2, 3, 1, 2, 2, 1, 1, 1, 4, 1, 1, 2, 1, 1, 2, 1, 1, 1, 1, 1, 2, 1, 6, 1, 4, 1, 1, 1, 3, 1, 6, 1, 1, 5, 1, 3, 6, 1, 1, 1, 1, 3, 1, 2, 8, 1, 1, 1, 3, 1, 1, 1, 10, 2, 1, 1, 3, 1, 1, 3, 1, 1, 1, 3, 1, 2, 1, 1, 1, 1, 7, 2, 1, 1, 10, 13, 1, 1, 2, 1, 5, 2, 4, 1, 5, 1, 3, 2, 1, 1, 1, 2, 23, 17, 1, 1, 4, 1, 1, 1, 3, 1, 4, 1, 4, 3, 12, 1, 9, 1, 16, 1, 1, 1, 1, 1, 1, 1, 4, 1, 1, 1, 14, 1, 1, 1, 1, 1, 1, 2, 48, 2, 1, 1, 1, 1, 1, 6, 1, 2, 1, 1, 1, 3, 7, 3, 2, 13, 3, 1, 15, 1, 2, 1, 2, 3, 5, 1, 1, 1, 1, 1, 3, 1, 2, 2, 2, 5, 4, 1, 2, 1, 1, 2, 5, 3, 26, 1, 2, 3, 18, 1, 2, 6, 1, 35, 1, 15, 8, 2, 1, 2, 4, 4, 1, 2, 16, 1, 2, 1, 1, 4, 5, 2, 2, 6, 1, 1, 1, 4, 1, 1, 1, 2, 1, 2, 2, 1, 1, 1, 2, 7, 2, 1, 1, 1, 1, 3, 1, 5, 1, 1, 1, 1, 1, 16, 1, 1, 1, 1, 16, 2, 1, 1, 1, 6, 1, 11, 7, 3, 1, 2, 1, 2, 1, 2, 1, 5, 1, 6, 1, 1, 1, 1, 1, 66, 1, 1, 1, 25, 1, 4, 37, 1, 1, 44, 1, 1, 1, 1, 10, 1, 1, 21, 12, 1, 1, 13, 2, 1, 1, 1, 1, 1, 1, 10, 3, 2, 13, 1, 2, 1, 3, 9, 3, 1, 1, 1, 1, 13, 1, 4, 1, 2, 2, 7, 1, 1, 3, 1, 1, 3, 5, 1, 1, 17, 1, 2, 17, 4, 1, 1, 8, 1, 1, 1, 12, 3, 2, 5, 2, 2, 11, 7, 3, 2, 1, 23, 3, 1, 1, 3, 1, 2, 3, 4, 1, 1, 1, 5, 1, 1, 5, 27, 2, 2, 1, 4, 1, 1, 1, 51, 13, 1, 1, 5, 1, 2, 1, 1, 2, 11, 1, 3, 1, 1, 5, 1, 10, 2, 1, 6, 1, 1, 4, 6, 1, 3, 22, 4, 1, 1, 3, 1, 3, 1, 19, 1, 2, 1, 1, 1, 1, 1, 1, 2, 6, 1, 16, 1, 1, 1, 1, 9, 13, 1, 1, 13, 1, 1, 4, 9, 1, 1, 37, 3, 1, 4, 12, 1, 1, 3, 2, 2, 4, 1, 1, 1, 1, 1, 1, 1, 4, 1, 1, 1, 1, 1, 15, 1, 5, 1, 9, 1, 8, 18, 8, 7, 14, 1, 4, 1, 1, 8, 4, 1, 17, 1, 1, 1, 2, 1, 80, 1, 1, 1, 1, 1, 7, 2, 10, 1, 1, 1, 5, 1, 5, 1, 1, 1, 1, 1, 2, 1, 3, 1, 1, 1, 2, 3, 1, 1, 11, 1, 1, 2, 1, 1, 1, 1, 1, 6, 4, 1, 1, 1, 3, 21, 1, 1, 2, 2, 1, 1, 1, 2, 1, 1, 1, 1, 1, 1, 17, 1, 2, 1, 1, 36, 1, 1, 3, 1, 2, 2, 1, 1, 2, 4, 5, 1, 1, 46, 1, 3, 10, 1, 1, 1, 4, 6, 4, 1, 3, 1, 25, 19, 1, 1, 1, 6, 10, 1, 2, 1, 26, 1, 1, 1, 1, 2, 8, 1, 1, 1, 5, 3, 1, 5, 1, 1, 1, 11, 1, 5, 1, 1, 2, 3, 1, 1, 3, 2, 1, 1, 3, 1, 1, 1, 12, 3, 1, 3, 1, 1, 6, 1, 1, 6, 1, 1, 1, 3, 1, 4, 2, 8, 1, 2, 3, 2, 2, 15, 11, 1, 1, 1, 2, 1, 1, 7, 1, 1, 8, 1, 1, 2, 2, 1, 10, 1, 3, 1, 1, 10, 1, 1, 1, 5, 1, 1, 10, 3, 1, 1, 7, 1, 1, 16, 2, 1, 5, 2, 3, 44, 1, 1, 1, 1, 1, 16, 1, 1, 4, 1, 2, 1, 1, 89, 7, 1, 1, 1, 4, 2, 1, 1, 1, 1, 1, 1, 2, 3, 2, 1, 1, 2, 22, 10, 1, 2, 2, 3, 6, 1, 1, 1, 24, 1, 1, 1, 1, 82, 1, 5, 1, 8, 1, 6, 1, 1, 4, 5, 1, 35, 1, 1, 2, 1, 2, 2, 21, 4, 1, 4, 22, 1, 2, 5, 31, 1, 1, 8, 5, 1, 1, 2, 3, 1, 3, 1, 11, 2, 2, 1, 2, 1, 24, 4, 8, 3, 4, 1, 1, 1, 1, 3, 1, 2, 1, 1, 1, 1, 1, 1, 1, 1, 1, 1, 1, 1, 1, 1, 9, 1, 16, 1, 7, 4, 1, 1, 1, 3, 3, 2, 3, 1, 3, 1, 2, 1, 11, 1, 1, 1, 2, 1, 1, 22, 1, 1, 2, 1, 1, 1, 1, 1, 3, 1, 3, 5, 1, 7, 1, 1, 10, 1, 2, 1, 1, 1, 1, 1, 6, 22, 1, 1, 1, 6, 2, 1, 1, 2, 6, 1, 1, 1, 22, 1, 1, 4, 1, 12, 2, 2, 1, 2, 1, 1, 3, 1, 4, 1, 3, 1, 1, 1, 4, 4, 1, 6, 6, 3, 1, 1, 1, 4, 1, 1, 1, 12, 6, 1, 1, 1, 1, 64, 13, 1, 1, 1, 5, 1, 1, 3, 1, 9, 1, 1, 11, 17, 1, 1, 1, 1, 1, 1, 1, 1, 2, 1, 2, 4, 1, 1, 2, 1, 1, 3, 3, 1, 2, 1, 14, 2, 13, 2, 1, 35, 1, 1, 1, 1, 1, 1, 1, 1, 2, 1, 1, 1, 1, 1, 1, 1, 1, 3, 1, 1, 3, 1, 1, 1, 1, 1, 2, 9, 5, 1, 10, 19, 1, 1, 1, 2, 1, 2, 1, 2, 100, 1, 1, 1, 1, 1, 1, 2, 1, 2, 1, 5, 22, 1, 1, 1, 1, 1, 23, 7, 1, 2, 6, 8, 1, 1, 3, 1, 1, 3, 26, 1, 17, 1, 9, 1, 1, 1, 1, 1, 1, 1, 1, 1, 3, 2, 2, 1, 10, 1, 1, 29, 1, 1, 1, 1, 1, 1, 1, 6, 12, 1, 4, 8, 1, 8, 30, 1, 2, 1, 1, 1, 1, 2, 17, 1, 1, 1, 1, 2, 1, 1, 3, 4, 1, 6, 4, 6, 5, 1, 1, 1, 1, 5, 1, 1, 1, 5, 6, 1, 1, 1, 1, 1, 2, 1, 1, 1, 2, 1, 1, 1, 1, 2, 1, 29, 1, 1, 4, 3, 3, 1, 2, 6, 3, 2, 2, 1, 1, 2, 1, 21, 14, 1, 4, 1, 15, 2, 12, 1, 2, 18, 1, 1, 1, 1, 1, 2, 1, 1, 1, 18, 2, 3, 8, 1, 1, 6, 1, 1, 1, 1, 1, 1, 9, 1, 1, 29, 1, 1, 1, 9, 1, 6, 1, 1, 1, 2, 3, 1, 14, 3, 5, 1, 2, 1, 1, 7, 1, 4, 13, 1, 1, 1, 1, 11, 1, 1, 7, 2, 1, 1, 3, 1, 1, 1, 1, 1, 1, 6, 1, 1, 1, 19, 3, 1, 1, 1, 3, 1, 11, 2, 1, 8, 1, 1, 2, 4, 5, 1, 3, 2, 1, 4, 1, 11, 1, 2, 7, 6, 2, 3, 2, 1, 13, 2, 2, 1, 4, 1, 1, 7, 1, 1, 1, 1, 8, 7, 2, 2, 2, 7, 1, 17, 1, 2, 1, 1, 13, 1, 3, 3, 1, 3, 4, 32, 3, 3, 2, 1, 5, 1, 3, 1, 2, 2, 3, 1, 1, 8, 28, 1, 1, 6, 7, 13, 1, 1, 5, 3, 4, 1, 16, 1, 1, 1, 1, 1, 1, 2, 1, 1, 1, 1, 21, 2, 1, 22, 2, 1, 2, 1, 1, 20, 2, 5, 40, 1, 1, 1, 1, 1, 1, 1, 1, 1, 2, 1, 1, 1, 1, 1, 1, 1, 2, 1, 1, 2, 3, 20, 1, 10, 1, 3, 2, 2, 2, 1, 7, 1, 1, 7, 1, 1, 4, 1, 2, 5, 1, 2, 4, 1, 3, 1, 1, 2, 4, 1, 1, 4, 4, 2, 2, 25, 1, 1, 1, 2, 1, 3, 2, 1, 1, 1, 6, 7, 1, 5, 1, 1, 2, 1, 20, 1, 1, 1, 17, 1, 44, 1, 19, 1, 1, 1, 7, 2, 7, 1, 2, 1, 1, 1, 1, 2, 1, 1, 1, 4, 1, 15, 1, 13, 1, 1, 1, 1, 1, 6, 1, 1, 1, 10, 1, 3, 1, 1, 1, 1, 1, 1, 1, 1, 15, 1, 1, 1, 1, 4, 9, 1, 1, 1, 15, 1, 1, 5, 1, 5, 8, 1, 1, 1, 1, 3, 1, 1, 2, 3, 1, 1, 1, 1, 17, 1, 10, 1, 1, 12, 5, 1, 19, 1, 5, 2, 1, 1, 4, 12, 1, 1, 1, 6, 1, 2, 3, 14, 1, 1, 3, 19, 11, 1, 1, 1, 1, 2, 2, 1, 8, 1, 5, 1, 8, 8, 1, 2, 4, 1, 1, 117, 8, 16, 1, 1, 2, 1, 2, 1, 1, 1, 1, 1, 1, 1, 1, 4, 1, 1, 1, 1, 2, 2, 3, 5, 3, 1, 2, 1, 1, 11, 2, 1, 3, 1, 1, 8, 2, 1, 2, 1, 4, 5, 1, 1, 1, 1, 1, 1, 11, 2, 4, 1, 1, 1, 1, 1, 62, 1, 1, 10, 14, 10, 1, 1, 2, 1, 4, 9, 1, 1, 1, 1, 2, 27, 1, 1, 2, 2, 1, 9, 1, 1, 1, 1, 8, 4, 1, 1, 1, 34, 26, 1, 6, 1, 1, 1, 2, 1, 3, 1, 15, 1, 11, 3, 10, 9, 1, 13, 1, 2, 7, 7, 2, 1, 9, 4, 1, 1, 1, 1, 1, 1, 1, 1, 1, 1, 2, 1, 1, 13, 2, 7, 1, 1, 13, 24, 1, 7, 11, 3, 3, 1, 1, 8, 2, 16, 1, 1, 5, 4, 5, 49, 1, 1, 1, 1, 30, 1, 1, 9, 1, 3, 1, 1, 1, 96, 1, 1, 6, 1, 2, 2, 2, 1, 13, 1, 1, 3, 1, 1, 10, 4, 1, 1, 3, 1, 17, 1, 51, 1, 1, 2, 1, 1, 2, 1, 2, 4, 2, 1, 10, 2, 1, 1, 1, 1, 4, 20, 2, 1, 1, 2, 2, 4, 1, 44, 1, 2, 4, 1, 4, 2, 2, 13, 1, 7, 1, 5, 11, 25, 1, 1, 4, 1, 1, 7, 11, 3, 2, 2, 1, 1, 2, 1, 1, 2, 1, 3, 1, 2, 2, 15, 1, 2, 1, 1, 2, 2, 1, 2, 4, 41, 1, 1, 1, 1, 4, 9, 1, 4, 1, 1, 6, 8, 6, 1, 17, 1, 75, 1, 1, 1, 1, 1, 2, 1, 1, 42, 3, 28, 1, 1, 2, 1, 1, 1, 8, 45, 1, 1, 3, 1, 1, 4, 1, 1, 1, 2, 1, 11, 1, 1, 10, 1, 1, 2, 2, 3, 1, 1, 1, 1, 22, 12, 1, 1, 1, 1, 1, 7, 2, 1, 7, 1, 1, 1, 1, 2, 5, 6, 1, 2, 1, 1, 6, 1, 3, 1, 1, 1, 1, 9, 30, 1, 1, 1, 1, 1, 1, 50, 23, 13, 1, 1, 3, 3, 1, 1, 1, 1, 1, 1, 1, 1, 1, 1, 1, 27, 1, 4, 2, 1, 5, 1, 2, 2, 3, 38, 1, 2, 5, 1, 1, 1, 27, 1, 1, 1, 3, 2, 1, 1, 2, 3, 1, 7, 1, 1, 2, 1, 2, 1, 14, 2, 1, 1, 1, 1, 5, 1, 1, 1, 1, 1, 1, 1, 16, 4, 13, 1, 1, 1, 1, 15, 1, 1, 1, 1, 1, 1, 1, 17, 3, 1, 5, 7, 1, 4, 8, 1, 1, 1, 1, 1, 1, 23, 5, 1, 9, 2, 2, 2, 2, 19, 1, 2, 2, 5, 1, 31, 3, 1, 8, 1, 2, 1, 1, 1, 4, 2, 2, 9, 1, 7, 23, 1, 1, 1, 1, 1, 1, 1, 1, 1, 2, 1, 2, 8, 1, 1, 1, 1, 5, 3, 2, 1, 5, 2, 5, 1, 3, 1, 3, 32, 1, 1, 2, 3, 1, 4, 1, 1, 22, 1, 1, 1, 6, 1, 56, 1, 1, 1, 2, 9, 1, 1, 1, 1, 1, 1, 22, 1, 1, 7, 2, 1, 1, 3, 1, 1, 1, 31, 1, 1, 1, 20, 1, 5, 1, 1, 6, 1, 4, 1, 5, 1, 13, 13, 1, 1, 1, 10, 1, 4, 1, 32, 1, 1, 1, 1, 1, 1, 5, 1, 1, 2, 7, 1, 1, 1, 2, 1, 10, 1, 32, 4, 1, 5, 1, 1, 4, 1, 1, 1, 2, 1, 31, 2, 1, 1, 1, 5, 1, 9, 3, 3, 1, 2, 78, 1, 1, 1, 1, 1, 1, 1, 1, 2, 16, 3, 1, 2, 16, 1, 4, 1, 1, 5, 9, 1, 1, 4, 13, 2, 1, 69, 1, 1, 1, 1, 1, 1, 5, 2, 7, 4, 1, 4, 3, 1, 7, 10, 1, 1, 2, 5, 1, 2, 12, 1, 2, 33, 1, 118, 3, 1, 7, 1, 72, 1, 1, 1, 2, 1, 1, 1, 1, 1, 23, 1, 2, 2, 1, 4, 1, 1, 1, 2, 46, 1, 1, 7, 1, 1, 1, 1, 1, 1, 2, 1, 1, 9, 1, 1, 4, 43, 1, 1, 1, 1, 1, 1, 3, 1, 1, 1, 1, 1, 1, 2, 3, 1, 1, 3, 6, 15, 2, 1, 8, 1, 1, 16, 15, 1, 1, 3, 2, 1, 1, 1, 1, 9, 1, 1, 1, 2, 1, 2, 1, 1, 1, 1, 1, 1, 15, 31, 2, 2, 2, 2, 1, 1, 1, 1, 1, 1, 1, 88, 1, 1, 1, 1, 2, 2, 4, 2, 2, 2, 1, 1, 7, 1, 2, 3, 3, 1, 3, 1, 6, 1, 1, 7, 3, 1, 1, 4, 20, 69, 1, 3, 1, 1, 1, 1, 23, 1, 1, 1, 11, 5, 5, 4, 1, 1, 5, 1, 4, 1, 3, 3, 1, 1, 1, 1, 1, 1, 1, 1, 1, 1, 1, 1, 1, 1, 1, 135, 1, 1, 1, 1, 1, 1, 1, 1, 3, 7, 1, 1, 1, 1, 1, 1, 2, 22, 1, 4, 1, 17, 1, 12, 13, 5, 8, 3, 1, 2, 3, 1, 1, 1, 1, 22, 1, 2, 1, 14, 1, 3, 3, 1, 1, 2, 1, 1, 13, 1, 1, 1, 2, 1, 1, 1, 2, 2, 1, 1, 1, 1, 7, 1, 1, 2, 1, 4, 1, 7, 1, 4, 1, 1, 1, 3, 3, 3, 1, 1, 1, 1, 1, 2, 1, 1, 1, 4, 1, 1, 2, 1, 1, 1, 3, 1, 1, 1, 1, 1, 1, 4, 1, 1, 1, 1, 1, 1, 2, 1, 1, 92, 2, 1, 1, 1, 8, 6, 4, 4, 2, 1, 2, 1, 2, 1, 1, 1, 2, 2, 7, 1, 1, 1, 6, 1, 1, 1, 1, 2, 7, 1, 3, 1, 1, 2, 2, 32, 33, 6, 1, 1, 3, 12, 1, 3, 4, 3, 1, 1, 1, 10, 24, 2, 1, 3, 1, 1, 4, 4, 1, 4, 3, 3, 4, 1, 1, 1, 7, 1, 23, 1, 1, 30, 1, 1, 1, 1, 1, 1, 1, 1, 6, 2, 3, 1, 127, 1, 1, 1, 2, 2, 6, 5, 33, 4, 1, 1, 3, 4, 2, 16, 1, 10, 5, 1, 3, 1, 1, 1, 1, 1, 1, 1, 2, 44, 1, 1, 8, 2, 1, 1, 1, 2, 1, 1, 8, 4, 1, 1, 2, 4, 3, 1, 1, 3, 2, 1, 1, 1, 1, 1, 1, 4, 11, 1, 1, 1, 1, 1, 1, 2, 7, 1, 1, 1, 1, 1, 1, 1, 1, 1, 5, 11, 1, 1, 3, 1, 1, 1, 2, 1, 3, 2, 1, 5, 2, 1, 2, 2, 1, 3, 6, 17, 1, 2, 1, 1, 26, 5, 2, 1, 1, 1, 1, 1, 9, 1, 2, 1, 7, 1, 1, 22, 9, 3, 1, 3, 1, 1, 4, 2, 2, 1, 1, 1, 1, 1, 4, 5, 2, 1, 1, 1, 44, 1, 1, 1, 1, 4, 1, 72, 1, 1, 1, 1, 1, 1, 55, 1, 1, 1, 62, 13, 1, 13, 2, 1, 1, 57, 1, 1, 1, 1, 1, 4, 1, 1, 1, 2, 3, 1, 1, 13, 2, 1, 3, 4, 16, 5, 17, 32, 2, 1, 1, 2, 1, 1, 1, 1, 1, 1, 1, 1, 1, 17, 1, 1, 2, 1, 3, 1, 20, 6, 8, 1, 5, 7, 3, 2, 1, 1, 3, 2, 1, 1, 2, 1, 2, 1, 2, 15, 1, 1, 1, 3, 11, 2, 134, 1, 1, 1, 81, 1, 1, 35, 1, 10, 1, 1, 1, 7, 4, 1, 1, 3, 1, 7, 3, 7, 1, 1, 2, 3, 3, 1, 12, 6, 1, 3, 4, 1, 1, 1, 5, 1, 5, 1, 2, 1, 1, 1, 6, 2, 25, 1, 1, 1, 2, 6, 3, 5, 2, 3, 2, 3, 8, 1, 1, 5, 3, 1, 12, 11, 1, 10, 2, 8, 7, 1, 11, 1, 2, 1, 2, 1, 2, 1, 2, 5, 2, 9, 1, 4, 11, 1, 3, 4, 16, 1, 1, 51, 1, 1, 1, 5, 9, 2, 15, 1, 1, 1, 1, 1, 27, 5, 4, 1, 1, 1, 3, 4, 1, 1, 2, 2, 1, 1, 1, 2, 5, 5, 3, 12, 1, 31, 19, 2, 1, 1, 2, 1, 1, 1, 1, 2, 3, 1, 1, 1, 1, 1, 1, 1, 1, 64, 1, 1, 1, 1, 1, 1, 1, 1, 1, 2, 3, 6, 2, 1, 1, 3, 9, 5, 1, 1, 25, 1, 1, 1, 1, 11, 5, 1, 13, 1, 1, 2, 7, 5, 1, 38, 1, 1, 1, 1, 1, 1, 15, 1, 1, 10, 1, 1, 1, 1, 1, 4, 1, 1, 1, 1, 3, 1, 5, 1, 3, 3, 6, 3, 1, 1, 9, 1, 16, 1, 1, 2, 4, 7, 4, 2, 15, 4, 5, 1, 1, 15, 1, 20, 4, 2, 12, 2, 33, 2, 2, 15, 2, 1, 1, 1, 1, 1, 2, 1, 5, 13, 33, 1, 1, 2, 5, 2, 5, 2, 1, 1, 25, 1, 1, 1, 3, 2, 1, 1, 1, 8, 3, 1, 2, 2, 3, 1, 1, 1, 2, 12, 2, 1, 2, 4, 1, 19, 1, 1, 15, 3, 4, 2, 2, 1, 7, 1, 1, 1, 1, 3, 1, 3, 1, 1, 1, 1, 1, 3, 6, 8, 7, 2, 39, 3, 2, 3, 2, 3, 1, 1, 6, 1, 13, 1, 10, 7, 3, 4, 1, 1, 2, 1, 4, 1, 5, 7, 1, 1, 2, 3, 58, 1, 1, 5, 1, 1, 1, 1, 2, 11, 66, 1, 1, 1, 6, 10, 14, 1, 1, 2, 1, 2, 6, 1, 1, 1, 7, 3, 3, 3, 2, 1, 4, 11, 22, 1, 28, 10, 1, 4, 3, 5, 1, 12, 2, 1, 1, 1, 2, 23, 1, 1, 1, 1, 1, 6, 1, 2, 1, 4, 1, 3, 1, 1, 1, 1, 5, 1, 2, 6, 3, 1, 1, 3, 1, 1, 3, 1, 1, 64, 1, 1, 1, 1, 1, 1, 2, 1, 1, 10, 2, 1, 7, 4, 1, 3, 1, 2, 3, 16, 1, 1, 1, 2, 7, 1, 1, 1, 1, 1, 2, 11, 1, 13, 1, 3, 6, 1, 1, 5, 1, 6, 1, 1, 3, 3, 1, 1, 1, 2, 2, 5, 3, 1, 1, 2, 1, 3, 1, 1, 1, 1, 1, 1, 1, 1, 1, 1, 1, 1, 27, 4, 27, 1, 1, 1, 1, 1, 51, 34, 1, 1, 1, 1, 15, 1, 1, 1, 2, 1, 4, 3, 5, 1, 294, 2, 1, 1, 1, 4, 1, 3, 1, 1, 2, 4, 1, 1, 1, 1, 2, 14, 1, 2, 1, 1, 1, 1, 1, 1, 1, 1, 4, 1, 1, 2, 2, 6, 2, 1, 7, 1, 3, 1, 1, 1, 1, 1, 1, 2, 5, 1, 2, 1, 6, 1, 3, 1, 1, 3, 9, 163, 1, 1, 1, 1, 1, 2, 2, 1, 1, 2, 1, 4, 1, 1, 1, 6, 1, 1, 1, 1, 1, 29, 1, 6, 2, 3, 1, 1, 17, 1, 1, 2, 6, 1, 1, 2, 1, 1, 1, 5, 3, 1, 3, 1, 1, 6, 1, 4, 1, 1, 1, 1, 2, 1, 7, 1, 18, 2, 1, 1, 4, 21, 1, 5, 38, 1, 1, 1, 48, 10, 1, 31, 3, 10, 5, 1, 1, 7, 1, 1, 1, 1, 2, 1, 1, 1, 1, 1, 2, 1, 3, 1, 1, 1, 5, 17, 1, 10, 10, 14, 1, 1, 2, 1, 3, 1, 2, 2, 2, 1, 2, 8, 50, 3, 10, 4, 12, 1, 16, 2, 5, 1, 5, 22, 1, 4, 3, 1, 4, 1, 19, 1, 2, 1, 1, 1, 1, 1, 1, 3, 1, 2, 1, 1, 2, 2, 4, 1, 1, 1, 4, 1, 3, 20, 1, 1, 1, 14, 1, 1, 1, 3, 1, 1, 4, 1, 7, 2, 1, 4, 1, 3, 3, 1, 2, 27, 1, 1, 1, 1, 1, 3, 4, 1, 17, 1, 1, 17, 3, 7, 1, 1, 1, 58, 1, 3, 2, 1, 1, 1, 2, 2, 7, 1, 1, 1, 1, 22, 1, 1, 1, 3, 2, 1, 1, 12, 1, 3, 2, 1, 1, 1, 3, 1, 9, 9, 2, 7, 28, 1, 2, 2, 11, 1, 1, 6, 1, 9, 1, 9, 1, 12, 4, 1, 1, 3, 1, 3, 1, 1, 2, 1, 2, 1, 1, 1, 1, 5, 2, 1, 1, 1, 4, 1, 1, 4, 1, 1, 2, 1, 2, 1, 1, 1, 1, 1, 1, 12, 3, 7, 1, 1, 2, 1, 9, 1, 1, 1, 1, 3, 1, 2, 1, 3, 1, 1, 4, 3, 11, 1, 1, 2, 1, 1, 1, 1, 2, 4, 2, 7, 2, 1, 1, 1, 1, 1, 2, 1, 2, 8, 5, 19, 30, 3, 4, 3, 3, 1, 1, 1, 1, 5, 1, 8, 1, 2, 1, 1, 10, 1, 5, 1, 2, 2, 1, 8, 4, 1, 2, 1, 1, 2, 1, 22, 3, 2, 2, 4, 5, 13, 1, 1, 4, 18, 1, 3, 1, 7, 8, 1, 1, 1, 1, 1, 1, 1, 3, 2, 1, 1, 11, 4, 11, 2, 1, 3, 2, 1, 3, 2, 1, 1, 2, 1, 1, 1, 1, 1, 1, 1, 1, 5, 3, 2, 1, 6, 1, 8, 1, 17, 1, 1, 1, 1, 1, 2, 7, 1, 1, 6, 1, 1, 1, 1, 12, 12, 1, 1, 1, 6, 1, 30, 1, 1, 1, 93, 1, 1, 25, 1, 1, 1, 1, 1, 1, 1, 1, 1, 1, 3, 1, 2, 1, 2, 6, 1, 1, 1, 3, 1, 2, 1, 4, 8, 1, 2, 2, 1, 2, 1, 13, 1, 2, 3, 23, 1, 1, 1, 1, 3, 2, 1, 26, 3, 1, 2, 44, 1, 1, 1, 1, 1, 1, 1, 1, 4, 1, 5, 1, 1, 1, 9, 2, 1, 1, 1, 8, 16, 1, 1, 12, 1, 4, 2, 2, 1, 1, 1, 1, 1, 10, 3, 2, 2, 2, 7, 8, 6, 1, 1, 5, 1, 2, 1, 1, 1, 1, 1, 5, 2, 7, 1, 1, 1, 1, 2, 1, 1, 2, 1, 1, 1, 11, 1, 1, 1, 1, 1, 4, 7, 1, 1, 1, 22, 1, 1, 1, 1, 2, 1, 4, 1, 7, 1, 5, 1, 2, 1, 1, 1, 1, 1, 57, 1, 8, 3, 5, 1, 1, 11, 1, 1, 6, 4, 6, 4, 5, 1, 1, 2, 5, 8, 1, 1, 1, 1, 1, 2, 1, 1, 1, 1, 1, 1, 1, 1, 1, 1, 1, 6, 2, 2, 1, 1, 1, 1, 1, 1, 1, 10, 5, 16, 1, 1, 1, 1, 1, 1, 1, 2, 1, 2, 1, 58, 2, 26, 1, 1, 41, 1, 1, 2, 1, 2, 1, 1, 2, 6, 1, 1, 1, 3, 1, 1, 41, 1, 2, 1, 5, 3, 1, 18, 7, 1, 1, 1, 3, 1, 7, 2, 2, 14, 34, 1, 3, 1, 1, 1, 5, 3, 3, 1, 1, 3, 1, 1, 2, 2, 1, 1, 11, 2, 1, 4, 6, 1, 1, 32, 1, 1, 1, 1, 23, 1, 1, 1, 1, 20, 11, 1, 4, 2, 1, 3, 2, 1, 3, 4, 50, 1, 1, 1, 1, 1, 2, 1, 1, 1, 3, 1, 1, 1, 1, 1, 1, 4, 20, 1, 1, 3, 1, 1, 1, 4, 18, 7, 60, 1, 1, 1, 87, 1, 1, 1, 5, 7, 1, 1, 1, 1, 1, 1, 1, 8, 6, 1, 2, 1, 14, 19, 7, 1, 1, 13, 7, 1, 16, 1, 3, 1, 1, 1, 4, 1, 5, 8, 1, 1, 1, 1, 1, 2, 1, 6, 1, 1, 1, 4, 9, 2, 2, 1, 8, 83, 1, 1, 1, 1, 1, 1, 1, 2, 1, 1, 1, 1, 1, 4, 4, 21, 1, 1, 1, 1, 1, 3, 12, 64, 1, 3, 2, 1, 2, 2, 1, 16, 22, 1, 1, 10, 8, 1, 1, 2, 1, 1, 7, 1, 1, 2, 1, 4, 1, 1, 4, 11, 4, 2, 1, 1, 5, 12, 1, 3, 1, 10, 4, 2, 1, 1, 16, 1, 6, 8, 2, 1, 9, 1, 10, 1, 2, 1, 1, 2, 2, 2, 3, 1, 6, 5, 1, 8, 3, 1, 4, 6, 1, 50, 7, 1, 1, 1, 1, 1, 3, 8, 1, 1, 1, 3, 5, 5, 1, 1, 1, 1, 7, 13, 1, 1, 1, 4, 539, 1, 1, 1, 1, 1, 1, 1, 1, 1, 3, 1, 1, 1, 2, 1, 1, 1, 1, 1, 1, 2, 1, 3, 1, 1, 1, 1, 1, 5, 2, 17, 1, 1, 1, 29, 1, 1, 3, 1, 3, 1, 1, 1, 3, 22, 1, 1, 5, 1, 1, 17, 1, 1, 5, 1, 12, 1, 1, 1, 1, 61, 1, 1, 1, 1, 2, 1, 1, 5, 1, 1, 1, 1, 1, 3, 1, 1, 2, 7, 1, 1, 8, 1, 1, 1, 2, 4, 1, 3, 1, 1, 4, 2, 2, 1, 1, 2, 1, 1, 1, 5, 1, 2, 13, 1, 1, 1, 1, 3, 2, 6, 1, 1, 7, 2, 1, 1, 1, 1, 1, 10, 3, 48, 1, 1, 22, 1, 1, 1, 1, 1, 2, 2, 2, 3, 1, 3, 1, 2, 2, 1, 1, 1, 2, 1, 1, 1, 1, 1, 1, 4, 1, 1, 3, 3, 1, 1, 1, 1, 1, 2, 1, 1, 4, 1, 1, 1, 3, 1, 3, 5, 1, 2, 109, 1, 43, 1, 4, 1, 1, 1, 1, 1, 1, 1, 1, 9, 3, 3, 2, 1, 1, 1, 2, 1, 1, 2, 1, 12, 1, 1, 1, 2, 1, 1, 1, 2, 1, 1, 5, 2, 1, 1, 1, 7, 1, 1, 1, 3, 1, 1, 1, 1, 2, 2, 3, 1, 6, 1, 8, 13, 1, 8, 7, 1, 8, 1, 17, 1, 1, 1, 1, 2, 1, 2, 24, 10, 1, 2, 1, 1, 1, 2, 1, 1, 1, 8, 16, 1, 1, 1, 1, 11, 1, 12, 3, 2, 1, 6, 1, 14, 1, 3, 2, 10, 3, 1, 2, 1, 1, 1, 31, 1, 34, 1, 1, 1, 2, 3, 3, 1, 1, 1, 8, 1, 4, 7, 11, 1, 1, 7, 1, 9, 1, 1, 54, 51, 1, 1, 4, 1, 1, 6, 1, 3, 1, 1, 1, 1, 33, 1, 10, 3, 31, 5, 1, 1, 1, 58, 1, 1, 1, 1, 1, 2, 1, 5, 1, 1, 1, 1, 1, 17, 1, 1, 8, 2, 1, 1, 6, 5, 27, 1, 1, 2, 1, 1, 54, 1, 7, 1, 1, 1, 1, 2, 5, 1, 3, 1, 1, 1, 1, 2, 51, 2, 1, 1, 1, 1, 1, 1, 20, 4, 9, 14, 7, 11, 7, 4, 1, 2, 1, 28, 1, 1, 2, 38, 10, 1, 2, 1, 9, 1, 13, 5, 7, 2, 1, 13, 1, 2, 2, 2, 1, 21, 1, 3, 1, 7, 9, 1, 1, 4, 1, 1, 1, 1, 29, 4, 1, 11, 1, 1, 1, 2, 1, 1, 5, 2, 5, 2, 1, 1, 1, 10, 1, 24, 1, 1, 1, 1, 11, 20, 1, 1, 1, 1, 8, 1, 3, 1, 14, 3, 1, 22, 2, 68, 3, 1, 1, 1, 60, 1, 1, 1, 1, 1, 1, 2, 1, 7, 6, 1, 12, 7, 1, 118, 1, 6, 1, 14, 1, 1, 1, 3, 1, 3, 15, 2, 6, 10, 1, 1, 1, 14, 1, 1, 1, 1, 1, 5, 1, 1, 11, 5, 75, 1, 1, 6, 1, 1, 1, 1, 1, 2, 1, 3, 13, 1, 1, 56, 2, 2, 2, 23, 1, 1, 24, 1, 2, 4, 1, 1, 1, 3, 1, 2, 11, 2, 1, 1, 1]\n"
     ]
    }
   ],
   "source": [
    "sm4=[]\n",
    "for x in new4:\n",
    "    sm4.append(matrix4[x].sum())\n",
    "print(sm4)"
   ]
  },
  {
   "cell_type": "code",
   "execution_count": 184,
   "metadata": {},
   "outputs": [],
   "source": [
    "trans4=matrix4.transpose()"
   ]
  },
  {
   "cell_type": "code",
   "execution_count": 185,
   "metadata": {},
   "outputs": [],
   "source": [
    "trans4['sum']=sm4"
   ]
  },
  {
   "cell_type": "code",
   "execution_count": 186,
   "metadata": {},
   "outputs": [],
   "source": [
    "top4=trans4.sort_values(by='sum', ascending=False).head(30)"
   ]
  },
  {
   "cell_type": "markdown",
   "metadata": {},
   "source": [
    "##### Concatenation"
   ]
  },
  {
   "cell_type": "code",
   "execution_count": 187,
   "metadata": {},
   "outputs": [],
   "source": [
    "top3.drop(list(range(0,91)),axis=1,inplace=True)"
   ]
  },
  {
   "cell_type": "code",
   "execution_count": 188,
   "metadata": {},
   "outputs": [],
   "source": [
    "top3['type']=['Fake']*30"
   ]
  },
  {
   "cell_type": "code",
   "execution_count": 189,
   "metadata": {},
   "outputs": [],
   "source": [
    "top4.drop(list(range(0,91)),axis=1,inplace=True)"
   ]
  },
  {
   "cell_type": "code",
   "execution_count": 190,
   "metadata": {},
   "outputs": [],
   "source": [
    "top4['type']=['Real']*30"
   ]
  },
  {
   "cell_type": "code",
   "execution_count": 191,
   "metadata": {},
   "outputs": [],
   "source": [
    "conc2=pd.concat([top3,top4])"
   ]
  },
  {
   "cell_type": "code",
   "execution_count": 195,
   "metadata": {},
   "outputs": [
    {
     "data": {
      "image/png": "[encoded data removed]",
      "text/plain": [
       "<Figure size 864x720 with 1 Axes>"
      ]
     },
     "metadata": {
      "needs_background": "light"
     },
     "output_type": "display_data"
    }
   ],
   "source": [
    "plt.figure(figsize=(12,10))\n",
    "sns.barplot(y=conc2.index,x='sum',data=conc2,hue='type',palette='viridis')\n",
    "plt.xticks(rotation=90)\n",
    "plt.xlabel('Term Frequency of Words',fontsize=12)\n",
    "plt.ylabel('Top Words in Texts',fontsize=12)\n",
    "plt.legend(title='News Type',fontsize=12,loc='lower right')\n",
    "plt.title('Frequency of Words in the Text of News',fontsize=20)\n",
    "plt.show()"
   ]
  },
  {
   "cell_type": "markdown",
   "metadata": {},
   "source": [
    "**From the above plot, we notice that words like trump and clinton are the most frequent words in the news body.\n",
    "The term frequency plot shows that some words like clinton, hillari and trump are representative of fake news whereas words like trump, said, clinton are representative of real news.**"
   ]
  },
  {
   "cell_type": "markdown",
   "metadata": {},
   "source": [
    "### 5-2-4- Analysis of title length"
   ]
  },
  {
   "cell_type": "markdown",
   "metadata": {},
   "source": [
    "**After the analysis on the words in the title and text of news, we want to know that whether the title length is also a discriminatory feature/factor between fake and real news category.**"
   ]
  },
  {
   "cell_type": "code",
   "execution_count": 196,
   "metadata": {},
   "outputs": [],
   "source": [
    "df['title_length']=df['title'].apply(lambda x: len(x))"
   ]
  },
  {
   "cell_type": "code",
   "execution_count": 200,
   "metadata": {},
   "outputs": [
    {
     "data": {
      "image/png": "[encoded data removed]",
      "text/plain": [
       "<Figure size 720x432 with 1 Axes>"
      ]
     },
     "metadata": {
      "needs_background": "light"
     },
     "output_type": "display_data"
    }
   ],
   "source": [
    "plt.figure(figsize=(10,6))\n",
    "sns.kdeplot(df[df['news_type']=='Real']['title_length'])\n",
    "sns.kdeplot(df[df['news_type']=='Fake']['title_length'])\n",
    "plt.xlabel('Title Length',fontsize=12)\n",
    "plt.ylabel('Density',fontsize=12)\n",
    "plt.legend(title='News Type',fontsize=10,labels=['Real','Fake'])\n",
    "plt.title('Distribuiton of Title Length for Real and Fake News',fontsize=15)\n",
    "plt.show()"
   ]
  },
  {
   "cell_type": "markdown",
   "metadata": {},
   "source": [
    "**The title length of fake news is slighly larger than the real news. Real news title length distribution is centered with the maximum density at the length of 60, while the center of distribution of title length for fake news is slightly skewed  with the maximum density at the length of 80.**"
   ]
  },
  {
   "cell_type": "markdown",
   "metadata": {},
   "source": [
    "# 6- Fake/Real News Classification"
   ]
  },
  {
   "cell_type": "markdown",
   "metadata": {},
   "source": [
    "#### In this part, we build three different classifiers that classfies the news as Real or Fake as follows:\n",
    "\n",
    "**1. The outcome variable is the news category and the features are terms used in the text of the news article.** \n",
    "\n",
    "**2. The outcome variable is the news category and the features are terms used in the title of the news article.**\n",
    "\n",
    "**3. The outcome variable is the news category and the features are combined terms used in the title and text of the news article.**"
   ]
  },
  {
   "cell_type": "markdown",
   "metadata": {},
   "source": [
    "## 6-1- Fake/Real news detection  based on news text"
   ]
  },
  {
   "cell_type": "markdown",
   "metadata": {},
   "source": [
    "### 6-1-1-Splitting data to train and test datasets "
   ]
  },
  {
   "cell_type": "code",
   "execution_count": 304,
   "metadata": {},
   "outputs": [],
   "source": [
    "X1=df['text']\n",
    "y1=df['news_type']"
   ]
  },
  {
   "cell_type": "code",
   "execution_count": 305,
   "metadata": {},
   "outputs": [],
   "source": [
    "X1_train, X1_test, y1_train, y1_test = train_test_split(X1, y1, test_size=0.3, random_state=42)"
   ]
  },
  {
   "cell_type": "markdown",
   "metadata": {},
   "source": [
    "### 6-1-2- Random Forest Classifier with text preprocessing"
   ]
  },
  {
   "cell_type": "code",
   "execution_count": 306,
   "metadata": {},
   "outputs": [],
   "source": [
    "pp=Pipeline([\n",
    "    ('bow',CountVectorizer(analyzer=final)),\n",
    "    ('tfidf',TfidfTransformer()),\n",
    "    ('classifier',RandomForestClassifier())\n",
    "    ])"
   ]
  },
  {
   "cell_type": "code",
   "execution_count": 307,
   "metadata": {},
   "outputs": [
    {
     "name": "stderr",
     "output_type": "stream",
     "text": [
      "C:\\Users\\Soha\\Anaconda3\\lib\\site-packages\\sklearn\\ensemble\\forest.py:245: FutureWarning: The default value of n_estimators will change from 10 in version 0.20 to 100 in 0.22.\n",
      "  \"10 in version 0.20 to 100 in 0.22.\", FutureWarning)\n"
     ]
    },
    {
     "data": {
      "text/plain": [
       "Pipeline(memory=None,\n",
       "         steps=[('bow',\n",
       "                 CountVectorizer(analyzer=<function compose.<locals>.<lambda> at 0x00000225A5D4C048>,\n",
       "                                 binary=False, decode_error='strict',\n",
       "                                 dtype=<class 'numpy.int64'>, encoding='utf-8',\n",
       "                                 input='content', lowercase=True, max_df=1.0,\n",
       "                                 max_features=None, min_df=1,\n",
       "                                 ngram_range=(1, 1), preprocessor=None,\n",
       "                                 stop_words=None, strip_accents=None,\n",
       "                                 token_pattern='...\n",
       "                 RandomForestClassifier(bootstrap=True, class_weight=None,\n",
       "                                        criterion='gini', max_depth=None,\n",
       "                                        max_features='auto',\n",
       "                                        max_leaf_nodes=None,\n",
       "                                        min_impurity_decrease=0.0,\n",
       "                                        min_impurity_split=None,\n",
       "                                        min_samples_leaf=1, min_samples_split=2,\n",
       "                                        min_weight_fraction_leaf=0.0,\n",
       "                                        n_estimators=10, n_jobs=None,\n",
       "                                        oob_score=False, random_state=None,\n",
       "                                        verbose=0, warm_start=False))],\n",
       "         verbose=False)"
      ]
     },
     "execution_count": 307,
     "metadata": {},
     "output_type": "execute_result"
    }
   ],
   "source": [
    "pp.fit(X1_train,y1_train)"
   ]
  },
  {
   "cell_type": "code",
   "execution_count": 308,
   "metadata": {},
   "outputs": [],
   "source": [
    "predictions1=pp.predict(X1_test)"
   ]
  },
  {
   "cell_type": "code",
   "execution_count": 309,
   "metadata": {},
   "outputs": [
    {
     "name": "stdout",
     "output_type": "stream",
     "text": [
      "[[18  8]\n",
      " [14 15]]\n",
      "\n",
      "\n",
      "              precision    recall  f1-score   support\n",
      "\n",
      "        Fake       0.56      0.69      0.62        26\n",
      "        Real       0.65      0.52      0.58        29\n",
      "\n",
      "    accuracy                           0.60        55\n",
      "   macro avg       0.61      0.60      0.60        55\n",
      "weighted avg       0.61      0.60      0.60        55\n",
      "\n"
     ]
    }
   ],
   "source": [
    "print(confusion_matrix(y1_test, predictions1))\n",
    "print('\\n')\n",
    "print(classification_report(y1_test, predictions1))"
   ]
  },
  {
   "cell_type": "markdown",
   "metadata": {},
   "source": [
    "**The accuracy of Random Forest Classifier on text with preprocessing is only 60% which means that there are only 60% of news in the test dataset that the classifier predicts correctly. To improve accuracy, we train this model on text without preprocessing.**"
   ]
  },
  {
   "cell_type": "markdown",
   "metadata": {},
   "source": [
    "### 6-1-3- Random Forest Classifier without text preprocessing"
   ]
  },
  {
   "cell_type": "code",
   "execution_count": 310,
   "metadata": {},
   "outputs": [],
   "source": [
    "pp=Pipeline([\n",
    "    ('bow',CountVectorizer()),\n",
    "    ('tfidf',TfidfTransformer()),\n",
    "    ('classifier',RandomForestClassifier())\n",
    "    ])"
   ]
  },
  {
   "cell_type": "code",
   "execution_count": 311,
   "metadata": {},
   "outputs": [
    {
     "name": "stderr",
     "output_type": "stream",
     "text": [
      "C:\\Users\\Soha\\Anaconda3\\lib\\site-packages\\sklearn\\ensemble\\forest.py:245: FutureWarning: The default value of n_estimators will change from 10 in version 0.20 to 100 in 0.22.\n",
      "  \"10 in version 0.20 to 100 in 0.22.\", FutureWarning)\n"
     ]
    },
    {
     "data": {
      "text/plain": [
       "Pipeline(memory=None,\n",
       "         steps=[('bow',\n",
       "                 CountVectorizer(analyzer='word', binary=False,\n",
       "                                 decode_error='strict',\n",
       "                                 dtype=<class 'numpy.int64'>, encoding='utf-8',\n",
       "                                 input='content', lowercase=True, max_df=1.0,\n",
       "                                 max_features=None, min_df=1,\n",
       "                                 ngram_range=(1, 1), preprocessor=None,\n",
       "                                 stop_words=None, strip_accents=None,\n",
       "                                 token_pattern='(?u)\\\\b\\\\w\\\\w+\\\\b',\n",
       "                                 tokenizer=None, vocabulary=None...\n",
       "                 RandomForestClassifier(bootstrap=True, class_weight=None,\n",
       "                                        criterion='gini', max_depth=None,\n",
       "                                        max_features='auto',\n",
       "                                        max_leaf_nodes=None,\n",
       "                                        min_impurity_decrease=0.0,\n",
       "                                        min_impurity_split=None,\n",
       "                                        min_samples_leaf=1, min_samples_split=2,\n",
       "                                        min_weight_fraction_leaf=0.0,\n",
       "                                        n_estimators=10, n_jobs=None,\n",
       "                                        oob_score=False, random_state=None,\n",
       "                                        verbose=0, warm_start=False))],\n",
       "         verbose=False)"
      ]
     },
     "execution_count": 311,
     "metadata": {},
     "output_type": "execute_result"
    }
   ],
   "source": [
    "pp.fit(X1_train,y1_train)"
   ]
  },
  {
   "cell_type": "code",
   "execution_count": 312,
   "metadata": {},
   "outputs": [],
   "source": [
    "predictions2=pp.predict(X1_test)"
   ]
  },
  {
   "cell_type": "code",
   "execution_count": 313,
   "metadata": {},
   "outputs": [
    {
     "name": "stdout",
     "output_type": "stream",
     "text": [
      "[[20  6]\n",
      " [16 13]]\n",
      "\n",
      "\n",
      "              precision    recall  f1-score   support\n",
      "\n",
      "        Fake       0.56      0.77      0.65        26\n",
      "        Real       0.68      0.45      0.54        29\n",
      "\n",
      "    accuracy                           0.60        55\n",
      "   macro avg       0.62      0.61      0.59        55\n",
      "weighted avg       0.62      0.60      0.59        55\n",
      "\n"
     ]
    }
   ],
   "source": [
    "print(confusion_matrix(y1_test, predictions2))\n",
    "print('\\n')\n",
    "print(classification_report(y1_test, predictions2))"
   ]
  },
  {
   "cell_type": "markdown",
   "metadata": {},
   "source": [
    "**The accuracy of Random Forest Classifier on text without preprocessing is still 60%. To improve accuracy we train another model.**"
   ]
  },
  {
   "cell_type": "markdown",
   "metadata": {},
   "source": [
    "### 6-1-4- Naive Bayes Classifier with text preprocessing"
   ]
  },
  {
   "cell_type": "code",
   "execution_count": 314,
   "metadata": {},
   "outputs": [],
   "source": [
    "pp=Pipeline([\n",
    "    ('bow',CountVectorizer(analyzer=final)),\n",
    "    ('tfidf',TfidfTransformer()),\n",
    "    ('classifier',MultinomialNB())\n",
    "    ])"
   ]
  },
  {
   "cell_type": "code",
   "execution_count": 315,
   "metadata": {},
   "outputs": [
    {
     "data": {
      "text/plain": [
       "Pipeline(memory=None,\n",
       "         steps=[('bow',\n",
       "                 CountVectorizer(analyzer=<function compose.<locals>.<lambda> at 0x00000225A5D4C048>,\n",
       "                                 binary=False, decode_error='strict',\n",
       "                                 dtype=<class 'numpy.int64'>, encoding='utf-8',\n",
       "                                 input='content', lowercase=True, max_df=1.0,\n",
       "                                 max_features=None, min_df=1,\n",
       "                                 ngram_range=(1, 1), preprocessor=None,\n",
       "                                 stop_words=None, strip_accents=None,\n",
       "                                 token_pattern='(?u)\\\\b\\\\w\\\\w+\\\\b',\n",
       "                                 tokenizer=None, vocabulary=None)),\n",
       "                ('tfidf',\n",
       "                 TfidfTransformer(norm='l2', smooth_idf=True,\n",
       "                                  sublinear_tf=False, use_idf=True)),\n",
       "                ('classifier',\n",
       "                 MultinomialNB(alpha=1.0, class_prior=None, fit_prior=True))],\n",
       "         verbose=False)"
      ]
     },
     "execution_count": 315,
     "metadata": {},
     "output_type": "execute_result"
    }
   ],
   "source": [
    "pp.fit(X1_train,y1_train)"
   ]
  },
  {
   "cell_type": "code",
   "execution_count": 316,
   "metadata": {},
   "outputs": [],
   "source": [
    "predictions3=pp.predict(X1_test)"
   ]
  },
  {
   "cell_type": "code",
   "execution_count": 317,
   "metadata": {},
   "outputs": [
    {
     "name": "stdout",
     "output_type": "stream",
     "text": [
      "[[22  4]\n",
      " [13 16]]\n",
      "\n",
      "\n",
      "              precision    recall  f1-score   support\n",
      "\n",
      "        Fake       0.63      0.85      0.72        26\n",
      "        Real       0.80      0.55      0.65        29\n",
      "\n",
      "    accuracy                           0.69        55\n",
      "   macro avg       0.71      0.70      0.69        55\n",
      "weighted avg       0.72      0.69      0.69        55\n",
      "\n"
     ]
    }
   ],
   "source": [
    "print(confusion_matrix(y1_test, predictions3))\n",
    "print('\\n')\n",
    "print(classification_report(y1_test, predictions3))"
   ]
  },
  {
   "cell_type": "markdown",
   "metadata": {},
   "source": [
    "**The accuracy of Naive Bayes Classifier on text with preprocessing is 69%. To improve accuracy, we train this model without preprocessing.**"
   ]
  },
  {
   "cell_type": "markdown",
   "metadata": {},
   "source": [
    "### 6-1-5- Naive Bayes Classifier without text preprocessing"
   ]
  },
  {
   "cell_type": "code",
   "execution_count": 318,
   "metadata": {},
   "outputs": [],
   "source": [
    "pp=Pipeline([\n",
    "    ('bow',CountVectorizer()),\n",
    "    ('tfidf',TfidfTransformer()),\n",
    "    ('classifier',MultinomialNB())\n",
    "    ])"
   ]
  },
  {
   "cell_type": "code",
   "execution_count": 319,
   "metadata": {},
   "outputs": [
    {
     "data": {
      "text/plain": [
       "Pipeline(memory=None,\n",
       "         steps=[('bow',\n",
       "                 CountVectorizer(analyzer='word', binary=False,\n",
       "                                 decode_error='strict',\n",
       "                                 dtype=<class 'numpy.int64'>, encoding='utf-8',\n",
       "                                 input='content', lowercase=True, max_df=1.0,\n",
       "                                 max_features=None, min_df=1,\n",
       "                                 ngram_range=(1, 1), preprocessor=None,\n",
       "                                 stop_words=None, strip_accents=None,\n",
       "                                 token_pattern='(?u)\\\\b\\\\w\\\\w+\\\\b',\n",
       "                                 tokenizer=None, vocabulary=None)),\n",
       "                ('tfidf',\n",
       "                 TfidfTransformer(norm='l2', smooth_idf=True,\n",
       "                                  sublinear_tf=False, use_idf=True)),\n",
       "                ('classifier',\n",
       "                 MultinomialNB(alpha=1.0, class_prior=None, fit_prior=True))],\n",
       "         verbose=False)"
      ]
     },
     "execution_count": 319,
     "metadata": {},
     "output_type": "execute_result"
    }
   ],
   "source": [
    "pp.fit(X1_train,y1_train)"
   ]
  },
  {
   "cell_type": "code",
   "execution_count": 320,
   "metadata": {},
   "outputs": [],
   "source": [
    "predictions4=pp.predict(X1_test)"
   ]
  },
  {
   "cell_type": "code",
   "execution_count": 321,
   "metadata": {},
   "outputs": [
    {
     "name": "stdout",
     "output_type": "stream",
     "text": [
      "[[25  1]\n",
      " [17 12]]\n",
      "\n",
      "\n",
      "              precision    recall  f1-score   support\n",
      "\n",
      "        Fake       0.60      0.96      0.74        26\n",
      "        Real       0.92      0.41      0.57        29\n",
      "\n",
      "    accuracy                           0.67        55\n",
      "   macro avg       0.76      0.69      0.65        55\n",
      "weighted avg       0.77      0.67      0.65        55\n",
      "\n"
     ]
    }
   ],
   "source": [
    "print(confusion_matrix(y1_test, predictions4))\n",
    "print('\\n')\n",
    "print(classification_report(y1_test, predictions4))"
   ]
  },
  {
   "cell_type": "markdown",
   "metadata": {},
   "source": [
    "**The accuracy of Naive Bayes Classifier decreases to 67% on text without preprocessing.To improve accuracy, we train another model.**"
   ]
  },
  {
   "cell_type": "markdown",
   "metadata": {},
   "source": [
    "### 6-1-6- Passive Aggressive Classifier with text preprocessing"
   ]
  },
  {
   "cell_type": "code",
   "execution_count": 322,
   "metadata": {},
   "outputs": [],
   "source": [
    "pp=Pipeline([\n",
    "    ('bow',CountVectorizer(analyzer=final)),\n",
    "    ('tfidf',TfidfTransformer()),\n",
    "    ('classifier',PassiveAggressiveClassifier())\n",
    "    ])"
   ]
  },
  {
   "cell_type": "code",
   "execution_count": 323,
   "metadata": {},
   "outputs": [
    {
     "data": {
      "text/plain": [
       "Pipeline(memory=None,\n",
       "         steps=[('bow',\n",
       "                 CountVectorizer(analyzer=<function compose.<locals>.<lambda> at 0x00000225A5D4C048>,\n",
       "                                 binary=False, decode_error='strict',\n",
       "                                 dtype=<class 'numpy.int64'>, encoding='utf-8',\n",
       "                                 input='content', lowercase=True, max_df=1.0,\n",
       "                                 max_features=None, min_df=1,\n",
       "                                 ngram_range=(1, 1), preprocessor=None,\n",
       "                                 stop_words=None, strip_accents=None,\n",
       "                                 token_pattern='...\n",
       "                 TfidfTransformer(norm='l2', smooth_idf=True,\n",
       "                                  sublinear_tf=False, use_idf=True)),\n",
       "                ('classifier',\n",
       "                 PassiveAggressiveClassifier(C=1.0, average=False,\n",
       "                                             class_weight=None,\n",
       "                                             early_stopping=False,\n",
       "                                             fit_intercept=True, loss='hinge',\n",
       "                                             max_iter=1000, n_iter_no_change=5,\n",
       "                                             n_jobs=None, random_state=None,\n",
       "                                             shuffle=True, tol=0.001,\n",
       "                                             validation_fraction=0.1, verbose=0,\n",
       "                                             warm_start=False))],\n",
       "         verbose=False)"
      ]
     },
     "execution_count": 323,
     "metadata": {},
     "output_type": "execute_result"
    }
   ],
   "source": [
    "pp.fit(X1_train,y1_train)"
   ]
  },
  {
   "cell_type": "code",
   "execution_count": 324,
   "metadata": {},
   "outputs": [],
   "source": [
    "predictions5=pp.predict(X1_test)"
   ]
  },
  {
   "cell_type": "code",
   "execution_count": 325,
   "metadata": {},
   "outputs": [
    {
     "name": "stdout",
     "output_type": "stream",
     "text": [
      "[[21  5]\n",
      " [ 7 22]]\n",
      "\n",
      "\n",
      "              precision    recall  f1-score   support\n",
      "\n",
      "        Fake       0.75      0.81      0.78        26\n",
      "        Real       0.81      0.76      0.79        29\n",
      "\n",
      "    accuracy                           0.78        55\n",
      "   macro avg       0.78      0.78      0.78        55\n",
      "weighted avg       0.78      0.78      0.78        55\n",
      "\n"
     ]
    }
   ],
   "source": [
    "print(confusion_matrix(y1_test, predictions5))\n",
    "print('\\n')\n",
    "print(classification_report(y1_test, predictions5))"
   ]
  },
  {
   "cell_type": "markdown",
   "metadata": {},
   "source": [
    "**The accuracy of Passive Aggressive Classifier on text with preprocessing is 78%. To improve accuracy, we train this model without preprocessing.**"
   ]
  },
  {
   "cell_type": "markdown",
   "metadata": {},
   "source": [
    "### 6-1-7- Passive Aggressive Classifier without text preprocessing"
   ]
  },
  {
   "cell_type": "code",
   "execution_count": 326,
   "metadata": {},
   "outputs": [],
   "source": [
    "pp=Pipeline([\n",
    "    ('bow',CountVectorizer()),\n",
    "    ('tfidf',TfidfTransformer()),\n",
    "    ('classifier',PassiveAggressiveClassifier())\n",
    "    ])"
   ]
  },
  {
   "cell_type": "code",
   "execution_count": 327,
   "metadata": {},
   "outputs": [
    {
     "data": {
      "text/plain": [
       "Pipeline(memory=None,\n",
       "         steps=[('bow',\n",
       "                 CountVectorizer(analyzer='word', binary=False,\n",
       "                                 decode_error='strict',\n",
       "                                 dtype=<class 'numpy.int64'>, encoding='utf-8',\n",
       "                                 input='content', lowercase=True, max_df=1.0,\n",
       "                                 max_features=None, min_df=1,\n",
       "                                 ngram_range=(1, 1), preprocessor=None,\n",
       "                                 stop_words=None, strip_accents=None,\n",
       "                                 token_pattern='(?u)\\\\b\\\\w\\\\w+\\\\b',\n",
       "                                 tokenizer=None, vocabulary=None...\n",
       "                 TfidfTransformer(norm='l2', smooth_idf=True,\n",
       "                                  sublinear_tf=False, use_idf=True)),\n",
       "                ('classifier',\n",
       "                 PassiveAggressiveClassifier(C=1.0, average=False,\n",
       "                                             class_weight=None,\n",
       "                                             early_stopping=False,\n",
       "                                             fit_intercept=True, loss='hinge',\n",
       "                                             max_iter=1000, n_iter_no_change=5,\n",
       "                                             n_jobs=None, random_state=None,\n",
       "                                             shuffle=True, tol=0.001,\n",
       "                                             validation_fraction=0.1, verbose=0,\n",
       "                                             warm_start=False))],\n",
       "         verbose=False)"
      ]
     },
     "execution_count": 327,
     "metadata": {},
     "output_type": "execute_result"
    }
   ],
   "source": [
    "pp.fit(X1_train,y1_train)"
   ]
  },
  {
   "cell_type": "code",
   "execution_count": 328,
   "metadata": {},
   "outputs": [],
   "source": [
    "predictions6=pp.predict(X1_test)"
   ]
  },
  {
   "cell_type": "code",
   "execution_count": 329,
   "metadata": {},
   "outputs": [
    {
     "name": "stdout",
     "output_type": "stream",
     "text": [
      "[[22  4]\n",
      " [ 4 25]]\n",
      "\n",
      "\n",
      "              precision    recall  f1-score   support\n",
      "\n",
      "        Fake       0.85      0.85      0.85        26\n",
      "        Real       0.86      0.86      0.86        29\n",
      "\n",
      "    accuracy                           0.85        55\n",
      "   macro avg       0.85      0.85      0.85        55\n",
      "weighted avg       0.85      0.85      0.85        55\n",
      "\n"
     ]
    }
   ],
   "source": [
    "print(confusion_matrix(y1_test, predictions6))\n",
    "print('\\n')\n",
    "print(classification_report(y1_test, predictions6))"
   ]
  },
  {
   "cell_type": "markdown",
   "metadata": {},
   "source": [
    "**The accuracy of Passive Aggressive Classifier increases to 85% on text without preprocessing.**"
   ]
  },
  {
   "cell_type": "markdown",
   "metadata": {},
   "source": [
    "## 6-2- Fake/Real news detection based on news title"
   ]
  },
  {
   "cell_type": "markdown",
   "metadata": {},
   "source": [
    "### 6-2-1-Splitting data to train and test datasets"
   ]
  },
  {
   "cell_type": "code",
   "execution_count": 330,
   "metadata": {},
   "outputs": [],
   "source": [
    "X2=df['title']\n",
    "y2=df['news_type']"
   ]
  },
  {
   "cell_type": "code",
   "execution_count": 331,
   "metadata": {},
   "outputs": [],
   "source": [
    "X2_train, X2_test, y2_train, y2_test = train_test_split(X2, y2, test_size=0.3, random_state=42)"
   ]
  },
  {
   "cell_type": "markdown",
   "metadata": {},
   "source": [
    "### 6-2-2- Random Forest Classifier with text preprocessing"
   ]
  },
  {
   "cell_type": "code",
   "execution_count": 332,
   "metadata": {},
   "outputs": [],
   "source": [
    "pp=Pipeline([\n",
    "    ('bow',CountVectorizer(analyzer=final)),\n",
    "    ('tfidf',TfidfTransformer()),\n",
    "    ('classifier',RandomForestClassifier())\n",
    "    ])"
   ]
  },
  {
   "cell_type": "code",
   "execution_count": 333,
   "metadata": {},
   "outputs": [
    {
     "name": "stderr",
     "output_type": "stream",
     "text": [
      "C:\\Users\\Soha\\Anaconda3\\lib\\site-packages\\sklearn\\ensemble\\forest.py:245: FutureWarning: The default value of n_estimators will change from 10 in version 0.20 to 100 in 0.22.\n",
      "  \"10 in version 0.20 to 100 in 0.22.\", FutureWarning)\n"
     ]
    },
    {
     "data": {
      "text/plain": [
       "Pipeline(memory=None,\n",
       "         steps=[('bow',\n",
       "                 CountVectorizer(analyzer=<function compose.<locals>.<lambda> at 0x00000225A5D4C048>,\n",
       "                                 binary=False, decode_error='strict',\n",
       "                                 dtype=<class 'numpy.int64'>, encoding='utf-8',\n",
       "                                 input='content', lowercase=True, max_df=1.0,\n",
       "                                 max_features=None, min_df=1,\n",
       "                                 ngram_range=(1, 1), preprocessor=None,\n",
       "                                 stop_words=None, strip_accents=None,\n",
       "                                 token_pattern='...\n",
       "                 RandomForestClassifier(bootstrap=True, class_weight=None,\n",
       "                                        criterion='gini', max_depth=None,\n",
       "                                        max_features='auto',\n",
       "                                        max_leaf_nodes=None,\n",
       "                                        min_impurity_decrease=0.0,\n",
       "                                        min_impurity_split=None,\n",
       "                                        min_samples_leaf=1, min_samples_split=2,\n",
       "                                        min_weight_fraction_leaf=0.0,\n",
       "                                        n_estimators=10, n_jobs=None,\n",
       "                                        oob_score=False, random_state=None,\n",
       "                                        verbose=0, warm_start=False))],\n",
       "         verbose=False)"
      ]
     },
     "execution_count": 333,
     "metadata": {},
     "output_type": "execute_result"
    }
   ],
   "source": [
    "pp.fit(X2_train,y2_train)"
   ]
  },
  {
   "cell_type": "code",
   "execution_count": 334,
   "metadata": {},
   "outputs": [],
   "source": [
    "predictions7=pp.predict(X2_test)"
   ]
  },
  {
   "cell_type": "code",
   "execution_count": 335,
   "metadata": {},
   "outputs": [
    {
     "name": "stdout",
     "output_type": "stream",
     "text": [
      "[[18  8]\n",
      " [13 16]]\n",
      "\n",
      "\n",
      "              precision    recall  f1-score   support\n",
      "\n",
      "        Fake       0.58      0.69      0.63        26\n",
      "        Real       0.67      0.55      0.60        29\n",
      "\n",
      "    accuracy                           0.62        55\n",
      "   macro avg       0.62      0.62      0.62        55\n",
      "weighted avg       0.63      0.62      0.62        55\n",
      "\n"
     ]
    }
   ],
   "source": [
    "print(confusion_matrix(y2_test, predictions7))\n",
    "print('\\n')\n",
    "print(classification_report(y2_test, predictions7))"
   ]
  },
  {
   "cell_type": "markdown",
   "metadata": {},
   "source": [
    "**The accuracy of Random Forest Classifier on title is 62%. To improve accuracy, we train this model without preprocessing.**"
   ]
  },
  {
   "cell_type": "markdown",
   "metadata": {},
   "source": [
    "### 6-2-3- Random Forest Classifier without text preprocessing"
   ]
  },
  {
   "cell_type": "code",
   "execution_count": 336,
   "metadata": {},
   "outputs": [],
   "source": [
    "pp=Pipeline([\n",
    "    ('bow',CountVectorizer()),\n",
    "    ('tfidf',TfidfTransformer()),\n",
    "    ('classifier',RandomForestClassifier())\n",
    "    ])"
   ]
  },
  {
   "cell_type": "code",
   "execution_count": 337,
   "metadata": {},
   "outputs": [
    {
     "name": "stderr",
     "output_type": "stream",
     "text": [
      "C:\\Users\\Soha\\Anaconda3\\lib\\site-packages\\sklearn\\ensemble\\forest.py:245: FutureWarning: The default value of n_estimators will change from 10 in version 0.20 to 100 in 0.22.\n",
      "  \"10 in version 0.20 to 100 in 0.22.\", FutureWarning)\n"
     ]
    },
    {
     "data": {
      "text/plain": [
       "Pipeline(memory=None,\n",
       "         steps=[('bow',\n",
       "                 CountVectorizer(analyzer='word', binary=False,\n",
       "                                 decode_error='strict',\n",
       "                                 dtype=<class 'numpy.int64'>, encoding='utf-8',\n",
       "                                 input='content', lowercase=True, max_df=1.0,\n",
       "                                 max_features=None, min_df=1,\n",
       "                                 ngram_range=(1, 1), preprocessor=None,\n",
       "                                 stop_words=None, strip_accents=None,\n",
       "                                 token_pattern='(?u)\\\\b\\\\w\\\\w+\\\\b',\n",
       "                                 tokenizer=None, vocabulary=None...\n",
       "                 RandomForestClassifier(bootstrap=True, class_weight=None,\n",
       "                                        criterion='gini', max_depth=None,\n",
       "                                        max_features='auto',\n",
       "                                        max_leaf_nodes=None,\n",
       "                                        min_impurity_decrease=0.0,\n",
       "                                        min_impurity_split=None,\n",
       "                                        min_samples_leaf=1, min_samples_split=2,\n",
       "                                        min_weight_fraction_leaf=0.0,\n",
       "                                        n_estimators=10, n_jobs=None,\n",
       "                                        oob_score=False, random_state=None,\n",
       "                                        verbose=0, warm_start=False))],\n",
       "         verbose=False)"
      ]
     },
     "execution_count": 337,
     "metadata": {},
     "output_type": "execute_result"
    }
   ],
   "source": [
    "pp.fit(X2_train,y2_train)"
   ]
  },
  {
   "cell_type": "code",
   "execution_count": 338,
   "metadata": {},
   "outputs": [],
   "source": [
    "predictions8=pp.predict(X2_test)"
   ]
  },
  {
   "cell_type": "code",
   "execution_count": 339,
   "metadata": {},
   "outputs": [
    {
     "name": "stdout",
     "output_type": "stream",
     "text": [
      "[[15 11]\n",
      " [ 9 20]]\n",
      "\n",
      "\n",
      "              precision    recall  f1-score   support\n",
      "\n",
      "        Fake       0.62      0.58      0.60        26\n",
      "        Real       0.65      0.69      0.67        29\n",
      "\n",
      "    accuracy                           0.64        55\n",
      "   macro avg       0.64      0.63      0.63        55\n",
      "weighted avg       0.64      0.64      0.64        55\n",
      "\n"
     ]
    }
   ],
   "source": [
    "print(confusion_matrix(y2_test, predictions8))\n",
    "print('\\n')\n",
    "print(classification_report(y2_test, predictions8))"
   ]
  },
  {
   "cell_type": "markdown",
   "metadata": {},
   "source": [
    "**The accuracy of Random Forest Classifier on title is increased to 64% on title without preprocessing.To improve accuracy, we train another model.**"
   ]
  },
  {
   "cell_type": "markdown",
   "metadata": {},
   "source": [
    "### 6-2-4- Naive Bayes Classifier with text preprocessing"
   ]
  },
  {
   "cell_type": "code",
   "execution_count": 244,
   "metadata": {},
   "outputs": [],
   "source": [
    "pp=Pipeline([\n",
    "    ('bow',CountVectorizer(analyzer=final)),\n",
    "    ('tfidf',TfidfTransformer()),\n",
    "    ('classifier',MultinomialNB())\n",
    "    ])"
   ]
  },
  {
   "cell_type": "code",
   "execution_count": 340,
   "metadata": {},
   "outputs": [
    {
     "data": {
      "text/plain": [
       "Pipeline(memory=None,\n",
       "         steps=[('bow',\n",
       "                 CountVectorizer(analyzer='word', binary=False,\n",
       "                                 decode_error='strict',\n",
       "                                 dtype=<class 'numpy.int64'>, encoding='utf-8',\n",
       "                                 input='content', lowercase=True, max_df=1.0,\n",
       "                                 max_features=None, min_df=1,\n",
       "                                 ngram_range=(1, 1), preprocessor=None,\n",
       "                                 stop_words=None, strip_accents=None,\n",
       "                                 token_pattern='(?u)\\\\b\\\\w\\\\w+\\\\b',\n",
       "                                 tokenizer=None, vocabulary=None...\n",
       "                 RandomForestClassifier(bootstrap=True, class_weight=None,\n",
       "                                        criterion='gini', max_depth=None,\n",
       "                                        max_features='auto',\n",
       "                                        max_leaf_nodes=None,\n",
       "                                        min_impurity_decrease=0.0,\n",
       "                                        min_impurity_split=None,\n",
       "                                        min_samples_leaf=1, min_samples_split=2,\n",
       "                                        min_weight_fraction_leaf=0.0,\n",
       "                                        n_estimators=10, n_jobs=None,\n",
       "                                        oob_score=False, random_state=None,\n",
       "                                        verbose=0, warm_start=False))],\n",
       "         verbose=False)"
      ]
     },
     "execution_count": 340,
     "metadata": {},
     "output_type": "execute_result"
    }
   ],
   "source": [
    "pp.fit(X2_train,y2_train)"
   ]
  },
  {
   "cell_type": "code",
   "execution_count": 341,
   "metadata": {},
   "outputs": [],
   "source": [
    "predictions9=pp.predict(X2_test)"
   ]
  },
  {
   "cell_type": "code",
   "execution_count": 342,
   "metadata": {
    "scrolled": true
   },
   "outputs": [
    {
     "name": "stdout",
     "output_type": "stream",
     "text": [
      "[[18  8]\n",
      " [11 18]]\n",
      "\n",
      "\n",
      "              precision    recall  f1-score   support\n",
      "\n",
      "        Fake       0.62      0.69      0.65        26\n",
      "        Real       0.69      0.62      0.65        29\n",
      "\n",
      "    accuracy                           0.65        55\n",
      "   macro avg       0.66      0.66      0.65        55\n",
      "weighted avg       0.66      0.65      0.65        55\n",
      "\n"
     ]
    }
   ],
   "source": [
    "print(confusion_matrix(y2_test, predictions9))\n",
    "print('\\n')\n",
    "print(classification_report(y2_test, predictions9))"
   ]
  },
  {
   "cell_type": "markdown",
   "metadata": {},
   "source": [
    "**The accuracy of Naive Bayes classifier on title with preprocessing is 65%. To improve accuracy, we train we train this model on title without preprocessing.**"
   ]
  },
  {
   "cell_type": "markdown",
   "metadata": {},
   "source": [
    "### 6-2-5- Naive Bayes Classifier without text preprocessing"
   ]
  },
  {
   "cell_type": "code",
   "execution_count": 343,
   "metadata": {},
   "outputs": [],
   "source": [
    "pp=Pipeline([\n",
    "    ('bow',CountVectorizer()),\n",
    "    ('tfidf',TfidfTransformer()),\n",
    "    ('classifier',MultinomialNB())\n",
    "    ])"
   ]
  },
  {
   "cell_type": "code",
   "execution_count": 344,
   "metadata": {},
   "outputs": [
    {
     "data": {
      "text/plain": [
       "Pipeline(memory=None,\n",
       "         steps=[('bow',\n",
       "                 CountVectorizer(analyzer='word', binary=False,\n",
       "                                 decode_error='strict',\n",
       "                                 dtype=<class 'numpy.int64'>, encoding='utf-8',\n",
       "                                 input='content', lowercase=True, max_df=1.0,\n",
       "                                 max_features=None, min_df=1,\n",
       "                                 ngram_range=(1, 1), preprocessor=None,\n",
       "                                 stop_words=None, strip_accents=None,\n",
       "                                 token_pattern='(?u)\\\\b\\\\w\\\\w+\\\\b',\n",
       "                                 tokenizer=None, vocabulary=None)),\n",
       "                ('tfidf',\n",
       "                 TfidfTransformer(norm='l2', smooth_idf=True,\n",
       "                                  sublinear_tf=False, use_idf=True)),\n",
       "                ('classifier',\n",
       "                 MultinomialNB(alpha=1.0, class_prior=None, fit_prior=True))],\n",
       "         verbose=False)"
      ]
     },
     "execution_count": 344,
     "metadata": {},
     "output_type": "execute_result"
    }
   ],
   "source": [
    "pp.fit(X2_train,y2_train)"
   ]
  },
  {
   "cell_type": "code",
   "execution_count": 345,
   "metadata": {},
   "outputs": [],
   "source": [
    "predictions10=pp.predict(X2_test)"
   ]
  },
  {
   "cell_type": "code",
   "execution_count": 346,
   "metadata": {
    "scrolled": true
   },
   "outputs": [
    {
     "name": "stdout",
     "output_type": "stream",
     "text": [
      "[[22  4]\n",
      " [19 10]]\n",
      "\n",
      "\n",
      "              precision    recall  f1-score   support\n",
      "\n",
      "        Fake       0.54      0.85      0.66        26\n",
      "        Real       0.71      0.34      0.47        29\n",
      "\n",
      "    accuracy                           0.58        55\n",
      "   macro avg       0.63      0.60      0.56        55\n",
      "weighted avg       0.63      0.58      0.56        55\n",
      "\n"
     ]
    }
   ],
   "source": [
    "print(confusion_matrix(y2_test, predictions10))\n",
    "print('\\n')\n",
    "print(classification_report(y2_test, predictions10))"
   ]
  },
  {
   "cell_type": "markdown",
   "metadata": {},
   "source": [
    "**The accuracy of Naive Bayes Classifier on title is reduced to 58% on title without preprocessing.To improve accuracy, we train another model.**"
   ]
  },
  {
   "cell_type": "markdown",
   "metadata": {},
   "source": [
    "### 6-2-6- Passive Aggressive Classifier with text preprocessing"
   ]
  },
  {
   "cell_type": "code",
   "execution_count": 347,
   "metadata": {},
   "outputs": [],
   "source": [
    "pp=Pipeline([\n",
    "    ('bow',CountVectorizer(analyzer=final)),\n",
    "    ('tfidf',TfidfTransformer()),\n",
    "    ('classifier',PassiveAggressiveClassifier())\n",
    "    ])"
   ]
  },
  {
   "cell_type": "code",
   "execution_count": 348,
   "metadata": {},
   "outputs": [
    {
     "data": {
      "text/plain": [
       "Pipeline(memory=None,\n",
       "         steps=[('bow',\n",
       "                 CountVectorizer(analyzer=<function compose.<locals>.<lambda> at 0x00000225A5D4C048>,\n",
       "                                 binary=False, decode_error='strict',\n",
       "                                 dtype=<class 'numpy.int64'>, encoding='utf-8',\n",
       "                                 input='content', lowercase=True, max_df=1.0,\n",
       "                                 max_features=None, min_df=1,\n",
       "                                 ngram_range=(1, 1), preprocessor=None,\n",
       "                                 stop_words=None, strip_accents=None,\n",
       "                                 token_pattern='...\n",
       "                 TfidfTransformer(norm='l2', smooth_idf=True,\n",
       "                                  sublinear_tf=False, use_idf=True)),\n",
       "                ('classifier',\n",
       "                 PassiveAggressiveClassifier(C=1.0, average=False,\n",
       "                                             class_weight=None,\n",
       "                                             early_stopping=False,\n",
       "                                             fit_intercept=True, loss='hinge',\n",
       "                                             max_iter=1000, n_iter_no_change=5,\n",
       "                                             n_jobs=None, random_state=None,\n",
       "                                             shuffle=True, tol=0.001,\n",
       "                                             validation_fraction=0.1, verbose=0,\n",
       "                                             warm_start=False))],\n",
       "         verbose=False)"
      ]
     },
     "execution_count": 348,
     "metadata": {},
     "output_type": "execute_result"
    }
   ],
   "source": [
    "pp.fit(X2_train,y2_train)"
   ]
  },
  {
   "cell_type": "code",
   "execution_count": 349,
   "metadata": {},
   "outputs": [],
   "source": [
    "predictions11=pp.predict(X2_test)"
   ]
  },
  {
   "cell_type": "code",
   "execution_count": 350,
   "metadata": {},
   "outputs": [
    {
     "name": "stdout",
     "output_type": "stream",
     "text": [
      "[[20  6]\n",
      " [16 13]]\n",
      "\n",
      "\n",
      "              precision    recall  f1-score   support\n",
      "\n",
      "        Fake       0.56      0.77      0.65        26\n",
      "        Real       0.68      0.45      0.54        29\n",
      "\n",
      "    accuracy                           0.60        55\n",
      "   macro avg       0.62      0.61      0.59        55\n",
      "weighted avg       0.62      0.60      0.59        55\n",
      "\n"
     ]
    }
   ],
   "source": [
    "print(confusion_matrix(y2_test, predictions11))\n",
    "print('\\n')\n",
    "print(classification_report(y2_test, predictions11))"
   ]
  },
  {
   "cell_type": "markdown",
   "metadata": {},
   "source": [
    "**The accuracy of Passive Aggressive Classifier on title with preprocessing is 60%. To improve accuracy, we train this model without preprocessing.**"
   ]
  },
  {
   "cell_type": "markdown",
   "metadata": {},
   "source": [
    "### 6-2-7- Passive Aggressive Classifier without text preprocessing"
   ]
  },
  {
   "cell_type": "code",
   "execution_count": 351,
   "metadata": {},
   "outputs": [],
   "source": [
    "pp=Pipeline([\n",
    "    ('bow',CountVectorizer()),\n",
    "    ('tfidf',TfidfTransformer()),\n",
    "    ('classifier',PassiveAggressiveClassifier())\n",
    "    ])"
   ]
  },
  {
   "cell_type": "code",
   "execution_count": 352,
   "metadata": {},
   "outputs": [
    {
     "data": {
      "text/plain": [
       "Pipeline(memory=None,\n",
       "         steps=[('bow',\n",
       "                 CountVectorizer(analyzer='word', binary=False,\n",
       "                                 decode_error='strict',\n",
       "                                 dtype=<class 'numpy.int64'>, encoding='utf-8',\n",
       "                                 input='content', lowercase=True, max_df=1.0,\n",
       "                                 max_features=None, min_df=1,\n",
       "                                 ngram_range=(1, 1), preprocessor=None,\n",
       "                                 stop_words=None, strip_accents=None,\n",
       "                                 token_pattern='(?u)\\\\b\\\\w\\\\w+\\\\b',\n",
       "                                 tokenizer=None, vocabulary=None...\n",
       "                 TfidfTransformer(norm='l2', smooth_idf=True,\n",
       "                                  sublinear_tf=False, use_idf=True)),\n",
       "                ('classifier',\n",
       "                 PassiveAggressiveClassifier(C=1.0, average=False,\n",
       "                                             class_weight=None,\n",
       "                                             early_stopping=False,\n",
       "                                             fit_intercept=True, loss='hinge',\n",
       "                                             max_iter=1000, n_iter_no_change=5,\n",
       "                                             n_jobs=None, random_state=None,\n",
       "                                             shuffle=True, tol=0.001,\n",
       "                                             validation_fraction=0.1, verbose=0,\n",
       "                                             warm_start=False))],\n",
       "         verbose=False)"
      ]
     },
     "execution_count": 352,
     "metadata": {},
     "output_type": "execute_result"
    }
   ],
   "source": [
    "pp.fit(X2_train,y2_train)"
   ]
  },
  {
   "cell_type": "code",
   "execution_count": 353,
   "metadata": {},
   "outputs": [],
   "source": [
    "predictions12=pp.predict(X2_test)"
   ]
  },
  {
   "cell_type": "code",
   "execution_count": 354,
   "metadata": {},
   "outputs": [
    {
     "name": "stdout",
     "output_type": "stream",
     "text": [
      "[[19  7]\n",
      " [18 11]]\n",
      "\n",
      "\n",
      "              precision    recall  f1-score   support\n",
      "\n",
      "        Fake       0.51      0.73      0.60        26\n",
      "        Real       0.61      0.38      0.47        29\n",
      "\n",
      "    accuracy                           0.55        55\n",
      "   macro avg       0.56      0.56      0.54        55\n",
      "weighted avg       0.56      0.55      0.53        55\n",
      "\n"
     ]
    }
   ],
   "source": [
    "print(confusion_matrix(y2_test, predictions12))\n",
    "print('\\n')\n",
    "print(classification_report(y2_test, predictions12))"
   ]
  },
  {
   "cell_type": "markdown",
   "metadata": {},
   "source": [
    "**The accuracy of Passive Aggressive Classifier decreases to 55% on title without preprocessing.**"
   ]
  },
  {
   "cell_type": "markdown",
   "metadata": {},
   "source": [
    "## 6-3- Fake/Real news detection based on both the text and title of  news "
   ]
  },
  {
   "cell_type": "markdown",
   "metadata": {},
   "source": [
    "### 6-3-1-Splitting data to train and test datasets"
   ]
  },
  {
   "cell_type": "code",
   "execution_count": 382,
   "metadata": {},
   "outputs": [],
   "source": [
    "df['title_text']=df['title']+': ' +df['text']"
   ]
  },
  {
   "cell_type": "code",
   "execution_count": 383,
   "metadata": {},
   "outputs": [],
   "source": [
    "X3=df['title_text']\n",
    "y3=df['news_type']"
   ]
  },
  {
   "cell_type": "code",
   "execution_count": 384,
   "metadata": {},
   "outputs": [],
   "source": [
    "X3_train, X3_test, y3_train, y3_test = train_test_split(X3, y3, test_size=0.3, random_state=42)"
   ]
  },
  {
   "cell_type": "markdown",
   "metadata": {},
   "source": [
    "### 6-3-2- Random Forest Classifier with text preprocessing"
   ]
  },
  {
   "cell_type": "code",
   "execution_count": 385,
   "metadata": {},
   "outputs": [],
   "source": [
    "pp=Pipeline([\n",
    "    ('bow',CountVectorizer(analyzer=final)),\n",
    "    ('tfidf',TfidfTransformer()),\n",
    "    ('classifier',RandomForestClassifier())\n",
    "    ])"
   ]
  },
  {
   "cell_type": "code",
   "execution_count": 386,
   "metadata": {},
   "outputs": [
    {
     "name": "stderr",
     "output_type": "stream",
     "text": [
      "C:\\Users\\Soha\\Anaconda3\\lib\\site-packages\\sklearn\\ensemble\\forest.py:245: FutureWarning: The default value of n_estimators will change from 10 in version 0.20 to 100 in 0.22.\n",
      "  \"10 in version 0.20 to 100 in 0.22.\", FutureWarning)\n"
     ]
    },
    {
     "data": {
      "text/plain": [
       "Pipeline(memory=None,\n",
       "         steps=[('bow',\n",
       "                 CountVectorizer(analyzer=<function compose.<locals>.<lambda> at 0x00000225A5D4C048>,\n",
       "                                 binary=False, decode_error='strict',\n",
       "                                 dtype=<class 'numpy.int64'>, encoding='utf-8',\n",
       "                                 input='content', lowercase=True, max_df=1.0,\n",
       "                                 max_features=None, min_df=1,\n",
       "                                 ngram_range=(1, 1), preprocessor=None,\n",
       "                                 stop_words=None, strip_accents=None,\n",
       "                                 token_pattern='...\n",
       "                 RandomForestClassifier(bootstrap=True, class_weight=None,\n",
       "                                        criterion='gini', max_depth=None,\n",
       "                                        max_features='auto',\n",
       "                                        max_leaf_nodes=None,\n",
       "                                        min_impurity_decrease=0.0,\n",
       "                                        min_impurity_split=None,\n",
       "                                        min_samples_leaf=1, min_samples_split=2,\n",
       "                                        min_weight_fraction_leaf=0.0,\n",
       "                                        n_estimators=10, n_jobs=None,\n",
       "                                        oob_score=False, random_state=None,\n",
       "                                        verbose=0, warm_start=False))],\n",
       "         verbose=False)"
      ]
     },
     "execution_count": 386,
     "metadata": {},
     "output_type": "execute_result"
    }
   ],
   "source": [
    "pp.fit(X3_train,y3_train)"
   ]
  },
  {
   "cell_type": "code",
   "execution_count": 387,
   "metadata": {},
   "outputs": [],
   "source": [
    "predictions13=pp.predict(X3_test)"
   ]
  },
  {
   "cell_type": "code",
   "execution_count": 388,
   "metadata": {},
   "outputs": [
    {
     "name": "stdout",
     "output_type": "stream",
     "text": [
      "[[18  8]\n",
      " [11 18]]\n",
      "\n",
      "\n",
      "              precision    recall  f1-score   support\n",
      "\n",
      "        Fake       0.62      0.69      0.65        26\n",
      "        Real       0.69      0.62      0.65        29\n",
      "\n",
      "    accuracy                           0.65        55\n",
      "   macro avg       0.66      0.66      0.65        55\n",
      "weighted avg       0.66      0.65      0.65        55\n",
      "\n"
     ]
    }
   ],
   "source": [
    "print(confusion_matrix(y3_test, predictions13))\n",
    "print('\\n')\n",
    "print(classification_report(y3_test, predictions13))"
   ]
  },
  {
   "cell_type": "markdown",
   "metadata": {},
   "source": [
    "**The accuracy of Random Forest Classifier on the mixture of title and text is 65%. To improve accuracy, we train this model on the mixture of title and text without preprocessing**"
   ]
  },
  {
   "cell_type": "markdown",
   "metadata": {},
   "source": [
    "### 6-3-3- Random Forest Classifier without text preprocessing"
   ]
  },
  {
   "cell_type": "code",
   "execution_count": 389,
   "metadata": {},
   "outputs": [],
   "source": [
    "pp=Pipeline([\n",
    "    ('bow',CountVectorizer()),\n",
    "    ('tfidf',TfidfTransformer()),\n",
    "    ('classifier',RandomForestClassifier())\n",
    "    ])"
   ]
  },
  {
   "cell_type": "code",
   "execution_count": 390,
   "metadata": {},
   "outputs": [
    {
     "name": "stderr",
     "output_type": "stream",
     "text": [
      "C:\\Users\\Soha\\Anaconda3\\lib\\site-packages\\sklearn\\ensemble\\forest.py:245: FutureWarning: The default value of n_estimators will change from 10 in version 0.20 to 100 in 0.22.\n",
      "  \"10 in version 0.20 to 100 in 0.22.\", FutureWarning)\n"
     ]
    },
    {
     "data": {
      "text/plain": [
       "Pipeline(memory=None,\n",
       "         steps=[('bow',\n",
       "                 CountVectorizer(analyzer='word', binary=False,\n",
       "                                 decode_error='strict',\n",
       "                                 dtype=<class 'numpy.int64'>, encoding='utf-8',\n",
       "                                 input='content', lowercase=True, max_df=1.0,\n",
       "                                 max_features=None, min_df=1,\n",
       "                                 ngram_range=(1, 1), preprocessor=None,\n",
       "                                 stop_words=None, strip_accents=None,\n",
       "                                 token_pattern='(?u)\\\\b\\\\w\\\\w+\\\\b',\n",
       "                                 tokenizer=None, vocabulary=None...\n",
       "                 RandomForestClassifier(bootstrap=True, class_weight=None,\n",
       "                                        criterion='gini', max_depth=None,\n",
       "                                        max_features='auto',\n",
       "                                        max_leaf_nodes=None,\n",
       "                                        min_impurity_decrease=0.0,\n",
       "                                        min_impurity_split=None,\n",
       "                                        min_samples_leaf=1, min_samples_split=2,\n",
       "                                        min_weight_fraction_leaf=0.0,\n",
       "                                        n_estimators=10, n_jobs=None,\n",
       "                                        oob_score=False, random_state=None,\n",
       "                                        verbose=0, warm_start=False))],\n",
       "         verbose=False)"
      ]
     },
     "execution_count": 390,
     "metadata": {},
     "output_type": "execute_result"
    }
   ],
   "source": [
    "pp.fit(X3_train,y3_train)"
   ]
  },
  {
   "cell_type": "code",
   "execution_count": 391,
   "metadata": {},
   "outputs": [],
   "source": [
    "predictions14=pp.predict(X3_test)"
   ]
  },
  {
   "cell_type": "code",
   "execution_count": 392,
   "metadata": {},
   "outputs": [
    {
     "name": "stdout",
     "output_type": "stream",
     "text": [
      "[[22  4]\n",
      " [ 9 20]]\n",
      "\n",
      "\n",
      "              precision    recall  f1-score   support\n",
      "\n",
      "        Fake       0.71      0.85      0.77        26\n",
      "        Real       0.83      0.69      0.75        29\n",
      "\n",
      "    accuracy                           0.76        55\n",
      "   macro avg       0.77      0.77      0.76        55\n",
      "weighted avg       0.77      0.76      0.76        55\n",
      "\n"
     ]
    }
   ],
   "source": [
    "print(confusion_matrix(y3_test, predictions14))\n",
    "print('\\n')\n",
    "print(classification_report(y3_test, predictions14))"
   ]
  },
  {
   "cell_type": "markdown",
   "metadata": {},
   "source": [
    "**The accuracy of Random Forest Classifier on the mixture of title and text without preprocessing increases to 76%. To improve accuracy, we train another model.**"
   ]
  },
  {
   "cell_type": "markdown",
   "metadata": {},
   "source": [
    "### 6-3-4- Naive Bayes Classifier with text preprocessing"
   ]
  },
  {
   "cell_type": "code",
   "execution_count": 393,
   "metadata": {},
   "outputs": [],
   "source": [
    "pp=Pipeline([\n",
    "    ('bow',CountVectorizer(analyzer=final)),\n",
    "    ('tfidf',TfidfTransformer()),\n",
    "    ('classifier',MultinomialNB())\n",
    "    ])"
   ]
  },
  {
   "cell_type": "code",
   "execution_count": 394,
   "metadata": {},
   "outputs": [
    {
     "data": {
      "text/plain": [
       "Pipeline(memory=None,\n",
       "         steps=[('bow',\n",
       "                 CountVectorizer(analyzer=<function compose.<locals>.<lambda> at 0x00000225A5D4C048>,\n",
       "                                 binary=False, decode_error='strict',\n",
       "                                 dtype=<class 'numpy.int64'>, encoding='utf-8',\n",
       "                                 input='content', lowercase=True, max_df=1.0,\n",
       "                                 max_features=None, min_df=1,\n",
       "                                 ngram_range=(1, 1), preprocessor=None,\n",
       "                                 stop_words=None, strip_accents=None,\n",
       "                                 token_pattern='(?u)\\\\b\\\\w\\\\w+\\\\b',\n",
       "                                 tokenizer=None, vocabulary=None)),\n",
       "                ('tfidf',\n",
       "                 TfidfTransformer(norm='l2', smooth_idf=True,\n",
       "                                  sublinear_tf=False, use_idf=True)),\n",
       "                ('classifier',\n",
       "                 MultinomialNB(alpha=1.0, class_prior=None, fit_prior=True))],\n",
       "         verbose=False)"
      ]
     },
     "execution_count": 394,
     "metadata": {},
     "output_type": "execute_result"
    }
   ],
   "source": [
    "pp.fit(X3_train,y3_train)"
   ]
  },
  {
   "cell_type": "code",
   "execution_count": 395,
   "metadata": {},
   "outputs": [],
   "source": [
    "predictions15=pp.predict(X3_test)"
   ]
  },
  {
   "cell_type": "code",
   "execution_count": 396,
   "metadata": {},
   "outputs": [
    {
     "name": "stdout",
     "output_type": "stream",
     "text": [
      "[[22  4]\n",
      " [15 14]]\n",
      "\n",
      "\n",
      "              precision    recall  f1-score   support\n",
      "\n",
      "        Fake       0.59      0.85      0.70        26\n",
      "        Real       0.78      0.48      0.60        29\n",
      "\n",
      "    accuracy                           0.65        55\n",
      "   macro avg       0.69      0.66      0.65        55\n",
      "weighted avg       0.69      0.65      0.64        55\n",
      "\n"
     ]
    }
   ],
   "source": [
    "print(confusion_matrix(y3_test, predictions15))\n",
    "print('\\n')\n",
    "print(classification_report(y3_test, predictions15))"
   ]
  },
  {
   "cell_type": "markdown",
   "metadata": {},
   "source": [
    "**The accuracy of Naive Bayes classifier on the mixture of title and text is 65%. To improve accuracy, we train this model on the mixture of title and text without preprocessing.**"
   ]
  },
  {
   "cell_type": "markdown",
   "metadata": {},
   "source": [
    "### 6-3-5- Naive Bayes Classifier without text preprocessing"
   ]
  },
  {
   "cell_type": "code",
   "execution_count": 397,
   "metadata": {},
   "outputs": [],
   "source": [
    "pp=Pipeline([\n",
    "    ('bow',CountVectorizer()),\n",
    "    ('tfidf',TfidfTransformer()),\n",
    "    ('classifier',MultinomialNB())\n",
    "    ])"
   ]
  },
  {
   "cell_type": "code",
   "execution_count": 398,
   "metadata": {},
   "outputs": [
    {
     "data": {
      "text/plain": [
       "Pipeline(memory=None,\n",
       "         steps=[('bow',\n",
       "                 CountVectorizer(analyzer='word', binary=False,\n",
       "                                 decode_error='strict',\n",
       "                                 dtype=<class 'numpy.int64'>, encoding='utf-8',\n",
       "                                 input='content', lowercase=True, max_df=1.0,\n",
       "                                 max_features=None, min_df=1,\n",
       "                                 ngram_range=(1, 1), preprocessor=None,\n",
       "                                 stop_words=None, strip_accents=None,\n",
       "                                 token_pattern='(?u)\\\\b\\\\w\\\\w+\\\\b',\n",
       "                                 tokenizer=None, vocabulary=None)),\n",
       "                ('tfidf',\n",
       "                 TfidfTransformer(norm='l2', smooth_idf=True,\n",
       "                                  sublinear_tf=False, use_idf=True)),\n",
       "                ('classifier',\n",
       "                 MultinomialNB(alpha=1.0, class_prior=None, fit_prior=True))],\n",
       "         verbose=False)"
      ]
     },
     "execution_count": 398,
     "metadata": {},
     "output_type": "execute_result"
    }
   ],
   "source": [
    "pp.fit(X3_train,y3_train)"
   ]
  },
  {
   "cell_type": "code",
   "execution_count": 399,
   "metadata": {},
   "outputs": [],
   "source": [
    "predictions16=pp.predict(X3_test)"
   ]
  },
  {
   "cell_type": "code",
   "execution_count": 400,
   "metadata": {},
   "outputs": [
    {
     "name": "stdout",
     "output_type": "stream",
     "text": [
      "[[25  1]\n",
      " [19 10]]\n",
      "\n",
      "\n",
      "              precision    recall  f1-score   support\n",
      "\n",
      "        Fake       0.57      0.96      0.71        26\n",
      "        Real       0.91      0.34      0.50        29\n",
      "\n",
      "    accuracy                           0.64        55\n",
      "   macro avg       0.74      0.65      0.61        55\n",
      "weighted avg       0.75      0.64      0.60        55\n",
      "\n"
     ]
    }
   ],
   "source": [
    "print(confusion_matrix(y3_test, predictions16))\n",
    "print('\\n')\n",
    "print(classification_report(y3_test, predictions16))"
   ]
  },
  {
   "cell_type": "markdown",
   "metadata": {},
   "source": [
    "**The accuracy of Naive Bayes Classifier is reduced to 64% on the mixture of title and text  without preprocessing.To improve accuracy, we train another model.**"
   ]
  },
  {
   "cell_type": "markdown",
   "metadata": {},
   "source": [
    "### 6-3-6- Passive Aggressive Classifier with text preprocessing"
   ]
  },
  {
   "cell_type": "code",
   "execution_count": 401,
   "metadata": {},
   "outputs": [],
   "source": [
    "pp=Pipeline([\n",
    "    ('bow',CountVectorizer(analyzer=final)),\n",
    "    ('tfidf',TfidfTransformer()),\n",
    "    ('classifier',PassiveAggressiveClassifier())\n",
    "    ])"
   ]
  },
  {
   "cell_type": "code",
   "execution_count": 402,
   "metadata": {},
   "outputs": [
    {
     "data": {
      "text/plain": [
       "Pipeline(memory=None,\n",
       "         steps=[('bow',\n",
       "                 CountVectorizer(analyzer=<function compose.<locals>.<lambda> at 0x00000225A5D4C048>,\n",
       "                                 binary=False, decode_error='strict',\n",
       "                                 dtype=<class 'numpy.int64'>, encoding='utf-8',\n",
       "                                 input='content', lowercase=True, max_df=1.0,\n",
       "                                 max_features=None, min_df=1,\n",
       "                                 ngram_range=(1, 1), preprocessor=None,\n",
       "                                 stop_words=None, strip_accents=None,\n",
       "                                 token_pattern='...\n",
       "                 TfidfTransformer(norm='l2', smooth_idf=True,\n",
       "                                  sublinear_tf=False, use_idf=True)),\n",
       "                ('classifier',\n",
       "                 PassiveAggressiveClassifier(C=1.0, average=False,\n",
       "                                             class_weight=None,\n",
       "                                             early_stopping=False,\n",
       "                                             fit_intercept=True, loss='hinge',\n",
       "                                             max_iter=1000, n_iter_no_change=5,\n",
       "                                             n_jobs=None, random_state=None,\n",
       "                                             shuffle=True, tol=0.001,\n",
       "                                             validation_fraction=0.1, verbose=0,\n",
       "                                             warm_start=False))],\n",
       "         verbose=False)"
      ]
     },
     "execution_count": 402,
     "metadata": {},
     "output_type": "execute_result"
    }
   ],
   "source": [
    "pp.fit(X3_train,y3_train)"
   ]
  },
  {
   "cell_type": "code",
   "execution_count": 403,
   "metadata": {},
   "outputs": [],
   "source": [
    "predictions17=pp.predict(X3_test)"
   ]
  },
  {
   "cell_type": "code",
   "execution_count": 404,
   "metadata": {
    "scrolled": true
   },
   "outputs": [
    {
     "name": "stdout",
     "output_type": "stream",
     "text": [
      "[[20  6]\n",
      " [ 6 23]]\n",
      "\n",
      "\n",
      "              precision    recall  f1-score   support\n",
      "\n",
      "        Fake       0.77      0.77      0.77        26\n",
      "        Real       0.79      0.79      0.79        29\n",
      "\n",
      "    accuracy                           0.78        55\n",
      "   macro avg       0.78      0.78      0.78        55\n",
      "weighted avg       0.78      0.78      0.78        55\n",
      "\n"
     ]
    }
   ],
   "source": [
    "print(confusion_matrix(y3_test, predictions17))\n",
    "print('\\n')\n",
    "print(classification_report(y3_test, predictions17))"
   ]
  },
  {
   "cell_type": "markdown",
   "metadata": {},
   "source": [
    "**The accuracy of Passive Aggressive Classifier on the mixture of title and text with preprocessing is 78%. To improve accuracy, we train this model without preprocessing.**"
   ]
  },
  {
   "cell_type": "markdown",
   "metadata": {},
   "source": [
    "### 6-3-7- Passive Aggressive Classifier without text preprocessing"
   ]
  },
  {
   "cell_type": "code",
   "execution_count": 405,
   "metadata": {},
   "outputs": [],
   "source": [
    "pp=Pipeline([\n",
    "    ('bow',CountVectorizer()),\n",
    "    ('tfidf',TfidfTransformer()),\n",
    "    ('classifier',PassiveAggressiveClassifier())\n",
    "    ])"
   ]
  },
  {
   "cell_type": "code",
   "execution_count": 406,
   "metadata": {},
   "outputs": [
    {
     "data": {
      "text/plain": [
       "Pipeline(memory=None,\n",
       "         steps=[('bow',\n",
       "                 CountVectorizer(analyzer='word', binary=False,\n",
       "                                 decode_error='strict',\n",
       "                                 dtype=<class 'numpy.int64'>, encoding='utf-8',\n",
       "                                 input='content', lowercase=True, max_df=1.0,\n",
       "                                 max_features=None, min_df=1,\n",
       "                                 ngram_range=(1, 1), preprocessor=None,\n",
       "                                 stop_words=None, strip_accents=None,\n",
       "                                 token_pattern='(?u)\\\\b\\\\w\\\\w+\\\\b',\n",
       "                                 tokenizer=None, vocabulary=None...\n",
       "                 TfidfTransformer(norm='l2', smooth_idf=True,\n",
       "                                  sublinear_tf=False, use_idf=True)),\n",
       "                ('classifier',\n",
       "                 PassiveAggressiveClassifier(C=1.0, average=False,\n",
       "                                             class_weight=None,\n",
       "                                             early_stopping=False,\n",
       "                                             fit_intercept=True, loss='hinge',\n",
       "                                             max_iter=1000, n_iter_no_change=5,\n",
       "                                             n_jobs=None, random_state=None,\n",
       "                                             shuffle=True, tol=0.001,\n",
       "                                             validation_fraction=0.1, verbose=0,\n",
       "                                             warm_start=False))],\n",
       "         verbose=False)"
      ]
     },
     "execution_count": 406,
     "metadata": {},
     "output_type": "execute_result"
    }
   ],
   "source": [
    "pp.fit(X3_train,y3_train)"
   ]
  },
  {
   "cell_type": "code",
   "execution_count": 407,
   "metadata": {},
   "outputs": [],
   "source": [
    "predictions18=pp.predict(X3_test)"
   ]
  },
  {
   "cell_type": "code",
   "execution_count": 408,
   "metadata": {},
   "outputs": [
    {
     "name": "stdout",
     "output_type": "stream",
     "text": [
      "[[23  3]\n",
      " [ 4 25]]\n",
      "\n",
      "\n",
      "              precision    recall  f1-score   support\n",
      "\n",
      "        Fake       0.85      0.88      0.87        26\n",
      "        Real       0.89      0.86      0.88        29\n",
      "\n",
      "    accuracy                           0.87        55\n",
      "   macro avg       0.87      0.87      0.87        55\n",
      "weighted avg       0.87      0.87      0.87        55\n",
      "\n"
     ]
    }
   ],
   "source": [
    "print(confusion_matrix(y3_test, predictions18))\n",
    "print('\\n')\n",
    "print(classification_report(y3_test, predictions18))"
   ]
  },
  {
   "cell_type": "markdown",
   "metadata": {},
   "source": [
    "**The accuracy of Passive Aggressive Classifier increases to 87% on the mixture of title and text without preprocessing.**"
   ]
  },
  {
   "cell_type": "code",
   "execution_count": 409,
   "metadata": {},
   "outputs": [
    {
     "name": "stdout",
     "output_type": "stream",
     "text": [
      "Text_Random Forest Classifier_With Text Preprocessing:  60.0\n",
      "Text_Random Forest Classifier_Without Text Preprocessing:  60.0\n",
      "Text_Naive Bayes Classifier_With Text Preprocessing:  69.0\n",
      "Text_Naive Bayes Classifier_Without Text Preprocessing:  67.0\n",
      "Text_Passive Aggressive Classifier_With Text Preprocessing:  78.0\n",
      "Text_Passive Aggressive Classifier_Without Text Preprocessing:  85.0\n",
      "\n",
      "\n",
      "Title_Random Forest Classifier_With Text Preprocessing:  62.0\n",
      "Title_Random Forest Classifier_Without Text Preprocessing:  64.0\n",
      "Title_Naive Bayes Classifier_With Text Preprocessing:  65.0\n",
      "Title_Naive Bayes Classifier_Without Text Preprocessing:  58.0\n",
      "Title_Passive Aggressive Classifier_With Text Preprocessing:  60.0\n",
      "Title_Passive Aggressive Classifier_Without Text Preprocessing:  55.0\n",
      "\n",
      "\n",
      "Text&Title_Random Forest Classifier_With Text Preprocessing:  65.0\n",
      "Text&Title_Random Forest Classifier_Without Text Preprocessing:  76.0\n",
      "Text&Title_Naive Bayes Classifier_With Text Preprocessing:  65.0\n",
      "Text&Title_Naive Bayes Classifier_Without Text Preprocessing:  64.0\n",
      "Text&Title_Passive Aggressive Classifier_With Text Preprocessing:  78.0\n",
      "Text&Title_Passive Aggressive Classifier_Without Text Preprocessing:  87.0\n"
     ]
    }
   ],
   "source": [
    "print('Text_Random Forest Classifier_With Text Preprocessing: ', round(100*accuracy_score(y1_test,predictions1)))\n",
    "print('Text_Random Forest Classifier_Without Text Preprocessing: ', round(100*accuracy_score(y1_test,predictions2)))\n",
    "print('Text_Naive Bayes Classifier_With Text Preprocessing: ', round(100*accuracy_score(y1_test,predictions3)))\n",
    "print('Text_Naive Bayes Classifier_Without Text Preprocessing: ', round(100*accuracy_score(y1_test,predictions4)))\n",
    "print('Text_Passive Aggressive Classifier_With Text Preprocessing: ', round(100*accuracy_score(y1_test,predictions5)))\n",
    "print('Text_Passive Aggressive Classifier_Without Text Preprocessing: ', round(100*accuracy_score(y1_test,predictions6)))\n",
    "print('\\n')\n",
    "print('Title_Random Forest Classifier_With Text Preprocessing: ', round(100*accuracy_score(y2_test,predictions7)))\n",
    "print('Title_Random Forest Classifier_Without Text Preprocessing: ', round(100*accuracy_score(y2_test,predictions8)))\n",
    "print('Title_Naive Bayes Classifier_With Text Preprocessing: ', round(100*accuracy_score(y2_test,predictions9)))\n",
    "print('Title_Naive Bayes Classifier_Without Text Preprocessing: ', round(100*accuracy_score(y2_test,predictions10)))\n",
    "print('Title_Passive Aggressive Classifier_With Text Preprocessing: ', round(100*accuracy_score(y2_test,predictions11)))\n",
    "print('Title_Passive Aggressive Classifier_Without Text Preprocessing: ', round(100*accuracy_score(y2_test,predictions12)))\n",
    "print('\\n')\n",
    "print('Text&Title_Random Forest Classifier_With Text Preprocessing: ', round(100*accuracy_score(y3_test,predictions13)))\n",
    "print('Text&Title_Random Forest Classifier_Without Text Preprocessing: ', round(100*accuracy_score(y3_test,predictions14)))\n",
    "print('Text&Title_Naive Bayes Classifier_With Text Preprocessing: ', round(100*accuracy_score(y3_test,predictions15)))\n",
    "print('Text&Title_Naive Bayes Classifier_Without Text Preprocessing: ', round(100*accuracy_score(y3_test,predictions16)))\n",
    "print('Text&Title_Passive Aggressive Classifier_With Text Preprocessing: ', round(100*accuracy_score(y3_test,predictions17)))\n",
    "print('Text&Title_Passive Aggressive Classifier_Without Text Preprocessing: ', round(100*accuracy_score(y3_test,predictions18)))"
   ]
  },
  {
   "cell_type": "markdown",
   "metadata": {},
   "source": [
    "**We observe that 87% accuracy is obtained on the test dataset for Passive Aggressive Classifier on combined (text & title) feature matrix without text preprocessing.** \n",
    "\n",
    "**As 85% accuracy is obtained on the test dataset for Passive Aggressive Classifier on text feature without text preprocessing, it seems that combining titles with text improves the accuracy of the model to 87%.**\n",
    "\n",
    "**Regarding the preprocessing, it should be mentioned that although some phrases and bigrams should be cleaned and preprocessed, removing stop words and stemming might not be a good idea in this specific dataset as we might loose some langauge information.**\n",
    "\n",
    "**Therefore, we conclude that Passive Aggressive model on the combined feature matrix without text preprocessing is the best classifcation model in our analysis that can categorize the real and fake news with maximum accuracy.**"
   ]
  },
  {
   "cell_type": "markdown",
   "metadata": {},
   "source": [
    "# 7- Conclusion"
   ]
  },
  {
   "cell_type": "markdown",
   "metadata": {},
   "source": [
    "**Analyzing text data is more challenging than numeric data. In this project, the following tasks were preformed:**\n",
    "\n",
    "- We performed detailed exploratory data analysis on the real and fake news dataset. We generated multiple plots of all variables for both news categories.\n",
    "\n",
    "- We analyzed the most frequent words included in the title or text of the fake news and real news.\n",
    "\n",
    "- We built binary classifiers that classify fake news and real news on the basis of words in the title, text, or both title and text of the news articles. We used three different classifiers including Random Forest Classifier, Naive-Bayes Classifier and passive Agressive Classifier. Passive Aggressive is the best model for this analysis on the combined feature matrix without text preprocessing which predicts fake and reals news with 87% accuracy."
   ]
  }
 ],
 "metadata": {
  "kernelspec": {
   "display_name": "Python 3",
   "language": "python",
   "name": "python3"
  },
  "language_info": {
   "codemirror_mode": {
    "name": "ipython",
    "version": 3
   },
   "file_extension": ".py",
   "mimetype": "text/x-python",
   "name": "python",
   "nbconvert_exporter": "python",
   "pygments_lexer": "ipython3",
   "version": "3.7.4"
  }
 },
 "nbformat": 4,
 "nbformat_minor": 2
}
